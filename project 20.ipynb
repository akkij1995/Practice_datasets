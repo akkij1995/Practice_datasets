{
 "cells": [
  {
   "cell_type": "code",
   "execution_count": 1,
   "metadata": {},
   "outputs": [],
   "source": [
    "import pandas as pd\n",
    "import numpy as np\n",
    "import matplotlib.pyplot as plt\n",
    "%matplotlib inline\n",
    "import seaborn as sns\n",
    "import warnings\n",
    "warnings.filterwarnings('ignore')"
   ]
  },
  {
   "cell_type": "code",
   "execution_count": 2,
   "metadata": {},
   "outputs": [
    {
     "data": {
      "text/html": [
       "<div>\n",
       "<style scoped>\n",
       "    .dataframe tbody tr th:only-of-type {\n",
       "        vertical-align: middle;\n",
       "    }\n",
       "\n",
       "    .dataframe tbody tr th {\n",
       "        vertical-align: top;\n",
       "    }\n",
       "\n",
       "    .dataframe thead th {\n",
       "        text-align: right;\n",
       "    }\n",
       "</style>\n",
       "<table border=\"1\" class=\"dataframe\">\n",
       "  <thead>\n",
       "    <tr style=\"text-align: right;\">\n",
       "      <th></th>\n",
       "      <th>customerID</th>\n",
       "      <th>gender</th>\n",
       "      <th>SeniorCitizen</th>\n",
       "      <th>Partner</th>\n",
       "      <th>Dependents</th>\n",
       "      <th>tenure</th>\n",
       "      <th>PhoneService</th>\n",
       "      <th>MultipleLines</th>\n",
       "      <th>InternetService</th>\n",
       "      <th>OnlineSecurity</th>\n",
       "      <th>...</th>\n",
       "      <th>DeviceProtection</th>\n",
       "      <th>TechSupport</th>\n",
       "      <th>StreamingTV</th>\n",
       "      <th>StreamingMovies</th>\n",
       "      <th>Contract</th>\n",
       "      <th>PaperlessBilling</th>\n",
       "      <th>PaymentMethod</th>\n",
       "      <th>MonthlyCharges</th>\n",
       "      <th>TotalCharges</th>\n",
       "      <th>Churn</th>\n",
       "    </tr>\n",
       "  </thead>\n",
       "  <tbody>\n",
       "    <tr>\n",
       "      <th>0</th>\n",
       "      <td>7590-VHVEG</td>\n",
       "      <td>Female</td>\n",
       "      <td>0</td>\n",
       "      <td>Yes</td>\n",
       "      <td>No</td>\n",
       "      <td>1</td>\n",
       "      <td>No</td>\n",
       "      <td>No phone service</td>\n",
       "      <td>DSL</td>\n",
       "      <td>No</td>\n",
       "      <td>...</td>\n",
       "      <td>No</td>\n",
       "      <td>No</td>\n",
       "      <td>No</td>\n",
       "      <td>No</td>\n",
       "      <td>Month-to-month</td>\n",
       "      <td>Yes</td>\n",
       "      <td>Electronic check</td>\n",
       "      <td>29.85</td>\n",
       "      <td>29.85</td>\n",
       "      <td>No</td>\n",
       "    </tr>\n",
       "    <tr>\n",
       "      <th>1</th>\n",
       "      <td>5575-GNVDE</td>\n",
       "      <td>Male</td>\n",
       "      <td>0</td>\n",
       "      <td>No</td>\n",
       "      <td>No</td>\n",
       "      <td>34</td>\n",
       "      <td>Yes</td>\n",
       "      <td>No</td>\n",
       "      <td>DSL</td>\n",
       "      <td>Yes</td>\n",
       "      <td>...</td>\n",
       "      <td>Yes</td>\n",
       "      <td>No</td>\n",
       "      <td>No</td>\n",
       "      <td>No</td>\n",
       "      <td>One year</td>\n",
       "      <td>No</td>\n",
       "      <td>Mailed check</td>\n",
       "      <td>56.95</td>\n",
       "      <td>1889.5</td>\n",
       "      <td>No</td>\n",
       "    </tr>\n",
       "    <tr>\n",
       "      <th>2</th>\n",
       "      <td>3668-QPYBK</td>\n",
       "      <td>Male</td>\n",
       "      <td>0</td>\n",
       "      <td>No</td>\n",
       "      <td>No</td>\n",
       "      <td>2</td>\n",
       "      <td>Yes</td>\n",
       "      <td>No</td>\n",
       "      <td>DSL</td>\n",
       "      <td>Yes</td>\n",
       "      <td>...</td>\n",
       "      <td>No</td>\n",
       "      <td>No</td>\n",
       "      <td>No</td>\n",
       "      <td>No</td>\n",
       "      <td>Month-to-month</td>\n",
       "      <td>Yes</td>\n",
       "      <td>Mailed check</td>\n",
       "      <td>53.85</td>\n",
       "      <td>108.15</td>\n",
       "      <td>Yes</td>\n",
       "    </tr>\n",
       "    <tr>\n",
       "      <th>3</th>\n",
       "      <td>7795-CFOCW</td>\n",
       "      <td>Male</td>\n",
       "      <td>0</td>\n",
       "      <td>No</td>\n",
       "      <td>No</td>\n",
       "      <td>45</td>\n",
       "      <td>No</td>\n",
       "      <td>No phone service</td>\n",
       "      <td>DSL</td>\n",
       "      <td>Yes</td>\n",
       "      <td>...</td>\n",
       "      <td>Yes</td>\n",
       "      <td>Yes</td>\n",
       "      <td>No</td>\n",
       "      <td>No</td>\n",
       "      <td>One year</td>\n",
       "      <td>No</td>\n",
       "      <td>Bank transfer (automatic)</td>\n",
       "      <td>42.30</td>\n",
       "      <td>1840.75</td>\n",
       "      <td>No</td>\n",
       "    </tr>\n",
       "    <tr>\n",
       "      <th>4</th>\n",
       "      <td>9237-HQITU</td>\n",
       "      <td>Female</td>\n",
       "      <td>0</td>\n",
       "      <td>No</td>\n",
       "      <td>No</td>\n",
       "      <td>2</td>\n",
       "      <td>Yes</td>\n",
       "      <td>No</td>\n",
       "      <td>Fiber optic</td>\n",
       "      <td>No</td>\n",
       "      <td>...</td>\n",
       "      <td>No</td>\n",
       "      <td>No</td>\n",
       "      <td>No</td>\n",
       "      <td>No</td>\n",
       "      <td>Month-to-month</td>\n",
       "      <td>Yes</td>\n",
       "      <td>Electronic check</td>\n",
       "      <td>70.70</td>\n",
       "      <td>151.65</td>\n",
       "      <td>Yes</td>\n",
       "    </tr>\n",
       "  </tbody>\n",
       "</table>\n",
       "<p>5 rows × 21 columns</p>\n",
       "</div>"
      ],
      "text/plain": [
       "   customerID  gender  SeniorCitizen Partner Dependents  tenure PhoneService  \\\n",
       "0  7590-VHVEG  Female              0     Yes         No       1           No   \n",
       "1  5575-GNVDE    Male              0      No         No      34          Yes   \n",
       "2  3668-QPYBK    Male              0      No         No       2          Yes   \n",
       "3  7795-CFOCW    Male              0      No         No      45           No   \n",
       "4  9237-HQITU  Female              0      No         No       2          Yes   \n",
       "\n",
       "      MultipleLines InternetService OnlineSecurity  ... DeviceProtection  \\\n",
       "0  No phone service             DSL             No  ...               No   \n",
       "1                No             DSL            Yes  ...              Yes   \n",
       "2                No             DSL            Yes  ...               No   \n",
       "3  No phone service             DSL            Yes  ...              Yes   \n",
       "4                No     Fiber optic             No  ...               No   \n",
       "\n",
       "  TechSupport StreamingTV StreamingMovies        Contract PaperlessBilling  \\\n",
       "0          No          No              No  Month-to-month              Yes   \n",
       "1          No          No              No        One year               No   \n",
       "2          No          No              No  Month-to-month              Yes   \n",
       "3         Yes          No              No        One year               No   \n",
       "4          No          No              No  Month-to-month              Yes   \n",
       "\n",
       "               PaymentMethod MonthlyCharges  TotalCharges Churn  \n",
       "0           Electronic check          29.85         29.85    No  \n",
       "1               Mailed check          56.95        1889.5    No  \n",
       "2               Mailed check          53.85        108.15   Yes  \n",
       "3  Bank transfer (automatic)          42.30       1840.75    No  \n",
       "4           Electronic check          70.70        151.65   Yes  \n",
       "\n",
       "[5 rows x 21 columns]"
      ]
     },
     "execution_count": 2,
     "metadata": {},
     "output_type": "execute_result"
    }
   ],
   "source": [
    "data=pd.read_csv('customer_churn.csv')\n",
    "data.head()"
   ]
  },
  {
   "cell_type": "code",
   "execution_count": 3,
   "metadata": {},
   "outputs": [
    {
     "data": {
      "text/plain": [
       "customerID          0\n",
       "gender              0\n",
       "SeniorCitizen       0\n",
       "Partner             0\n",
       "Dependents          0\n",
       "tenure              0\n",
       "PhoneService        0\n",
       "MultipleLines       0\n",
       "InternetService     0\n",
       "OnlineSecurity      0\n",
       "OnlineBackup        0\n",
       "DeviceProtection    0\n",
       "TechSupport         0\n",
       "StreamingTV         0\n",
       "StreamingMovies     0\n",
       "Contract            0\n",
       "PaperlessBilling    0\n",
       "PaymentMethod       0\n",
       "MonthlyCharges      0\n",
       "TotalCharges        0\n",
       "Churn               0\n",
       "dtype: int64"
      ]
     },
     "execution_count": 3,
     "metadata": {},
     "output_type": "execute_result"
    }
   ],
   "source": [
    "data.isnull().sum()"
   ]
  },
  {
   "cell_type": "code",
   "execution_count": 4,
   "metadata": {},
   "outputs": [
    {
     "data": {
      "text/plain": [
       "(7043, 21)"
      ]
     },
     "execution_count": 4,
     "metadata": {},
     "output_type": "execute_result"
    }
   ],
   "source": [
    "data.shape"
   ]
  },
  {
   "cell_type": "code",
   "execution_count": 5,
   "metadata": {},
   "outputs": [
    {
     "data": {
      "text/plain": [
       "8510-TMWYB    1\n",
       "1349-WXNGG    1\n",
       "6629-CZTTH    1\n",
       "4836-WNFNO    1\n",
       "3635-JBPSG    1\n",
       "2386-LAHRK    1\n",
       "4902-OHLSK    1\n",
       "9426-SXNHE    1\n",
       "2043-WVTQJ    1\n",
       "4395-PZMSN    1\n",
       "7377-DMMRI    1\n",
       "3474-BAFSJ    1\n",
       "4781-ZXYGU    1\n",
       "8174-TBVCF    1\n",
       "0687-ZVTHB    1\n",
       "7056-IMHCC    1\n",
       "9700-ZCLOT    1\n",
       "9668-PUGNU    1\n",
       "5897-ZYEKH    1\n",
       "4001-TSBTV    1\n",
       "5433-KYGHE    1\n",
       "3739-YBWAB    1\n",
       "7321-VGNKU    1\n",
       "5598-IKHQQ    1\n",
       "2364-UFROM    1\n",
       "1544-JJMYL    1\n",
       "2263-SFSQZ    1\n",
       "2542-HYGIQ    1\n",
       "8696-JKZNU    1\n",
       "1229-RCALF    1\n",
       "             ..\n",
       "5671-RQRLP    1\n",
       "6917-FIJHC    1\n",
       "4987-GQWPO    1\n",
       "7677-SJJJK    1\n",
       "5063-IUOKK    1\n",
       "6538-POCHL    1\n",
       "8063-RJYNF    1\n",
       "8510-AWCXC    1\n",
       "6000-UKLWI    1\n",
       "0036-IHMOT    1\n",
       "2007-QVGAW    1\n",
       "5028-HTLJB    1\n",
       "6825-UYPFK    1\n",
       "5575-TPIZQ    1\n",
       "8280-MQRQN    1\n",
       "2040-OBMLJ    1\n",
       "3197-NNYNB    1\n",
       "0581-BXBUB    1\n",
       "2612-PHGOX    1\n",
       "1666-JZPZT    1\n",
       "3721-CNZHX    1\n",
       "7873-CVMAW    1\n",
       "1644-IRKSF    1\n",
       "4361-FEBGN    1\n",
       "8089-UZWLX    1\n",
       "6038-GCYEC    1\n",
       "6400-BWQKW    1\n",
       "2753-JMMCV    1\n",
       "7669-LCRSD    1\n",
       "3640-JQGJG    1\n",
       "Name: customerID, Length: 7043, dtype: int64"
      ]
     },
     "execution_count": 5,
     "metadata": {},
     "output_type": "execute_result"
    }
   ],
   "source": [
    "data.customerID.value_counts()"
   ]
  },
  {
   "cell_type": "code",
   "execution_count": 6,
   "metadata": {},
   "outputs": [],
   "source": [
    "data.drop('customerID',axis=1,inplace=True)"
   ]
  },
  {
   "cell_type": "code",
   "execution_count": 7,
   "metadata": {},
   "outputs": [
    {
     "data": {
      "text/plain": [
       "<matplotlib.axes._subplots.AxesSubplot at 0x1e71eac2e48>"
      ]
     },
     "execution_count": 7,
     "metadata": {},
     "output_type": "execute_result"
    },
    {
     "data": {
      "image/png": "[encoded data removed]",
      "text/plain": [
       "<Figure size 432x288 with 1 Axes>"
      ]
     },
     "metadata": {
      "needs_background": "light"
     },
     "output_type": "display_data"
    }
   ],
   "source": [
    "sns.countplot(data.gender,hue=data.Churn)"
   ]
  },
  {
   "cell_type": "code",
   "execution_count": 8,
   "metadata": {},
   "outputs": [
    {
     "data": {
      "text/plain": [
       "Male      0.504756\n",
       "Female    0.495244\n",
       "Name: gender, dtype: float64"
      ]
     },
     "execution_count": 8,
     "metadata": {},
     "output_type": "execute_result"
    }
   ],
   "source": [
    "data.gender.value_counts(normalize=True)"
   ]
  },
  {
   "cell_type": "code",
   "execution_count": 9,
   "metadata": {},
   "outputs": [
    {
     "data": {
      "text/plain": [
       "0    5901\n",
       "1    1142\n",
       "Name: SeniorCitizen, dtype: int64"
      ]
     },
     "execution_count": 9,
     "metadata": {},
     "output_type": "execute_result"
    }
   ],
   "source": [
    "data.SeniorCitizen.value_counts()"
   ]
  },
  {
   "cell_type": "code",
   "execution_count": 10,
   "metadata": {},
   "outputs": [
    {
     "data": {
      "text/plain": [
       "No     3641\n",
       "Yes    3402\n",
       "Name: Partner, dtype: int64"
      ]
     },
     "execution_count": 10,
     "metadata": {},
     "output_type": "execute_result"
    }
   ],
   "source": [
    "data.Partner.value_counts()"
   ]
  },
  {
   "cell_type": "code",
   "execution_count": 11,
   "metadata": {},
   "outputs": [
    {
     "data": {
      "text/plain": [
       "No     4933\n",
       "Yes    2110\n",
       "Name: Dependents, dtype: int64"
      ]
     },
     "execution_count": 11,
     "metadata": {},
     "output_type": "execute_result"
    }
   ],
   "source": [
    "data.Dependents.value_counts()"
   ]
  },
  {
   "cell_type": "code",
   "execution_count": 12,
   "metadata": {},
   "outputs": [
    {
     "data": {
      "text/plain": [
       "1     613\n",
       "72    362\n",
       "2     238\n",
       "3     200\n",
       "4     176\n",
       "71    170\n",
       "5     133\n",
       "7     131\n",
       "8     123\n",
       "70    119\n",
       "9     119\n",
       "12    117\n",
       "10    116\n",
       "6     110\n",
       "13    109\n",
       "68    100\n",
       "15     99\n",
       "11     99\n",
       "67     98\n",
       "18     97\n",
       "69     95\n",
       "24     94\n",
       "22     90\n",
       "66     89\n",
       "35     88\n",
       "17     87\n",
       "23     85\n",
       "64     80\n",
       "56     80\n",
       "16     80\n",
       "     ... \n",
       "20     71\n",
       "62     70\n",
       "41     70\n",
       "53     70\n",
       "32     69\n",
       "54     68\n",
       "47     68\n",
       "50     68\n",
       "51     68\n",
       "58     67\n",
       "49     66\n",
       "43     65\n",
       "42     65\n",
       "31     65\n",
       "34     65\n",
       "37     65\n",
       "57     65\n",
       "55     64\n",
       "40     64\n",
       "48     64\n",
       "33     64\n",
       "21     63\n",
       "45     61\n",
       "59     60\n",
       "38     59\n",
       "28     57\n",
       "39     56\n",
       "44     51\n",
       "36     50\n",
       "0      11\n",
       "Name: tenure, Length: 73, dtype: int64"
      ]
     },
     "execution_count": 12,
     "metadata": {},
     "output_type": "execute_result"
    }
   ],
   "source": [
    "data.tenure.value_counts()"
   ]
  },
  {
   "cell_type": "code",
   "execution_count": 13,
   "metadata": {},
   "outputs": [
    {
     "data": {
      "text/plain": [
       "No                  3390\n",
       "Yes                 2971\n",
       "No phone service     682\n",
       "Name: MultipleLines, dtype: int64"
      ]
     },
     "execution_count": 13,
     "metadata": {},
     "output_type": "execute_result"
    }
   ],
   "source": [
    "data.MultipleLines.value_counts()"
   ]
  },
  {
   "cell_type": "code",
   "execution_count": 14,
   "metadata": {},
   "outputs": [
    {
     "data": {
      "text/plain": [
       "Fiber optic    3096\n",
       "DSL            2421\n",
       "No             1526\n",
       "Name: InternetService, dtype: int64"
      ]
     },
     "execution_count": 14,
     "metadata": {},
     "output_type": "execute_result"
    }
   ],
   "source": [
    "data.InternetService.value_counts()"
   ]
  },
  {
   "cell_type": "code",
   "execution_count": 15,
   "metadata": {},
   "outputs": [
    {
     "data": {
      "text/plain": [
       "Month-to-month    3875\n",
       "Two year          1695\n",
       "One year          1473\n",
       "Name: Contract, dtype: int64"
      ]
     },
     "execution_count": 15,
     "metadata": {},
     "output_type": "execute_result"
    }
   ],
   "source": [
    "data.Contract.value_counts()"
   ]
  },
  {
   "cell_type": "code",
   "execution_count": 16,
   "metadata": {},
   "outputs": [
    {
     "data": {
      "text/plain": [
       "Electronic check             2365\n",
       "Mailed check                 1612\n",
       "Bank transfer (automatic)    1544\n",
       "Credit card (automatic)      1522\n",
       "Name: PaymentMethod, dtype: int64"
      ]
     },
     "execution_count": 16,
     "metadata": {},
     "output_type": "execute_result"
    }
   ],
   "source": [
    "data.PaymentMethod.value_counts()"
   ]
  },
  {
   "cell_type": "code",
   "execution_count": 17,
   "metadata": {},
   "outputs": [
    {
     "data": {
      "text/plain": [
       "<matplotlib.axes._subplots.AxesSubplot at 0x1e71edfedd8>"
      ]
     },
     "execution_count": 17,
     "metadata": {},
     "output_type": "execute_result"
    },
    {
     "data": {
      "image/png": "[encoded data removed]",
      "text/plain": [
       "<Figure size 432x288 with 1 Axes>"
      ]
     },
     "metadata": {
      "needs_background": "light"
     },
     "output_type": "display_data"
    }
   ],
   "source": [
    "sns.distplot(data.MonthlyCharges,bins=10)"
   ]
  },
  {
   "cell_type": "code",
   "execution_count": 18,
   "metadata": {},
   "outputs": [
    {
     "data": {
      "text/plain": [
       "dtype('O')"
      ]
     },
     "execution_count": 18,
     "metadata": {},
     "output_type": "execute_result"
    }
   ],
   "source": [
    "data.TotalCharges.dtypes"
   ]
  },
  {
   "cell_type": "code",
   "execution_count": 19,
   "metadata": {},
   "outputs": [
    {
     "data": {
      "text/plain": [
       "           11\n",
       "20.2       11\n",
       "19.75       9\n",
       "19.9        8\n",
       "20.05       8\n",
       "19.65       8\n",
       "19.55       7\n",
       "45.3        7\n",
       "20.25       6\n",
       "19.45       6\n",
       "20.15       6\n",
       "20.3        5\n",
       "20.45       5\n",
       "50.15       4\n",
       "69.9        4\n",
       "19.2        4\n",
       "20.4        4\n",
       "70.6        4\n",
       "19.85       4\n",
       "20.5        4\n",
       "69.65       4\n",
       "69.95       4\n",
       "74.7        4\n",
       "44.4        4\n",
       "19.5        4\n",
       "49.9        4\n",
       "44          4\n",
       "75.3        4\n",
       "19.95       4\n",
       "19.4        4\n",
       "           ..\n",
       "1524.85     1\n",
       "863.1       1\n",
       "1216.35     1\n",
       "933.3       1\n",
       "7261.75     1\n",
       "3027.65     1\n",
       "754.65      1\n",
       "6652.45     1\n",
       "842.25      1\n",
       "2959.8      1\n",
       "100.25      1\n",
       "5784.3      1\n",
       "201.1       1\n",
       "739.35      1\n",
       "229.4       1\n",
       "571.75      1\n",
       "1663.5      1\n",
       "1268.85     1\n",
       "617.65      1\n",
       "6786.4      1\n",
       "2248.05     1\n",
       "746.05      1\n",
       "4504.55     1\n",
       "6631.85     1\n",
       "1356.3      1\n",
       "265.75      1\n",
       "7240.65     1\n",
       "151.65      1\n",
       "2965.75     1\n",
       "3861.45     1\n",
       "Name: TotalCharges, Length: 6531, dtype: int64"
      ]
     },
     "execution_count": 19,
     "metadata": {},
     "output_type": "execute_result"
    }
   ],
   "source": [
    "data.TotalCharges.value_counts()"
   ]
  },
  {
   "cell_type": "code",
   "execution_count": 20,
   "metadata": {},
   "outputs": [],
   "source": [
    "data['TotalCharges'] = data['TotalCharges'].replace(\" \", 0).astype('float32')"
   ]
  },
  {
   "cell_type": "code",
   "execution_count": 21,
   "metadata": {},
   "outputs": [
    {
     "data": {
      "text/plain": [
       "20.200001      11\n",
       "0.000000       11\n",
       "19.750000       9\n",
       "19.900000       8\n",
       "20.049999       8\n",
       "19.650000       8\n",
       "19.549999       7\n",
       "45.299999       7\n",
       "20.250000       6\n",
       "20.150000       6\n",
       "19.450001       6\n",
       "20.450001       5\n",
       "20.299999       5\n",
       "20.500000       4\n",
       "70.599998       4\n",
       "69.900002       4\n",
       "19.299999       4\n",
       "44.400002       4\n",
       "19.850000       4\n",
       "20.350000       4\n",
       "75.300003       4\n",
       "44.000000       4\n",
       "74.699997       4\n",
       "19.200001       4\n",
       "69.650002       4\n",
       "69.949997       4\n",
       "49.900002       4\n",
       "19.500000       4\n",
       "50.150002       4\n",
       "69.599998       4\n",
       "               ..\n",
       "2282.949951     1\n",
       "1994.300049     1\n",
       "5017.899902     1\n",
       "666.750000      1\n",
       "68.750000       1\n",
       "2095.000000     1\n",
       "1001.500000     1\n",
       "2666.750000     1\n",
       "1761.050049     1\n",
       "219.350006      1\n",
       "5893.950195     1\n",
       "1226.449951     1\n",
       "1296.800049     1\n",
       "3801.300049     1\n",
       "938.650024      1\n",
       "875.349976      1\n",
       "5431.399902     1\n",
       "834.099976      1\n",
       "5589.299805     1\n",
       "210.300003      1\n",
       "169.800003      1\n",
       "5333.350098     1\n",
       "8297.500000     1\n",
       "242.050003      1\n",
       "1588.750000     1\n",
       "1451.599976     1\n",
       "1173.349976     1\n",
       "5589.450195     1\n",
       "3810.550049     1\n",
       "1024.000000     1\n",
       "Name: TotalCharges, Length: 6531, dtype: int64"
      ]
     },
     "execution_count": 21,
     "metadata": {},
     "output_type": "execute_result"
    }
   ],
   "source": [
    "data.TotalCharges.value_counts()"
   ]
  },
  {
   "cell_type": "code",
   "execution_count": 22,
   "metadata": {},
   "outputs": [
    {
     "data": {
      "text/plain": [
       "dtype('float32')"
      ]
     },
     "execution_count": 22,
     "metadata": {},
     "output_type": "execute_result"
    }
   ],
   "source": [
    "data.TotalCharges.dtypes"
   ]
  },
  {
   "cell_type": "code",
   "execution_count": 23,
   "metadata": {},
   "outputs": [
    {
     "data": {
      "text/plain": [
       "<matplotlib.axes._subplots.AxesSubplot at 0x1e71eecddd8>"
      ]
     },
     "execution_count": 23,
     "metadata": {},
     "output_type": "execute_result"
    },
    {
     "data": {
      "image/png": "[encoded data removed]",
      "text/plain": [
       "<Figure size 432x288 with 1 Axes>"
      ]
     },
     "metadata": {
      "needs_background": "light"
     },
     "output_type": "display_data"
    }
   ],
   "source": [
    "sns.boxplot(data.Churn,data.tenure)"
   ]
  },
  {
   "cell_type": "code",
   "execution_count": 24,
   "metadata": {},
   "outputs": [
    {
     "data": {
      "text/plain": [
       "<matplotlib.axes._subplots.AxesSubplot at 0x1e71ee4ccf8>"
      ]
     },
     "execution_count": 24,
     "metadata": {},
     "output_type": "execute_result"
    },
    {
     "data": {
      "image/png": "[encoded data removed]",
      "text/plain": [
       "<Figure size 432x288 with 1 Axes>"
      ]
     },
     "metadata": {
      "needs_background": "light"
     },
     "output_type": "display_data"
    }
   ],
   "source": [
    "sns.boxplot(data.Churn,data.TotalCharges)"
   ]
  },
  {
   "cell_type": "code",
   "execution_count": 25,
   "metadata": {},
   "outputs": [
    {
     "data": {
      "text/plain": [
       "<matplotlib.axes._subplots.AxesSubplot at 0x1e71efdec50>"
      ]
     },
     "execution_count": 25,
     "metadata": {},
     "output_type": "execute_result"
    },
    {
     "data": {
      "image/png": "[encoded data removed]",
      "text/plain": [
       "<Figure size 432x288 with 1 Axes>"
      ]
     },
     "metadata": {
      "needs_background": "light"
     },
     "output_type": "display_data"
    }
   ],
   "source": [
    "sns.boxplot(data.Churn,data.MonthlyCharges)"
   ]
  },
  {
   "cell_type": "code",
   "execution_count": 26,
   "metadata": {},
   "outputs": [
    {
     "data": {
      "text/plain": [
       "<matplotlib.axes._subplots.AxesSubplot at 0x1e71ef6a898>"
      ]
     },
     "execution_count": 26,
     "metadata": {},
     "output_type": "execute_result"
    },
    {
     "data": {
      "image/png": "[encoded data removed]",
      "text/plain": [
       "<Figure size 432x288 with 1 Axes>"
      ]
     },
     "metadata": {
      "needs_background": "light"
     },
     "output_type": "display_data"
    }
   ],
   "source": [
    "sns.violinplot(data.MonthlyCharges,data.Churn)"
   ]
  },
  {
   "cell_type": "code",
   "execution_count": 27,
   "metadata": {},
   "outputs": [
    {
     "data": {
      "text/plain": [
       "<matplotlib.axes._subplots.AxesSubplot at 0x1e71f0d07f0>"
      ]
     },
     "execution_count": 27,
     "metadata": {},
     "output_type": "execute_result"
    },
    {
     "data": {
      "image/png": "[encoded data removed]",
      "text/plain": [
       "<Figure size 432x288 with 1 Axes>"
      ]
     },
     "metadata": {
      "needs_background": "light"
     },
     "output_type": "display_data"
    }
   ],
   "source": [
    "sns.violinplot(data.TotalCharges,data.Churn)"
   ]
  },
  {
   "cell_type": "code",
   "execution_count": 28,
   "metadata": {},
   "outputs": [
    {
     "data": {
      "text/plain": [
       "<matplotlib.axes._subplots.AxesSubplot at 0x1e71f137978>"
      ]
     },
     "execution_count": 28,
     "metadata": {},
     "output_type": "execute_result"
    },
    {
     "data": {
      "image/png": "[encoded data removed]",
      "text/plain": [
       "<Figure size 432x288 with 1 Axes>"
      ]
     },
     "metadata": {
      "needs_background": "light"
     },
     "output_type": "display_data"
    }
   ],
   "source": [
    "sns.violinplot(data.tenure,data.Churn)"
   ]
  },
  {
   "cell_type": "code",
   "execution_count": 29,
   "metadata": {},
   "outputs": [
    {
     "data": {
      "text/plain": [
       "Text(0, 0.5, 'Probability Density')"
      ]
     },
     "execution_count": 29,
     "metadata": {},
     "output_type": "execute_result"
    },
    {
     "data": {
      "image/png": "[encoded data removed]",
      "text/plain": [
       "<Figure size 432x288 with 1 Axes>"
      ]
     },
     "metadata": {
      "needs_background": "light"
     },
     "output_type": "display_data"
    }
   ],
   "source": [
    "sns.kdeplot(data.loc[(data.Churn=='No'),'tenure'],color='r',shade=True,Label='No')\n",
    "sns.kdeplot(data.loc[(data.Churn=='Yes'),'tenure'],color='b',shade=True,Label='Yes')\n",
    "plt.xlabel('KDE for tenure')\n",
    "plt.ylabel('Probability Density')"
   ]
  },
  {
   "cell_type": "code",
   "execution_count": 30,
   "metadata": {},
   "outputs": [
    {
     "data": {
      "text/plain": [
       "Text(0, 0.5, 'Probability Density')"
      ]
     },
     "execution_count": 30,
     "metadata": {},
     "output_type": "execute_result"
    },
    {
     "data": {
      "image/png": "[encoded data removed]",
      "text/plain": [
       "<Figure size 432x288 with 1 Axes>"
      ]
     },
     "metadata": {
      "needs_background": "light"
     },
     "output_type": "display_data"
    }
   ],
   "source": [
    "sns.kdeplot(data.loc[(data.Churn=='No'),'MonthlyCharges'],color='r',shade=True,Label='No')\n",
    "sns.kdeplot(data.loc[(data.Churn=='Yes'),'MonthlyCharges'],color='b',shade=True,Label='Yes')\n",
    "plt.xlabel('KDE for Monthly Charges')\n",
    "plt.ylabel('Probability Density')"
   ]
  },
  {
   "cell_type": "code",
   "execution_count": 31,
   "metadata": {},
   "outputs": [
    {
     "data": {
      "text/plain": [
       "Text(0, 0.5, 'Probability Density')"
      ]
     },
     "execution_count": 31,
     "metadata": {},
     "output_type": "execute_result"
    },
    {
     "data": {
      "image/png": "[encoded data removed]",
      "text/plain": [
       "<Figure size 432x288 with 1 Axes>"
      ]
     },
     "metadata": {
      "needs_background": "light"
     },
     "output_type": "display_data"
    }
   ],
   "source": [
    "sns.kdeplot(data.loc[(data.Churn=='No'),'TotalCharges'],color='r',shade=True,Label='No')\n",
    "sns.kdeplot(data.loc[(data.Churn=='Yes'),'TotalCharges'],color='b',shade=True,Label='Yes')\n",
    "plt.xlabel('KDE for Total Charges')\n",
    "plt.ylabel('Probability Density')"
   ]
  },
  {
   "cell_type": "code",
   "execution_count": 32,
   "metadata": {},
   "outputs": [
    {
     "data": {
      "text/plain": [
       "<matplotlib.axes._subplots.AxesSubplot at 0x1e71f30beb8>"
      ]
     },
     "execution_count": 32,
     "metadata": {},
     "output_type": "execute_result"
    },
    {
     "data": {
      "image/png": "[encoded data removed]",
      "text/plain": [
       "<Figure size 432x288 with 2 Axes>"
      ]
     },
     "metadata": {
      "needs_background": "light"
     },
     "output_type": "display_data"
    }
   ],
   "source": [
    "sns.heatmap(data.corr(),annot=True)\n"
   ]
  },
  {
   "cell_type": "code",
   "execution_count": 33,
   "metadata": {},
   "outputs": [
    {
     "data": {
      "text/plain": [
       "<matplotlib.axes._subplots.AxesSubplot at 0x1e71f3c3278>"
      ]
     },
     "execution_count": 33,
     "metadata": {},
     "output_type": "execute_result"
    },
    {
     "data": {
      "image/png": "[encoded data removed]",
      "text/plain": [
       "<Figure size 432x288 with 1 Axes>"
      ]
     },
     "metadata": {
      "needs_background": "light"
     },
     "output_type": "display_data"
    }
   ],
   "source": [
    "sns.scatterplot(data.MonthlyCharges,data.tenure)"
   ]
  },
  {
   "cell_type": "code",
   "execution_count": 34,
   "metadata": {},
   "outputs": [
    {
     "data": {
      "text/plain": [
       "<matplotlib.axes._subplots.AxesSubplot at 0x1e71f42d9b0>"
      ]
     },
     "execution_count": 34,
     "metadata": {},
     "output_type": "execute_result"
    },
    {
     "data": {
      "image/png": "[encoded data removed]",
      "text/plain": [
       "<Figure size 432x288 with 1 Axes>"
      ]
     },
     "metadata": {
      "needs_background": "light"
     },
     "output_type": "display_data"
    }
   ],
   "source": [
    "sns.scatterplot(data.TotalCharges,data.tenure)"
   ]
  },
  {
   "cell_type": "code",
   "execution_count": 35,
   "metadata": {},
   "outputs": [],
   "source": [
    "data1=data.drop(['gender','Churn'],axis=1)"
   ]
  },
  {
   "cell_type": "code",
   "execution_count": 36,
   "metadata": {},
   "outputs": [],
   "source": [
    "data_new=pd.get_dummies(data1,drop_first=True)"
   ]
  },
  {
   "cell_type": "code",
   "execution_count": 37,
   "metadata": {},
   "outputs": [
    {
     "data": {
      "text/html": [
       "<div>\n",
       "<style scoped>\n",
       "    .dataframe tbody tr th:only-of-type {\n",
       "        vertical-align: middle;\n",
       "    }\n",
       "\n",
       "    .dataframe tbody tr th {\n",
       "        vertical-align: top;\n",
       "    }\n",
       "\n",
       "    .dataframe thead th {\n",
       "        text-align: right;\n",
       "    }\n",
       "</style>\n",
       "<table border=\"1\" class=\"dataframe\">\n",
       "  <thead>\n",
       "    <tr style=\"text-align: right;\">\n",
       "      <th></th>\n",
       "      <th>SeniorCitizen</th>\n",
       "      <th>tenure</th>\n",
       "      <th>MonthlyCharges</th>\n",
       "      <th>TotalCharges</th>\n",
       "      <th>Partner_Yes</th>\n",
       "      <th>Dependents_Yes</th>\n",
       "      <th>PhoneService_Yes</th>\n",
       "      <th>MultipleLines_No phone service</th>\n",
       "      <th>MultipleLines_Yes</th>\n",
       "      <th>InternetService_Fiber optic</th>\n",
       "      <th>...</th>\n",
       "      <th>StreamingTV_No internet service</th>\n",
       "      <th>StreamingTV_Yes</th>\n",
       "      <th>StreamingMovies_No internet service</th>\n",
       "      <th>StreamingMovies_Yes</th>\n",
       "      <th>Contract_One year</th>\n",
       "      <th>Contract_Two year</th>\n",
       "      <th>PaperlessBilling_Yes</th>\n",
       "      <th>PaymentMethod_Credit card (automatic)</th>\n",
       "      <th>PaymentMethod_Electronic check</th>\n",
       "      <th>PaymentMethod_Mailed check</th>\n",
       "    </tr>\n",
       "  </thead>\n",
       "  <tbody>\n",
       "    <tr>\n",
       "      <th>0</th>\n",
       "      <td>0</td>\n",
       "      <td>1</td>\n",
       "      <td>29.85</td>\n",
       "      <td>29.850000</td>\n",
       "      <td>1</td>\n",
       "      <td>0</td>\n",
       "      <td>0</td>\n",
       "      <td>1</td>\n",
       "      <td>0</td>\n",
       "      <td>0</td>\n",
       "      <td>...</td>\n",
       "      <td>0</td>\n",
       "      <td>0</td>\n",
       "      <td>0</td>\n",
       "      <td>0</td>\n",
       "      <td>0</td>\n",
       "      <td>0</td>\n",
       "      <td>1</td>\n",
       "      <td>0</td>\n",
       "      <td>1</td>\n",
       "      <td>0</td>\n",
       "    </tr>\n",
       "    <tr>\n",
       "      <th>1</th>\n",
       "      <td>0</td>\n",
       "      <td>34</td>\n",
       "      <td>56.95</td>\n",
       "      <td>1889.500000</td>\n",
       "      <td>0</td>\n",
       "      <td>0</td>\n",
       "      <td>1</td>\n",
       "      <td>0</td>\n",
       "      <td>0</td>\n",
       "      <td>0</td>\n",
       "      <td>...</td>\n",
       "      <td>0</td>\n",
       "      <td>0</td>\n",
       "      <td>0</td>\n",
       "      <td>0</td>\n",
       "      <td>1</td>\n",
       "      <td>0</td>\n",
       "      <td>0</td>\n",
       "      <td>0</td>\n",
       "      <td>0</td>\n",
       "      <td>1</td>\n",
       "    </tr>\n",
       "    <tr>\n",
       "      <th>2</th>\n",
       "      <td>0</td>\n",
       "      <td>2</td>\n",
       "      <td>53.85</td>\n",
       "      <td>108.150002</td>\n",
       "      <td>0</td>\n",
       "      <td>0</td>\n",
       "      <td>1</td>\n",
       "      <td>0</td>\n",
       "      <td>0</td>\n",
       "      <td>0</td>\n",
       "      <td>...</td>\n",
       "      <td>0</td>\n",
       "      <td>0</td>\n",
       "      <td>0</td>\n",
       "      <td>0</td>\n",
       "      <td>0</td>\n",
       "      <td>0</td>\n",
       "      <td>1</td>\n",
       "      <td>0</td>\n",
       "      <td>0</td>\n",
       "      <td>1</td>\n",
       "    </tr>\n",
       "    <tr>\n",
       "      <th>3</th>\n",
       "      <td>0</td>\n",
       "      <td>45</td>\n",
       "      <td>42.30</td>\n",
       "      <td>1840.750000</td>\n",
       "      <td>0</td>\n",
       "      <td>0</td>\n",
       "      <td>0</td>\n",
       "      <td>1</td>\n",
       "      <td>0</td>\n",
       "      <td>0</td>\n",
       "      <td>...</td>\n",
       "      <td>0</td>\n",
       "      <td>0</td>\n",
       "      <td>0</td>\n",
       "      <td>0</td>\n",
       "      <td>1</td>\n",
       "      <td>0</td>\n",
       "      <td>0</td>\n",
       "      <td>0</td>\n",
       "      <td>0</td>\n",
       "      <td>0</td>\n",
       "    </tr>\n",
       "    <tr>\n",
       "      <th>4</th>\n",
       "      <td>0</td>\n",
       "      <td>2</td>\n",
       "      <td>70.70</td>\n",
       "      <td>151.649994</td>\n",
       "      <td>0</td>\n",
       "      <td>0</td>\n",
       "      <td>1</td>\n",
       "      <td>0</td>\n",
       "      <td>0</td>\n",
       "      <td>1</td>\n",
       "      <td>...</td>\n",
       "      <td>0</td>\n",
       "      <td>0</td>\n",
       "      <td>0</td>\n",
       "      <td>0</td>\n",
       "      <td>0</td>\n",
       "      <td>0</td>\n",
       "      <td>1</td>\n",
       "      <td>0</td>\n",
       "      <td>1</td>\n",
       "      <td>0</td>\n",
       "    </tr>\n",
       "  </tbody>\n",
       "</table>\n",
       "<p>5 rows × 29 columns</p>\n",
       "</div>"
      ],
      "text/plain": [
       "   SeniorCitizen  tenure  MonthlyCharges  TotalCharges  Partner_Yes  \\\n",
       "0              0       1           29.85     29.850000            1   \n",
       "1              0      34           56.95   1889.500000            0   \n",
       "2              0       2           53.85    108.150002            0   \n",
       "3              0      45           42.30   1840.750000            0   \n",
       "4              0       2           70.70    151.649994            0   \n",
       "\n",
       "   Dependents_Yes  PhoneService_Yes  MultipleLines_No phone service  \\\n",
       "0               0                 0                               1   \n",
       "1               0                 1                               0   \n",
       "2               0                 1                               0   \n",
       "3               0                 0                               1   \n",
       "4               0                 1                               0   \n",
       "\n",
       "   MultipleLines_Yes  InternetService_Fiber optic  ...  \\\n",
       "0                  0                            0  ...   \n",
       "1                  0                            0  ...   \n",
       "2                  0                            0  ...   \n",
       "3                  0                            0  ...   \n",
       "4                  0                            1  ...   \n",
       "\n",
       "   StreamingTV_No internet service  StreamingTV_Yes  \\\n",
       "0                                0                0   \n",
       "1                                0                0   \n",
       "2                                0                0   \n",
       "3                                0                0   \n",
       "4                                0                0   \n",
       "\n",
       "   StreamingMovies_No internet service  StreamingMovies_Yes  \\\n",
       "0                                    0                    0   \n",
       "1                                    0                    0   \n",
       "2                                    0                    0   \n",
       "3                                    0                    0   \n",
       "4                                    0                    0   \n",
       "\n",
       "   Contract_One year  Contract_Two year  PaperlessBilling_Yes  \\\n",
       "0                  0                  0                     1   \n",
       "1                  1                  0                     0   \n",
       "2                  0                  0                     1   \n",
       "3                  1                  0                     0   \n",
       "4                  0                  0                     1   \n",
       "\n",
       "   PaymentMethod_Credit card (automatic)  PaymentMethod_Electronic check  \\\n",
       "0                                      0                               1   \n",
       "1                                      0                               0   \n",
       "2                                      0                               0   \n",
       "3                                      0                               0   \n",
       "4                                      0                               1   \n",
       "\n",
       "   PaymentMethod_Mailed check  \n",
       "0                           0  \n",
       "1                           1  \n",
       "2                           1  \n",
       "3                           0  \n",
       "4                           0  \n",
       "\n",
       "[5 rows x 29 columns]"
      ]
     },
     "execution_count": 37,
     "metadata": {},
     "output_type": "execute_result"
    }
   ],
   "source": [
    "data_new.head()"
   ]
  },
  {
   "cell_type": "code",
   "execution_count": 38,
   "metadata": {},
   "outputs": [
    {
     "data": {
      "text/html": [
       "<div>\n",
       "<style scoped>\n",
       "    .dataframe tbody tr th:only-of-type {\n",
       "        vertical-align: middle;\n",
       "    }\n",
       "\n",
       "    .dataframe tbody tr th {\n",
       "        vertical-align: top;\n",
       "    }\n",
       "\n",
       "    .dataframe thead th {\n",
       "        text-align: right;\n",
       "    }\n",
       "</style>\n",
       "<table border=\"1\" class=\"dataframe\">\n",
       "  <thead>\n",
       "    <tr style=\"text-align: right;\">\n",
       "      <th></th>\n",
       "      <th>SeniorCitizen</th>\n",
       "      <th>tenure</th>\n",
       "      <th>MonthlyCharges</th>\n",
       "      <th>TotalCharges</th>\n",
       "      <th>Partner_Yes</th>\n",
       "      <th>Dependents_Yes</th>\n",
       "      <th>PhoneService_Yes</th>\n",
       "      <th>MultipleLines_No phone service</th>\n",
       "      <th>MultipleLines_Yes</th>\n",
       "      <th>InternetService_Fiber optic</th>\n",
       "      <th>...</th>\n",
       "      <th>StreamingTV_No internet service</th>\n",
       "      <th>StreamingTV_Yes</th>\n",
       "      <th>StreamingMovies_No internet service</th>\n",
       "      <th>StreamingMovies_Yes</th>\n",
       "      <th>Contract_One year</th>\n",
       "      <th>Contract_Two year</th>\n",
       "      <th>PaperlessBilling_Yes</th>\n",
       "      <th>PaymentMethod_Credit card (automatic)</th>\n",
       "      <th>PaymentMethod_Electronic check</th>\n",
       "      <th>PaymentMethod_Mailed check</th>\n",
       "    </tr>\n",
       "  </thead>\n",
       "  <tbody>\n",
       "    <tr>\n",
       "      <th>0</th>\n",
       "      <td>-0.439916</td>\n",
       "      <td>-1.277445</td>\n",
       "      <td>-1.160323</td>\n",
       "      <td>-0.992611</td>\n",
       "      <td>1.034530</td>\n",
       "      <td>-0.654012</td>\n",
       "      <td>-3.054010</td>\n",
       "      <td>3.054010</td>\n",
       "      <td>-0.854176</td>\n",
       "      <td>-0.885660</td>\n",
       "      <td>...</td>\n",
       "      <td>-0.525927</td>\n",
       "      <td>-0.790132</td>\n",
       "      <td>-0.525927</td>\n",
       "      <td>-0.79607</td>\n",
       "      <td>-0.514249</td>\n",
       "      <td>-0.562975</td>\n",
       "      <td>0.829798</td>\n",
       "      <td>-0.525047</td>\n",
       "      <td>1.406418</td>\n",
       "      <td>-0.544807</td>\n",
       "    </tr>\n",
       "    <tr>\n",
       "      <th>1</th>\n",
       "      <td>-0.439916</td>\n",
       "      <td>0.066327</td>\n",
       "      <td>-0.259629</td>\n",
       "      <td>-0.172165</td>\n",
       "      <td>-0.966622</td>\n",
       "      <td>-0.654012</td>\n",
       "      <td>0.327438</td>\n",
       "      <td>-0.327438</td>\n",
       "      <td>-0.854176</td>\n",
       "      <td>-0.885660</td>\n",
       "      <td>...</td>\n",
       "      <td>-0.525927</td>\n",
       "      <td>-0.790132</td>\n",
       "      <td>-0.525927</td>\n",
       "      <td>-0.79607</td>\n",
       "      <td>1.944582</td>\n",
       "      <td>-0.562975</td>\n",
       "      <td>-1.205113</td>\n",
       "      <td>-0.525047</td>\n",
       "      <td>-0.711026</td>\n",
       "      <td>1.835513</td>\n",
       "    </tr>\n",
       "    <tr>\n",
       "      <th>2</th>\n",
       "      <td>-0.439916</td>\n",
       "      <td>-1.236724</td>\n",
       "      <td>-0.362660</td>\n",
       "      <td>-0.958066</td>\n",
       "      <td>-0.966622</td>\n",
       "      <td>-0.654012</td>\n",
       "      <td>0.327438</td>\n",
       "      <td>-0.327438</td>\n",
       "      <td>-0.854176</td>\n",
       "      <td>-0.885660</td>\n",
       "      <td>...</td>\n",
       "      <td>-0.525927</td>\n",
       "      <td>-0.790132</td>\n",
       "      <td>-0.525927</td>\n",
       "      <td>-0.79607</td>\n",
       "      <td>-0.514249</td>\n",
       "      <td>-0.562975</td>\n",
       "      <td>0.829798</td>\n",
       "      <td>-0.525047</td>\n",
       "      <td>-0.711026</td>\n",
       "      <td>1.835513</td>\n",
       "    </tr>\n",
       "    <tr>\n",
       "      <th>3</th>\n",
       "      <td>-0.439916</td>\n",
       "      <td>0.514251</td>\n",
       "      <td>-0.746535</td>\n",
       "      <td>-0.193672</td>\n",
       "      <td>-0.966622</td>\n",
       "      <td>-0.654012</td>\n",
       "      <td>-3.054010</td>\n",
       "      <td>3.054010</td>\n",
       "      <td>-0.854176</td>\n",
       "      <td>-0.885660</td>\n",
       "      <td>...</td>\n",
       "      <td>-0.525927</td>\n",
       "      <td>-0.790132</td>\n",
       "      <td>-0.525927</td>\n",
       "      <td>-0.79607</td>\n",
       "      <td>1.944582</td>\n",
       "      <td>-0.562975</td>\n",
       "      <td>-1.205113</td>\n",
       "      <td>-0.525047</td>\n",
       "      <td>-0.711026</td>\n",
       "      <td>-0.544807</td>\n",
       "    </tr>\n",
       "    <tr>\n",
       "      <th>4</th>\n",
       "      <td>-0.439916</td>\n",
       "      <td>-1.236724</td>\n",
       "      <td>0.197365</td>\n",
       "      <td>-0.938874</td>\n",
       "      <td>-0.966622</td>\n",
       "      <td>-0.654012</td>\n",
       "      <td>0.327438</td>\n",
       "      <td>-0.327438</td>\n",
       "      <td>-0.854176</td>\n",
       "      <td>1.129102</td>\n",
       "      <td>...</td>\n",
       "      <td>-0.525927</td>\n",
       "      <td>-0.790132</td>\n",
       "      <td>-0.525927</td>\n",
       "      <td>-0.79607</td>\n",
       "      <td>-0.514249</td>\n",
       "      <td>-0.562975</td>\n",
       "      <td>0.829798</td>\n",
       "      <td>-0.525047</td>\n",
       "      <td>1.406418</td>\n",
       "      <td>-0.544807</td>\n",
       "    </tr>\n",
       "  </tbody>\n",
       "</table>\n",
       "<p>5 rows × 29 columns</p>\n",
       "</div>"
      ],
      "text/plain": [
       "   SeniorCitizen    tenure  MonthlyCharges  TotalCharges  Partner_Yes  \\\n",
       "0      -0.439916 -1.277445       -1.160323     -0.992611     1.034530   \n",
       "1      -0.439916  0.066327       -0.259629     -0.172165    -0.966622   \n",
       "2      -0.439916 -1.236724       -0.362660     -0.958066    -0.966622   \n",
       "3      -0.439916  0.514251       -0.746535     -0.193672    -0.966622   \n",
       "4      -0.439916 -1.236724        0.197365     -0.938874    -0.966622   \n",
       "\n",
       "   Dependents_Yes  PhoneService_Yes  MultipleLines_No phone service  \\\n",
       "0       -0.654012         -3.054010                        3.054010   \n",
       "1       -0.654012          0.327438                       -0.327438   \n",
       "2       -0.654012          0.327438                       -0.327438   \n",
       "3       -0.654012         -3.054010                        3.054010   \n",
       "4       -0.654012          0.327438                       -0.327438   \n",
       "\n",
       "   MultipleLines_Yes  InternetService_Fiber optic  ...  \\\n",
       "0          -0.854176                    -0.885660  ...   \n",
       "1          -0.854176                    -0.885660  ...   \n",
       "2          -0.854176                    -0.885660  ...   \n",
       "3          -0.854176                    -0.885660  ...   \n",
       "4          -0.854176                     1.129102  ...   \n",
       "\n",
       "   StreamingTV_No internet service  StreamingTV_Yes  \\\n",
       "0                        -0.525927        -0.790132   \n",
       "1                        -0.525927        -0.790132   \n",
       "2                        -0.525927        -0.790132   \n",
       "3                        -0.525927        -0.790132   \n",
       "4                        -0.525927        -0.790132   \n",
       "\n",
       "   StreamingMovies_No internet service  StreamingMovies_Yes  \\\n",
       "0                            -0.525927             -0.79607   \n",
       "1                            -0.525927             -0.79607   \n",
       "2                            -0.525927             -0.79607   \n",
       "3                            -0.525927             -0.79607   \n",
       "4                            -0.525927             -0.79607   \n",
       "\n",
       "   Contract_One year  Contract_Two year  PaperlessBilling_Yes  \\\n",
       "0          -0.514249          -0.562975              0.829798   \n",
       "1           1.944582          -0.562975             -1.205113   \n",
       "2          -0.514249          -0.562975              0.829798   \n",
       "3           1.944582          -0.562975             -1.205113   \n",
       "4          -0.514249          -0.562975              0.829798   \n",
       "\n",
       "   PaymentMethod_Credit card (automatic)  PaymentMethod_Electronic check  \\\n",
       "0                              -0.525047                        1.406418   \n",
       "1                              -0.525047                       -0.711026   \n",
       "2                              -0.525047                       -0.711026   \n",
       "3                              -0.525047                       -0.711026   \n",
       "4                              -0.525047                        1.406418   \n",
       "\n",
       "   PaymentMethod_Mailed check  \n",
       "0                   -0.544807  \n",
       "1                    1.835513  \n",
       "2                    1.835513  \n",
       "3                   -0.544807  \n",
       "4                   -0.544807  \n",
       "\n",
       "[5 rows x 29 columns]"
      ]
     },
     "execution_count": 38,
     "metadata": {},
     "output_type": "execute_result"
    }
   ],
   "source": [
    "from sklearn.preprocessing import StandardScaler\n",
    "sc=StandardScaler()\n",
    "data1=sc.fit_transform(data_new)\n",
    "data_scaled=pd.DataFrame(data1,columns=data_new.columns)\n",
    "data_scaled.head()"
   ]
  },
  {
   "cell_type": "code",
   "execution_count": 39,
   "metadata": {},
   "outputs": [],
   "source": [
    "data.Churn=data.Churn.map({'No':0,'Yes':1})"
   ]
  },
  {
   "cell_type": "code",
   "execution_count": 40,
   "metadata": {},
   "outputs": [
    {
     "data": {
      "text/plain": [
       "0    5174\n",
       "1    1869\n",
       "Name: Churn, dtype: int64"
      ]
     },
     "execution_count": 40,
     "metadata": {},
     "output_type": "execute_result"
    }
   ],
   "source": [
    "data.Churn.value_counts()"
   ]
  },
  {
   "cell_type": "code",
   "execution_count": 41,
   "metadata": {},
   "outputs": [],
   "source": [
    "data_in=data_scaled\n",
    "data_op=data.Churn"
   ]
  },
  {
   "cell_type": "code",
   "execution_count": 42,
   "metadata": {},
   "outputs": [],
   "source": [
    "from sklearn.naive_bayes import BernoulliNB as BNB\n",
    "from sklearn.naive_bayes import GaussianNB as GNB\n",
    "from sklearn.neighbors import KNeighborsClassifier as KNN\n",
    "from sklearn.tree import DecisionTreeClassifier as DTC\n",
    "from sklearn.svm import SVC\n",
    "from sklearn.linear_model import LogisticRegression as LR"
   ]
  },
  {
   "cell_type": "code",
   "execution_count": 43,
   "metadata": {},
   "outputs": [],
   "source": [
    "BNB=BNB()\n",
    "GNB=GNB()\n",
    "KNN=KNN(n_neighbors=6)\n",
    "DTC=DTC()\n",
    "SV=SVC()\n",
    "LR=LR()"
   ]
  },
  {
   "cell_type": "code",
   "execution_count": 44,
   "metadata": {},
   "outputs": [
    {
     "data": {
      "text/plain": [
       "[('BernoulliNB',\n",
       "  BernoulliNB(alpha=1.0, binarize=0.0, class_prior=None, fit_prior=True)),\n",
       " ('GaussianNB', GaussianNB(priors=None, var_smoothing=1e-09)),\n",
       " ('KNeighborsClassifier',\n",
       "  KNeighborsClassifier(algorithm='auto', leaf_size=30, metric='minkowski',\n",
       "                       metric_params=None, n_jobs=None, n_neighbors=6, p=2,\n",
       "                       weights='uniform')),\n",
       " ('DecisionTreeClassifier',\n",
       "  DecisionTreeClassifier(class_weight=None, criterion='gini', max_depth=None,\n",
       "                         max_features=None, max_leaf_nodes=None,\n",
       "                         min_impurity_decrease=0.0, min_impurity_split=None,\n",
       "                         min_samples_leaf=1, min_samples_split=2,\n",
       "                         min_weight_fraction_leaf=0.0, presort=False,\n",
       "                         random_state=None, splitter='best')),\n",
       " ('SVC', SVC(C=1.0, cache_size=200, class_weight=None, coef0=0.0,\n",
       "      decision_function_shape='ovr', degree=3, gamma='auto_deprecated',\n",
       "      kernel='rbf', max_iter=-1, probability=False, random_state=None,\n",
       "      shrinking=True, tol=0.001, verbose=False)),\n",
       " ('LogisticRegression',\n",
       "  LogisticRegression(C=1.0, class_weight=None, dual=False, fit_intercept=True,\n",
       "                     intercept_scaling=1, l1_ratio=None, max_iter=100,\n",
       "                     multi_class='warn', n_jobs=None, penalty='l2',\n",
       "                     random_state=None, solver='warn', tol=0.0001, verbose=0,\n",
       "                     warm_start=False))]"
      ]
     },
     "execution_count": 44,
     "metadata": {},
     "output_type": "execute_result"
    }
   ],
   "source": [
    "models=[]\n",
    "models.append(('BernoulliNB',BNB))\n",
    "models.append(('GaussianNB',GNB))\n",
    "models.append(('KNeighborsClassifier',KNN))\n",
    "models.append(('DecisionTreeClassifier',DTC))\n",
    "models.append(('SVC',SV))\n",
    "models.append(('LogisticRegression',LR))\n",
    "models"
   ]
  },
  {
   "cell_type": "code",
   "execution_count": 45,
   "metadata": {},
   "outputs": [],
   "source": [
    "from sklearn.metrics import classification_report,confusion_matrix,accuracy_score\n",
    "from sklearn.model_selection import cross_val_score \n",
    "from sklearn.metrics import roc_auc_score\n"
   ]
  },
  {
   "cell_type": "code",
   "execution_count": 46,
   "metadata": {},
   "outputs": [],
   "source": [
    "from sklearn.model_selection import train_test_split as tts\n",
    "x_train,x_test,y_train,y_test=tts(data_in,data_op,stratify=data_op,test_size=0.33)"
   ]
  },
  {
   "cell_type": "code",
   "execution_count": 47,
   "metadata": {},
   "outputs": [
    {
     "name": "stdout",
     "output_type": "stream",
     "text": [
      "****************** BernoulliNB ********************\n",
      "\n",
      "\n",
      "BernoulliNB(alpha=1.0, binarize=0.0, class_prior=None, fit_prior=True)\n",
      "\n",
      "\n",
      "Accuracy score= 0.7402150537634409\n",
      "\n",
      "\n",
      "cross_value score= 0.7279508075595702\n",
      "\n",
      "\n",
      "Roc_score= 0.7579632884054065\n",
      "Confusion matrix:\n",
      " [[1230  478]\n",
      " [ 126  491]]\n",
      "****************** GaussianNB ********************\n",
      "\n",
      "\n",
      "GaussianNB(priors=None, var_smoothing=1e-09)\n",
      "\n",
      "\n",
      "Accuracy score= 0.676989247311828\n",
      "\n",
      "\n",
      "cross_value score= 0.6616417472712965\n",
      "\n",
      "\n",
      "Roc_score= 0.7402945050273477\n",
      "Confusion matrix:\n",
      " [[1034  674]\n",
      " [  77  540]]\n",
      "****************** KNeighborsClassifier ********************\n",
      "\n",
      "\n",
      "KNeighborsClassifier(algorithm='auto', leaf_size=30, metric='minkowski',\n",
      "                     metric_params=None, n_jobs=None, n_neighbors=6, p=2,\n",
      "                     weights='uniform')\n",
      "\n",
      "\n",
      "Accuracy score= 0.7638709677419355\n",
      "\n",
      "\n",
      "cross_value score= 0.7739606662933931\n",
      "\n",
      "\n",
      "Roc_score= 0.6565613624890401\n",
      "Confusion matrix:\n",
      " [[1512  196]\n",
      " [ 353  264]]\n",
      "****************** DecisionTreeClassifier ********************\n",
      "\n",
      "\n",
      "DecisionTreeClassifier(class_weight=None, criterion='gini', max_depth=None,\n",
      "                       max_features=None, max_leaf_nodes=None,\n",
      "                       min_impurity_decrease=0.0, min_impurity_split=None,\n",
      "                       min_samples_leaf=1, min_samples_split=2,\n",
      "                       min_weight_fraction_leaf=0.0, presort=False,\n",
      "                       random_state=None, splitter='best')\n",
      "\n",
      "\n",
      "Accuracy score= 0.7410752688172043\n",
      "\n",
      "\n",
      "cross_value score= 0.7297979977585242\n",
      "\n",
      "\n",
      "Roc_score= 0.6674454089630645\n",
      "Confusion matrix:\n",
      " [[1408  300]\n",
      " [ 302  315]]\n",
      "****************** SVC ********************\n",
      "\n",
      "\n",
      "SVC(C=1.0, cache_size=200, class_weight=None, coef0=0.0,\n",
      "    decision_function_shape='ovr', degree=3, gamma='auto_deprecated',\n",
      "    kernel='rbf', max_iter=-1, probability=False, random_state=None,\n",
      "    shrinking=True, tol=0.001, verbose=False)\n",
      "\n",
      "\n",
      "Accuracy score= 0.7995698924731183\n",
      "\n",
      "\n",
      "cross_value score= 0.7979514429615914\n",
      "\n",
      "\n",
      "Roc_score= 0.7062227898838149\n",
      "Confusion matrix:\n",
      " [[1546  162]\n",
      " [ 304  313]]\n",
      "****************** LogisticRegression ********************\n",
      "\n",
      "\n",
      "LogisticRegression(C=1.0, class_weight=None, dual=False, fit_intercept=True,\n",
      "                   intercept_scaling=1, l1_ratio=None, max_iter=100,\n",
      "                   multi_class='warn', n_jobs=None, penalty='l2',\n",
      "                   random_state=None, solver='warn', tol=0.0001, verbose=0,\n",
      "                   warm_start=False)\n",
      "\n",
      "\n",
      "Accuracy score= 0.803010752688172\n",
      "\n",
      "\n",
      "cross_value score= 0.8043422812382779\n",
      "\n",
      "\n",
      "Roc_score= 0.7230584265483434\n",
      "Confusion matrix:\n",
      " [[1526  182]\n",
      " [ 276  341]]\n"
     ]
    }
   ],
   "source": [
    "Model=[]\n",
    "score=[]\n",
    "cvs=[]\n",
    "rocscore=[]\n",
    "for name,model in models:\n",
    "    print('******************',name,'********************')\n",
    "    print('\\n')\n",
    "    Model.append(name)\n",
    "    model.fit(x_train,y_train)\n",
    "    print(model)\n",
    "    y_pred=model.predict(x_test)\n",
    "    print('\\n')\n",
    "    accuracy=accuracy_score(y_test,y_pred)\n",
    "    print('Accuracy score=',accuracy)\n",
    "    score.append(accuracy)\n",
    "    print('\\n')\n",
    "    sc=cross_val_score(model,data_in,data_op,cv=10,scoring='accuracy').mean()\n",
    "    print('cross_value score=',sc)\n",
    "    cvs.append(sc)\n",
    "    print('\\n')\n",
    "    rocscor=roc_auc_score(y_test,y_pred)\n",
    "    print('Roc_score=',rocscor)\n",
    "    rocscore.append(rocscor)\n",
    "    c=confusion_matrix(y_test,y_pred)\n",
    "    print('Confusion matrix:\\n',c)"
   ]
  },
  {
   "cell_type": "code",
   "execution_count": 48,
   "metadata": {},
   "outputs": [
    {
     "name": "stdout",
     "output_type": "stream",
     "text": [
      "**************Logistic Regression*****************\n",
      "\n",
      "\n",
      "Testing accuracy: 0.8197849462365592 Training accuracy: 0.8005510809665113\n",
      "Cross validation score 0.8054810995870701\n",
      "Roc_auc score is: 0.7453455755924071\n",
      "Confusion matrix:\n",
      " [[1544  164]\n",
      " [ 255  362]]\n",
      "\n",
      "\n"
     ]
    }
   ],
   "source": [
    "for i in range(0,1):\n",
    "    warnings.filterwarnings('ignore')\n",
    "    from sklearn.model_selection import train_test_split as tts\n",
    "    from sklearn.model_selection import KFold\n",
    "    from sklearn.model_selection import cross_val_score \n",
    "    from sklearn.linear_model import LogisticRegression\n",
    "    from sklearn.metrics import accuracy_score,confusion_matrix,roc_auc_score\n",
    "    lr=LogisticRegression()\n",
    "    max_score=0\n",
    "    for i in range(0,100):\n",
    "        x_train,x_test,y_train,y_test=tts(data_in,data_op,random_state=i,test_size=0.33,stratify=data_op)\n",
    "        lr.fit(x_train,y_train)\n",
    "        y_pred=lr.predict(x_test)\n",
    "        accuracy=accuracy_score(y_test,y_pred)\n",
    "        if accuracy>max_score:\n",
    "            max_score=accuracy\n",
    "            final_state=i\n",
    "    x_train,x_test,y_train,y_test=tts(data_in,data_op,random_state=final_state,test_size=0.33,stratify=data_op)\n",
    "    lr.fit(x_train,y_train)\n",
    "    y_pred=lr.predict(x_test)\n",
    "    train_pred=lr.predict(x_train)\n",
    "    accuracy=accuracy_score(y_test,y_pred)\n",
    "    accuracy1=accuracy_score(y_train,train_pred)\n",
    "    rscore=roc_auc_score(y_test,y_pred)\n",
    "    c=confusion_matrix(y_test,y_pred)\n",
    "    kf = KFold(shuffle=True, n_splits=5)\n",
    "    cv=cross_val_score(lr,data_in,data_op,cv=kf,scoring='accuracy').mean()\n",
    "    print('**************Logistic Regression*****************')\n",
    "    print('\\n')\n",
    "    print('Testing accuracy:',accuracy,'Training accuracy:',accuracy1)\n",
    "    print('Cross validation score',cv)\n",
    "    print('Roc_auc score is:',rscore)\n",
    "    print('Confusion matrix:\\n',c)\n",
    "    print('\\n')"
   ]
  },
  {
   "cell_type": "code",
   "execution_count": 49,
   "metadata": {},
   "outputs": [
    {
     "data": {
      "text/plain": [
       "(0.7453455755924071, 0.7157830794444988)"
      ]
     },
     "execution_count": 49,
     "metadata": {},
     "output_type": "execute_result"
    }
   ],
   "source": [
    "lr_test_auc=roc_auc_score(y_test,y_pred)\n",
    "lr_train_auc=roc_auc_score(y_train,train_pred)\n",
    "lr_test_auc,lr_train_auc"
   ]
  },
  {
   "cell_type": "code",
   "execution_count": 50,
   "metadata": {},
   "outputs": [],
   "source": [
    "lr_test_probs=lr.predict_proba(x_test)\n",
    "lr_train_probs=lr.predict_proba(x_train)\n",
    "lr_test_probs=lr_test_probs[:,1]\n",
    "lr_train_probs=lr_train_probs[:,1]"
   ]
  },
  {
   "cell_type": "code",
   "execution_count": 51,
   "metadata": {},
   "outputs": [],
   "source": [
    "from sklearn.metrics import roc_curve\n",
    "lr_test_fpr,lr_test_tpr,test_threshold=roc_curve(y_test,lr_test_probs)\n",
    "lr_train_fpr,lr_train_tpr,train_threshold=roc_curve(y_train,lr_train_probs)"
   ]
  },
  {
   "cell_type": "code",
   "execution_count": 52,
   "metadata": {},
   "outputs": [
    {
     "data": {
      "image/png": "[encoded data removed]",
      "text/plain": [
       "<Figure size 432x288 with 1 Axes>"
      ]
     },
     "metadata": {
      "needs_background": "light"
     },
     "output_type": "display_data"
    }
   ],
   "source": [
    "plt.plot(lr_test_fpr,lr_test_tpr,marker='.',label='Test')\n",
    "plt.plot(lr_train_fpr,lr_train_tpr,label='Training')\n",
    "plt.xlabel('False Positive Rate')\n",
    "plt.ylabel('True Positive Rate')\n",
    "plt.legend()\n",
    "plt.show()"
   ]
  },
  {
   "cell_type": "code",
   "execution_count": 54,
   "metadata": {},
   "outputs": [
    {
     "name": "stdout",
     "output_type": "stream",
     "text": [
      "*****************Support Vector Classifier*****************\n",
      "\n",
      "\n",
      "Best parameters are: {'C': 100, 'kernel': 'linear'}\n",
      "Testing accuracy: 0.8180645161290323 Training accuracy: 0.7935565917761763\n",
      "Cross validation score 0.799088953319569\n",
      "Roc_auc score is: 0.7431393499557806\n",
      "Confusion matrix:\n",
      " [[1542  166]\n",
      " [ 257  360]]\n"
     ]
    }
   ],
   "source": [
    "for i in range(0,1):\n",
    "    from sklearn.svm import SVC\n",
    "    classifier=SVC(kernel='rbf',random_state=20)\n",
    "    classifier.fit(x_train,y_train)\n",
    "    from sklearn.model_selection import GridSearchCV\n",
    "    parameters=[{'C':[1,10,100],'kernel':['linear']},{'C':[1,10,100],'kernel':['rbf'],'gamma':[0.5]}]\n",
    "    grid_search=GridSearchCV(estimator=classifier,param_grid=parameters,scoring='accuracy',cv=5,n_jobs=-1)\n",
    "    grid_search=grid_search.fit(x_train,y_train)\n",
    "    r=grid_search.best_params_\n",
    "    from sklearn.svm import SVC\n",
    "    classifier=SVC(kernel=r['kernel'],C=r['C'],gamma=0.5,probability=True)\n",
    "    classifier.fit(x_train,y_train)\n",
    "    y_pred=classifier.predict(x_test)\n",
    "    train_pred=classifier.predict(x_train)\n",
    "    accuracy=accuracy_score(y_test,y_pred)\n",
    "    accuracy1=accuracy_score(y_train,train_pred)\n",
    "    rscore=roc_auc_score(y_test,y_pred)\n",
    "    c=confusion_matrix(y_test,y_pred)\n",
    "    kf = KFold(shuffle=True, n_splits=5)\n",
    "    cv=cross_val_score(classifier,data_in,data_op,cv=kf,scoring='accuracy').mean()\n",
    "    print('*****************Support Vector Classifier*****************')\n",
    "    print('\\n')\n",
    "    print('Best parameters are:',r)\n",
    "    print('Testing accuracy:',accuracy,'Training accuracy:',accuracy1)\n",
    "    print('Cross validation score',cv)\n",
    "    print('Roc_auc score is:',rscore)\n",
    "    print('Confusion matrix:\\n',c)  \n"
   ]
  },
  {
   "cell_type": "code",
   "execution_count": 55,
   "metadata": {},
   "outputs": [
    {
     "name": "stdout",
     "output_type": "stream",
     "text": [
      "0.8180645161290323 0.7935565917761763\n"
     ]
    },
    {
     "data": {
      "text/plain": [
       "array([[1542,  166],\n",
       "       [ 257,  360]], dtype=int64)"
      ]
     },
     "execution_count": 55,
     "metadata": {},
     "output_type": "execute_result"
    }
   ],
   "source": [
    "from sklearn.svm import SVC\n",
    "classifier=SVC(kernel='linear',random_state=20,C=100,gamma=0.5,probability=True)\n",
    "classifier.fit(x_train,y_train)\n",
    "y_pred=classifier.predict(x_test)\n",
    "train_pred=classifier.predict(x_train)\n",
    "accuracy=accuracy_score(y_test,y_pred)\n",
    "accuracy1=accuracy_score(y_train,train_pred)\n",
    "print(accuracy,accuracy1)\n",
    "c=confusion_matrix(y_test,y_pred)\n",
    "c"
   ]
  },
  {
   "cell_type": "code",
   "execution_count": 57,
   "metadata": {},
   "outputs": [
    {
     "data": {
      "text/plain": [
       "(0.7431393499557806, 0.7079613184398326)"
      ]
     },
     "execution_count": 57,
     "metadata": {},
     "output_type": "execute_result"
    }
   ],
   "source": [
    "svc_test_auc=roc_auc_score(y_test,y_pred)\n",
    "svc_train_auc=roc_auc_score(y_train,train_pred)\n",
    "svc_test_auc,svc_train_auc"
   ]
  },
  {
   "cell_type": "code",
   "execution_count": 58,
   "metadata": {},
   "outputs": [],
   "source": [
    "svc_test_probs=classifier.predict_proba(x_test)\n",
    "svc_train_probs=classifier.predict_proba(x_train)\n",
    "svc_test_probs=svc_test_probs[:,1]\n",
    "svc_train_probs=svc_train_probs[:,1]"
   ]
  },
  {
   "cell_type": "code",
   "execution_count": 59,
   "metadata": {},
   "outputs": [],
   "source": [
    "svc_test_fpr,svc_test_tpr,test_threshold=roc_curve(y_test,svc_test_probs)\n",
    "svc_train_fpr,svc_train_tpr,train_threshold=roc_curve(y_train,svc_train_probs)"
   ]
  },
  {
   "cell_type": "code",
   "execution_count": 60,
   "metadata": {},
   "outputs": [
    {
     "data": {
      "image/png": "[encoded data removed]",
      "text/plain": [
       "<Figure size 432x288 with 1 Axes>"
      ]
     },
     "metadata": {
      "needs_background": "light"
     },
     "output_type": "display_data"
    }
   ],
   "source": [
    "plt.plot(svc_test_fpr,svc_test_tpr,marker='.',label='Test')\n",
    "plt.plot(svc_train_fpr,svc_train_tpr,label='Training')\n",
    "plt.xlabel('False Positive Rate')\n",
    "plt.ylabel('True Positive Rate')\n",
    "plt.legend()\n",
    "plt.show()"
   ]
  },
  {
   "cell_type": "code",
   "execution_count": 61,
   "metadata": {},
   "outputs": [
    {
     "name": "stdout",
     "output_type": "stream",
     "text": [
      "*****************Random Forest Classifier*****************\n",
      "\n",
      "\n",
      "Best parameters are: {'criterion': 'gini', 'max_depth': 8, 'n_estimators': 30, 'random_state': 46}\n",
      "Testing accuracy: 0.8236559139784946 Training accuracy: 0.8306485799067401\n",
      "Cross validation score 0.8025007661784631\n",
      "Roc_auc score is: 0.7381452142458598\n",
      "Confusion matrix:\n",
      " [[1572  136]\n",
      " [ 274  343]]\n",
      "\n",
      "\n"
     ]
    }
   ],
   "source": [
    "for i in range(0,1):\n",
    "    from sklearn.ensemble import RandomForestClassifier as RFC\n",
    "    RFC=RFC()\n",
    "    from sklearn.model_selection import GridSearchCV\n",
    "    parameters=[{'random_state':range(0,50),'criterion':['gini','entropy'],'n_estimators':[10,30,50],'max_depth':range(2,9)}]\n",
    "    grid_search=GridSearchCV(estimator=RFC,param_grid=parameters,scoring='accuracy',cv=10,n_jobs=-1)\n",
    "    grid_search=grid_search.fit(x_train,y_train)\n",
    "    r=grid_search.best_params_\n",
    "    from sklearn.ensemble import RandomForestClassifier as RFC\n",
    "    RFC=RFC(random_state=r['random_state'],criterion=r['criterion'],n_estimators=r['n_estimators'],max_depth=r['max_depth'])\n",
    "    RFC.fit(x_train,y_train)\n",
    "    y_pred=RFC.predict(x_test)\n",
    "    train_pred=RFC.predict(x_train)\n",
    "    accuracy=accuracy_score(y_test,y_pred)\n",
    "    accuracy1=accuracy_score(y_train,train_pred)\n",
    "    rscore=roc_auc_score(y_test,y_pred)\n",
    "    c=confusion_matrix(y_test,y_pred)\n",
    "    kf = KFold(shuffle=True, n_splits=5)\n",
    "    cv=cross_val_score(RFC,data_in,data_op,cv=kf,scoring='accuracy').mean()\n",
    "    print('*****************Random Forest Classifier*****************')\n",
    "    print('\\n')\n",
    "    print('Best parameters are:',r)\n",
    "    print('Testing accuracy:',accuracy,'Training accuracy:',accuracy1)\n",
    "    print('Cross validation score',cv)\n",
    "    print('Roc_auc score is:',rscore)\n",
    "    print('Confusion matrix:\\n',c)  \n",
    "    print('\\n')"
   ]
  },
  {
   "cell_type": "code",
   "execution_count": 62,
   "metadata": {},
   "outputs": [
    {
     "data": {
      "text/plain": [
       "(0.7381452142458598, 0.7446861709090038)"
      ]
     },
     "execution_count": 62,
     "metadata": {},
     "output_type": "execute_result"
    }
   ],
   "source": [
    "RFC_test_auc=roc_auc_score(y_test,y_pred)\n",
    "RFC_train_auc=roc_auc_score(y_train,train_pred)\n",
    "RFC_test_auc,RFC_train_auc"
   ]
  },
  {
   "cell_type": "code",
   "execution_count": 64,
   "metadata": {},
   "outputs": [],
   "source": [
    "RFC_test_probs=RFC.predict_proba(x_test)\n",
    "RFC_train_probs=RFC.predict_proba(x_train)\n",
    "RFC_test_probs=RFC_test_probs[:,1]\n",
    "RFC_train_probs=RFC_train_probs[:,1]"
   ]
  },
  {
   "cell_type": "code",
   "execution_count": 65,
   "metadata": {},
   "outputs": [],
   "source": [
    "RFC_test_fpr,RFC_test_tpr,test_threshold=roc_curve(y_test,RFC_test_probs)\n",
    "RFC_train_fpr,RFC_train_tpr,train_threshold=roc_curve(y_train,RFC_train_probs)"
   ]
  },
  {
   "cell_type": "code",
   "execution_count": 66,
   "metadata": {},
   "outputs": [
    {
     "data": {
      "image/png": "[encoded data removed]",
      "text/plain": [
       "<Figure size 432x288 with 1 Axes>"
      ]
     },
     "metadata": {
      "needs_background": "light"
     },
     "output_type": "display_data"
    }
   ],
   "source": [
    "plt.plot(RFC_test_fpr,RFC_test_tpr,marker='.',label='Test')\n",
    "plt.plot(RFC_train_fpr,RFC_train_tpr,label='Training')\n",
    "plt.xlabel('False Positive Rate')\n",
    "plt.ylabel('True Positive Rate')\n",
    "plt.legend()\n",
    "plt.show()"
   ]
  },
  {
   "cell_type": "code",
   "execution_count": 67,
   "metadata": {},
   "outputs": [
    {
     "data": {
      "text/html": [
       "<div>\n",
       "<style scoped>\n",
       "    .dataframe tbody tr th:only-of-type {\n",
       "        vertical-align: middle;\n",
       "    }\n",
       "\n",
       "    .dataframe tbody tr th {\n",
       "        vertical-align: top;\n",
       "    }\n",
       "\n",
       "    .dataframe thead th {\n",
       "        text-align: right;\n",
       "    }\n",
       "</style>\n",
       "<table border=\"1\" class=\"dataframe\">\n",
       "  <thead>\n",
       "    <tr style=\"text-align: right;\">\n",
       "      <th></th>\n",
       "      <th>Actual Churn</th>\n",
       "      <th>Predicted Churn</th>\n",
       "    </tr>\n",
       "  </thead>\n",
       "  <tbody>\n",
       "    <tr>\n",
       "      <th>1166</th>\n",
       "      <td>0</td>\n",
       "      <td>0</td>\n",
       "    </tr>\n",
       "    <tr>\n",
       "      <th>1474</th>\n",
       "      <td>0</td>\n",
       "      <td>0</td>\n",
       "    </tr>\n",
       "    <tr>\n",
       "      <th>5832</th>\n",
       "      <td>1</td>\n",
       "      <td>0</td>\n",
       "    </tr>\n",
       "    <tr>\n",
       "      <th>145</th>\n",
       "      <td>0</td>\n",
       "      <td>0</td>\n",
       "    </tr>\n",
       "    <tr>\n",
       "      <th>5516</th>\n",
       "      <td>1</td>\n",
       "      <td>0</td>\n",
       "    </tr>\n",
       "    <tr>\n",
       "      <th>526</th>\n",
       "      <td>0</td>\n",
       "      <td>0</td>\n",
       "    </tr>\n",
       "    <tr>\n",
       "      <th>6174</th>\n",
       "      <td>1</td>\n",
       "      <td>1</td>\n",
       "    </tr>\n",
       "    <tr>\n",
       "      <th>2425</th>\n",
       "      <td>0</td>\n",
       "      <td>0</td>\n",
       "    </tr>\n",
       "    <tr>\n",
       "      <th>879</th>\n",
       "      <td>0</td>\n",
       "      <td>0</td>\n",
       "    </tr>\n",
       "    <tr>\n",
       "      <th>6003</th>\n",
       "      <td>0</td>\n",
       "      <td>0</td>\n",
       "    </tr>\n",
       "    <tr>\n",
       "      <th>5587</th>\n",
       "      <td>0</td>\n",
       "      <td>0</td>\n",
       "    </tr>\n",
       "    <tr>\n",
       "      <th>5606</th>\n",
       "      <td>0</td>\n",
       "      <td>0</td>\n",
       "    </tr>\n",
       "    <tr>\n",
       "      <th>5347</th>\n",
       "      <td>0</td>\n",
       "      <td>0</td>\n",
       "    </tr>\n",
       "    <tr>\n",
       "      <th>2010</th>\n",
       "      <td>1</td>\n",
       "      <td>1</td>\n",
       "    </tr>\n",
       "    <tr>\n",
       "      <th>624</th>\n",
       "      <td>1</td>\n",
       "      <td>0</td>\n",
       "    </tr>\n",
       "    <tr>\n",
       "      <th>3555</th>\n",
       "      <td>1</td>\n",
       "      <td>1</td>\n",
       "    </tr>\n",
       "    <tr>\n",
       "      <th>4422</th>\n",
       "      <td>0</td>\n",
       "      <td>0</td>\n",
       "    </tr>\n",
       "    <tr>\n",
       "      <th>204</th>\n",
       "      <td>0</td>\n",
       "      <td>0</td>\n",
       "    </tr>\n",
       "    <tr>\n",
       "      <th>968</th>\n",
       "      <td>0</td>\n",
       "      <td>0</td>\n",
       "    </tr>\n",
       "    <tr>\n",
       "      <th>705</th>\n",
       "      <td>1</td>\n",
       "      <td>0</td>\n",
       "    </tr>\n",
       "    <tr>\n",
       "      <th>4370</th>\n",
       "      <td>0</td>\n",
       "      <td>0</td>\n",
       "    </tr>\n",
       "    <tr>\n",
       "      <th>4574</th>\n",
       "      <td>0</td>\n",
       "      <td>0</td>\n",
       "    </tr>\n",
       "    <tr>\n",
       "      <th>1772</th>\n",
       "      <td>1</td>\n",
       "      <td>1</td>\n",
       "    </tr>\n",
       "    <tr>\n",
       "      <th>7013</th>\n",
       "      <td>0</td>\n",
       "      <td>0</td>\n",
       "    </tr>\n",
       "    <tr>\n",
       "      <th>1990</th>\n",
       "      <td>1</td>\n",
       "      <td>1</td>\n",
       "    </tr>\n",
       "    <tr>\n",
       "      <th>2881</th>\n",
       "      <td>0</td>\n",
       "      <td>0</td>\n",
       "    </tr>\n",
       "    <tr>\n",
       "      <th>5134</th>\n",
       "      <td>1</td>\n",
       "      <td>1</td>\n",
       "    </tr>\n",
       "    <tr>\n",
       "      <th>5058</th>\n",
       "      <td>0</td>\n",
       "      <td>0</td>\n",
       "    </tr>\n",
       "    <tr>\n",
       "      <th>4232</th>\n",
       "      <td>1</td>\n",
       "      <td>1</td>\n",
       "    </tr>\n",
       "    <tr>\n",
       "      <th>1259</th>\n",
       "      <td>1</td>\n",
       "      <td>0</td>\n",
       "    </tr>\n",
       "    <tr>\n",
       "      <th>...</th>\n",
       "      <td>...</td>\n",
       "      <td>...</td>\n",
       "    </tr>\n",
       "    <tr>\n",
       "      <th>5760</th>\n",
       "      <td>0</td>\n",
       "      <td>0</td>\n",
       "    </tr>\n",
       "    <tr>\n",
       "      <th>3598</th>\n",
       "      <td>0</td>\n",
       "      <td>1</td>\n",
       "    </tr>\n",
       "    <tr>\n",
       "      <th>1689</th>\n",
       "      <td>0</td>\n",
       "      <td>0</td>\n",
       "    </tr>\n",
       "    <tr>\n",
       "      <th>1399</th>\n",
       "      <td>0</td>\n",
       "      <td>0</td>\n",
       "    </tr>\n",
       "    <tr>\n",
       "      <th>276</th>\n",
       "      <td>1</td>\n",
       "      <td>0</td>\n",
       "    </tr>\n",
       "    <tr>\n",
       "      <th>5927</th>\n",
       "      <td>0</td>\n",
       "      <td>0</td>\n",
       "    </tr>\n",
       "    <tr>\n",
       "      <th>3933</th>\n",
       "      <td>0</td>\n",
       "      <td>0</td>\n",
       "    </tr>\n",
       "    <tr>\n",
       "      <th>1218</th>\n",
       "      <td>1</td>\n",
       "      <td>0</td>\n",
       "    </tr>\n",
       "    <tr>\n",
       "      <th>4882</th>\n",
       "      <td>0</td>\n",
       "      <td>0</td>\n",
       "    </tr>\n",
       "    <tr>\n",
       "      <th>350</th>\n",
       "      <td>0</td>\n",
       "      <td>0</td>\n",
       "    </tr>\n",
       "    <tr>\n",
       "      <th>3313</th>\n",
       "      <td>0</td>\n",
       "      <td>0</td>\n",
       "    </tr>\n",
       "    <tr>\n",
       "      <th>1005</th>\n",
       "      <td>0</td>\n",
       "      <td>0</td>\n",
       "    </tr>\n",
       "    <tr>\n",
       "      <th>213</th>\n",
       "      <td>0</td>\n",
       "      <td>0</td>\n",
       "    </tr>\n",
       "    <tr>\n",
       "      <th>1676</th>\n",
       "      <td>0</td>\n",
       "      <td>1</td>\n",
       "    </tr>\n",
       "    <tr>\n",
       "      <th>1655</th>\n",
       "      <td>1</td>\n",
       "      <td>0</td>\n",
       "    </tr>\n",
       "    <tr>\n",
       "      <th>5057</th>\n",
       "      <td>0</td>\n",
       "      <td>1</td>\n",
       "    </tr>\n",
       "    <tr>\n",
       "      <th>6838</th>\n",
       "      <td>1</td>\n",
       "      <td>1</td>\n",
       "    </tr>\n",
       "    <tr>\n",
       "      <th>2063</th>\n",
       "      <td>0</td>\n",
       "      <td>0</td>\n",
       "    </tr>\n",
       "    <tr>\n",
       "      <th>2641</th>\n",
       "      <td>0</td>\n",
       "      <td>0</td>\n",
       "    </tr>\n",
       "    <tr>\n",
       "      <th>7028</th>\n",
       "      <td>0</td>\n",
       "      <td>0</td>\n",
       "    </tr>\n",
       "    <tr>\n",
       "      <th>6388</th>\n",
       "      <td>1</td>\n",
       "      <td>0</td>\n",
       "    </tr>\n",
       "    <tr>\n",
       "      <th>1895</th>\n",
       "      <td>0</td>\n",
       "      <td>0</td>\n",
       "    </tr>\n",
       "    <tr>\n",
       "      <th>3449</th>\n",
       "      <td>0</td>\n",
       "      <td>0</td>\n",
       "    </tr>\n",
       "    <tr>\n",
       "      <th>3380</th>\n",
       "      <td>1</td>\n",
       "      <td>1</td>\n",
       "    </tr>\n",
       "    <tr>\n",
       "      <th>6688</th>\n",
       "      <td>0</td>\n",
       "      <td>0</td>\n",
       "    </tr>\n",
       "    <tr>\n",
       "      <th>2851</th>\n",
       "      <td>0</td>\n",
       "      <td>0</td>\n",
       "    </tr>\n",
       "    <tr>\n",
       "      <th>5454</th>\n",
       "      <td>1</td>\n",
       "      <td>1</td>\n",
       "    </tr>\n",
       "    <tr>\n",
       "      <th>3698</th>\n",
       "      <td>0</td>\n",
       "      <td>0</td>\n",
       "    </tr>\n",
       "    <tr>\n",
       "      <th>1385</th>\n",
       "      <td>0</td>\n",
       "      <td>0</td>\n",
       "    </tr>\n",
       "    <tr>\n",
       "      <th>3990</th>\n",
       "      <td>0</td>\n",
       "      <td>1</td>\n",
       "    </tr>\n",
       "  </tbody>\n",
       "</table>\n",
       "<p>2325 rows × 2 columns</p>\n",
       "</div>"
      ],
      "text/plain": [
       "      Actual Churn  Predicted Churn\n",
       "1166             0                0\n",
       "1474             0                0\n",
       "5832             1                0\n",
       "145              0                0\n",
       "5516             1                0\n",
       "526              0                0\n",
       "6174             1                1\n",
       "2425             0                0\n",
       "879              0                0\n",
       "6003             0                0\n",
       "5587             0                0\n",
       "5606             0                0\n",
       "5347             0                0\n",
       "2010             1                1\n",
       "624              1                0\n",
       "3555             1                1\n",
       "4422             0                0\n",
       "204              0                0\n",
       "968              0                0\n",
       "705              1                0\n",
       "4370             0                0\n",
       "4574             0                0\n",
       "1772             1                1\n",
       "7013             0                0\n",
       "1990             1                1\n",
       "2881             0                0\n",
       "5134             1                1\n",
       "5058             0                0\n",
       "4232             1                1\n",
       "1259             1                0\n",
       "...            ...              ...\n",
       "5760             0                0\n",
       "3598             0                1\n",
       "1689             0                0\n",
       "1399             0                0\n",
       "276              1                0\n",
       "5927             0                0\n",
       "3933             0                0\n",
       "1218             1                0\n",
       "4882             0                0\n",
       "350              0                0\n",
       "3313             0                0\n",
       "1005             0                0\n",
       "213              0                0\n",
       "1676             0                1\n",
       "1655             1                0\n",
       "5057             0                1\n",
       "6838             1                1\n",
       "2063             0                0\n",
       "2641             0                0\n",
       "7028             0                0\n",
       "6388             1                0\n",
       "1895             0                0\n",
       "3449             0                0\n",
       "3380             1                1\n",
       "6688             0                0\n",
       "2851             0                0\n",
       "5454             1                1\n",
       "3698             0                0\n",
       "1385             0                0\n",
       "3990             0                1\n",
       "\n",
       "[2325 rows x 2 columns]"
      ]
     },
     "execution_count": 67,
     "metadata": {},
     "output_type": "execute_result"
    }
   ],
   "source": [
    "churn=pd.DataFrame({'Actual Churn':y_test,'Predicted Churn':y_pred})\n",
    "churn"
   ]
  },
  {
   "cell_type": "code",
   "execution_count": 68,
   "metadata": {},
   "outputs": [],
   "source": [
    "churn.to_csv('project20_op.csv')"
   ]
  },
  {
   "cell_type": "code",
   "execution_count": 69,
   "metadata": {},
   "outputs": [],
   "source": [
    "from sklearn.externals import joblib"
   ]
  },
  {
   "cell_type": "code",
   "execution_count": 70,
   "metadata": {},
   "outputs": [
    {
     "data": {
      "text/plain": [
       "['project20_RFC.pkl']"
      ]
     },
     "execution_count": 70,
     "metadata": {},
     "output_type": "execute_result"
    }
   ],
   "source": [
    "joblib.dump(RFC,'project20_RFC.pkl')"
   ]
  },
  {
   "cell_type": "raw",
   "metadata": {},
   "source": [
    "#  Random forest classifier giving good accuracy as compared to other models and roc auc scores for both traning and testing dataset are good.So chosen as best model for this poject."
   ]
  }
 ],
 "metadata": {
  "kernelspec": {
   "display_name": "Python 3",
   "language": "python",
   "name": "python3"
  },
  "language_info": {
   "codemirror_mode": {
    "name": "ipython",
    "version": 3
   },
   "file_extension": ".py",
   "mimetype": "text/x-python",
   "name": "python",
   "nbconvert_exporter": "python",
   "pygments_lexer": "ipython3",
   "version": "3.7.3"
  }
 },
 "nbformat": 4,
 "nbformat_minor": 2
}
