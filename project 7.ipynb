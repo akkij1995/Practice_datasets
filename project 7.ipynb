{
 "cells": [
  {
   "cell_type": "code",
   "execution_count": 108,
   "metadata": {},
   "outputs": [],
   "source": [
    "import pandas as pd\n",
    "import numpy as np\n",
    "import matplotlib.pyplot as plt\n",
    "import seaborn as sns\n",
    "import warnings\n",
    "warnings.filterwarnings('ignore')\n",
    "%matplotlib inline"
   ]
  },
  {
   "cell_type": "code",
   "execution_count": 109,
   "metadata": {},
   "outputs": [
    {
     "data": {
      "text/html": [
       "<div>\n",
       "<style scoped>\n",
       "    .dataframe tbody tr th:only-of-type {\n",
       "        vertical-align: middle;\n",
       "    }\n",
       "\n",
       "    .dataframe tbody tr th {\n",
       "        vertical-align: top;\n",
       "    }\n",
       "\n",
       "    .dataframe thead th {\n",
       "        text-align: right;\n",
       "    }\n",
       "</style>\n",
       "<table border=\"1\" class=\"dataframe\">\n",
       "  <thead>\n",
       "    <tr style=\"text-align: right;\">\n",
       "      <th></th>\n",
       "      <th>W</th>\n",
       "      <th>R</th>\n",
       "      <th>AB</th>\n",
       "      <th>H</th>\n",
       "      <th>2B</th>\n",
       "      <th>3B</th>\n",
       "      <th>HR</th>\n",
       "      <th>BB</th>\n",
       "      <th>SO</th>\n",
       "      <th>SB</th>\n",
       "      <th>RA</th>\n",
       "      <th>ER</th>\n",
       "      <th>ERA</th>\n",
       "      <th>CG</th>\n",
       "      <th>SHO</th>\n",
       "      <th>SV</th>\n",
       "      <th>E</th>\n",
       "    </tr>\n",
       "  </thead>\n",
       "  <tbody>\n",
       "    <tr>\n",
       "      <th>0</th>\n",
       "      <td>95</td>\n",
       "      <td>724</td>\n",
       "      <td>5575</td>\n",
       "      <td>1497</td>\n",
       "      <td>300</td>\n",
       "      <td>42</td>\n",
       "      <td>139</td>\n",
       "      <td>383</td>\n",
       "      <td>973</td>\n",
       "      <td>104</td>\n",
       "      <td>641</td>\n",
       "      <td>601</td>\n",
       "      <td>3.73</td>\n",
       "      <td>2</td>\n",
       "      <td>8</td>\n",
       "      <td>56</td>\n",
       "      <td>88</td>\n",
       "    </tr>\n",
       "    <tr>\n",
       "      <th>1</th>\n",
       "      <td>83</td>\n",
       "      <td>696</td>\n",
       "      <td>5467</td>\n",
       "      <td>1349</td>\n",
       "      <td>277</td>\n",
       "      <td>44</td>\n",
       "      <td>156</td>\n",
       "      <td>439</td>\n",
       "      <td>1264</td>\n",
       "      <td>70</td>\n",
       "      <td>700</td>\n",
       "      <td>653</td>\n",
       "      <td>4.07</td>\n",
       "      <td>2</td>\n",
       "      <td>12</td>\n",
       "      <td>45</td>\n",
       "      <td>86</td>\n",
       "    </tr>\n",
       "    <tr>\n",
       "      <th>2</th>\n",
       "      <td>81</td>\n",
       "      <td>669</td>\n",
       "      <td>5439</td>\n",
       "      <td>1395</td>\n",
       "      <td>303</td>\n",
       "      <td>29</td>\n",
       "      <td>141</td>\n",
       "      <td>533</td>\n",
       "      <td>1157</td>\n",
       "      <td>86</td>\n",
       "      <td>640</td>\n",
       "      <td>584</td>\n",
       "      <td>3.67</td>\n",
       "      <td>11</td>\n",
       "      <td>10</td>\n",
       "      <td>38</td>\n",
       "      <td>79</td>\n",
       "    </tr>\n",
       "    <tr>\n",
       "      <th>3</th>\n",
       "      <td>76</td>\n",
       "      <td>622</td>\n",
       "      <td>5533</td>\n",
       "      <td>1381</td>\n",
       "      <td>260</td>\n",
       "      <td>27</td>\n",
       "      <td>136</td>\n",
       "      <td>404</td>\n",
       "      <td>1231</td>\n",
       "      <td>68</td>\n",
       "      <td>701</td>\n",
       "      <td>643</td>\n",
       "      <td>3.98</td>\n",
       "      <td>7</td>\n",
       "      <td>9</td>\n",
       "      <td>37</td>\n",
       "      <td>101</td>\n",
       "    </tr>\n",
       "    <tr>\n",
       "      <th>4</th>\n",
       "      <td>74</td>\n",
       "      <td>689</td>\n",
       "      <td>5605</td>\n",
       "      <td>1515</td>\n",
       "      <td>289</td>\n",
       "      <td>49</td>\n",
       "      <td>151</td>\n",
       "      <td>455</td>\n",
       "      <td>1259</td>\n",
       "      <td>83</td>\n",
       "      <td>803</td>\n",
       "      <td>746</td>\n",
       "      <td>4.64</td>\n",
       "      <td>7</td>\n",
       "      <td>12</td>\n",
       "      <td>35</td>\n",
       "      <td>86</td>\n",
       "    </tr>\n",
       "  </tbody>\n",
       "</table>\n",
       "</div>"
      ],
      "text/plain": [
       "    W    R    AB     H   2B  3B   HR   BB    SO   SB   RA   ER   ERA  CG  SHO  \\\n",
       "0  95  724  5575  1497  300  42  139  383   973  104  641  601  3.73   2    8   \n",
       "1  83  696  5467  1349  277  44  156  439  1264   70  700  653  4.07   2   12   \n",
       "2  81  669  5439  1395  303  29  141  533  1157   86  640  584  3.67  11   10   \n",
       "3  76  622  5533  1381  260  27  136  404  1231   68  701  643  3.98   7    9   \n",
       "4  74  689  5605  1515  289  49  151  455  1259   83  803  746  4.64   7   12   \n",
       "\n",
       "   SV    E  \n",
       "0  56   88  \n",
       "1  45   86  \n",
       "2  38   79  \n",
       "3  37  101  \n",
       "4  35   86  "
      ]
     },
     "execution_count": 109,
     "metadata": {},
     "output_type": "execute_result"
    }
   ],
   "source": [
    "data=pd.read_csv('baseball.csv')\n",
    "data.head()"
   ]
  },
  {
   "cell_type": "code",
   "execution_count": 110,
   "metadata": {},
   "outputs": [
    {
     "data": {
      "text/plain": [
       "(30, 17)"
      ]
     },
     "execution_count": 110,
     "metadata": {},
     "output_type": "execute_result"
    }
   ],
   "source": [
    "data.shape"
   ]
  },
  {
   "cell_type": "code",
   "execution_count": 111,
   "metadata": {},
   "outputs": [
    {
     "data": {
      "text/plain": [
       "W      0\n",
       "R      0\n",
       "AB     0\n",
       "H      0\n",
       "2B     0\n",
       "3B     0\n",
       "HR     0\n",
       "BB     0\n",
       "SO     0\n",
       "SB     0\n",
       "RA     0\n",
       "ER     0\n",
       "ERA    0\n",
       "CG     0\n",
       "SHO    0\n",
       "SV     0\n",
       "E      0\n",
       "dtype: int64"
      ]
     },
     "execution_count": 111,
     "metadata": {},
     "output_type": "execute_result"
    }
   ],
   "source": [
    "data.isnull().sum()"
   ]
  },
  {
   "cell_type": "code",
   "execution_count": 112,
   "metadata": {},
   "outputs": [
    {
     "data": {
      "text/plain": [
       "W        int64\n",
       "R        int64\n",
       "AB       int64\n",
       "H        int64\n",
       "2B       int64\n",
       "3B       int64\n",
       "HR       int64\n",
       "BB       int64\n",
       "SO       int64\n",
       "SB       int64\n",
       "RA       int64\n",
       "ER       int64\n",
       "ERA    float64\n",
       "CG       int64\n",
       "SHO      int64\n",
       "SV       int64\n",
       "E        int64\n",
       "dtype: object"
      ]
     },
     "execution_count": 112,
     "metadata": {},
     "output_type": "execute_result"
    }
   ],
   "source": [
    "data.dtypes"
   ]
  },
  {
   "cell_type": "code",
   "execution_count": 113,
   "metadata": {},
   "outputs": [],
   "source": [
    "data.columns=['wins','runs','at_bats','hits','doubles','triples','homeruns','walks','strikeouts','stolen_bases','runs_allowed','earned_runs','earned_run_avg','CG','shutouts','saves','error']"
   ]
  },
  {
   "cell_type": "code",
   "execution_count": 114,
   "metadata": {},
   "outputs": [
    {
     "data": {
      "text/html": [
       "<div>\n",
       "<style scoped>\n",
       "    .dataframe tbody tr th:only-of-type {\n",
       "        vertical-align: middle;\n",
       "    }\n",
       "\n",
       "    .dataframe tbody tr th {\n",
       "        vertical-align: top;\n",
       "    }\n",
       "\n",
       "    .dataframe thead th {\n",
       "        text-align: right;\n",
       "    }\n",
       "</style>\n",
       "<table border=\"1\" class=\"dataframe\">\n",
       "  <thead>\n",
       "    <tr style=\"text-align: right;\">\n",
       "      <th></th>\n",
       "      <th>wins</th>\n",
       "      <th>runs</th>\n",
       "      <th>at_bats</th>\n",
       "      <th>hits</th>\n",
       "      <th>doubles</th>\n",
       "      <th>triples</th>\n",
       "      <th>homeruns</th>\n",
       "      <th>walks</th>\n",
       "      <th>strikeouts</th>\n",
       "      <th>stolen_bases</th>\n",
       "      <th>runs_allowed</th>\n",
       "      <th>earned_runs</th>\n",
       "      <th>earned_run_avg</th>\n",
       "      <th>CG</th>\n",
       "      <th>shutouts</th>\n",
       "      <th>saves</th>\n",
       "      <th>error</th>\n",
       "    </tr>\n",
       "  </thead>\n",
       "  <tbody>\n",
       "    <tr>\n",
       "      <th>0</th>\n",
       "      <td>95</td>\n",
       "      <td>724</td>\n",
       "      <td>5575</td>\n",
       "      <td>1497</td>\n",
       "      <td>300</td>\n",
       "      <td>42</td>\n",
       "      <td>139</td>\n",
       "      <td>383</td>\n",
       "      <td>973</td>\n",
       "      <td>104</td>\n",
       "      <td>641</td>\n",
       "      <td>601</td>\n",
       "      <td>3.73</td>\n",
       "      <td>2</td>\n",
       "      <td>8</td>\n",
       "      <td>56</td>\n",
       "      <td>88</td>\n",
       "    </tr>\n",
       "    <tr>\n",
       "      <th>1</th>\n",
       "      <td>83</td>\n",
       "      <td>696</td>\n",
       "      <td>5467</td>\n",
       "      <td>1349</td>\n",
       "      <td>277</td>\n",
       "      <td>44</td>\n",
       "      <td>156</td>\n",
       "      <td>439</td>\n",
       "      <td>1264</td>\n",
       "      <td>70</td>\n",
       "      <td>700</td>\n",
       "      <td>653</td>\n",
       "      <td>4.07</td>\n",
       "      <td>2</td>\n",
       "      <td>12</td>\n",
       "      <td>45</td>\n",
       "      <td>86</td>\n",
       "    </tr>\n",
       "    <tr>\n",
       "      <th>2</th>\n",
       "      <td>81</td>\n",
       "      <td>669</td>\n",
       "      <td>5439</td>\n",
       "      <td>1395</td>\n",
       "      <td>303</td>\n",
       "      <td>29</td>\n",
       "      <td>141</td>\n",
       "      <td>533</td>\n",
       "      <td>1157</td>\n",
       "      <td>86</td>\n",
       "      <td>640</td>\n",
       "      <td>584</td>\n",
       "      <td>3.67</td>\n",
       "      <td>11</td>\n",
       "      <td>10</td>\n",
       "      <td>38</td>\n",
       "      <td>79</td>\n",
       "    </tr>\n",
       "    <tr>\n",
       "      <th>3</th>\n",
       "      <td>76</td>\n",
       "      <td>622</td>\n",
       "      <td>5533</td>\n",
       "      <td>1381</td>\n",
       "      <td>260</td>\n",
       "      <td>27</td>\n",
       "      <td>136</td>\n",
       "      <td>404</td>\n",
       "      <td>1231</td>\n",
       "      <td>68</td>\n",
       "      <td>701</td>\n",
       "      <td>643</td>\n",
       "      <td>3.98</td>\n",
       "      <td>7</td>\n",
       "      <td>9</td>\n",
       "      <td>37</td>\n",
       "      <td>101</td>\n",
       "    </tr>\n",
       "    <tr>\n",
       "      <th>4</th>\n",
       "      <td>74</td>\n",
       "      <td>689</td>\n",
       "      <td>5605</td>\n",
       "      <td>1515</td>\n",
       "      <td>289</td>\n",
       "      <td>49</td>\n",
       "      <td>151</td>\n",
       "      <td>455</td>\n",
       "      <td>1259</td>\n",
       "      <td>83</td>\n",
       "      <td>803</td>\n",
       "      <td>746</td>\n",
       "      <td>4.64</td>\n",
       "      <td>7</td>\n",
       "      <td>12</td>\n",
       "      <td>35</td>\n",
       "      <td>86</td>\n",
       "    </tr>\n",
       "  </tbody>\n",
       "</table>\n",
       "</div>"
      ],
      "text/plain": [
       "   wins  runs  at_bats  hits  doubles  triples  homeruns  walks  strikeouts  \\\n",
       "0    95   724     5575  1497      300       42       139    383         973   \n",
       "1    83   696     5467  1349      277       44       156    439        1264   \n",
       "2    81   669     5439  1395      303       29       141    533        1157   \n",
       "3    76   622     5533  1381      260       27       136    404        1231   \n",
       "4    74   689     5605  1515      289       49       151    455        1259   \n",
       "\n",
       "   stolen_bases  runs_allowed  earned_runs  earned_run_avg  CG  shutouts  \\\n",
       "0           104           641          601            3.73   2         8   \n",
       "1            70           700          653            4.07   2        12   \n",
       "2            86           640          584            3.67  11        10   \n",
       "3            68           701          643            3.98   7         9   \n",
       "4            83           803          746            4.64   7        12   \n",
       "\n",
       "   saves  error  \n",
       "0     56     88  \n",
       "1     45     86  \n",
       "2     38     79  \n",
       "3     37    101  \n",
       "4     35     86  "
      ]
     },
     "execution_count": 114,
     "metadata": {},
     "output_type": "execute_result"
    }
   ],
   "source": [
    "data.head()"
   ]
  },
  {
   "cell_type": "code",
   "execution_count": 115,
   "metadata": {},
   "outputs": [
    {
     "data": {
      "text/plain": [
       "wins              0.047089\n",
       "runs              1.200786\n",
       "at_bats           0.183437\n",
       "hits              0.670254\n",
       "doubles          -0.230650\n",
       "triples           0.129502\n",
       "homeruns          0.516441\n",
       "walks             0.158498\n",
       "strikeouts       -0.156065\n",
       "stolen_bases      0.479893\n",
       "runs_allowed      0.045734\n",
       "earned_runs       0.058710\n",
       "earned_run_avg    0.053331\n",
       "CG                0.736845\n",
       "shutouts          0.565790\n",
       "saves             0.657524\n",
       "error             0.890132\n",
       "dtype: float64"
      ]
     },
     "execution_count": 115,
     "metadata": {},
     "output_type": "execute_result"
    }
   ],
   "source": [
    "data.skew()"
   ]
  },
  {
   "cell_type": "code",
   "execution_count": 116,
   "metadata": {},
   "outputs": [],
   "source": [
    "data1=data"
   ]
  },
  {
   "cell_type": "code",
   "execution_count": 117,
   "metadata": {},
   "outputs": [],
   "source": [
    "for col in data.columns:\n",
    "    if data.skew().loc[col]>0.55:\n",
    "        data1[col]=np.sqrt(data1[col])"
   ]
  },
  {
   "cell_type": "code",
   "execution_count": 118,
   "metadata": {},
   "outputs": [
    {
     "data": {
      "text/plain": [
       "wins              0.047089\n",
       "runs              0.968676\n",
       "at_bats           0.183437\n",
       "hits              0.649567\n",
       "doubles          -0.230650\n",
       "triples           0.129502\n",
       "homeruns          0.516441\n",
       "walks             0.158498\n",
       "strikeouts       -0.156065\n",
       "stolen_bases      0.479893\n",
       "runs_allowed      0.045734\n",
       "earned_runs       0.058710\n",
       "earned_run_avg    0.053331\n",
       "CG               -0.311476\n",
       "shutouts         -0.061761\n",
       "saves             0.410288\n",
       "error             0.763487\n",
       "dtype: float64"
      ]
     },
     "execution_count": 118,
     "metadata": {},
     "output_type": "execute_result"
    }
   ],
   "source": [
    "data1.skew()"
   ]
  },
  {
   "cell_type": "code",
   "execution_count": 119,
   "metadata": {},
   "outputs": [],
   "source": [
    "for col in data1.columns:\n",
    "    if data1.skew().loc[col]>0.55:\n",
    "        data1[col]=np.sqrt(data1[col])"
   ]
  },
  {
   "cell_type": "code",
   "execution_count": 120,
   "metadata": {},
   "outputs": [
    {
     "data": {
      "text/plain": [
       "wins              0.047089\n",
       "runs              0.855443\n",
       "at_bats           0.183437\n",
       "hits              0.639101\n",
       "doubles          -0.230650\n",
       "triples           0.129502\n",
       "homeruns          0.516441\n",
       "walks             0.158498\n",
       "strikeouts       -0.156065\n",
       "stolen_bases      0.479893\n",
       "runs_allowed      0.045734\n",
       "earned_runs       0.058710\n",
       "earned_run_avg    0.053331\n",
       "CG               -0.311476\n",
       "shutouts         -0.061761\n",
       "saves             0.410288\n",
       "error             0.697584\n",
       "dtype: float64"
      ]
     },
     "execution_count": 120,
     "metadata": {},
     "output_type": "execute_result"
    }
   ],
   "source": [
    "data1.skew()"
   ]
  },
  {
   "cell_type": "code",
   "execution_count": 121,
   "metadata": {},
   "outputs": [
    {
     "data": {
      "text/plain": [
       "<matplotlib.axes._subplots.AxesSubplot at 0x18053d4da20>"
      ]
     },
     "execution_count": 121,
     "metadata": {},
     "output_type": "execute_result"
    },
    {
     "data": {
      "image/png": "[encoded data removed]",
      "text/plain": [
       "<Figure size 432x288 with 1 Axes>"
      ]
     },
     "metadata": {
      "needs_background": "light"
     },
     "output_type": "display_data"
    }
   ],
   "source": [
    "sns.boxplot(x=data1.wins)"
   ]
  },
  {
   "cell_type": "code",
   "execution_count": 122,
   "metadata": {},
   "outputs": [
    {
     "data": {
      "text/plain": [
       "<matplotlib.axes._subplots.AxesSubplot at 0x18054d8b160>"
      ]
     },
     "execution_count": 122,
     "metadata": {},
     "output_type": "execute_result"
    },
    {
     "data": {
      "image/png": "[encoded data removed]",
      "text/plain": [
       "<Figure size 432x288 with 1 Axes>"
      ]
     },
     "metadata": {
      "needs_background": "light"
     },
     "output_type": "display_data"
    }
   ],
   "source": [
    "sns.boxplot(x=data1.runs)"
   ]
  },
  {
   "cell_type": "code",
   "execution_count": 123,
   "metadata": {},
   "outputs": [],
   "source": [
    "data1=data1[data1['runs']<5.4]"
   ]
  },
  {
   "cell_type": "code",
   "execution_count": 124,
   "metadata": {},
   "outputs": [
    {
     "data": {
      "text/plain": [
       "<matplotlib.axes._subplots.AxesSubplot at 0x18053d4dcc0>"
      ]
     },
     "execution_count": 124,
     "metadata": {},
     "output_type": "execute_result"
    },
    {
     "data": {
      "image/png": "[encoded data removed]",
      "text/plain": [
       "<Figure size 432x288 with 1 Axes>"
      ]
     },
     "metadata": {
      "needs_background": "light"
     },
     "output_type": "display_data"
    }
   ],
   "source": [
    "sns.boxplot(x=data1.runs)"
   ]
  },
  {
   "cell_type": "code",
   "execution_count": 125,
   "metadata": {},
   "outputs": [
    {
     "data": {
      "text/plain": [
       "<matplotlib.axes._subplots.AxesSubplot at 0x18054e5c940>"
      ]
     },
     "execution_count": 125,
     "metadata": {},
     "output_type": "execute_result"
    },
    {
     "data": {
      "image/png": "[encoded data removed]",
      "text/plain": [
       "<Figure size 432x288 with 1 Axes>"
      ]
     },
     "metadata": {
      "needs_background": "light"
     },
     "output_type": "display_data"
    }
   ],
   "source": [
    "sns.boxplot(x=data1.at_bats)"
   ]
  },
  {
   "cell_type": "code",
   "execution_count": 126,
   "metadata": {},
   "outputs": [
    {
     "data": {
      "text/plain": [
       "<matplotlib.axes._subplots.AxesSubplot at 0x18054ebef60>"
      ]
     },
     "execution_count": 126,
     "metadata": {},
     "output_type": "execute_result"
    },
    {
     "data": {
      "image/png": "[encoded data removed]",
      "text/plain": [
       "<Figure size 432x288 with 1 Axes>"
      ]
     },
     "metadata": {
      "needs_background": "light"
     },
     "output_type": "display_data"
    }
   ],
   "source": [
    "sns.boxplot(x=data1.hits)"
   ]
  },
  {
   "cell_type": "code",
   "execution_count": 127,
   "metadata": {},
   "outputs": [],
   "source": [
    "data1=data1[data1['hits']<6.16]"
   ]
  },
  {
   "cell_type": "code",
   "execution_count": 128,
   "metadata": {},
   "outputs": [
    {
     "data": {
      "text/plain": [
       "<matplotlib.axes._subplots.AxesSubplot at 0x18054f17390>"
      ]
     },
     "execution_count": 128,
     "metadata": {},
     "output_type": "execute_result"
    },
    {
     "data": {
      "image/png": "[encoded data removed]",
      "text/plain": [
       "<Figure size 432x288 with 1 Axes>"
      ]
     },
     "metadata": {
      "needs_background": "light"
     },
     "output_type": "display_data"
    }
   ],
   "source": [
    "sns.boxplot(x=data1.hits)"
   ]
  },
  {
   "cell_type": "code",
   "execution_count": 129,
   "metadata": {},
   "outputs": [
    {
     "data": {
      "text/plain": [
       "<matplotlib.axes._subplots.AxesSubplot at 0x18054f836d8>"
      ]
     },
     "execution_count": 129,
     "metadata": {},
     "output_type": "execute_result"
    },
    {
     "data": {
      "image/png": "[encoded data removed]",
      "text/plain": [
       "<Figure size 432x288 with 1 Axes>"
      ]
     },
     "metadata": {
      "needs_background": "light"
     },
     "output_type": "display_data"
    }
   ],
   "source": [
    "sns.boxplot(x=data1.doubles)"
   ]
  },
  {
   "cell_type": "code",
   "execution_count": 130,
   "metadata": {},
   "outputs": [
    {
     "data": {
      "text/plain": [
       "<matplotlib.axes._subplots.AxesSubplot at 0x18054f6f780>"
      ]
     },
     "execution_count": 130,
     "metadata": {},
     "output_type": "execute_result"
    },
    {
     "data": {
      "image/png": "[encoded data removed]",
      "text/plain": [
       "<Figure size 432x288 with 1 Axes>"
      ]
     },
     "metadata": {
      "needs_background": "light"
     },
     "output_type": "display_data"
    }
   ],
   "source": [
    "sns.boxplot(x=data1.triples)"
   ]
  },
  {
   "cell_type": "code",
   "execution_count": 131,
   "metadata": {},
   "outputs": [
    {
     "data": {
      "text/plain": [
       "<matplotlib.axes._subplots.AxesSubplot at 0x1805505d748>"
      ]
     },
     "execution_count": 131,
     "metadata": {},
     "output_type": "execute_result"
    },
    {
     "data": {
      "image/png": "[encoded data removed]",
      "text/plain": [
       "<Figure size 432x288 with 1 Axes>"
      ]
     },
     "metadata": {
      "needs_background": "light"
     },
     "output_type": "display_data"
    }
   ],
   "source": [
    "sns.boxplot(x=data1.homeruns)"
   ]
  },
  {
   "cell_type": "code",
   "execution_count": 132,
   "metadata": {},
   "outputs": [],
   "source": [
    "data1=data1[data1['homeruns']<230]"
   ]
  },
  {
   "cell_type": "code",
   "execution_count": 133,
   "metadata": {},
   "outputs": [
    {
     "data": {
      "text/plain": [
       "<matplotlib.axes._subplots.AxesSubplot at 0x180550ad710>"
      ]
     },
     "execution_count": 133,
     "metadata": {},
     "output_type": "execute_result"
    },
    {
     "data": {
      "image/png": "[encoded data removed]",
      "text/plain": [
       "<Figure size 432x288 with 1 Axes>"
      ]
     },
     "metadata": {
      "needs_background": "light"
     },
     "output_type": "display_data"
    }
   ],
   "source": [
    "sns.boxplot(x=data1.homeruns)"
   ]
  },
  {
   "cell_type": "code",
   "execution_count": 134,
   "metadata": {},
   "outputs": [
    {
     "data": {
      "text/plain": [
       "<matplotlib.axes._subplots.AxesSubplot at 0x180551199b0>"
      ]
     },
     "execution_count": 134,
     "metadata": {},
     "output_type": "execute_result"
    },
    {
     "data": {
      "image/png": "[encoded data removed]",
      "text/plain": [
       "<Figure size 432x288 with 1 Axes>"
      ]
     },
     "metadata": {
      "needs_background": "light"
     },
     "output_type": "display_data"
    }
   ],
   "source": [
    "sns.boxplot(x=data1.walks)"
   ]
  },
  {
   "cell_type": "code",
   "execution_count": 135,
   "metadata": {},
   "outputs": [
    {
     "data": {
      "text/plain": [
       "<matplotlib.axes._subplots.AxesSubplot at 0x180551809e8>"
      ]
     },
     "execution_count": 135,
     "metadata": {},
     "output_type": "execute_result"
    },
    {
     "data": {
      "image/png": "[encoded data removed]",
      "text/plain": [
       "<Figure size 432x288 with 1 Axes>"
      ]
     },
     "metadata": {
      "needs_background": "light"
     },
     "output_type": "display_data"
    }
   ],
   "source": [
    "sns.boxplot(x=data1.strikeouts)"
   ]
  },
  {
   "cell_type": "code",
   "execution_count": 136,
   "metadata": {},
   "outputs": [],
   "source": [
    "data1=data1[data1.strikeouts<1450]"
   ]
  },
  {
   "cell_type": "code",
   "execution_count": 137,
   "metadata": {},
   "outputs": [
    {
     "data": {
      "text/plain": [
       "<matplotlib.axes._subplots.AxesSubplot at 0x180551ec390>"
      ]
     },
     "execution_count": 137,
     "metadata": {},
     "output_type": "execute_result"
    },
    {
     "data": {
      "image/png": "[encoded data removed]",
      "text/plain": [
       "<Figure size 432x288 with 1 Axes>"
      ]
     },
     "metadata": {
      "needs_background": "light"
     },
     "output_type": "display_data"
    }
   ],
   "source": [
    "sns.boxplot(x=data1.strikeouts)"
   ]
  },
  {
   "cell_type": "code",
   "execution_count": 138,
   "metadata": {},
   "outputs": [
    {
     "data": {
      "text/plain": [
       "<matplotlib.axes._subplots.AxesSubplot at 0x1805524e630>"
      ]
     },
     "execution_count": 138,
     "metadata": {},
     "output_type": "execute_result"
    },
    {
     "data": {
      "image/png": "[encoded data removed]",
      "text/plain": [
       "<Figure size 432x288 with 1 Axes>"
      ]
     },
     "metadata": {
      "needs_background": "light"
     },
     "output_type": "display_data"
    }
   ],
   "source": [
    "sns.boxplot(x=data1.stolen_bases)"
   ]
  },
  {
   "cell_type": "code",
   "execution_count": 139,
   "metadata": {},
   "outputs": [],
   "source": [
    "data1=data1[data1.stolen_bases<130]"
   ]
  },
  {
   "cell_type": "code",
   "execution_count": 140,
   "metadata": {},
   "outputs": [
    {
     "data": {
      "text/plain": [
       "<matplotlib.axes._subplots.AxesSubplot at 0x180552a9160>"
      ]
     },
     "execution_count": 140,
     "metadata": {},
     "output_type": "execute_result"
    },
    {
     "data": {
      "image/png": "[encoded data removed]",
      "text/plain": [
       "<Figure size 432x288 with 1 Axes>"
      ]
     },
     "metadata": {
      "needs_background": "light"
     },
     "output_type": "display_data"
    }
   ],
   "source": [
    "sns.boxplot(x=data1.stolen_bases)"
   ]
  },
  {
   "cell_type": "code",
   "execution_count": 141,
   "metadata": {},
   "outputs": [
    {
     "data": {
      "text/plain": [
       "<matplotlib.axes._subplots.AxesSubplot at 0x1805530dc18>"
      ]
     },
     "execution_count": 141,
     "metadata": {},
     "output_type": "execute_result"
    },
    {
     "data": {
      "image/png": "[encoded data removed]",
      "text/plain": [
       "<Figure size 432x288 with 1 Axes>"
      ]
     },
     "metadata": {
      "needs_background": "light"
     },
     "output_type": "display_data"
    }
   ],
   "source": [
    "sns.boxplot(x=data1.runs_allowed)"
   ]
  },
  {
   "cell_type": "code",
   "execution_count": 142,
   "metadata": {},
   "outputs": [
    {
     "data": {
      "text/plain": [
       "<matplotlib.axes._subplots.AxesSubplot at 0x18055351588>"
      ]
     },
     "execution_count": 142,
     "metadata": {},
     "output_type": "execute_result"
    },
    {
     "data": {
      "image/png": "[encoded data removed]",
      "text/plain": [
       "<Figure size 432x288 with 1 Axes>"
      ]
     },
     "metadata": {
      "needs_background": "light"
     },
     "output_type": "display_data"
    }
   ],
   "source": [
    "sns.boxplot(x=data1.earned_runs)"
   ]
  },
  {
   "cell_type": "code",
   "execution_count": 143,
   "metadata": {},
   "outputs": [],
   "source": [
    "data1=data1[data1.earned_runs>500]"
   ]
  },
  {
   "cell_type": "code",
   "execution_count": 144,
   "metadata": {},
   "outputs": [
    {
     "data": {
      "text/plain": [
       "<matplotlib.axes._subplots.AxesSubplot at 0x180553c5e80>"
      ]
     },
     "execution_count": 144,
     "metadata": {},
     "output_type": "execute_result"
    },
    {
     "data": {
      "image/png": "[encoded data removed]",
      "text/plain": [
       "<Figure size 432x288 with 1 Axes>"
      ]
     },
     "metadata": {
      "needs_background": "light"
     },
     "output_type": "display_data"
    }
   ],
   "source": [
    "sns.boxplot(x=data1.earned_runs)"
   ]
  },
  {
   "cell_type": "code",
   "execution_count": 145,
   "metadata": {},
   "outputs": [
    {
     "data": {
      "text/plain": [
       "<matplotlib.axes._subplots.AxesSubplot at 0x1805542f588>"
      ]
     },
     "execution_count": 145,
     "metadata": {},
     "output_type": "execute_result"
    },
    {
     "data": {
      "image/png": "[encoded data removed]",
      "text/plain": [
       "<Figure size 432x288 with 1 Axes>"
      ]
     },
     "metadata": {
      "needs_background": "light"
     },
     "output_type": "display_data"
    }
   ],
   "source": [
    "sns.boxplot(x=data1.earned_run_avg)"
   ]
  },
  {
   "cell_type": "code",
   "execution_count": 146,
   "metadata": {},
   "outputs": [
    {
     "data": {
      "text/plain": [
       "<matplotlib.axes._subplots.AxesSubplot at 0x18055492780>"
      ]
     },
     "execution_count": 146,
     "metadata": {},
     "output_type": "execute_result"
    },
    {
     "data": {
      "image/png": "[encoded data removed]",
      "text/plain": [
       "<Figure size 432x288 with 1 Axes>"
      ]
     },
     "metadata": {
      "needs_background": "light"
     },
     "output_type": "display_data"
    }
   ],
   "source": [
    "sns.boxplot(x=data1.CG)"
   ]
  },
  {
   "cell_type": "code",
   "execution_count": 147,
   "metadata": {},
   "outputs": [
    {
     "data": {
      "text/plain": [
       "<matplotlib.axes._subplots.AxesSubplot at 0x180554f3c18>"
      ]
     },
     "execution_count": 147,
     "metadata": {},
     "output_type": "execute_result"
    },
    {
     "data": {
      "image/png": "[encoded data removed]",
      "text/plain": [
       "<Figure size 432x288 with 1 Axes>"
      ]
     },
     "metadata": {
      "needs_background": "light"
     },
     "output_type": "display_data"
    }
   ],
   "source": [
    "sns.boxplot(x=data1.shutouts)"
   ]
  },
  {
   "cell_type": "code",
   "execution_count": 148,
   "metadata": {},
   "outputs": [],
   "source": [
    "data1=data1[(data1.shutouts>2.5)&(data1.shutouts<4)]"
   ]
  },
  {
   "cell_type": "code",
   "execution_count": 149,
   "metadata": {},
   "outputs": [
    {
     "data": {
      "text/plain": [
       "<matplotlib.axes._subplots.AxesSubplot at 0x1805554bc50>"
      ]
     },
     "execution_count": 149,
     "metadata": {},
     "output_type": "execute_result"
    },
    {
     "data": {
      "image/png": "[encoded data removed]",
      "text/plain": [
       "<Figure size 432x288 with 1 Axes>"
      ]
     },
     "metadata": {
      "needs_background": "light"
     },
     "output_type": "display_data"
    }
   ],
   "source": [
    "sns.boxplot(x=data1.shutouts)"
   ]
  },
  {
   "cell_type": "code",
   "execution_count": 150,
   "metadata": {},
   "outputs": [
    {
     "data": {
      "text/plain": [
       "<matplotlib.axes._subplots.AxesSubplot at 0x180555b8dd8>"
      ]
     },
     "execution_count": 150,
     "metadata": {},
     "output_type": "execute_result"
    },
    {
     "data": {
      "image/png": "[encoded data removed]",
      "text/plain": [
       "<Figure size 432x288 with 1 Axes>"
      ]
     },
     "metadata": {
      "needs_background": "light"
     },
     "output_type": "display_data"
    }
   ],
   "source": [
    "sns.boxplot(x=data1.saves)"
   ]
  },
  {
   "cell_type": "code",
   "execution_count": 151,
   "metadata": {},
   "outputs": [],
   "source": [
    "data1=data1[data1.saves<7.5]"
   ]
  },
  {
   "cell_type": "code",
   "execution_count": 152,
   "metadata": {},
   "outputs": [
    {
     "data": {
      "text/plain": [
       "<matplotlib.axes._subplots.AxesSubplot at 0x18055613048>"
      ]
     },
     "execution_count": 152,
     "metadata": {},
     "output_type": "execute_result"
    },
    {
     "data": {
      "image/png": "[encoded data removed]",
      "text/plain": [
       "<Figure size 432x288 with 1 Axes>"
      ]
     },
     "metadata": {
      "needs_background": "light"
     },
     "output_type": "display_data"
    }
   ],
   "source": [
    "sns.boxplot(x=data1.saves)"
   ]
  },
  {
   "cell_type": "code",
   "execution_count": 153,
   "metadata": {},
   "outputs": [
    {
     "data": {
      "text/plain": [
       "<matplotlib.axes._subplots.AxesSubplot at 0x1805663f5c0>"
      ]
     },
     "execution_count": 153,
     "metadata": {},
     "output_type": "execute_result"
    },
    {
     "data": {
      "image/png": "[encoded data removed]",
      "text/plain": [
       "<Figure size 432x288 with 1 Axes>"
      ]
     },
     "metadata": {
      "needs_background": "light"
     },
     "output_type": "display_data"
    }
   ],
   "source": [
    "sns.boxplot(x=data1.error)"
   ]
  },
  {
   "cell_type": "code",
   "execution_count": 154,
   "metadata": {},
   "outputs": [
    {
     "data": {
      "text/plain": [
       "<matplotlib.axes._subplots.AxesSubplot at 0x180566b4e80>"
      ]
     },
     "execution_count": 154,
     "metadata": {},
     "output_type": "execute_result"
    },
    {
     "data": {
      "image/png": "[encoded data removed]",
      "text/plain": [
       "<Figure size 432x288 with 1 Axes>"
      ]
     },
     "metadata": {
      "needs_background": "light"
     },
     "output_type": "display_data"
    }
   ],
   "source": [
    "sns.distplot(data1.runs,bins=5)"
   ]
  },
  {
   "cell_type": "code",
   "execution_count": 155,
   "metadata": {},
   "outputs": [
    {
     "data": {
      "text/plain": [
       "<matplotlib.axes._subplots.AxesSubplot at 0x1805670d400>"
      ]
     },
     "execution_count": 155,
     "metadata": {},
     "output_type": "execute_result"
    },
    {
     "data": {
      "image/png": "[encoded data removed]",
      "text/plain": [
       "<Figure size 432x288 with 1 Axes>"
      ]
     },
     "metadata": {
      "needs_background": "light"
     },
     "output_type": "display_data"
    }
   ],
   "source": [
    "sns.distplot(data1.at_bats,bins=5)"
   ]
  },
  {
   "cell_type": "code",
   "execution_count": 156,
   "metadata": {},
   "outputs": [
    {
     "data": {
      "text/plain": [
       "Index(['wins', 'runs', 'at_bats', 'hits', 'doubles', 'triples', 'homeruns',\n",
       "       'walks', 'strikeouts', 'stolen_bases', 'runs_allowed', 'earned_runs',\n",
       "       'earned_run_avg', 'CG', 'shutouts', 'saves', 'error'],\n",
       "      dtype='object')"
      ]
     },
     "execution_count": 156,
     "metadata": {},
     "output_type": "execute_result"
    }
   ],
   "source": [
    "data1.columns"
   ]
  },
  {
   "cell_type": "code",
   "execution_count": 157,
   "metadata": {},
   "outputs": [
    {
     "data": {
      "text/plain": [
       "<matplotlib.axes._subplots.AxesSubplot at 0x18056783080>"
      ]
     },
     "execution_count": 157,
     "metadata": {},
     "output_type": "execute_result"
    },
    {
     "data": {
      "image/png": "[encoded data removed]",
      "text/plain": [
       "<Figure size 432x288 with 1 Axes>"
      ]
     },
     "metadata": {
      "needs_background": "light"
     },
     "output_type": "display_data"
    }
   ],
   "source": [
    "sns.distplot(data1.hits,bins=10)"
   ]
  },
  {
   "cell_type": "code",
   "execution_count": 158,
   "metadata": {},
   "outputs": [
    {
     "data": {
      "text/plain": [
       "<matplotlib.axes._subplots.AxesSubplot at 0x18056837908>"
      ]
     },
     "execution_count": 158,
     "metadata": {},
     "output_type": "execute_result"
    },
    {
     "data": {
      "image/png": "[encoded data removed]",
      "text/plain": [
       "<Figure size 432x288 with 1 Axes>"
      ]
     },
     "metadata": {
      "needs_background": "light"
     },
     "output_type": "display_data"
    }
   ],
   "source": [
    "sns.distplot(data1.doubles,bins=10)"
   ]
  },
  {
   "cell_type": "code",
   "execution_count": 159,
   "metadata": {},
   "outputs": [
    {
     "data": {
      "text/plain": [
       "<matplotlib.axes._subplots.AxesSubplot at 0x180568b39e8>"
      ]
     },
     "execution_count": 159,
     "metadata": {},
     "output_type": "execute_result"
    },
    {
     "data": {
      "image/png": "[encoded data removed]",
      "text/plain": [
       "<Figure size 432x288 with 1 Axes>"
      ]
     },
     "metadata": {
      "needs_background": "light"
     },
     "output_type": "display_data"
    }
   ],
   "source": [
    "sns.distplot(data1.triples,bins=10)"
   ]
  },
  {
   "cell_type": "code",
   "execution_count": 160,
   "metadata": {},
   "outputs": [
    {
     "data": {
      "text/plain": [
       "<matplotlib.axes._subplots.AxesSubplot at 0x180568b82b0>"
      ]
     },
     "execution_count": 160,
     "metadata": {},
     "output_type": "execute_result"
    },
    {
     "data": {
      "image/png": "[encoded data removed]",
      "text/plain": [
       "<Figure size 432x288 with 1 Axes>"
      ]
     },
     "metadata": {
      "needs_background": "light"
     },
     "output_type": "display_data"
    }
   ],
   "source": [
    "sns.distplot(data1.homeruns,bins=10)"
   ]
  },
  {
   "cell_type": "code",
   "execution_count": 161,
   "metadata": {},
   "outputs": [
    {
     "data": {
      "text/plain": [
       "<matplotlib.axes._subplots.AxesSubplot at 0x180569b0cc0>"
      ]
     },
     "execution_count": 161,
     "metadata": {},
     "output_type": "execute_result"
    },
    {
     "data": {
      "image/png": "[encoded data removed]",
      "text/plain": [
       "<Figure size 432x288 with 1 Axes>"
      ]
     },
     "metadata": {
      "needs_background": "light"
     },
     "output_type": "display_data"
    }
   ],
   "source": [
    "sns.distplot(data1.walks,bins=10)"
   ]
  },
  {
   "cell_type": "code",
   "execution_count": 162,
   "metadata": {},
   "outputs": [
    {
     "data": {
      "text/plain": [
       "<matplotlib.axes._subplots.AxesSubplot at 0x18056a31eb8>"
      ]
     },
     "execution_count": 162,
     "metadata": {},
     "output_type": "execute_result"
    },
    {
     "data": {
      "image/png": "[encoded data removed]",
      "text/plain": [
       "<Figure size 432x288 with 1 Axes>"
      ]
     },
     "metadata": {
      "needs_background": "light"
     },
     "output_type": "display_data"
    }
   ],
   "source": [
    "sns.distplot(data1.strikeouts,bins=10)"
   ]
  },
  {
   "cell_type": "code",
   "execution_count": 163,
   "metadata": {},
   "outputs": [
    {
     "data": {
      "text/plain": [
       "<matplotlib.axes._subplots.AxesSubplot at 0x18056a9b0f0>"
      ]
     },
     "execution_count": 163,
     "metadata": {},
     "output_type": "execute_result"
    },
    {
     "data": {
      "image/png": "[encoded data removed]",
      "text/plain": [
       "<Figure size 432x288 with 1 Axes>"
      ]
     },
     "metadata": {
      "needs_background": "light"
     },
     "output_type": "display_data"
    }
   ],
   "source": [
    "sns.distplot(data1.stolen_bases,bins=10)"
   ]
  },
  {
   "cell_type": "code",
   "execution_count": 164,
   "metadata": {},
   "outputs": [
    {
     "data": {
      "text/plain": [
       "<matplotlib.axes._subplots.AxesSubplot at 0x18056b30208>"
      ]
     },
     "execution_count": 164,
     "metadata": {},
     "output_type": "execute_result"
    },
    {
     "data": {
      "image/png": "[encoded data removed]",
      "text/plain": [
       "<Figure size 432x288 with 1 Axes>"
      ]
     },
     "metadata": {
      "needs_background": "light"
     },
     "output_type": "display_data"
    }
   ],
   "source": [
    "sns.distplot(data1.runs_allowed,bins=10)"
   ]
  },
  {
   "cell_type": "code",
   "execution_count": 165,
   "metadata": {},
   "outputs": [
    {
     "data": {
      "text/plain": [
       "<matplotlib.axes._subplots.AxesSubplot at 0x18056bb96d8>"
      ]
     },
     "execution_count": 165,
     "metadata": {},
     "output_type": "execute_result"
    },
    {
     "data": {
      "image/png": "[encoded data removed]",
      "text/plain": [
       "<Figure size 432x288 with 1 Axes>"
      ]
     },
     "metadata": {
      "needs_background": "light"
     },
     "output_type": "display_data"
    }
   ],
   "source": [
    "sns.distplot(data1.earned_runs,bins=10)"
   ]
  },
  {
   "cell_type": "code",
   "execution_count": 166,
   "metadata": {},
   "outputs": [
    {
     "data": {
      "text/plain": [
       "<matplotlib.axes._subplots.AxesSubplot at 0x18056c31ef0>"
      ]
     },
     "execution_count": 166,
     "metadata": {},
     "output_type": "execute_result"
    },
    {
     "data": {
      "image/png": "[encoded data removed]",
      "text/plain": [
       "<Figure size 432x288 with 1 Axes>"
      ]
     },
     "metadata": {
      "needs_background": "light"
     },
     "output_type": "display_data"
    }
   ],
   "source": [
    "sns.distplot(data1.earned_run_avg,bins=10)"
   ]
  },
  {
   "cell_type": "code",
   "execution_count": 167,
   "metadata": {},
   "outputs": [
    {
     "data": {
      "text/plain": [
       "<matplotlib.axes._subplots.AxesSubplot at 0x18056cb0e48>"
      ]
     },
     "execution_count": 167,
     "metadata": {},
     "output_type": "execute_result"
    },
    {
     "data": {
      "image/png": "[encoded data removed]",
      "text/plain": [
       "<Figure size 432x288 with 1 Axes>"
      ]
     },
     "metadata": {
      "needs_background": "light"
     },
     "output_type": "display_data"
    }
   ],
   "source": [
    "sns.distplot(data1.CG,bins=5)"
   ]
  },
  {
   "cell_type": "code",
   "execution_count": 168,
   "metadata": {},
   "outputs": [
    {
     "data": {
      "text/plain": [
       "<matplotlib.axes._subplots.AxesSubplot at 0x18056d26710>"
      ]
     },
     "execution_count": 168,
     "metadata": {},
     "output_type": "execute_result"
    },
    {
     "data": {
      "image/png": "[encoded data removed]",
      "text/plain": [
       "<Figure size 432x288 with 1 Axes>"
      ]
     },
     "metadata": {
      "needs_background": "light"
     },
     "output_type": "display_data"
    }
   ],
   "source": [
    "sns.distplot(data1.shutouts,bins=5)"
   ]
  },
  {
   "cell_type": "code",
   "execution_count": 169,
   "metadata": {},
   "outputs": [
    {
     "data": {
      "text/plain": [
       "<matplotlib.axes._subplots.AxesSubplot at 0x18056cf4f60>"
      ]
     },
     "execution_count": 169,
     "metadata": {},
     "output_type": "execute_result"
    },
    {
     "data": {
      "image/png": "[encoded data removed]",
      "text/plain": [
       "<Figure size 432x288 with 1 Axes>"
      ]
     },
     "metadata": {
      "needs_background": "light"
     },
     "output_type": "display_data"
    }
   ],
   "source": [
    "sns.distplot(data1.saves,bins=10)"
   ]
  },
  {
   "cell_type": "code",
   "execution_count": 170,
   "metadata": {},
   "outputs": [
    {
     "data": {
      "text/plain": [
       "<matplotlib.axes._subplots.AxesSubplot at 0x18056dbcef0>"
      ]
     },
     "execution_count": 170,
     "metadata": {},
     "output_type": "execute_result"
    },
    {
     "data": {
      "image/png": "[encoded data removed]",
      "text/plain": [
       "<Figure size 432x288 with 1 Axes>"
      ]
     },
     "metadata": {
      "needs_background": "light"
     },
     "output_type": "display_data"
    }
   ],
   "source": [
    "sns.distplot(data1.error,bins=5)"
   ]
  },
  {
   "cell_type": "code",
   "execution_count": 171,
   "metadata": {},
   "outputs": [
    {
     "data": {
      "text/plain": [
       "<matplotlib.collections.PathCollection at 0x18056ea49b0>"
      ]
     },
     "execution_count": 171,
     "metadata": {},
     "output_type": "execute_result"
    },
    {
     "data": {
      "image/png": "[encoded data removed]",
      "text/plain": [
       "<Figure size 432x288 with 1 Axes>"
      ]
     },
     "metadata": {
      "needs_background": "light"
     },
     "output_type": "display_data"
    }
   ],
   "source": [
    "plt.scatter(x=data1.runs,y=data1.wins)"
   ]
  },
  {
   "cell_type": "code",
   "execution_count": 172,
   "metadata": {},
   "outputs": [
    {
     "data": {
      "text/plain": [
       "<matplotlib.collections.PathCollection at 0x18056f049b0>"
      ]
     },
     "execution_count": 172,
     "metadata": {},
     "output_type": "execute_result"
    },
    {
     "data": {
      "image/png": "[encoded data removed]",
      "text/plain": [
       "<Figure size 432x288 with 1 Axes>"
      ]
     },
     "metadata": {
      "needs_background": "light"
     },
     "output_type": "display_data"
    }
   ],
   "source": [
    "plt.scatter(x=data1.at_bats,y=data1.wins)"
   ]
  },
  {
   "cell_type": "code",
   "execution_count": 173,
   "metadata": {},
   "outputs": [
    {
     "data": {
      "text/plain": [
       "Index(['wins', 'runs', 'at_bats', 'hits', 'doubles', 'triples', 'homeruns',\n",
       "       'walks', 'strikeouts', 'stolen_bases', 'runs_allowed', 'earned_runs',\n",
       "       'earned_run_avg', 'CG', 'shutouts', 'saves', 'error'],\n",
       "      dtype='object')"
      ]
     },
     "execution_count": 173,
     "metadata": {},
     "output_type": "execute_result"
    }
   ],
   "source": [
    "data1.columns"
   ]
  },
  {
   "cell_type": "code",
   "execution_count": 174,
   "metadata": {},
   "outputs": [
    {
     "data": {
      "text/plain": [
       "<matplotlib.collections.PathCollection at 0x18056f69cf8>"
      ]
     },
     "execution_count": 174,
     "metadata": {},
     "output_type": "execute_result"
    },
    {
     "data": {
      "image/png": "[encoded data removed]",
      "text/plain": [
       "<Figure size 432x288 with 1 Axes>"
      ]
     },
     "metadata": {
      "needs_background": "light"
     },
     "output_type": "display_data"
    }
   ],
   "source": [
    "plt.scatter(x=data1.hits,y=data1.wins)"
   ]
  },
  {
   "cell_type": "code",
   "execution_count": 175,
   "metadata": {},
   "outputs": [
    {
     "data": {
      "text/plain": [
       "<matplotlib.collections.PathCollection at 0x18056f1fda0>"
      ]
     },
     "execution_count": 175,
     "metadata": {},
     "output_type": "execute_result"
    },
    {
     "data": {
      "image/png": "[encoded data removed]",
      "text/plain": [
       "<Figure size 432x288 with 1 Axes>"
      ]
     },
     "metadata": {
      "needs_background": "light"
     },
     "output_type": "display_data"
    }
   ],
   "source": [
    "plt.scatter(x=data1.doubles,y=data1.wins)"
   ]
  },
  {
   "cell_type": "code",
   "execution_count": 176,
   "metadata": {},
   "outputs": [
    {
     "data": {
      "text/plain": [
       "<matplotlib.collections.PathCollection at 0x18057014a58>"
      ]
     },
     "execution_count": 176,
     "metadata": {},
     "output_type": "execute_result"
    },
    {
     "data": {
      "image/png": "[encoded data removed]",
      "text/plain": [
       "<Figure size 432x288 with 1 Axes>"
      ]
     },
     "metadata": {
      "needs_background": "light"
     },
     "output_type": "display_data"
    }
   ],
   "source": [
    "plt.scatter(x=data1.triples,y=data1.wins)"
   ]
  },
  {
   "cell_type": "code",
   "execution_count": 177,
   "metadata": {},
   "outputs": [
    {
     "data": {
      "text/plain": [
       "<matplotlib.collections.PathCollection at 0x1805803f550>"
      ]
     },
     "execution_count": 177,
     "metadata": {},
     "output_type": "execute_result"
    },
    {
     "data": {
      "image/png": "[encoded data removed]",
      "text/plain": [
       "<Figure size 432x288 with 1 Axes>"
      ]
     },
     "metadata": {
      "needs_background": "light"
     },
     "output_type": "display_data"
    }
   ],
   "source": [
    "plt.scatter(x=data1.homeruns,y=data1.wins)"
   ]
  },
  {
   "cell_type": "code",
   "execution_count": 178,
   "metadata": {},
   "outputs": [
    {
     "data": {
      "text/plain": [
       "<matplotlib.collections.PathCollection at 0x18058098fd0>"
      ]
     },
     "execution_count": 178,
     "metadata": {},
     "output_type": "execute_result"
    },
    {
     "data": {
      "image/png": "[encoded data removed]",
      "text/plain": [
       "<Figure size 432x288 with 1 Axes>"
      ]
     },
     "metadata": {
      "needs_background": "light"
     },
     "output_type": "display_data"
    }
   ],
   "source": [
    "plt.scatter(x=data1.walks,y=data1.wins)"
   ]
  },
  {
   "cell_type": "code",
   "execution_count": 179,
   "metadata": {},
   "outputs": [
    {
     "data": {
      "text/plain": [
       "<matplotlib.collections.PathCollection at 0x180580f8b00>"
      ]
     },
     "execution_count": 179,
     "metadata": {},
     "output_type": "execute_result"
    },
    {
     "data": {
      "image/png": "[encoded data removed]",
      "text/plain": [
       "<Figure size 432x288 with 1 Axes>"
      ]
     },
     "metadata": {
      "needs_background": "light"
     },
     "output_type": "display_data"
    }
   ],
   "source": [
    "plt.scatter(x=data1.strikeouts,y=data1.wins)"
   ]
  },
  {
   "cell_type": "code",
   "execution_count": 180,
   "metadata": {},
   "outputs": [
    {
     "data": {
      "text/plain": [
       "<matplotlib.collections.PathCollection at 0x1805815f160>"
      ]
     },
     "execution_count": 180,
     "metadata": {},
     "output_type": "execute_result"
    },
    {
     "data": {
      "image/png": "[encoded data removed]",
      "text/plain": [
       "<Figure size 432x288 with 1 Axes>"
      ]
     },
     "metadata": {
      "needs_background": "light"
     },
     "output_type": "display_data"
    }
   ],
   "source": [
    "plt.scatter(x=data1.stolen_bases,y=data1.wins)"
   ]
  },
  {
   "cell_type": "code",
   "execution_count": 181,
   "metadata": {},
   "outputs": [
    {
     "data": {
      "text/plain": [
       "<matplotlib.collections.PathCollection at 0x18058195c18>"
      ]
     },
     "execution_count": 181,
     "metadata": {},
     "output_type": "execute_result"
    },
    {
     "data": {
      "image/png": "[encoded data removed]",
      "text/plain": [
       "<Figure size 432x288 with 1 Axes>"
      ]
     },
     "metadata": {
      "needs_background": "light"
     },
     "output_type": "display_data"
    }
   ],
   "source": [
    "plt.scatter(x=data1.runs_allowed,y=data1.wins)"
   ]
  },
  {
   "cell_type": "code",
   "execution_count": 182,
   "metadata": {},
   "outputs": [
    {
     "data": {
      "text/plain": [
       "<matplotlib.collections.PathCollection at 0x1805821aba8>"
      ]
     },
     "execution_count": 182,
     "metadata": {},
     "output_type": "execute_result"
    },
    {
     "data": {
      "image/png": "[encoded data removed]",
      "text/plain": [
       "<Figure size 432x288 with 1 Axes>"
      ]
     },
     "metadata": {
      "needs_background": "light"
     },
     "output_type": "display_data"
    }
   ],
   "source": [
    "plt.scatter(x=data1.earned_runs,y=data1.wins)"
   ]
  },
  {
   "cell_type": "code",
   "execution_count": 183,
   "metadata": {},
   "outputs": [
    {
     "data": {
      "text/plain": [
       "<matplotlib.collections.PathCollection at 0x18058280898>"
      ]
     },
     "execution_count": 183,
     "metadata": {},
     "output_type": "execute_result"
    },
    {
     "data": {
      "image/png": "[encoded data removed]",
      "text/plain": [
       "<Figure size 432x288 with 1 Axes>"
      ]
     },
     "metadata": {
      "needs_background": "light"
     },
     "output_type": "display_data"
    }
   ],
   "source": [
    "plt.scatter(x=data1.earned_run_avg,y=data1.wins)"
   ]
  },
  {
   "cell_type": "code",
   "execution_count": 184,
   "metadata": {},
   "outputs": [
    {
     "data": {
      "text/plain": [
       "<matplotlib.collections.PathCollection at 0x180582e6320>"
      ]
     },
     "execution_count": 184,
     "metadata": {},
     "output_type": "execute_result"
    },
    {
     "data": {
      "image/png": "[encoded data removed]",
      "text/plain": [
       "<Figure size 432x288 with 1 Axes>"
      ]
     },
     "metadata": {
      "needs_background": "light"
     },
     "output_type": "display_data"
    }
   ],
   "source": [
    "plt.scatter(x=data1.CG,y=data1.wins)"
   ]
  },
  {
   "cell_type": "code",
   "execution_count": 185,
   "metadata": {},
   "outputs": [
    {
     "data": {
      "text/plain": [
       "<matplotlib.collections.PathCollection at 0x1805833ed68>"
      ]
     },
     "execution_count": 185,
     "metadata": {},
     "output_type": "execute_result"
    },
    {
     "data": {
      "image/png": "[encoded data removed]",
      "text/plain": [
       "<Figure size 432x288 with 1 Axes>"
      ]
     },
     "metadata": {
      "needs_background": "light"
     },
     "output_type": "display_data"
    }
   ],
   "source": [
    "plt.scatter(x=data1.saves,y=data1.wins)"
   ]
  },
  {
   "cell_type": "code",
   "execution_count": 186,
   "metadata": {},
   "outputs": [
    {
     "data": {
      "text/plain": [
       "<matplotlib.collections.PathCollection at 0x180583a5cc0>"
      ]
     },
     "execution_count": 186,
     "metadata": {},
     "output_type": "execute_result"
    },
    {
     "data": {
      "image/png": "[encoded data removed]",
      "text/plain": [
       "<Figure size 432x288 with 1 Axes>"
      ]
     },
     "metadata": {
      "needs_background": "light"
     },
     "output_type": "display_data"
    }
   ],
   "source": [
    "plt.scatter(x=data1.shutouts,y=data1.wins)"
   ]
  },
  {
   "cell_type": "code",
   "execution_count": 187,
   "metadata": {},
   "outputs": [
    {
     "data": {
      "text/plain": [
       "<matplotlib.collections.PathCollection at 0x180584096a0>"
      ]
     },
     "execution_count": 187,
     "metadata": {},
     "output_type": "execute_result"
    },
    {
     "data": {
      "image/png": "[encoded data removed]",
      "text/plain": [
       "<Figure size 432x288 with 1 Axes>"
      ]
     },
     "metadata": {
      "needs_background": "light"
     },
     "output_type": "display_data"
    }
   ],
   "source": [
    "plt.scatter(x=data1.error,y=data1.wins)"
   ]
  },
  {
   "cell_type": "code",
   "execution_count": 188,
   "metadata": {},
   "outputs": [
    {
     "data": {
      "text/html": [
       "<div>\n",
       "<style scoped>\n",
       "    .dataframe tbody tr th:only-of-type {\n",
       "        vertical-align: middle;\n",
       "    }\n",
       "\n",
       "    .dataframe tbody tr th {\n",
       "        vertical-align: top;\n",
       "    }\n",
       "\n",
       "    .dataframe thead th {\n",
       "        text-align: right;\n",
       "    }\n",
       "</style>\n",
       "<table border=\"1\" class=\"dataframe\">\n",
       "  <thead>\n",
       "    <tr style=\"text-align: right;\">\n",
       "      <th></th>\n",
       "      <th>wins</th>\n",
       "      <th>runs</th>\n",
       "      <th>at_bats</th>\n",
       "      <th>hits</th>\n",
       "      <th>doubles</th>\n",
       "      <th>triples</th>\n",
       "      <th>homeruns</th>\n",
       "      <th>walks</th>\n",
       "      <th>strikeouts</th>\n",
       "      <th>stolen_bases</th>\n",
       "      <th>runs_allowed</th>\n",
       "      <th>earned_runs</th>\n",
       "      <th>earned_run_avg</th>\n",
       "      <th>CG</th>\n",
       "      <th>shutouts</th>\n",
       "      <th>saves</th>\n",
       "      <th>error</th>\n",
       "    </tr>\n",
       "  </thead>\n",
       "  <tbody>\n",
       "    <tr>\n",
       "      <th>wins</th>\n",
       "      <td>1.000000</td>\n",
       "      <td>0.662941</td>\n",
       "      <td>-0.212732</td>\n",
       "      <td>-0.270156</td>\n",
       "      <td>0.255265</td>\n",
       "      <td>-0.412631</td>\n",
       "      <td>0.632546</td>\n",
       "      <td>0.496659</td>\n",
       "      <td>0.271180</td>\n",
       "      <td>-0.398477</td>\n",
       "      <td>-0.725004</td>\n",
       "      <td>-0.697416</td>\n",
       "      <td>-0.720158</td>\n",
       "      <td>0.129982</td>\n",
       "      <td>0.383748</td>\n",
       "      <td>0.671754</td>\n",
       "      <td>-0.364502</td>\n",
       "    </tr>\n",
       "    <tr>\n",
       "      <th>runs</th>\n",
       "      <td>0.662941</td>\n",
       "      <td>1.000000</td>\n",
       "      <td>0.205291</td>\n",
       "      <td>0.093506</td>\n",
       "      <td>0.389954</td>\n",
       "      <td>0.038574</td>\n",
       "      <td>0.724927</td>\n",
       "      <td>0.452212</td>\n",
       "      <td>0.412823</td>\n",
       "      <td>-0.169348</td>\n",
       "      <td>-0.329264</td>\n",
       "      <td>-0.323363</td>\n",
       "      <td>-0.345640</td>\n",
       "      <td>0.086980</td>\n",
       "      <td>0.251535</td>\n",
       "      <td>0.192010</td>\n",
       "      <td>0.135742</td>\n",
       "    </tr>\n",
       "    <tr>\n",
       "      <th>at_bats</th>\n",
       "      <td>-0.212732</td>\n",
       "      <td>0.205291</td>\n",
       "      <td>1.000000</td>\n",
       "      <td>0.388345</td>\n",
       "      <td>0.281437</td>\n",
       "      <td>0.406859</td>\n",
       "      <td>0.139889</td>\n",
       "      <td>-0.133364</td>\n",
       "      <td>0.151133</td>\n",
       "      <td>0.122338</td>\n",
       "      <td>0.306724</td>\n",
       "      <td>0.268641</td>\n",
       "      <td>0.199190</td>\n",
       "      <td>0.121066</td>\n",
       "      <td>0.105950</td>\n",
       "      <td>-0.406808</td>\n",
       "      <td>0.584948</td>\n",
       "    </tr>\n",
       "    <tr>\n",
       "      <th>hits</th>\n",
       "      <td>-0.270156</td>\n",
       "      <td>0.093506</td>\n",
       "      <td>0.388345</td>\n",
       "      <td>1.000000</td>\n",
       "      <td>0.091143</td>\n",
       "      <td>0.489751</td>\n",
       "      <td>-0.247281</td>\n",
       "      <td>-0.006469</td>\n",
       "      <td>-0.234008</td>\n",
       "      <td>0.798786</td>\n",
       "      <td>0.190065</td>\n",
       "      <td>0.188800</td>\n",
       "      <td>0.195971</td>\n",
       "      <td>0.144473</td>\n",
       "      <td>-0.131906</td>\n",
       "      <td>-0.579132</td>\n",
       "      <td>0.253721</td>\n",
       "    </tr>\n",
       "    <tr>\n",
       "      <th>doubles</th>\n",
       "      <td>0.255265</td>\n",
       "      <td>0.389954</td>\n",
       "      <td>0.281437</td>\n",
       "      <td>0.091143</td>\n",
       "      <td>1.000000</td>\n",
       "      <td>0.148791</td>\n",
       "      <td>0.008988</td>\n",
       "      <td>0.558221</td>\n",
       "      <td>0.119084</td>\n",
       "      <td>0.085024</td>\n",
       "      <td>-0.201390</td>\n",
       "      <td>-0.274204</td>\n",
       "      <td>-0.297489</td>\n",
       "      <td>0.512050</td>\n",
       "      <td>0.001245</td>\n",
       "      <td>0.022056</td>\n",
       "      <td>0.245738</td>\n",
       "    </tr>\n",
       "    <tr>\n",
       "      <th>triples</th>\n",
       "      <td>-0.412631</td>\n",
       "      <td>0.038574</td>\n",
       "      <td>0.406859</td>\n",
       "      <td>0.489751</td>\n",
       "      <td>0.148791</td>\n",
       "      <td>1.000000</td>\n",
       "      <td>-0.395030</td>\n",
       "      <td>-0.403534</td>\n",
       "      <td>-0.324223</td>\n",
       "      <td>0.659183</td>\n",
       "      <td>0.404858</td>\n",
       "      <td>0.422533</td>\n",
       "      <td>0.423651</td>\n",
       "      <td>-0.062514</td>\n",
       "      <td>-0.094553</td>\n",
       "      <td>-0.621537</td>\n",
       "      <td>0.391576</td>\n",
       "    </tr>\n",
       "    <tr>\n",
       "      <th>homeruns</th>\n",
       "      <td>0.632546</td>\n",
       "      <td>0.724927</td>\n",
       "      <td>0.139889</td>\n",
       "      <td>-0.247281</td>\n",
       "      <td>0.008988</td>\n",
       "      <td>-0.395030</td>\n",
       "      <td>1.000000</td>\n",
       "      <td>0.253401</td>\n",
       "      <td>0.660975</td>\n",
       "      <td>-0.568522</td>\n",
       "      <td>-0.358054</td>\n",
       "      <td>-0.319474</td>\n",
       "      <td>-0.363465</td>\n",
       "      <td>-0.102069</td>\n",
       "      <td>0.268845</td>\n",
       "      <td>0.461722</td>\n",
       "      <td>-0.163668</td>\n",
       "    </tr>\n",
       "    <tr>\n",
       "      <th>walks</th>\n",
       "      <td>0.496659</td>\n",
       "      <td>0.452212</td>\n",
       "      <td>-0.133364</td>\n",
       "      <td>-0.006469</td>\n",
       "      <td>0.558221</td>\n",
       "      <td>-0.403534</td>\n",
       "      <td>0.253401</td>\n",
       "      <td>1.000000</td>\n",
       "      <td>0.035749</td>\n",
       "      <td>-0.195733</td>\n",
       "      <td>-0.444050</td>\n",
       "      <td>-0.508269</td>\n",
       "      <td>-0.510644</td>\n",
       "      <td>0.645401</td>\n",
       "      <td>0.403361</td>\n",
       "      <td>0.253663</td>\n",
       "      <td>-0.049695</td>\n",
       "    </tr>\n",
       "    <tr>\n",
       "      <th>strikeouts</th>\n",
       "      <td>0.271180</td>\n",
       "      <td>0.412823</td>\n",
       "      <td>0.151133</td>\n",
       "      <td>-0.234008</td>\n",
       "      <td>0.119084</td>\n",
       "      <td>-0.324223</td>\n",
       "      <td>0.660975</td>\n",
       "      <td>0.035749</td>\n",
       "      <td>1.000000</td>\n",
       "      <td>-0.357807</td>\n",
       "      <td>-0.100011</td>\n",
       "      <td>-0.084088</td>\n",
       "      <td>-0.125944</td>\n",
       "      <td>-0.193571</td>\n",
       "      <td>-0.162506</td>\n",
       "      <td>0.385142</td>\n",
       "      <td>-0.036184</td>\n",
       "    </tr>\n",
       "    <tr>\n",
       "      <th>stolen_bases</th>\n",
       "      <td>-0.398477</td>\n",
       "      <td>-0.169348</td>\n",
       "      <td>0.122338</td>\n",
       "      <td>0.798786</td>\n",
       "      <td>0.085024</td>\n",
       "      <td>0.659183</td>\n",
       "      <td>-0.568522</td>\n",
       "      <td>-0.195733</td>\n",
       "      <td>-0.357807</td>\n",
       "      <td>1.000000</td>\n",
       "      <td>0.359937</td>\n",
       "      <td>0.379827</td>\n",
       "      <td>0.400410</td>\n",
       "      <td>0.056649</td>\n",
       "      <td>-0.327423</td>\n",
       "      <td>-0.472971</td>\n",
       "      <td>0.286112</td>\n",
       "    </tr>\n",
       "    <tr>\n",
       "      <th>runs_allowed</th>\n",
       "      <td>-0.725004</td>\n",
       "      <td>-0.329264</td>\n",
       "      <td>0.306724</td>\n",
       "      <td>0.190065</td>\n",
       "      <td>-0.201390</td>\n",
       "      <td>0.404858</td>\n",
       "      <td>-0.358054</td>\n",
       "      <td>-0.444050</td>\n",
       "      <td>-0.100011</td>\n",
       "      <td>0.359937</td>\n",
       "      <td>1.000000</td>\n",
       "      <td>0.990969</td>\n",
       "      <td>0.985975</td>\n",
       "      <td>-0.065350</td>\n",
       "      <td>-0.584908</td>\n",
       "      <td>-0.313275</td>\n",
       "      <td>0.614971</td>\n",
       "    </tr>\n",
       "    <tr>\n",
       "      <th>earned_runs</th>\n",
       "      <td>-0.697416</td>\n",
       "      <td>-0.323363</td>\n",
       "      <td>0.268641</td>\n",
       "      <td>0.188800</td>\n",
       "      <td>-0.274204</td>\n",
       "      <td>0.422533</td>\n",
       "      <td>-0.319474</td>\n",
       "      <td>-0.508269</td>\n",
       "      <td>-0.084088</td>\n",
       "      <td>0.379827</td>\n",
       "      <td>0.990969</td>\n",
       "      <td>1.000000</td>\n",
       "      <td>0.995090</td>\n",
       "      <td>-0.135622</td>\n",
       "      <td>-0.589039</td>\n",
       "      <td>-0.272236</td>\n",
       "      <td>0.554454</td>\n",
       "    </tr>\n",
       "    <tr>\n",
       "      <th>earned_run_avg</th>\n",
       "      <td>-0.720158</td>\n",
       "      <td>-0.345640</td>\n",
       "      <td>0.199190</td>\n",
       "      <td>0.195971</td>\n",
       "      <td>-0.297489</td>\n",
       "      <td>0.423651</td>\n",
       "      <td>-0.363465</td>\n",
       "      <td>-0.510644</td>\n",
       "      <td>-0.125944</td>\n",
       "      <td>0.400410</td>\n",
       "      <td>0.985975</td>\n",
       "      <td>0.995090</td>\n",
       "      <td>1.000000</td>\n",
       "      <td>-0.162957</td>\n",
       "      <td>-0.606079</td>\n",
       "      <td>-0.293104</td>\n",
       "      <td>0.525540</td>\n",
       "    </tr>\n",
       "    <tr>\n",
       "      <th>CG</th>\n",
       "      <td>0.129982</td>\n",
       "      <td>0.086980</td>\n",
       "      <td>0.121066</td>\n",
       "      <td>0.144473</td>\n",
       "      <td>0.512050</td>\n",
       "      <td>-0.062514</td>\n",
       "      <td>-0.102069</td>\n",
       "      <td>0.645401</td>\n",
       "      <td>-0.193571</td>\n",
       "      <td>0.056649</td>\n",
       "      <td>-0.065350</td>\n",
       "      <td>-0.135622</td>\n",
       "      <td>-0.162957</td>\n",
       "      <td>1.000000</td>\n",
       "      <td>0.061115</td>\n",
       "      <td>-0.107214</td>\n",
       "      <td>0.248297</td>\n",
       "    </tr>\n",
       "    <tr>\n",
       "      <th>shutouts</th>\n",
       "      <td>0.383748</td>\n",
       "      <td>0.251535</td>\n",
       "      <td>0.105950</td>\n",
       "      <td>-0.131906</td>\n",
       "      <td>0.001245</td>\n",
       "      <td>-0.094553</td>\n",
       "      <td>0.268845</td>\n",
       "      <td>0.403361</td>\n",
       "      <td>-0.162506</td>\n",
       "      <td>-0.327423</td>\n",
       "      <td>-0.584908</td>\n",
       "      <td>-0.589039</td>\n",
       "      <td>-0.606079</td>\n",
       "      <td>0.061115</td>\n",
       "      <td>1.000000</td>\n",
       "      <td>0.038035</td>\n",
       "      <td>-0.289418</td>\n",
       "    </tr>\n",
       "    <tr>\n",
       "      <th>saves</th>\n",
       "      <td>0.671754</td>\n",
       "      <td>0.192010</td>\n",
       "      <td>-0.406808</td>\n",
       "      <td>-0.579132</td>\n",
       "      <td>0.022056</td>\n",
       "      <td>-0.621537</td>\n",
       "      <td>0.461722</td>\n",
       "      <td>0.253663</td>\n",
       "      <td>0.385142</td>\n",
       "      <td>-0.472971</td>\n",
       "      <td>-0.313275</td>\n",
       "      <td>-0.272236</td>\n",
       "      <td>-0.293104</td>\n",
       "      <td>-0.107214</td>\n",
       "      <td>0.038035</td>\n",
       "      <td>1.000000</td>\n",
       "      <td>-0.378459</td>\n",
       "    </tr>\n",
       "    <tr>\n",
       "      <th>error</th>\n",
       "      <td>-0.364502</td>\n",
       "      <td>0.135742</td>\n",
       "      <td>0.584948</td>\n",
       "      <td>0.253721</td>\n",
       "      <td>0.245738</td>\n",
       "      <td>0.391576</td>\n",
       "      <td>-0.163668</td>\n",
       "      <td>-0.049695</td>\n",
       "      <td>-0.036184</td>\n",
       "      <td>0.286112</td>\n",
       "      <td>0.614971</td>\n",
       "      <td>0.554454</td>\n",
       "      <td>0.525540</td>\n",
       "      <td>0.248297</td>\n",
       "      <td>-0.289418</td>\n",
       "      <td>-0.378459</td>\n",
       "      <td>1.000000</td>\n",
       "    </tr>\n",
       "  </tbody>\n",
       "</table>\n",
       "</div>"
      ],
      "text/plain": [
       "                    wins      runs   at_bats      hits   doubles   triples  \\\n",
       "wins            1.000000  0.662941 -0.212732 -0.270156  0.255265 -0.412631   \n",
       "runs            0.662941  1.000000  0.205291  0.093506  0.389954  0.038574   \n",
       "at_bats        -0.212732  0.205291  1.000000  0.388345  0.281437  0.406859   \n",
       "hits           -0.270156  0.093506  0.388345  1.000000  0.091143  0.489751   \n",
       "doubles         0.255265  0.389954  0.281437  0.091143  1.000000  0.148791   \n",
       "triples        -0.412631  0.038574  0.406859  0.489751  0.148791  1.000000   \n",
       "homeruns        0.632546  0.724927  0.139889 -0.247281  0.008988 -0.395030   \n",
       "walks           0.496659  0.452212 -0.133364 -0.006469  0.558221 -0.403534   \n",
       "strikeouts      0.271180  0.412823  0.151133 -0.234008  0.119084 -0.324223   \n",
       "stolen_bases   -0.398477 -0.169348  0.122338  0.798786  0.085024  0.659183   \n",
       "runs_allowed   -0.725004 -0.329264  0.306724  0.190065 -0.201390  0.404858   \n",
       "earned_runs    -0.697416 -0.323363  0.268641  0.188800 -0.274204  0.422533   \n",
       "earned_run_avg -0.720158 -0.345640  0.199190  0.195971 -0.297489  0.423651   \n",
       "CG              0.129982  0.086980  0.121066  0.144473  0.512050 -0.062514   \n",
       "shutouts        0.383748  0.251535  0.105950 -0.131906  0.001245 -0.094553   \n",
       "saves           0.671754  0.192010 -0.406808 -0.579132  0.022056 -0.621537   \n",
       "error          -0.364502  0.135742  0.584948  0.253721  0.245738  0.391576   \n",
       "\n",
       "                homeruns     walks  strikeouts  stolen_bases  runs_allowed  \\\n",
       "wins            0.632546  0.496659    0.271180     -0.398477     -0.725004   \n",
       "runs            0.724927  0.452212    0.412823     -0.169348     -0.329264   \n",
       "at_bats         0.139889 -0.133364    0.151133      0.122338      0.306724   \n",
       "hits           -0.247281 -0.006469   -0.234008      0.798786      0.190065   \n",
       "doubles         0.008988  0.558221    0.119084      0.085024     -0.201390   \n",
       "triples        -0.395030 -0.403534   -0.324223      0.659183      0.404858   \n",
       "homeruns        1.000000  0.253401    0.660975     -0.568522     -0.358054   \n",
       "walks           0.253401  1.000000    0.035749     -0.195733     -0.444050   \n",
       "strikeouts      0.660975  0.035749    1.000000     -0.357807     -0.100011   \n",
       "stolen_bases   -0.568522 -0.195733   -0.357807      1.000000      0.359937   \n",
       "runs_allowed   -0.358054 -0.444050   -0.100011      0.359937      1.000000   \n",
       "earned_runs    -0.319474 -0.508269   -0.084088      0.379827      0.990969   \n",
       "earned_run_avg -0.363465 -0.510644   -0.125944      0.400410      0.985975   \n",
       "CG             -0.102069  0.645401   -0.193571      0.056649     -0.065350   \n",
       "shutouts        0.268845  0.403361   -0.162506     -0.327423     -0.584908   \n",
       "saves           0.461722  0.253663    0.385142     -0.472971     -0.313275   \n",
       "error          -0.163668 -0.049695   -0.036184      0.286112      0.614971   \n",
       "\n",
       "                earned_runs  earned_run_avg        CG  shutouts     saves  \\\n",
       "wins              -0.697416       -0.720158  0.129982  0.383748  0.671754   \n",
       "runs              -0.323363       -0.345640  0.086980  0.251535  0.192010   \n",
       "at_bats            0.268641        0.199190  0.121066  0.105950 -0.406808   \n",
       "hits               0.188800        0.195971  0.144473 -0.131906 -0.579132   \n",
       "doubles           -0.274204       -0.297489  0.512050  0.001245  0.022056   \n",
       "triples            0.422533        0.423651 -0.062514 -0.094553 -0.621537   \n",
       "homeruns          -0.319474       -0.363465 -0.102069  0.268845  0.461722   \n",
       "walks             -0.508269       -0.510644  0.645401  0.403361  0.253663   \n",
       "strikeouts        -0.084088       -0.125944 -0.193571 -0.162506  0.385142   \n",
       "stolen_bases       0.379827        0.400410  0.056649 -0.327423 -0.472971   \n",
       "runs_allowed       0.990969        0.985975 -0.065350 -0.584908 -0.313275   \n",
       "earned_runs        1.000000        0.995090 -0.135622 -0.589039 -0.272236   \n",
       "earned_run_avg     0.995090        1.000000 -0.162957 -0.606079 -0.293104   \n",
       "CG                -0.135622       -0.162957  1.000000  0.061115 -0.107214   \n",
       "shutouts          -0.589039       -0.606079  0.061115  1.000000  0.038035   \n",
       "saves             -0.272236       -0.293104 -0.107214  0.038035  1.000000   \n",
       "error              0.554454        0.525540  0.248297 -0.289418 -0.378459   \n",
       "\n",
       "                   error  \n",
       "wins           -0.364502  \n",
       "runs            0.135742  \n",
       "at_bats         0.584948  \n",
       "hits            0.253721  \n",
       "doubles         0.245738  \n",
       "triples         0.391576  \n",
       "homeruns       -0.163668  \n",
       "walks          -0.049695  \n",
       "strikeouts     -0.036184  \n",
       "stolen_bases    0.286112  \n",
       "runs_allowed    0.614971  \n",
       "earned_runs     0.554454  \n",
       "earned_run_avg  0.525540  \n",
       "CG              0.248297  \n",
       "shutouts       -0.289418  \n",
       "saves          -0.378459  \n",
       "error           1.000000  "
      ]
     },
     "execution_count": 188,
     "metadata": {},
     "output_type": "execute_result"
    }
   ],
   "source": [
    "data1.corr()"
   ]
  },
  {
   "cell_type": "code",
   "execution_count": 189,
   "metadata": {},
   "outputs": [],
   "source": [
    "from sklearn.preprocessing import StandardScaler"
   ]
  },
  {
   "cell_type": "code",
   "execution_count": 190,
   "metadata": {},
   "outputs": [],
   "source": [
    "sc=StandardScaler()"
   ]
  },
  {
   "cell_type": "code",
   "execution_count": 191,
   "metadata": {},
   "outputs": [
    {
     "data": {
      "text/plain": [
       "(14, 17)"
      ]
     },
     "execution_count": 191,
     "metadata": {},
     "output_type": "execute_result"
    }
   ],
   "source": [
    "data1.shape"
   ]
  },
  {
   "cell_type": "code",
   "execution_count": 192,
   "metadata": {},
   "outputs": [],
   "source": [
    "data_in=data1.drop('wins',axis=1)\n",
    "data_op=data1.wins"
   ]
  },
  {
   "cell_type": "code",
   "execution_count": 193,
   "metadata": {},
   "outputs": [],
   "source": [
    "data2=sc.fit_transform(data_in)"
   ]
  },
  {
   "cell_type": "code",
   "execution_count": 194,
   "metadata": {},
   "outputs": [],
   "source": [
    "data_in=pd.DataFrame(data2,columns=data_in.columns)"
   ]
  },
  {
   "cell_type": "code",
   "execution_count": 195,
   "metadata": {},
   "outputs": [
    {
     "data": {
      "text/html": [
       "<div>\n",
       "<style scoped>\n",
       "    .dataframe tbody tr th:only-of-type {\n",
       "        vertical-align: middle;\n",
       "    }\n",
       "\n",
       "    .dataframe tbody tr th {\n",
       "        vertical-align: top;\n",
       "    }\n",
       "\n",
       "    .dataframe thead th {\n",
       "        text-align: right;\n",
       "    }\n",
       "</style>\n",
       "<table border=\"1\" class=\"dataframe\">\n",
       "  <thead>\n",
       "    <tr style=\"text-align: right;\">\n",
       "      <th></th>\n",
       "      <th>runs</th>\n",
       "      <th>at_bats</th>\n",
       "      <th>hits</th>\n",
       "      <th>doubles</th>\n",
       "      <th>triples</th>\n",
       "      <th>homeruns</th>\n",
       "      <th>walks</th>\n",
       "      <th>strikeouts</th>\n",
       "      <th>stolen_bases</th>\n",
       "      <th>runs_allowed</th>\n",
       "      <th>earned_runs</th>\n",
       "      <th>earned_run_avg</th>\n",
       "      <th>CG</th>\n",
       "      <th>shutouts</th>\n",
       "      <th>saves</th>\n",
       "      <th>error</th>\n",
       "    </tr>\n",
       "  </thead>\n",
       "  <tbody>\n",
       "    <tr>\n",
       "      <th>0</th>\n",
       "      <td>0.693540</td>\n",
       "      <td>-0.416889</td>\n",
       "      <td>-1.112251</td>\n",
       "      <td>0.531809</td>\n",
       "      <td>1.516322</td>\n",
       "      <td>-0.016425</td>\n",
       "      <td>-0.300550</td>\n",
       "      <td>0.363784</td>\n",
       "      <td>-0.186522</td>\n",
       "      <td>-0.040878</td>\n",
       "      <td>0.092939</td>\n",
       "      <td>6.369298e-02</td>\n",
       "      <td>-0.203955</td>\n",
       "      <td>0.525095</td>\n",
       "      <td>0.740768</td>\n",
       "      <td>-0.651138</td>\n",
       "    </tr>\n",
       "    <tr>\n",
       "      <th>1</th>\n",
       "      <td>0.105953</td>\n",
       "      <td>-0.952694</td>\n",
       "      <td>0.726576</td>\n",
       "      <td>1.934550</td>\n",
       "      <td>0.042120</td>\n",
       "      <td>-0.509175</td>\n",
       "      <td>1.573970</td>\n",
       "      <td>-0.962126</td>\n",
       "      <td>0.666151</td>\n",
       "      <td>-1.224934</td>\n",
       "      <td>-1.309863</td>\n",
       "      <td>-1.210167e+00</td>\n",
       "      <td>1.849385</td>\n",
       "      <td>-0.314571</td>\n",
       "      <td>-0.472646</td>\n",
       "      <td>-1.156524</td>\n",
       "    </tr>\n",
       "    <tr>\n",
       "      <th>2</th>\n",
       "      <td>-0.960764</td>\n",
       "      <td>0.846079</td>\n",
       "      <td>0.171809</td>\n",
       "      <td>-0.385369</td>\n",
       "      <td>-0.154440</td>\n",
       "      <td>-0.673425</td>\n",
       "      <td>-0.998510</td>\n",
       "      <td>-0.045141</td>\n",
       "      <td>-0.293106</td>\n",
       "      <td>-0.021144</td>\n",
       "      <td>-0.110365</td>\n",
       "      <td>-2.229254e-01</td>\n",
       "      <td>1.125288</td>\n",
       "      <td>-0.766023</td>\n",
       "      <td>-0.654843</td>\n",
       "      <td>0.335800</td>\n",
       "    </tr>\n",
       "    <tr>\n",
       "      <th>3</th>\n",
       "      <td>1.054783</td>\n",
       "      <td>-0.072443</td>\n",
       "      <td>-0.267045</td>\n",
       "      <td>-1.140691</td>\n",
       "      <td>-0.842401</td>\n",
       "      <td>1.987425</td>\n",
       "      <td>-0.719326</td>\n",
       "      <td>1.194027</td>\n",
       "      <td>-1.572116</td>\n",
       "      <td>-0.179018</td>\n",
       "      <td>-0.049374</td>\n",
       "      <td>2.828536e-15</td>\n",
       "      <td>-1.730366</td>\n",
       "      <td>-0.314571</td>\n",
       "      <td>0.404349</td>\n",
       "      <td>-1.307070</td>\n",
       "    </tr>\n",
       "    <tr>\n",
       "      <th>4</th>\n",
       "      <td>1.839499</td>\n",
       "      <td>0.425090</td>\n",
       "      <td>1.667966</td>\n",
       "      <td>0.639712</td>\n",
       "      <td>0.336960</td>\n",
       "      <td>0.509175</td>\n",
       "      <td>0.975719</td>\n",
       "      <td>-0.020358</td>\n",
       "      <td>1.465532</td>\n",
       "      <td>0.610353</td>\n",
       "      <td>0.641862</td>\n",
       "      <td>6.050833e-01</td>\n",
       "      <td>0.683102</td>\n",
       "      <td>-0.766023</td>\n",
       "      <td>0.740768</td>\n",
       "      <td>1.384279</td>\n",
       "    </tr>\n",
       "  </tbody>\n",
       "</table>\n",
       "</div>"
      ],
      "text/plain": [
       "       runs   at_bats      hits   doubles   triples  homeruns     walks  \\\n",
       "0  0.693540 -0.416889 -1.112251  0.531809  1.516322 -0.016425 -0.300550   \n",
       "1  0.105953 -0.952694  0.726576  1.934550  0.042120 -0.509175  1.573970   \n",
       "2 -0.960764  0.846079  0.171809 -0.385369 -0.154440 -0.673425 -0.998510   \n",
       "3  1.054783 -0.072443 -0.267045 -1.140691 -0.842401  1.987425 -0.719326   \n",
       "4  1.839499  0.425090  1.667966  0.639712  0.336960  0.509175  0.975719   \n",
       "\n",
       "   strikeouts  stolen_bases  runs_allowed  earned_runs  earned_run_avg  \\\n",
       "0    0.363784     -0.186522     -0.040878     0.092939    6.369298e-02   \n",
       "1   -0.962126      0.666151     -1.224934    -1.309863   -1.210167e+00   \n",
       "2   -0.045141     -0.293106     -0.021144    -0.110365   -2.229254e-01   \n",
       "3    1.194027     -1.572116     -0.179018    -0.049374    2.828536e-15   \n",
       "4   -0.020358      1.465532      0.610353     0.641862    6.050833e-01   \n",
       "\n",
       "         CG  shutouts     saves     error  \n",
       "0 -0.203955  0.525095  0.740768 -0.651138  \n",
       "1  1.849385 -0.314571 -0.472646 -1.156524  \n",
       "2  1.125288 -0.766023 -0.654843  0.335800  \n",
       "3 -1.730366 -0.314571  0.404349 -1.307070  \n",
       "4  0.683102 -0.766023  0.740768  1.384279  "
      ]
     },
     "execution_count": 195,
     "metadata": {},
     "output_type": "execute_result"
    }
   ],
   "source": [
    "data_in.head()"
   ]
  },
  {
   "cell_type": "code",
   "execution_count": 196,
   "metadata": {},
   "outputs": [],
   "source": [
    "from sklearn.decomposition import PCA"
   ]
  },
  {
   "cell_type": "code",
   "execution_count": 197,
   "metadata": {},
   "outputs": [],
   "source": [
    "pca=PCA(n_components=6)\n",
    "pricipleComponents=pca.fit_transform(data_in)"
   ]
  },
  {
   "cell_type": "code",
   "execution_count": 198,
   "metadata": {},
   "outputs": [
    {
     "data": {
      "text/html": [
       "<div>\n",
       "<style scoped>\n",
       "    .dataframe tbody tr th:only-of-type {\n",
       "        vertical-align: middle;\n",
       "    }\n",
       "\n",
       "    .dataframe tbody tr th {\n",
       "        vertical-align: top;\n",
       "    }\n",
       "\n",
       "    .dataframe thead th {\n",
       "        text-align: right;\n",
       "    }\n",
       "</style>\n",
       "<table border=\"1\" class=\"dataframe\">\n",
       "  <thead>\n",
       "    <tr style=\"text-align: right;\">\n",
       "      <th></th>\n",
       "      <th>0</th>\n",
       "      <th>1</th>\n",
       "      <th>2</th>\n",
       "      <th>3</th>\n",
       "      <th>4</th>\n",
       "      <th>5</th>\n",
       "    </tr>\n",
       "  </thead>\n",
       "  <tbody>\n",
       "    <tr>\n",
       "      <th>0</th>\n",
       "      <td>-0.468274</td>\n",
       "      <td>-0.233264</td>\n",
       "      <td>-0.306698</td>\n",
       "      <td>0.385776</td>\n",
       "      <td>-0.096824</td>\n",
       "      <td>0.996270</td>\n",
       "    </tr>\n",
       "    <tr>\n",
       "      <th>1</th>\n",
       "      <td>-1.592538</td>\n",
       "      <td>2.539182</td>\n",
       "      <td>2.268767</td>\n",
       "      <td>-1.365291</td>\n",
       "      <td>-1.312722</td>\n",
       "      <td>0.388175</td>\n",
       "    </tr>\n",
       "    <tr>\n",
       "      <th>2</th>\n",
       "      <td>0.906965</td>\n",
       "      <td>0.025007</td>\n",
       "      <td>0.389520</td>\n",
       "      <td>-0.352416</td>\n",
       "      <td>0.654648</td>\n",
       "      <td>0.615031</td>\n",
       "    </tr>\n",
       "    <tr>\n",
       "      <th>3</th>\n",
       "      <td>-1.747169</td>\n",
       "      <td>-2.216116</td>\n",
       "      <td>-1.874344</td>\n",
       "      <td>1.745559</td>\n",
       "      <td>-0.390248</td>\n",
       "      <td>-0.598069</td>\n",
       "    </tr>\n",
       "    <tr>\n",
       "      <th>4</th>\n",
       "      <td>1.162056</td>\n",
       "      <td>2.217596</td>\n",
       "      <td>-1.573352</td>\n",
       "      <td>-0.551046</td>\n",
       "      <td>-1.585052</td>\n",
       "      <td>-1.367449</td>\n",
       "    </tr>\n",
       "  </tbody>\n",
       "</table>\n",
       "</div>"
      ],
      "text/plain": [
       "          0         1         2         3         4         5\n",
       "0 -0.468274 -0.233264 -0.306698  0.385776 -0.096824  0.996270\n",
       "1 -1.592538  2.539182  2.268767 -1.365291 -1.312722  0.388175\n",
       "2  0.906965  0.025007  0.389520 -0.352416  0.654648  0.615031\n",
       "3 -1.747169 -2.216116 -1.874344  1.745559 -0.390248 -0.598069\n",
       "4  1.162056  2.217596 -1.573352 -0.551046 -1.585052 -1.367449"
      ]
     },
     "execution_count": 198,
     "metadata": {},
     "output_type": "execute_result"
    }
   ],
   "source": [
    "data_in=pd.DataFrame(pricipleComponents)\n",
    "data_in.head()"
   ]
  },
  {
   "cell_type": "code",
   "execution_count": 199,
   "metadata": {},
   "outputs": [],
   "source": [
    "from sklearn.model_selection import train_test_split as tts\n",
    "from sklearn.metrics import r2_score"
   ]
  },
  {
   "cell_type": "code",
   "execution_count": 200,
   "metadata": {},
   "outputs": [
    {
     "name": "stdout",
     "output_type": "stream",
     "text": [
      "at random state 0 r2score is:-1.7004674822377113\n",
      "at random state 1 r2score is:-12.768118165514384\n",
      "at random state 2 r2score is:-1.7856893303029922\n",
      "at random state 3 r2score is:-3.269431396567626\n",
      "at random state 4 r2score is:-4.892778984578833\n",
      "at random state 5 r2score is:-1.4099614369287945\n",
      "at random state 6 r2score is:-0.4693240144458406\n",
      "at random state 7 r2score is:0.2848160813727635\n",
      "at random state 8 r2score is:-1.514674913365238\n",
      "at random state 9 r2score is:-0.608190867371903\n",
      "at random state 10 r2score is:-1.8275742259104617\n",
      "at random state 11 r2score is:-1.5991736069316964\n",
      "at random state 12 r2score is:0.21955154149059553\n",
      "at random state 13 r2score is:-0.4417751772853631\n",
      "at random state 14 r2score is:-1.1571213238934108\n",
      "at random state 15 r2score is:0.8573088173890131\n",
      "at random state 16 r2score is:0.10311446885644449\n",
      "at random state 17 r2score is:0.43869735030742607\n",
      "at random state 18 r2score is:-0.8391904751585362\n",
      "at random state 19 r2score is:0.4108605008469106\n",
      "at random state 20 r2score is:-10.547677570897712\n",
      "at random state 21 r2score is:-18.514468252204722\n",
      "at random state 22 r2score is:-5.520716000537528\n",
      "at random state 23 r2score is:-2.0964608878777473\n",
      "at random state 24 r2score is:0.6279994815113186\n",
      "at random state 25 r2score is:-2.3014419571975093\n",
      "at random state 26 r2score is:-0.38122965544315\n",
      "at random state 27 r2score is:-0.5598846584797443\n",
      "at random state 28 r2score is:0.7822300801848254\n",
      "at random state 29 r2score is:-1.6772911749561277\n",
      "at random state 30 r2score is:-0.963137472008561\n",
      "at random state 31 r2score is:-17.8944744714948\n",
      "at random state 32 r2score is:0.6182403551542561\n",
      "at random state 33 r2score is:-0.08857530689883908\n",
      "at random state 34 r2score is:-0.8996381965737292\n",
      "at random state 35 r2score is:-5.088431380763883\n",
      "at random state 36 r2score is:0.15678287540703006\n",
      "at random state 37 r2score is:-2.0442154032744533\n",
      "at random state 38 r2score is:-1.1736058153546565\n",
      "at random state 39 r2score is:-4.301635482177856\n",
      "at random state 40 r2score is:0.510691528910378\n",
      "at random state 41 r2score is:-31.544275903511675\n",
      "at random state 42 r2score is:-0.9631374720085666\n",
      "at random state 43 r2score is:-0.3484612361958017\n",
      "at random state 44 r2score is:-0.3332268712157951\n",
      "at random state 45 r2score is:0.6430049867906242\n",
      "at random state 46 r2score is:-0.3477861545515708\n",
      "at random state 47 r2score is:-4.356101194073935\n",
      "at random state 48 r2score is:-1.2284343296641795\n",
      "at random state 49 r2score is:0.5583236488644694\n",
      "at random state 50 r2score is:0.4108605008469103\n",
      "at random state 51 r2score is:-0.26248567730482986\n",
      "at random state 52 r2score is:0.4232475578771919\n",
      "at random state 53 r2score is:-42.73453002863598\n",
      "at random state 54 r2score is:-1.459440455906707\n",
      "at random state 55 r2score is:-1.9261401958185882\n",
      "at random state 56 r2score is:-10.547677570897724\n",
      "at random state 57 r2score is:-1.4594404559067051\n",
      "at random state 58 r2score is:-10.397620734220018\n",
      "at random state 59 r2score is:0.43869735030742774\n",
      "at random state 60 r2score is:-32.22531658213532\n",
      "at random state 61 r2score is:0.6017228131757881\n",
      "at random state 62 r2score is:0.5106915289103792\n",
      "at random state 63 r2score is:-2.3070469149132946\n",
      "at random state 64 r2score is:-1.208493849796548\n",
      "at random state 65 r2score is:-2.4420475718107446\n",
      "at random state 66 r2score is:-0.3477861545515708\n",
      "at random state 67 r2score is:-2.2199028700652828\n",
      "at random state 68 r2score is:0.9095668875138392\n",
      "at random state 69 r2score is:-0.2624856773048323\n",
      "at random state 70 r2score is:-3.2550689866620495\n",
      "at random state 71 r2score is:-1.6369280957727703\n",
      "at random state 72 r2score is:-0.03478224087013393\n",
      "at random state 73 r2score is:-53.797773514017564\n",
      "at random state 74 r2score is:-4.444000884717821\n",
      "at random state 75 r2score is:-1.7856893303029922\n",
      "at random state 76 r2score is:-28.95297395922926\n",
      "at random state 77 r2score is:0.5946534501749488\n",
      "at random state 78 r2score is:-3.511766976267544\n",
      "at random state 79 r2score is:-0.23528787871023882\n",
      "at random state 80 r2score is:-1.0961576601608294\n",
      "at random state 81 r2score is:-6.807263248416247\n",
      "at random state 82 r2score is:-265.8332000318262\n",
      "at random state 83 r2score is:-3.4222748614225607\n",
      "at random state 84 r2score is:-1.969660920672533\n",
      "at random state 85 r2score is:0.6430049867906247\n",
      "at random state 86 r2score is:-52.997888416992495\n",
      "at random state 87 r2score is:-0.48299665533823855\n",
      "at random state 88 r2score is:-1.5587468113871084\n",
      "at random state 89 r2score is:-0.2939799368302307\n",
      "at random state 90 r2score is:-0.5744670572467574\n",
      "at random state 91 r2score is:0.32664391181725627\n",
      "at random state 92 r2score is:-1.7856893303029917\n",
      "at random state 93 r2score is:0.32868705979820967\n",
      "at random state 94 r2score is:-0.8594657014528186\n",
      "at random state 95 r2score is:-0.8239394926624197\n",
      "at random state 96 r2score is:0.4280122493467844\n",
      "at random state 97 r2score is:-2.4408670118566422\n",
      "at random state 98 r2score is:-0.17000603406914228\n",
      "at random state 99 r2score is:-1.1098557899739268\n"
     ]
    }
   ],
   "source": [
    "from sklearn.linear_model import LinearRegression\n",
    "from sklearn.metrics import mean_squared_error as mse\n",
    "lr=LinearRegression()\n",
    "for i in range(0,100):\n",
    "    x_train,x_test,y_train,y_test=tts(data_in,data_op,random_state=i,test_size=0.2)\n",
    "    lr.fit(x_train,y_train)\n",
    "    y_pred=lr.predict(x_test)\n",
    "    rscore=r2_score(y_test,y_pred)\n",
    "    print('at random state {} r2score is:{}'.format(i,rscore))\n",
    "    "
   ]
  },
  {
   "cell_type": "code",
   "execution_count": 201,
   "metadata": {},
   "outputs": [
    {
     "data": {
      "text/plain": [
       "(0.6017228131757881, 0.7633287207221497)"
      ]
     },
     "execution_count": 201,
     "metadata": {},
     "output_type": "execute_result"
    }
   ],
   "source": [
    "x_train,x_test,y_train,y_test=tts(data_in,data_op,random_state=61,test_size=0.2)\n",
    "lr.fit(x_train,y_train)\n",
    "y_pred=lr.predict(x_test)\n",
    "train_pred=lr.predict(x_train)\n",
    "rscore=r2_score(y_test,y_pred)\n",
    "rscore1=r2_score(y_train,train_pred)\n",
    "rscore,rscore1\n"
   ]
  },
  {
   "cell_type": "code",
   "execution_count": 202,
   "metadata": {},
   "outputs": [
    {
     "data": {
      "text/plain": [
       "0.7633287207221497"
      ]
     },
     "execution_count": 202,
     "metadata": {},
     "output_type": "execute_result"
    }
   ],
   "source": [
    "lr.score(x_train,y_train)"
   ]
  },
  {
   "cell_type": "code",
   "execution_count": 203,
   "metadata": {},
   "outputs": [
    {
     "data": {
      "text/plain": [
       "0.6017228131757881"
      ]
     },
     "execution_count": 203,
     "metadata": {},
     "output_type": "execute_result"
    }
   ],
   "source": [
    "from sklearn.linear_model import Ridge\n",
    "Ridge=Ridge()\n",
    "Ridge.fit(x_train,y_train)\n",
    "y_pred=lr.predict(x_test)\n",
    "rscore=r2_score(y_test,y_pred)\n",
    "rscore"
   ]
  },
  {
   "cell_type": "code",
   "execution_count": 204,
   "metadata": {},
   "outputs": [
    {
     "data": {
      "text/plain": [
       "0.5176451187335093"
      ]
     },
     "execution_count": 204,
     "metadata": {},
     "output_type": "execute_result"
    }
   ],
   "source": [
    "from sklearn.neighbors import KNeighborsRegressor\n",
    "KNR=KNeighborsRegressor(n_neighbors=4)\n",
    "KNR.fit(x_train,y_train)\n",
    "y_pred=KNR.predict(x_test)\n",
    "rscore=r2_score(y_test,y_pred)\n",
    "rscore"
   ]
  },
  {
   "cell_type": "code",
   "execution_count": 205,
   "metadata": {},
   "outputs": [],
   "source": [
    "from sklearn.ensemble import GradientBoostingRegressor as GBR\n",
    "GBR=GBR(alpha=0.3)"
   ]
  },
  {
   "cell_type": "code",
   "execution_count": 206,
   "metadata": {},
   "outputs": [
    {
     "data": {
      "text/plain": [
       "0.5925492987699863"
      ]
     },
     "execution_count": 206,
     "metadata": {},
     "output_type": "execute_result"
    }
   ],
   "source": [
    "GBR.fit(x_train,y_train)\n",
    "y_pred=GBR.predict(x_test)\n",
    "rscore=r2_score(y_test,y_pred)\n",
    "rscore"
   ]
  },
  {
   "cell_type": "code",
   "execution_count": 207,
   "metadata": {},
   "outputs": [],
   "source": [
    "from sklearn.ensemble import AdaBoostRegressor as ABR\n",
    "ABR=ABR(base_estimator=GBR,random_state=10,n_estimators=50)"
   ]
  },
  {
   "cell_type": "code",
   "execution_count": 208,
   "metadata": {},
   "outputs": [
    {
     "data": {
      "text/plain": [
       "0.5646333653116926"
      ]
     },
     "execution_count": 208,
     "metadata": {},
     "output_type": "execute_result"
    }
   ],
   "source": [
    "ABR.fit(x_train,y_train)\n",
    "y_pred=ABR.predict(x_test)\n",
    "rscore=r2_score(y_test,y_pred)\n",
    "rscore"
   ]
  },
  {
   "cell_type": "code",
   "execution_count": 209,
   "metadata": {},
   "outputs": [
    {
     "name": "stdout",
     "output_type": "stream",
     "text": [
      "rscore at 0 is: 0.6228232189973619\n",
      "rscore at 1 is: 0.7278232189973612\n",
      "rscore at 2 is: 0.46656992084432714\n",
      "rscore at 3 is: 0.41420844327176787\n",
      "rscore at 4 is: 0.6078232189973614\n",
      "rscore at 5 is: 0.5007651715039578\n",
      "rscore at 6 is: 0.5932189973614778\n",
      "rscore at 7 is: 0.4411213720316626\n",
      "rscore at 8 is: 0.48374670184696555\n",
      "rscore at 9 is: 0.6852374670184691\n",
      "rscore at 10 is: 0.4996965699208443\n",
      "rscore at 11 is: 0.5993931398416883\n",
      "rscore at 12 is: 0.49348284960422173\n",
      "rscore at 13 is: 0.47828496042216384\n",
      "rscore at 14 is: 0.7549340369393143\n",
      "rscore at 15 is: 0.6255540897097625\n",
      "rscore at 16 is: 0.4937994722955147\n",
      "rscore at 17 is: 0.5006068601583111\n",
      "rscore at 18 is: 0.6352506596306073\n",
      "rscore at 19 is: 0.3619656992084439\n",
      "rscore at 20 is: 0.5369788918205802\n",
      "rscore at 21 is: 0.7192348284960419\n",
      "rscore at 22 is: 0.7376385224274411\n",
      "rscore at 23 is: 0.4298812664907652\n",
      "rscore at 24 is: 0.7026912928759899\n",
      "rscore at 25 is: 0.6991688654353565\n",
      "rscore at 26 is: 0.6119393139841687\n",
      "rscore at 27 is: 0.6590765171503962\n",
      "rscore at 28 is: 0.6451451187335089\n",
      "rscore at 29 is: 0.4675593667546175\n",
      "rscore at 30 is: 0.4475725593667541\n",
      "rscore at 31 is: 0.7146833773087073\n",
      "rscore at 32 is: 0.5771899736147759\n",
      "rscore at 33 is: 0.5406992084432716\n",
      "rscore at 34 is: 0.5533245382585755\n",
      "rscore at 35 is: 0.5200791556728235\n",
      "rscore at 36 is: 0.6674670184696567\n",
      "rscore at 37 is: 0.5788522427440634\n",
      "rscore at 38 is: 0.5365435356200527\n",
      "rscore at 39 is: 0.5945250659630603\n",
      "rscore at 40 is: 0.5463984168865436\n",
      "rscore at 41 is: 0.4729815303430076\n",
      "rscore at 42 is: 0.7470976253298155\n",
      "rscore at 43 is: 0.4922163588390497\n",
      "rscore at 44 is: 0.7189182058047497\n",
      "rscore at 45 is: 0.6135224274406328\n",
      "rscore at 46 is: 0.6176385224274411\n",
      "rscore at 47 is: 0.683337730870712\n",
      "rscore at 48 is: 0.27469656992084446\n",
      "rscore at 49 is: 0.7125857519788916\n",
      "rscore at 50 is: 0.561873350923483\n",
      "rscore at 51 is: 0.6330343007915563\n",
      "rscore at 52 is: 0.5802770448548817\n",
      "rscore at 53 is: 0.5508311345646442\n",
      "rscore at 54 is: 0.5153298153034301\n",
      "rscore at 55 is: 0.6388126649076511\n",
      "rscore at 56 is: 0.6097625329815298\n",
      "rscore at 57 is: 0.5433905013192615\n",
      "rscore at 58 is: 0.42683377308707104\n",
      "rscore at 59 is: 0.4944722955145119\n",
      "rscore at 60 is: 0.6218733509234832\n",
      "rscore at 61 is: 0.7090237467018465\n",
      "rscore at 62 is: 0.49296833773087123\n",
      "rscore at 63 is: 0.5792875989445908\n",
      "rscore at 64 is: 0.5464775725593671\n",
      "rscore at 65 is: 0.46593667546174145\n",
      "rscore at 66 is: 0.7509762532981532\n",
      "rscore at 67 is: 0.7111213720316623\n",
      "rscore at 68 is: 0.7153166226912925\n",
      "rscore at 69 is: 0.4795910290237465\n",
      "rscore at 70 is: 0.7100527704485489\n",
      "rscore at 71 is: 0.5946833773087071\n",
      "rscore at 72 is: 0.2967414248021111\n",
      "rscore at 73 is: 0.684089709762533\n",
      "rscore at 74 is: 0.6810817941952503\n",
      "rscore at 75 is: 0.7060554089709763\n",
      "rscore at 76 is: 0.679379947229551\n",
      "rscore at 77 is: 0.5686807387862798\n",
      "rscore at 78 is: 0.6800131926121368\n",
      "rscore at 79 is: 0.6740369393139842\n",
      "rscore at 80 is: 0.5042875989445911\n",
      "rscore at 81 is: 0.6485092348284962\n",
      "rscore at 82 is: 0.4593271767810032\n",
      "rscore at 83 is: 0.6327176781002644\n",
      "rscore at 84 is: 0.5631398416886544\n",
      "rscore at 85 is: 0.5020712401055409\n",
      "rscore at 86 is: 0.2866094986807388\n",
      "rscore at 87 is: 0.6010554089709761\n",
      "rscore at 88 is: 0.6718601583113457\n",
      "rscore at 89 is: 0.7719525065963062\n",
      "rscore at 90 is: 0.4043535620052776\n",
      "rscore at 91 is: 0.8076121372031659\n",
      "rscore at 92 is: 0.6233773087071237\n",
      "rscore at 93 is: 0.4971240105540894\n",
      "rscore at 94 is: 0.6184300791556734\n",
      "rscore at 95 is: 0.4804221635883904\n",
      "rscore at 96 is: 0.6284828496042215\n",
      "rscore at 97 is: 0.689947229551451\n",
      "rscore at 98 is: 0.47416886543535586\n",
      "rscore at 99 is: 0.5864116094986809\n"
     ]
    }
   ],
   "source": [
    "for i in range(0,100):\n",
    "    from sklearn.ensemble import RandomForestRegressor as RFR\n",
    "    RFR=RFR(random_state=i)\n",
    "    RFR.fit(x_train,y_train)\n",
    "    y_pred=RFR.predict(x_test)\n",
    "    rscore=r2_score(y_test,y_pred)\n",
    "    print('rscore at',i,'is:',rscore)"
   ]
  },
  {
   "cell_type": "code",
   "execution_count": 210,
   "metadata": {},
   "outputs": [
    {
     "name": "stdout",
     "output_type": "stream",
     "text": [
      "0.8076121372031659 0.8231150466776498\n"
     ]
    }
   ],
   "source": [
    "from sklearn.ensemble import RandomForestRegressor as RFR\n",
    "RFR=RFR(random_state=91)\n",
    "RFR.fit(x_train,y_train)\n",
    "y_pred=RFR.predict(x_test)\n",
    "train_pred=RFR.predict(x_train)\n",
    "rscore=r2_score(y_test,y_pred)\n",
    "rscore_train=r2_score(y_train,train_pred)\n",
    "\n",
    "print(rscore,rscore_train)"
   ]
  },
  {
   "cell_type": "code",
   "execution_count": 211,
   "metadata": {},
   "outputs": [
    {
     "name": "stdout",
     "output_type": "stream",
     "text": [
      "error:\n",
      "Mean absolute error of test data: 2.7666666666666657\n",
      "Mean absolute error of train data: 2.4636363636363616\n",
      "Mean squared error of test data: 4.025336424863561\n",
      "Mean squared error of train data: 3.263155193701612\n"
     ]
    }
   ],
   "source": [
    "from sklearn.metrics import mean_absolute_error,mean_squared_error\n",
    "print('error:')\n",
    "print('Mean absolute error of test data:',mean_absolute_error(y_test,y_pred))\n",
    "print('Mean absolute error of train data:',mean_absolute_error(y_train,train_pred))\n",
    "print('Mean squared error of test data:',np.sqrt(mean_squared_error(y_test,y_pred)))\n",
    "print('Mean squared error of train data:',np.sqrt(mean_squared_error(y_train,train_pred)))"
   ]
  },
  {
   "cell_type": "code",
   "execution_count": 212,
   "metadata": {},
   "outputs": [
    {
     "name": "stdout",
     "output_type": "stream",
     "text": [
      "Predicted wins are: [83.1 67.4 82.2]\n",
      "Actual wins are: 20    90\n",
      "18    68\n",
      "21    83\n",
      "Name: wins, dtype: int64\n"
     ]
    }
   ],
   "source": [
    "pred=RFR.predict(x_test)\n",
    "print('Predicted wins are:',pred)\n",
    "print('Actual wins are:',y_test)"
   ]
  },
  {
   "cell_type": "code",
   "execution_count": 221,
   "metadata": {},
   "outputs": [
    {
     "name": "stdout",
     "output_type": "stream",
     "text": [
      "Predicted win for training data are: [67 79 79 83 70 79 69 82 67 74 82]\n",
      "Actual wins for training data are: 24    63\n",
      "10    88\n",
      "13    76\n",
      "12    85\n",
      "14    68\n",
      "2     81\n",
      "22    71\n",
      "1     83\n",
      "23    67\n",
      "3     76\n",
      "7     81\n",
      "Name: wins, dtype: int64\n"
     ]
    }
   ],
   "source": [
    "train_pred=RFR.predict(x_train)\n",
    "train_pred=train_pred.astype('int64')\n",
    "print('Predicted win for training data are:',train_pred)\n",
    "print('Actual wins for training data are:',y_train)"
   ]
  },
  {
   "cell_type": "code",
   "execution_count": 214,
   "metadata": {},
   "outputs": [],
   "source": [
    "Baseball_wins=pd.DataFrame({'Actual wins':y_test,'Predicted wins':pred})"
   ]
  },
  {
   "cell_type": "code",
   "execution_count": 218,
   "metadata": {},
   "outputs": [],
   "source": [
    "Baseball_wins['Predicted wins']=Baseball_wins['Predicted wins'].astype('int64')"
   ]
  },
  {
   "cell_type": "code",
   "execution_count": 219,
   "metadata": {},
   "outputs": [
    {
     "data": {
      "text/html": [
       "<div>\n",
       "<style scoped>\n",
       "    .dataframe tbody tr th:only-of-type {\n",
       "        vertical-align: middle;\n",
       "    }\n",
       "\n",
       "    .dataframe tbody tr th {\n",
       "        vertical-align: top;\n",
       "    }\n",
       "\n",
       "    .dataframe thead th {\n",
       "        text-align: right;\n",
       "    }\n",
       "</style>\n",
       "<table border=\"1\" class=\"dataframe\">\n",
       "  <thead>\n",
       "    <tr style=\"text-align: right;\">\n",
       "      <th></th>\n",
       "      <th>Actual wins</th>\n",
       "      <th>Predicted wins</th>\n",
       "    </tr>\n",
       "  </thead>\n",
       "  <tbody>\n",
       "    <tr>\n",
       "      <th>20</th>\n",
       "      <td>90</td>\n",
       "      <td>83</td>\n",
       "    </tr>\n",
       "    <tr>\n",
       "      <th>18</th>\n",
       "      <td>68</td>\n",
       "      <td>67</td>\n",
       "    </tr>\n",
       "    <tr>\n",
       "      <th>21</th>\n",
       "      <td>83</td>\n",
       "      <td>82</td>\n",
       "    </tr>\n",
       "  </tbody>\n",
       "</table>\n",
       "</div>"
      ],
      "text/plain": [
       "    Actual wins  Predicted wins\n",
       "20           90              83\n",
       "18           68              67\n",
       "21           83              82"
      ]
     },
     "execution_count": 219,
     "metadata": {},
     "output_type": "execute_result"
    }
   ],
   "source": [
    "Baseball_wins"
   ]
  },
  {
   "cell_type": "code",
   "execution_count": 222,
   "metadata": {},
   "outputs": [],
   "source": [
    "from sklearn.externals import joblib"
   ]
  },
  {
   "cell_type": "code",
   "execution_count": 223,
   "metadata": {},
   "outputs": [
    {
     "data": {
      "text/plain": [
       "['Random_forest_regressor.pkl']"
      ]
     },
     "execution_count": 223,
     "metadata": {},
     "output_type": "execute_result"
    }
   ],
   "source": [
    "joblib.dump(RFR,'Random_forest_regressor.pkl')"
   ]
  },
  {
   "cell_type": "raw",
   "metadata": {},
   "source": [
    "# Random forest regressor gives good r2 score for baseball prediction as compared to other models also it gives less errors for training and testing so chosen as best model for this data."
   ]
  },
  {
   "cell_type": "code",
   "execution_count": null,
   "metadata": {},
   "outputs": [],
   "source": []
  }
 ],
 "metadata": {
  "kernelspec": {
   "display_name": "Python 3",
   "language": "python",
   "name": "python3"
  },
  "language_info": {
   "codemirror_mode": {
    "name": "ipython",
    "version": 3
   },
   "file_extension": ".py",
   "mimetype": "text/x-python",
   "name": "python",
   "nbconvert_exporter": "python",
   "pygments_lexer": "ipython3",
   "version": "3.7.3"
  }
 },
 "nbformat": 4,
 "nbformat_minor": 2
}
