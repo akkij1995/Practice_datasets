{
 "cells": [
  {
   "cell_type": "code",
   "execution_count": 1,
   "metadata": {},
   "outputs": [],
   "source": [
    "import pandas as pd\n",
    "import numpy as np\n",
    "import matplotlib.pyplot as plt\n",
    "%matplotlib inline\n",
    "import seaborn as sns\n",
    "import warnings\n",
    "warnings.filterwarnings('ignore')"
   ]
  },
  {
   "cell_type": "code",
   "execution_count": 2,
   "metadata": {},
   "outputs": [
    {
     "data": {
      "text/html": [
       "<div>\n",
       "<style scoped>\n",
       "    .dataframe tbody tr th:only-of-type {\n",
       "        vertical-align: middle;\n",
       "    }\n",
       "\n",
       "    .dataframe tbody tr th {\n",
       "        vertical-align: top;\n",
       "    }\n",
       "\n",
       "    .dataframe thead th {\n",
       "        text-align: right;\n",
       "    }\n",
       "</style>\n",
       "<table border=\"1\" class=\"dataframe\">\n",
       "  <thead>\n",
       "    <tr style=\"text-align: right;\">\n",
       "      <th></th>\n",
       "      <th>Airline</th>\n",
       "      <th>Date_of_Journey</th>\n",
       "      <th>Source</th>\n",
       "      <th>Destination</th>\n",
       "      <th>Route</th>\n",
       "      <th>Dep_Time</th>\n",
       "      <th>Arrival_Time</th>\n",
       "      <th>Duration</th>\n",
       "      <th>Total_Stops</th>\n",
       "      <th>Additional_Info</th>\n",
       "      <th>Price</th>\n",
       "    </tr>\n",
       "  </thead>\n",
       "  <tbody>\n",
       "    <tr>\n",
       "      <th>0</th>\n",
       "      <td>IndiGo</td>\n",
       "      <td>24/03/2019</td>\n",
       "      <td>Banglore</td>\n",
       "      <td>New Delhi</td>\n",
       "      <td>BLR → DEL</td>\n",
       "      <td>22:20</td>\n",
       "      <td>01:10 22 Mar</td>\n",
       "      <td>2h 50m</td>\n",
       "      <td>non-stop</td>\n",
       "      <td>No info</td>\n",
       "      <td>3897</td>\n",
       "    </tr>\n",
       "    <tr>\n",
       "      <th>1</th>\n",
       "      <td>Air India</td>\n",
       "      <td>1/05/2019</td>\n",
       "      <td>Kolkata</td>\n",
       "      <td>Banglore</td>\n",
       "      <td>CCU → IXR → BBI → BLR</td>\n",
       "      <td>05:50</td>\n",
       "      <td>13:15</td>\n",
       "      <td>7h 25m</td>\n",
       "      <td>2 stops</td>\n",
       "      <td>No info</td>\n",
       "      <td>7662</td>\n",
       "    </tr>\n",
       "    <tr>\n",
       "      <th>2</th>\n",
       "      <td>Jet Airways</td>\n",
       "      <td>9/06/2019</td>\n",
       "      <td>Delhi</td>\n",
       "      <td>Cochin</td>\n",
       "      <td>DEL → LKO → BOM → COK</td>\n",
       "      <td>09:25</td>\n",
       "      <td>04:25 10 Jun</td>\n",
       "      <td>19h</td>\n",
       "      <td>2 stops</td>\n",
       "      <td>No info</td>\n",
       "      <td>13882</td>\n",
       "    </tr>\n",
       "    <tr>\n",
       "      <th>3</th>\n",
       "      <td>IndiGo</td>\n",
       "      <td>12/05/2019</td>\n",
       "      <td>Kolkata</td>\n",
       "      <td>Banglore</td>\n",
       "      <td>CCU → NAG → BLR</td>\n",
       "      <td>18:05</td>\n",
       "      <td>23:30</td>\n",
       "      <td>5h 25m</td>\n",
       "      <td>1 stop</td>\n",
       "      <td>No info</td>\n",
       "      <td>6218</td>\n",
       "    </tr>\n",
       "    <tr>\n",
       "      <th>4</th>\n",
       "      <td>IndiGo</td>\n",
       "      <td>01/03/2019</td>\n",
       "      <td>Banglore</td>\n",
       "      <td>New Delhi</td>\n",
       "      <td>BLR → NAG → DEL</td>\n",
       "      <td>16:50</td>\n",
       "      <td>21:35</td>\n",
       "      <td>4h 45m</td>\n",
       "      <td>1 stop</td>\n",
       "      <td>No info</td>\n",
       "      <td>13302</td>\n",
       "    </tr>\n",
       "  </tbody>\n",
       "</table>\n",
       "</div>"
      ],
      "text/plain": [
       "       Airline Date_of_Journey    Source Destination                  Route  \\\n",
       "0       IndiGo      24/03/2019  Banglore   New Delhi              BLR → DEL   \n",
       "1    Air India       1/05/2019   Kolkata    Banglore  CCU → IXR → BBI → BLR   \n",
       "2  Jet Airways       9/06/2019     Delhi      Cochin  DEL → LKO → BOM → COK   \n",
       "3       IndiGo      12/05/2019   Kolkata    Banglore        CCU → NAG → BLR   \n",
       "4       IndiGo      01/03/2019  Banglore   New Delhi        BLR → NAG → DEL   \n",
       "\n",
       "  Dep_Time  Arrival_Time Duration Total_Stops Additional_Info  Price  \n",
       "0    22:20  01:10 22 Mar   2h 50m    non-stop         No info   3897  \n",
       "1    05:50         13:15   7h 25m     2 stops         No info   7662  \n",
       "2    09:25  04:25 10 Jun      19h     2 stops         No info  13882  \n",
       "3    18:05         23:30   5h 25m      1 stop         No info   6218  \n",
       "4    16:50         21:35   4h 45m      1 stop         No info  13302  "
      ]
     },
     "execution_count": 2,
     "metadata": {},
     "output_type": "execute_result"
    }
   ],
   "source": [
    "data=pd.read_excel('C:/Users/Akshay-Laptop/Desktop/practice/Flight_Ticket_Participant_Datasets-20190305T100527Z-001/Flight_Ticket_Participant_Datasets/Data_Train.xlsx')\n",
    "data.head()"
   ]
  },
  {
   "cell_type": "code",
   "execution_count": 3,
   "metadata": {},
   "outputs": [
    {
     "data": {
      "text/plain": [
       "(10683, 11)"
      ]
     },
     "execution_count": 3,
     "metadata": {},
     "output_type": "execute_result"
    }
   ],
   "source": [
    "data.shape"
   ]
  },
  {
   "cell_type": "code",
   "execution_count": 4,
   "metadata": {},
   "outputs": [
    {
     "data": {
      "text/plain": [
       "Airline            object\n",
       "Date_of_Journey    object\n",
       "Source             object\n",
       "Destination        object\n",
       "Route              object\n",
       "Dep_Time           object\n",
       "Arrival_Time       object\n",
       "Duration           object\n",
       "Total_Stops        object\n",
       "Additional_Info    object\n",
       "Price               int64\n",
       "dtype: object"
      ]
     },
     "execution_count": 4,
     "metadata": {},
     "output_type": "execute_result"
    }
   ],
   "source": [
    "data.dtypes"
   ]
  },
  {
   "cell_type": "code",
   "execution_count": 5,
   "metadata": {},
   "outputs": [
    {
     "data": {
      "text/plain": [
       "Airline            0\n",
       "Date_of_Journey    0\n",
       "Source             0\n",
       "Destination        0\n",
       "Route              1\n",
       "Dep_Time           0\n",
       "Arrival_Time       0\n",
       "Duration           0\n",
       "Total_Stops        1\n",
       "Additional_Info    0\n",
       "Price              0\n",
       "dtype: int64"
      ]
     },
     "execution_count": 5,
     "metadata": {},
     "output_type": "execute_result"
    }
   ],
   "source": [
    "data.isnull().sum()"
   ]
  },
  {
   "cell_type": "code",
   "execution_count": 6,
   "metadata": {},
   "outputs": [],
   "source": [
    "data.dropna(inplace=True)"
   ]
  },
  {
   "cell_type": "code",
   "execution_count": 7,
   "metadata": {},
   "outputs": [
    {
     "data": {
      "text/plain": [
       "Jet Airways                          3849\n",
       "IndiGo                               2053\n",
       "Air India                            1751\n",
       "Multiple carriers                    1196\n",
       "SpiceJet                              818\n",
       "Vistara                               479\n",
       "Air Asia                              319\n",
       "GoAir                                 194\n",
       "Multiple carriers Premium economy      13\n",
       "Jet Airways Business                    6\n",
       "Vistara Premium economy                 3\n",
       "Trujet                                  1\n",
       "Name: Airline, dtype: int64"
      ]
     },
     "execution_count": 7,
     "metadata": {},
     "output_type": "execute_result"
    }
   ],
   "source": [
    "data.Airline.value_counts()"
   ]
  },
  {
   "cell_type": "code",
   "execution_count": 8,
   "metadata": {},
   "outputs": [],
   "source": [
    "data.Airline=data.Airline.map({'Jet Airways':'Jet Airways','IndiGo':'IndiGo','Air India':'Air India','Multiple carriers':'Multiple carriers',\n",
    "                              'SpiceJet':'SpiceJet','Vistara':'Vistara','Air Asia':'Air Asia','Air Asia':'other','GoAir':'other',\n",
    "                              'Multiple carriers Premium economy':'other','Jet Airways Business':'other','Vistara Premium economy':'other',\n",
    "                              'Trujet':'other'})"
   ]
  },
  {
   "cell_type": "code",
   "execution_count": 9,
   "metadata": {},
   "outputs": [
    {
     "data": {
      "text/plain": [
       "Jet Airways          3849\n",
       "IndiGo               2053\n",
       "Air India            1751\n",
       "Multiple carriers    1196\n",
       "SpiceJet              818\n",
       "other                 536\n",
       "Vistara               479\n",
       "Name: Airline, dtype: int64"
      ]
     },
     "execution_count": 9,
     "metadata": {},
     "output_type": "execute_result"
    }
   ],
   "source": [
    "data.Airline.value_counts()"
   ]
  },
  {
   "cell_type": "code",
   "execution_count": 10,
   "metadata": {},
   "outputs": [],
   "source": [
    "data.Date_of_Journey=pd.to_datetime(data.Date_of_Journey,format='%d/%m/%Y')"
   ]
  },
  {
   "cell_type": "code",
   "execution_count": 11,
   "metadata": {},
   "outputs": [
    {
     "data": {
      "text/plain": [
       "0   2019-03-24\n",
       "1   2019-05-01\n",
       "2   2019-06-09\n",
       "3   2019-05-12\n",
       "4   2019-03-01\n",
       "Name: Date_of_Journey, dtype: datetime64[ns]"
      ]
     },
     "execution_count": 11,
     "metadata": {},
     "output_type": "execute_result"
    }
   ],
   "source": [
    "data.Date_of_Journey.head()"
   ]
  },
  {
   "cell_type": "code",
   "execution_count": 12,
   "metadata": {},
   "outputs": [
    {
     "data": {
      "text/plain": [
       "0        6\n",
       "1        2\n",
       "2        6\n",
       "3        6\n",
       "4        4\n",
       "5        0\n",
       "6        1\n",
       "7        4\n",
       "8        1\n",
       "9        0\n",
       "10       5\n",
       "11       3\n",
       "12       0\n",
       "13       3\n",
       "14       2\n",
       "15       6\n",
       "16       0\n",
       "17       2\n",
       "18       2\n",
       "19       0\n",
       "20       2\n",
       "21       3\n",
       "22       2\n",
       "23       2\n",
       "24       0\n",
       "25       6\n",
       "26       5\n",
       "27       2\n",
       "28       1\n",
       "29       5\n",
       "        ..\n",
       "10653    2\n",
       "10654    2\n",
       "10655    4\n",
       "10656    5\n",
       "10657    0\n",
       "10658    1\n",
       "10659    2\n",
       "10660    3\n",
       "10661    3\n",
       "10662    6\n",
       "10663    3\n",
       "10664    1\n",
       "10665    5\n",
       "10666    2\n",
       "10667    1\n",
       "10668    3\n",
       "10669    5\n",
       "10670    6\n",
       "10671    3\n",
       "10672    3\n",
       "10673    0\n",
       "10674    1\n",
       "10675    6\n",
       "10676    2\n",
       "10677    1\n",
       "10678    1\n",
       "10679    5\n",
       "10680    5\n",
       "10681    4\n",
       "10682    3\n",
       "Name: Date_of_Journey, Length: 10682, dtype: int64"
      ]
     },
     "execution_count": 12,
     "metadata": {},
     "output_type": "execute_result"
    }
   ],
   "source": [
    "weekday=data.Date_of_Journey.dt.weekday\n",
    "weekday"
   ]
  },
  {
   "cell_type": "code",
   "execution_count": 13,
   "metadata": {},
   "outputs": [
    {
     "data": {
      "text/plain": [
       "0        3\n",
       "1        5\n",
       "2        6\n",
       "3        5\n",
       "4        3\n",
       "5        6\n",
       "6        3\n",
       "7        3\n",
       "8        3\n",
       "9        5\n",
       "10       6\n",
       "11       4\n",
       "12       6\n",
       "13       5\n",
       "14       4\n",
       "15       3\n",
       "16       4\n",
       "17       6\n",
       "18       6\n",
       "19       5\n",
       "20       3\n",
       "21       3\n",
       "22       4\n",
       "23       5\n",
       "24       5\n",
       "25       6\n",
       "26       6\n",
       "27       5\n",
       "28       6\n",
       "29       6\n",
       "        ..\n",
       "10653    5\n",
       "10654    6\n",
       "10655    5\n",
       "10656    4\n",
       "10657    5\n",
       "10658    6\n",
       "10659    5\n",
       "10660    3\n",
       "10661    5\n",
       "10662    3\n",
       "10663    6\n",
       "10664    4\n",
       "10665    4\n",
       "10666    6\n",
       "10667    3\n",
       "10668    5\n",
       "10669    6\n",
       "10670    5\n",
       "10671    6\n",
       "10672    6\n",
       "10673    5\n",
       "10674    3\n",
       "10675    6\n",
       "10676    5\n",
       "10677    5\n",
       "10678    4\n",
       "10679    4\n",
       "10680    4\n",
       "10681    3\n",
       "10682    5\n",
       "Name: Date_of_Journey, Length: 10682, dtype: int64"
      ]
     },
     "execution_count": 13,
     "metadata": {},
     "output_type": "execute_result"
    }
   ],
   "source": [
    "month=data.Date_of_Journey.dt.month\n",
    "month"
   ]
  },
  {
   "cell_type": "code",
   "execution_count": 14,
   "metadata": {},
   "outputs": [
    {
     "data": {
      "text/plain": [
       "Delhi       4536\n",
       "Kolkata     2871\n",
       "Banglore    2197\n",
       "Mumbai       697\n",
       "Chennai      381\n",
       "Name: Source, dtype: int64"
      ]
     },
     "execution_count": 14,
     "metadata": {},
     "output_type": "execute_result"
    }
   ],
   "source": [
    "data.Source.value_counts()"
   ]
  },
  {
   "cell_type": "code",
   "execution_count": 15,
   "metadata": {},
   "outputs": [
    {
     "data": {
      "text/plain": [
       "Cochin       4536\n",
       "Banglore     2871\n",
       "Delhi        1265\n",
       "New Delhi     932\n",
       "Hyderabad     697\n",
       "Kolkata       381\n",
       "Name: Destination, dtype: int64"
      ]
     },
     "execution_count": 15,
     "metadata": {},
     "output_type": "execute_result"
    }
   ],
   "source": [
    "data.Destination.value_counts()"
   ]
  },
  {
   "cell_type": "code",
   "execution_count": 16,
   "metadata": {},
   "outputs": [
    {
     "data": {
      "text/plain": [
       "DEL → BOM → COK                      2376\n",
       "BLR → DEL                            1552\n",
       "CCU → BOM → BLR                       979\n",
       "CCU → BLR                             724\n",
       "BOM → HYD                             621\n",
       "CCU → DEL → BLR                       565\n",
       "BLR → BOM → DEL                       402\n",
       "MAA → CCU                             381\n",
       "DEL → HYD → COK                       326\n",
       "DEL → JAI → BOM → COK                 240\n",
       "DEL → BLR → COK                       232\n",
       "DEL → COK                             213\n",
       "DEL → AMD → BOM → COK                 205\n",
       "DEL → MAA → COK                       146\n",
       "DEL → IDR → BOM → COK                  99\n",
       "DEL → HYD → MAA → COK                  83\n",
       "DEL → NAG → BOM → COK                  71\n",
       "CCU → MAA → BLR                        65\n",
       "DEL → GOI → BOM → COK                  58\n",
       "DEL → HYD → BOM → COK                  56\n",
       "CCU → HYD → BLR                        53\n",
       "CCU → BBI → BLR                        50\n",
       "DEL → BHO → BOM → COK                  50\n",
       "CCU → IXR → DEL → BLR                  46\n",
       "DEL → CCU → BOM → COK                  44\n",
       "CCU → BBI → BOM → BLR                  42\n",
       "DEL → PNQ → COK                        42\n",
       "CCU → GAU → BLR                        41\n",
       "DEL → LKO → BOM → COK                  41\n",
       "DEL → ATQ → BOM → COK                  40\n",
       "                                     ... \n",
       "DEL → DED → BOM → COK                   2\n",
       "BOM → IDR → DEL → HYD                   2\n",
       "BLR → STV → DEL                         2\n",
       "BLR → BOM → IDR → GWL → DEL             2\n",
       "CCU → BBI → IXR → DEL → BLR             2\n",
       "BLR → TRV → COK → DEL                   2\n",
       "BOM → BDQ → DEL → HYD                   2\n",
       "BOM → CCU → HYD                         1\n",
       "CCU → IXB → DEL → BLR                   1\n",
       "BOM → BBI → HYD                         1\n",
       "CCU → VTZ → BLR                         1\n",
       "CCU → IXA → BLR                         1\n",
       "BOM → VNS → DEL → HYD                   1\n",
       "BLR → HBX → BOM → AMD → DEL             1\n",
       "BLR → HBX → BOM → NAG → DEL             1\n",
       "BOM → JDH → JAI → DEL → HYD             1\n",
       "BLR → BOM → IXC → DEL                   1\n",
       "BOM → JLR → HYD                         1\n",
       "CCU → RPR → HYD → BLR                   1\n",
       "BLR → CCU → BBI → HYD → VGA → DEL       1\n",
       "BOM → RPR → VTZ → HYD                   1\n",
       "BLR → HBX → BOM → BHO → DEL             1\n",
       "BOM → COK → MAA → HYD                   1\n",
       "BOM → DED → DEL → HYD                   1\n",
       "BOM → GOI → HYD                         1\n",
       "BOM → UDR → DEL → HYD                   1\n",
       "CCU → IXZ → MAA → BLR                   1\n",
       "BOM → BLR → CCU → BBI → HYD             1\n",
       "BOM → NDC → HYD                         1\n",
       "BOM → JAI → DEL → HYD                   1\n",
       "Name: Route, Length: 128, dtype: int64"
      ]
     },
     "execution_count": 16,
     "metadata": {},
     "output_type": "execute_result"
    }
   ],
   "source": [
    "data.Route.value_counts()"
   ]
  },
  {
   "cell_type": "code",
   "execution_count": 17,
   "metadata": {},
   "outputs": [
    {
     "data": {
      "text/plain": [
       "<matplotlib.axes._subplots.AxesSubplot at 0x1757c83fda0>"
      ]
     },
     "execution_count": 17,
     "metadata": {},
     "output_type": "execute_result"
    },
    {
     "data": {
      "image/png": "[encoded data removed]",
      "text/plain": [
       "<Figure size 432x288 with 1 Axes>"
      ]
     },
     "metadata": {
      "needs_background": "light"
     },
     "output_type": "display_data"
    }
   ],
   "source": [
    "sns.countplot(data['Total_Stops'])"
   ]
  },
  {
   "cell_type": "code",
   "execution_count": 18,
   "metadata": {},
   "outputs": [
    {
     "data": {
      "text/plain": [
       "1 stop      5625\n",
       "non-stop    3491\n",
       "2 stops     1520\n",
       "3 stops       45\n",
       "4 stops        1\n",
       "Name: Total_Stops, dtype: int64"
      ]
     },
     "execution_count": 18,
     "metadata": {},
     "output_type": "execute_result"
    }
   ],
   "source": [
    "data['Total_Stops'].value_counts()"
   ]
  },
  {
   "cell_type": "code",
   "execution_count": 19,
   "metadata": {},
   "outputs": [],
   "source": [
    "data=data[data['Total_Stops']!='4 stops']"
   ]
  },
  {
   "cell_type": "code",
   "execution_count": 20,
   "metadata": {},
   "outputs": [
    {
     "data": {
      "text/plain": [
       "1 stop      5625\n",
       "non-stop    3491\n",
       "2 stops     1520\n",
       "3 stops       45\n",
       "Name: Total_Stops, dtype: int64"
      ]
     },
     "execution_count": 20,
     "metadata": {},
     "output_type": "execute_result"
    }
   ],
   "source": [
    "data['Total_Stops'].value_counts()"
   ]
  },
  {
   "cell_type": "code",
   "execution_count": 21,
   "metadata": {},
   "outputs": [],
   "source": [
    "data['Total_Stops']=data['Total_Stops'].map({'non-stop':0,'1 stop':1,'2 stops':2,'3 stops':3})"
   ]
  },
  {
   "cell_type": "code",
   "execution_count": 22,
   "metadata": {},
   "outputs": [
    {
     "data": {
      "text/plain": [
       "1    5625\n",
       "0    3491\n",
       "2    1520\n",
       "3      45\n",
       "Name: Total_Stops, dtype: int64"
      ]
     },
     "execution_count": 22,
     "metadata": {},
     "output_type": "execute_result"
    }
   ],
   "source": [
    "data['Total_Stops'].value_counts()"
   ]
  },
  {
   "cell_type": "code",
   "execution_count": 23,
   "metadata": {
    "scrolled": true
   },
   "outputs": [
    {
     "data": {
      "text/plain": [
       "No info                         8344\n",
       "In-flight meal not included     1982\n",
       "No check-in baggage included     320\n",
       "1 Long layover                    19\n",
       "Change airports                    6\n",
       "Business class                     4\n",
       "No Info                            3\n",
       "Red-eye flight                     1\n",
       "2 Long layover                     1\n",
       "1 Short layover                    1\n",
       "Name: Additional_Info, dtype: int64"
      ]
     },
     "execution_count": 23,
     "metadata": {},
     "output_type": "execute_result"
    }
   ],
   "source": [
    "data['Additional_Info'].value_counts()"
   ]
  },
  {
   "cell_type": "code",
   "execution_count": 24,
   "metadata": {},
   "outputs": [],
   "source": [
    "data=data[(data['Additional_Info']!='1 Long layover')&(data['Additional_Info']!='Change airports')&(data['Additional_Info']!='Business class')&(data['Additional_Info']!='No Info')&(data['Additional_Info']!='Red-eye flight')&(data['Additional_Info']!='2 Long layover')&(data['Additional_Info']!='1 Short layover')]"
   ]
  },
  {
   "cell_type": "code",
   "execution_count": 25,
   "metadata": {},
   "outputs": [
    {
     "data": {
      "text/plain": [
       "No info                         8344\n",
       "In-flight meal not included     1982\n",
       "No check-in baggage included     320\n",
       "Name: Additional_Info, dtype: int64"
      ]
     },
     "execution_count": 25,
     "metadata": {},
     "output_type": "execute_result"
    }
   ],
   "source": [
    "data['Additional_Info'].value_counts()"
   ]
  },
  {
   "cell_type": "code",
   "execution_count": 26,
   "metadata": {},
   "outputs": [
    {
     "data": {
      "text/plain": [
       "<matplotlib.lines.Line2D at 0x1757c2a6438>"
      ]
     },
     "execution_count": 26,
     "metadata": {},
     "output_type": "execute_result"
    },
    {
     "data": {
      "image/png": "[encoded data removed]",
      "text/plain": [
       "<Figure size 576x504 with 1 Axes>"
      ]
     },
     "metadata": {
      "needs_background": "light"
     },
     "output_type": "display_data"
    }
   ],
   "source": [
    "plt.figure(figsize=(8,7))\n",
    "sns.boxplot(month,data['Price'])\n",
    "plt.xlabel('Month of journey')\n",
    "plt.axhline(data['Price'].mean(),color='r',linestyle='dashed',linewidth=2)"
   ]
  },
  {
   "cell_type": "code",
   "execution_count": 27,
   "metadata": {},
   "outputs": [
    {
     "data": {
      "text/plain": [
       "<matplotlib.lines.Line2D at 0x1757c67ed68>"
      ]
     },
     "execution_count": 27,
     "metadata": {},
     "output_type": "execute_result"
    },
    {
     "data": {
      "image/png": "[encoded data removed]",
      "text/plain": [
       "<Figure size 576x504 with 1 Axes>"
      ]
     },
     "metadata": {
      "needs_background": "light"
     },
     "output_type": "display_data"
    }
   ],
   "source": [
    "plt.figure(figsize=(8,7))\n",
    "sns.boxplot(weekday,data['Price'])\n",
    "plt.xlabel('weekday of journey')\n",
    "plt.axhline(data['Price'].mean(),color='r',linestyle='dashed',linewidth=2)"
   ]
  },
  {
   "cell_type": "code",
   "execution_count": 28,
   "metadata": {},
   "outputs": [],
   "source": [
    "data['weekday']=weekday\n",
    "data['month']=month"
   ]
  },
  {
   "cell_type": "code",
   "execution_count": 29,
   "metadata": {},
   "outputs": [],
   "source": [
    "data.weekday=data.weekday.map({0:0,1:1,2:1,3:1,5:1,6:1,4:2})"
   ]
  },
  {
   "cell_type": "code",
   "execution_count": 30,
   "metadata": {},
   "outputs": [
    {
     "data": {
      "text/html": [
       "<div>\n",
       "<style scoped>\n",
       "    .dataframe tbody tr th:only-of-type {\n",
       "        vertical-align: middle;\n",
       "    }\n",
       "\n",
       "    .dataframe tbody tr th {\n",
       "        vertical-align: top;\n",
       "    }\n",
       "\n",
       "    .dataframe thead th {\n",
       "        text-align: right;\n",
       "    }\n",
       "</style>\n",
       "<table border=\"1\" class=\"dataframe\">\n",
       "  <thead>\n",
       "    <tr style=\"text-align: right;\">\n",
       "      <th></th>\n",
       "      <th>Airline</th>\n",
       "      <th>Date_of_Journey</th>\n",
       "      <th>Source</th>\n",
       "      <th>Destination</th>\n",
       "      <th>Route</th>\n",
       "      <th>Dep_Time</th>\n",
       "      <th>Arrival_Time</th>\n",
       "      <th>Duration</th>\n",
       "      <th>Total_Stops</th>\n",
       "      <th>Additional_Info</th>\n",
       "      <th>Price</th>\n",
       "      <th>weekday</th>\n",
       "      <th>month</th>\n",
       "    </tr>\n",
       "  </thead>\n",
       "  <tbody>\n",
       "    <tr>\n",
       "      <th>0</th>\n",
       "      <td>IndiGo</td>\n",
       "      <td>2019-03-24</td>\n",
       "      <td>Banglore</td>\n",
       "      <td>New Delhi</td>\n",
       "      <td>BLR → DEL</td>\n",
       "      <td>22:20</td>\n",
       "      <td>01:10 22 Mar</td>\n",
       "      <td>2h 50m</td>\n",
       "      <td>0</td>\n",
       "      <td>No info</td>\n",
       "      <td>3897</td>\n",
       "      <td>1</td>\n",
       "      <td>3</td>\n",
       "    </tr>\n",
       "    <tr>\n",
       "      <th>1</th>\n",
       "      <td>Air India</td>\n",
       "      <td>2019-05-01</td>\n",
       "      <td>Kolkata</td>\n",
       "      <td>Banglore</td>\n",
       "      <td>CCU → IXR → BBI → BLR</td>\n",
       "      <td>05:50</td>\n",
       "      <td>13:15</td>\n",
       "      <td>7h 25m</td>\n",
       "      <td>2</td>\n",
       "      <td>No info</td>\n",
       "      <td>7662</td>\n",
       "      <td>1</td>\n",
       "      <td>5</td>\n",
       "    </tr>\n",
       "    <tr>\n",
       "      <th>2</th>\n",
       "      <td>Jet Airways</td>\n",
       "      <td>2019-06-09</td>\n",
       "      <td>Delhi</td>\n",
       "      <td>Cochin</td>\n",
       "      <td>DEL → LKO → BOM → COK</td>\n",
       "      <td>09:25</td>\n",
       "      <td>04:25 10 Jun</td>\n",
       "      <td>19h</td>\n",
       "      <td>2</td>\n",
       "      <td>No info</td>\n",
       "      <td>13882</td>\n",
       "      <td>1</td>\n",
       "      <td>6</td>\n",
       "    </tr>\n",
       "    <tr>\n",
       "      <th>3</th>\n",
       "      <td>IndiGo</td>\n",
       "      <td>2019-05-12</td>\n",
       "      <td>Kolkata</td>\n",
       "      <td>Banglore</td>\n",
       "      <td>CCU → NAG → BLR</td>\n",
       "      <td>18:05</td>\n",
       "      <td>23:30</td>\n",
       "      <td>5h 25m</td>\n",
       "      <td>1</td>\n",
       "      <td>No info</td>\n",
       "      <td>6218</td>\n",
       "      <td>1</td>\n",
       "      <td>5</td>\n",
       "    </tr>\n",
       "    <tr>\n",
       "      <th>4</th>\n",
       "      <td>IndiGo</td>\n",
       "      <td>2019-03-01</td>\n",
       "      <td>Banglore</td>\n",
       "      <td>New Delhi</td>\n",
       "      <td>BLR → NAG → DEL</td>\n",
       "      <td>16:50</td>\n",
       "      <td>21:35</td>\n",
       "      <td>4h 45m</td>\n",
       "      <td>1</td>\n",
       "      <td>No info</td>\n",
       "      <td>13302</td>\n",
       "      <td>2</td>\n",
       "      <td>3</td>\n",
       "    </tr>\n",
       "  </tbody>\n",
       "</table>\n",
       "</div>"
      ],
      "text/plain": [
       "       Airline Date_of_Journey    Source Destination                  Route  \\\n",
       "0       IndiGo      2019-03-24  Banglore   New Delhi              BLR → DEL   \n",
       "1    Air India      2019-05-01   Kolkata    Banglore  CCU → IXR → BBI → BLR   \n",
       "2  Jet Airways      2019-06-09     Delhi      Cochin  DEL → LKO → BOM → COK   \n",
       "3       IndiGo      2019-05-12   Kolkata    Banglore        CCU → NAG → BLR   \n",
       "4       IndiGo      2019-03-01  Banglore   New Delhi        BLR → NAG → DEL   \n",
       "\n",
       "  Dep_Time  Arrival_Time Duration  Total_Stops Additional_Info  Price  \\\n",
       "0    22:20  01:10 22 Mar   2h 50m            0         No info   3897   \n",
       "1    05:50         13:15   7h 25m            2         No info   7662   \n",
       "2    09:25  04:25 10 Jun      19h            2         No info  13882   \n",
       "3    18:05         23:30   5h 25m            1         No info   6218   \n",
       "4    16:50         21:35   4h 45m            1         No info  13302   \n",
       "\n",
       "   weekday  month  \n",
       "0        1      3  \n",
       "1        1      5  \n",
       "2        1      6  \n",
       "3        1      5  \n",
       "4        2      3  "
      ]
     },
     "execution_count": 30,
     "metadata": {},
     "output_type": "execute_result"
    }
   ],
   "source": [
    "data.head()"
   ]
  },
  {
   "cell_type": "code",
   "execution_count": 31,
   "metadata": {},
   "outputs": [],
   "source": [
    "data.drop(['Date_of_Journey','Dep_Time','Arrival_Time'],axis=1,inplace=True)"
   ]
  },
  {
   "cell_type": "code",
   "execution_count": 32,
   "metadata": {},
   "outputs": [
    {
     "data": {
      "text/plain": [
       "<matplotlib.lines.Line2D at 0x1757c2a6128>"
      ]
     },
     "execution_count": 32,
     "metadata": {},
     "output_type": "execute_result"
    },
    {
     "data": {
      "image/png": "[encoded data removed]",
      "text/plain": [
       "<Figure size 576x504 with 1 Axes>"
      ]
     },
     "metadata": {
      "needs_background": "light"
     },
     "output_type": "display_data"
    }
   ],
   "source": [
    "plt.figure(figsize=(8,7))\n",
    "sns.boxplot(data.Airline,data['Price'])\n",
    "plt.axhline(data['Price'].mean(),color='r',linestyle='dashed',linewidth=2)"
   ]
  },
  {
   "cell_type": "code",
   "execution_count": 33,
   "metadata": {},
   "outputs": [
    {
     "data": {
      "text/plain": [
       "<matplotlib.collections.PathCollection at 0x1757c7a9e80>"
      ]
     },
     "execution_count": 33,
     "metadata": {},
     "output_type": "execute_result"
    },
    {
     "data": {
      "image/png": "[encoded data removed]",
      "text/plain": [
       "<Figure size 1080x504 with 1 Axes>"
      ]
     },
     "metadata": {
      "needs_background": "light"
     },
     "output_type": "display_data"
    }
   ],
   "source": [
    "plt.figure(figsize=(15,7))\n",
    "plt.scatter(data.Duration,y=data.Price)"
   ]
  },
  {
   "cell_type": "code",
   "execution_count": 34,
   "metadata": {},
   "outputs": [
    {
     "data": {
      "text/plain": [
       "2h 50m     550\n",
       "1h 30m     386\n",
       "2h 55m     337\n",
       "2h 45m     336\n",
       "2h 35m     329\n",
       "3h         261\n",
       "2h 20m     238\n",
       "2h 30m     220\n",
       "2h 40m     158\n",
       "2h 15m     135\n",
       "1h 25m     135\n",
       "2h 25m      98\n",
       "13h 30m     97\n",
       "13h 20m     89\n",
       "3h 15m      88\n",
       "7h 30m      86\n",
       "9h 30m      85\n",
       "8h 40m      81\n",
       "7h 15m      78\n",
       "3h 5m       78\n",
       "5h 30m      72\n",
       "7h 35m      71\n",
       "8h          68\n",
       "7h 5m       65\n",
       "9h          64\n",
       "9h 50m      64\n",
       "5h          63\n",
       "11h 45m     62\n",
       "5h 15m      62\n",
       "1h 20m      61\n",
       "          ... \n",
       "20h 50m      2\n",
       "27h 55m      1\n",
       "5m           1\n",
       "41h 20m      1\n",
       "31h 30m      1\n",
       "30h 25m      1\n",
       "33h 45m      1\n",
       "31h 50m      1\n",
       "30h 15m      1\n",
       "35h 20m      1\n",
       "3h 25m       1\n",
       "37h 10m      1\n",
       "4h 10m       1\n",
       "36h 25m      1\n",
       "27h 30m      1\n",
       "19h 50m      1\n",
       "30h 10m      1\n",
       "35h 35m      1\n",
       "40h 20m      1\n",
       "29h 40m      1\n",
       "29h 10m      1\n",
       "42h 45m      1\n",
       "32h 55m      1\n",
       "13h 35m      1\n",
       "47h 40m      1\n",
       "47h          1\n",
       "32h 20m      1\n",
       "33h 20m      1\n",
       "28h 30m      1\n",
       "42h 5m       1\n",
       "Name: Duration, Length: 367, dtype: int64"
      ]
     },
     "execution_count": 34,
     "metadata": {},
     "output_type": "execute_result"
    }
   ],
   "source": [
    "data.Duration.value_counts()"
   ]
  },
  {
   "cell_type": "code",
   "execution_count": 35,
   "metadata": {},
   "outputs": [
    {
     "data": {
      "text/html": [
       "<div>\n",
       "<style scoped>\n",
       "    .dataframe tbody tr th:only-of-type {\n",
       "        vertical-align: middle;\n",
       "    }\n",
       "\n",
       "    .dataframe tbody tr th {\n",
       "        vertical-align: top;\n",
       "    }\n",
       "\n",
       "    .dataframe thead th {\n",
       "        text-align: right;\n",
       "    }\n",
       "</style>\n",
       "<table border=\"1\" class=\"dataframe\">\n",
       "  <thead>\n",
       "    <tr style=\"text-align: right;\">\n",
       "      <th></th>\n",
       "      <th>Airline</th>\n",
       "      <th>Date_of_Journey</th>\n",
       "      <th>Source</th>\n",
       "      <th>Destination</th>\n",
       "      <th>Route</th>\n",
       "      <th>Dep_Time</th>\n",
       "      <th>Arrival_Time</th>\n",
       "      <th>Duration</th>\n",
       "      <th>Total_Stops</th>\n",
       "      <th>Additional_Info</th>\n",
       "    </tr>\n",
       "  </thead>\n",
       "  <tbody>\n",
       "    <tr>\n",
       "      <th>0</th>\n",
       "      <td>Jet Airways</td>\n",
       "      <td>6/06/2019</td>\n",
       "      <td>Delhi</td>\n",
       "      <td>Cochin</td>\n",
       "      <td>DEL → BOM → COK</td>\n",
       "      <td>17:30</td>\n",
       "      <td>04:25 07 Jun</td>\n",
       "      <td>10h 55m</td>\n",
       "      <td>1 stop</td>\n",
       "      <td>No info</td>\n",
       "    </tr>\n",
       "    <tr>\n",
       "      <th>1</th>\n",
       "      <td>IndiGo</td>\n",
       "      <td>12/05/2019</td>\n",
       "      <td>Kolkata</td>\n",
       "      <td>Banglore</td>\n",
       "      <td>CCU → MAA → BLR</td>\n",
       "      <td>06:20</td>\n",
       "      <td>10:20</td>\n",
       "      <td>4h</td>\n",
       "      <td>1 stop</td>\n",
       "      <td>No info</td>\n",
       "    </tr>\n",
       "    <tr>\n",
       "      <th>2</th>\n",
       "      <td>Jet Airways</td>\n",
       "      <td>21/05/2019</td>\n",
       "      <td>Delhi</td>\n",
       "      <td>Cochin</td>\n",
       "      <td>DEL → BOM → COK</td>\n",
       "      <td>19:15</td>\n",
       "      <td>19:00 22 May</td>\n",
       "      <td>23h 45m</td>\n",
       "      <td>1 stop</td>\n",
       "      <td>In-flight meal not included</td>\n",
       "    </tr>\n",
       "    <tr>\n",
       "      <th>3</th>\n",
       "      <td>Multiple carriers</td>\n",
       "      <td>21/05/2019</td>\n",
       "      <td>Delhi</td>\n",
       "      <td>Cochin</td>\n",
       "      <td>DEL → BOM → COK</td>\n",
       "      <td>08:00</td>\n",
       "      <td>21:00</td>\n",
       "      <td>13h</td>\n",
       "      <td>1 stop</td>\n",
       "      <td>No info</td>\n",
       "    </tr>\n",
       "    <tr>\n",
       "      <th>4</th>\n",
       "      <td>Air Asia</td>\n",
       "      <td>24/06/2019</td>\n",
       "      <td>Banglore</td>\n",
       "      <td>Delhi</td>\n",
       "      <td>BLR → DEL</td>\n",
       "      <td>23:55</td>\n",
       "      <td>02:45 25 Jun</td>\n",
       "      <td>2h 50m</td>\n",
       "      <td>non-stop</td>\n",
       "      <td>No info</td>\n",
       "    </tr>\n",
       "  </tbody>\n",
       "</table>\n",
       "</div>"
      ],
      "text/plain": [
       "             Airline Date_of_Journey    Source Destination            Route  \\\n",
       "0        Jet Airways       6/06/2019     Delhi      Cochin  DEL → BOM → COK   \n",
       "1             IndiGo      12/05/2019   Kolkata    Banglore  CCU → MAA → BLR   \n",
       "2        Jet Airways      21/05/2019     Delhi      Cochin  DEL → BOM → COK   \n",
       "3  Multiple carriers      21/05/2019     Delhi      Cochin  DEL → BOM → COK   \n",
       "4           Air Asia      24/06/2019  Banglore       Delhi        BLR → DEL   \n",
       "\n",
       "  Dep_Time  Arrival_Time Duration Total_Stops              Additional_Info  \n",
       "0    17:30  04:25 07 Jun  10h 55m      1 stop                      No info  \n",
       "1    06:20         10:20       4h      1 stop                      No info  \n",
       "2    19:15  19:00 22 May  23h 45m      1 stop  In-flight meal not included  \n",
       "3    08:00         21:00      13h      1 stop                      No info  \n",
       "4    23:55  02:45 25 Jun   2h 50m    non-stop                      No info  "
      ]
     },
     "execution_count": 35,
     "metadata": {},
     "output_type": "execute_result"
    }
   ],
   "source": [
    "data_test=pd.read_excel('C:/Users/Akshay-Laptop/Desktop/practice/Flight_Ticket_Participant_Datasets-20190305T100527Z-001/Flight_Ticket_Participant_Datasets/Test_set.xlsx')\n",
    "data_test.head()"
   ]
  },
  {
   "cell_type": "code",
   "execution_count": 36,
   "metadata": {},
   "outputs": [],
   "source": [
    "data_test.Airline=data_test.Airline.map({'Jet Airways':'Jet Airways','IndiGo':'IndiGo','Air India':'Air India','Multiple carriers':'Multiple carriers',\n",
    "                              'SpiceJet':'SpiceJet','Vistara':'Vistara','Air Asia':'Air Asia','Air Asia':'other','GoAir':'other',\n",
    "                              'Multiple carriers Premium economy':'other','Jet Airways Business':'other','Vistara Premium economy':'other',\n",
    "                              'Trujet':'other'})"
   ]
  },
  {
   "cell_type": "code",
   "execution_count": 37,
   "metadata": {},
   "outputs": [],
   "source": [
    "data_test.Date_of_Journey=pd.to_datetime(data_test.Date_of_Journey,format='%d/%m/%Y')"
   ]
  },
  {
   "cell_type": "code",
   "execution_count": 38,
   "metadata": {},
   "outputs": [
    {
     "data": {
      "text/plain": [
       "0       3\n",
       "1       6\n",
       "2       1\n",
       "3       1\n",
       "4       0\n",
       "5       2\n",
       "6       1\n",
       "7       2\n",
       "8       4\n",
       "9       5\n",
       "10      3\n",
       "11      5\n",
       "12      2\n",
       "13      1\n",
       "14      0\n",
       "15      2\n",
       "16      3\n",
       "17      6\n",
       "18      2\n",
       "19      1\n",
       "20      2\n",
       "21      3\n",
       "22      0\n",
       "23      3\n",
       "24      5\n",
       "25      3\n",
       "26      2\n",
       "27      1\n",
       "28      3\n",
       "29      5\n",
       "       ..\n",
       "2641    3\n",
       "2642    1\n",
       "2643    3\n",
       "2644    0\n",
       "2645    1\n",
       "2646    5\n",
       "2647    2\n",
       "2648    0\n",
       "2649    0\n",
       "2650    3\n",
       "2651    3\n",
       "2652    1\n",
       "2653    5\n",
       "2654    6\n",
       "2655    0\n",
       "2656    6\n",
       "2657    3\n",
       "2658    5\n",
       "2659    5\n",
       "2660    1\n",
       "2661    2\n",
       "2662    1\n",
       "2663    6\n",
       "2664    5\n",
       "2665    4\n",
       "2666    3\n",
       "2667    2\n",
       "2668    2\n",
       "2669    2\n",
       "2670    5\n",
       "Name: Date_of_Journey, Length: 2671, dtype: int64"
      ]
     },
     "execution_count": 38,
     "metadata": {},
     "output_type": "execute_result"
    }
   ],
   "source": [
    "weekday=data_test.Date_of_Journey.dt.weekday\n",
    "weekday"
   ]
  },
  {
   "cell_type": "code",
   "execution_count": 39,
   "metadata": {},
   "outputs": [
    {
     "data": {
      "text/plain": [
       "0       3\n",
       "1       6\n",
       "2       1\n",
       "3       1\n",
       "4       0\n",
       "5       2\n",
       "6       1\n",
       "7       2\n",
       "8       4\n",
       "9       5\n",
       "10      3\n",
       "11      5\n",
       "12      2\n",
       "13      1\n",
       "14      0\n",
       "15      2\n",
       "16      3\n",
       "17      6\n",
       "18      2\n",
       "19      1\n",
       "20      2\n",
       "21      3\n",
       "22      0\n",
       "23      3\n",
       "24      5\n",
       "25      3\n",
       "26      2\n",
       "27      1\n",
       "28      3\n",
       "29      5\n",
       "       ..\n",
       "2641    3\n",
       "2642    1\n",
       "2643    3\n",
       "2644    0\n",
       "2645    1\n",
       "2646    5\n",
       "2647    2\n",
       "2648    0\n",
       "2649    0\n",
       "2650    3\n",
       "2651    3\n",
       "2652    1\n",
       "2653    5\n",
       "2654    6\n",
       "2655    0\n",
       "2656    6\n",
       "2657    3\n",
       "2658    5\n",
       "2659    5\n",
       "2660    1\n",
       "2661    2\n",
       "2662    1\n",
       "2663    6\n",
       "2664    5\n",
       "2665    4\n",
       "2666    3\n",
       "2667    2\n",
       "2668    2\n",
       "2669    2\n",
       "2670    5\n",
       "Name: Date_of_Journey, Length: 2671, dtype: int64"
      ]
     },
     "execution_count": 39,
     "metadata": {},
     "output_type": "execute_result"
    }
   ],
   "source": [
    "month=data_test.Date_of_Journey.dt.weekday\n",
    "month"
   ]
  },
  {
   "cell_type": "code",
   "execution_count": 40,
   "metadata": {},
   "outputs": [
    {
     "data": {
      "text/plain": [
       "Airline            0\n",
       "Date_of_Journey    0\n",
       "Source             0\n",
       "Destination        0\n",
       "Route              0\n",
       "Dep_Time           0\n",
       "Arrival_Time       0\n",
       "Duration           0\n",
       "Total_Stops        0\n",
       "Additional_Info    0\n",
       "dtype: int64"
      ]
     },
     "execution_count": 40,
     "metadata": {},
     "output_type": "execute_result"
    }
   ],
   "source": [
    "data_test.isnull().sum()"
   ]
  },
  {
   "cell_type": "code",
   "execution_count": 41,
   "metadata": {},
   "outputs": [],
   "source": [
    "data_test=data_test[data_test['Total_Stops']!='4 stops']"
   ]
  },
  {
   "cell_type": "code",
   "execution_count": 42,
   "metadata": {},
   "outputs": [],
   "source": [
    "data_test['Total_Stops']=data_test['Total_Stops'].map({'non-stop':0,'1 stop':1,'2 stops':2,'3 stops':3})"
   ]
  },
  {
   "cell_type": "code",
   "execution_count": 43,
   "metadata": {},
   "outputs": [],
   "source": [
    "data_test=data_test[(data_test['Additional_Info']!='1 Long layover')&(data_test['Additional_Info']!='Change airports')&(data_test['Additional_Info']!='Business class')&(data_test['Additional_Info']!='No Info')&(data_test['Additional_Info']!='Red-eye flight')&(data_test['Additional_Info']!='2 Long layover')&(data_test['Additional_Info']!='1 Short layover')]"
   ]
  },
  {
   "cell_type": "code",
   "execution_count": 44,
   "metadata": {},
   "outputs": [],
   "source": [
    "data_test['weekday']=weekday\n",
    "data_test['month']=month"
   ]
  },
  {
   "cell_type": "code",
   "execution_count": 45,
   "metadata": {},
   "outputs": [
    {
     "data": {
      "text/html": [
       "<div>\n",
       "<style scoped>\n",
       "    .dataframe tbody tr th:only-of-type {\n",
       "        vertical-align: middle;\n",
       "    }\n",
       "\n",
       "    .dataframe tbody tr th {\n",
       "        vertical-align: top;\n",
       "    }\n",
       "\n",
       "    .dataframe thead th {\n",
       "        text-align: right;\n",
       "    }\n",
       "</style>\n",
       "<table border=\"1\" class=\"dataframe\">\n",
       "  <thead>\n",
       "    <tr style=\"text-align: right;\">\n",
       "      <th></th>\n",
       "      <th>Airline</th>\n",
       "      <th>Date_of_Journey</th>\n",
       "      <th>Source</th>\n",
       "      <th>Destination</th>\n",
       "      <th>Route</th>\n",
       "      <th>Dep_Time</th>\n",
       "      <th>Arrival_Time</th>\n",
       "      <th>Duration</th>\n",
       "      <th>Total_Stops</th>\n",
       "      <th>Additional_Info</th>\n",
       "      <th>weekday</th>\n",
       "      <th>month</th>\n",
       "    </tr>\n",
       "  </thead>\n",
       "  <tbody>\n",
       "    <tr>\n",
       "      <th>0</th>\n",
       "      <td>Jet Airways</td>\n",
       "      <td>2019-06-06</td>\n",
       "      <td>Delhi</td>\n",
       "      <td>Cochin</td>\n",
       "      <td>DEL → BOM → COK</td>\n",
       "      <td>17:30</td>\n",
       "      <td>04:25 07 Jun</td>\n",
       "      <td>10h 55m</td>\n",
       "      <td>1</td>\n",
       "      <td>No info</td>\n",
       "      <td>3</td>\n",
       "      <td>3</td>\n",
       "    </tr>\n",
       "    <tr>\n",
       "      <th>1</th>\n",
       "      <td>IndiGo</td>\n",
       "      <td>2019-05-12</td>\n",
       "      <td>Kolkata</td>\n",
       "      <td>Banglore</td>\n",
       "      <td>CCU → MAA → BLR</td>\n",
       "      <td>06:20</td>\n",
       "      <td>10:20</td>\n",
       "      <td>4h</td>\n",
       "      <td>1</td>\n",
       "      <td>No info</td>\n",
       "      <td>6</td>\n",
       "      <td>6</td>\n",
       "    </tr>\n",
       "    <tr>\n",
       "      <th>2</th>\n",
       "      <td>Jet Airways</td>\n",
       "      <td>2019-05-21</td>\n",
       "      <td>Delhi</td>\n",
       "      <td>Cochin</td>\n",
       "      <td>DEL → BOM → COK</td>\n",
       "      <td>19:15</td>\n",
       "      <td>19:00 22 May</td>\n",
       "      <td>23h 45m</td>\n",
       "      <td>1</td>\n",
       "      <td>In-flight meal not included</td>\n",
       "      <td>1</td>\n",
       "      <td>1</td>\n",
       "    </tr>\n",
       "    <tr>\n",
       "      <th>3</th>\n",
       "      <td>Multiple carriers</td>\n",
       "      <td>2019-05-21</td>\n",
       "      <td>Delhi</td>\n",
       "      <td>Cochin</td>\n",
       "      <td>DEL → BOM → COK</td>\n",
       "      <td>08:00</td>\n",
       "      <td>21:00</td>\n",
       "      <td>13h</td>\n",
       "      <td>1</td>\n",
       "      <td>No info</td>\n",
       "      <td>1</td>\n",
       "      <td>1</td>\n",
       "    </tr>\n",
       "    <tr>\n",
       "      <th>4</th>\n",
       "      <td>other</td>\n",
       "      <td>2019-06-24</td>\n",
       "      <td>Banglore</td>\n",
       "      <td>Delhi</td>\n",
       "      <td>BLR → DEL</td>\n",
       "      <td>23:55</td>\n",
       "      <td>02:45 25 Jun</td>\n",
       "      <td>2h 50m</td>\n",
       "      <td>0</td>\n",
       "      <td>No info</td>\n",
       "      <td>0</td>\n",
       "      <td>0</td>\n",
       "    </tr>\n",
       "  </tbody>\n",
       "</table>\n",
       "</div>"
      ],
      "text/plain": [
       "             Airline Date_of_Journey    Source Destination            Route  \\\n",
       "0        Jet Airways      2019-06-06     Delhi      Cochin  DEL → BOM → COK   \n",
       "1             IndiGo      2019-05-12   Kolkata    Banglore  CCU → MAA → BLR   \n",
       "2        Jet Airways      2019-05-21     Delhi      Cochin  DEL → BOM → COK   \n",
       "3  Multiple carriers      2019-05-21     Delhi      Cochin  DEL → BOM → COK   \n",
       "4              other      2019-06-24  Banglore       Delhi        BLR → DEL   \n",
       "\n",
       "  Dep_Time  Arrival_Time Duration  Total_Stops              Additional_Info  \\\n",
       "0    17:30  04:25 07 Jun  10h 55m            1                      No info   \n",
       "1    06:20         10:20       4h            1                      No info   \n",
       "2    19:15  19:00 22 May  23h 45m            1  In-flight meal not included   \n",
       "3    08:00         21:00      13h            1                      No info   \n",
       "4    23:55  02:45 25 Jun   2h 50m            0                      No info   \n",
       "\n",
       "   weekday  month  \n",
       "0        3      3  \n",
       "1        6      6  \n",
       "2        1      1  \n",
       "3        1      1  \n",
       "4        0      0  "
      ]
     },
     "execution_count": 45,
     "metadata": {},
     "output_type": "execute_result"
    }
   ],
   "source": [
    "data_test.head()"
   ]
  },
  {
   "cell_type": "code",
   "execution_count": 46,
   "metadata": {},
   "outputs": [],
   "source": [
    "data_test.drop(['Date_of_Journey','Dep_Time','Arrival_Time'],axis=1,inplace=True)"
   ]
  },
  {
   "cell_type": "code",
   "execution_count": 47,
   "metadata": {},
   "outputs": [
    {
     "data": {
      "text/html": [
       "<div>\n",
       "<style scoped>\n",
       "    .dataframe tbody tr th:only-of-type {\n",
       "        vertical-align: middle;\n",
       "    }\n",
       "\n",
       "    .dataframe tbody tr th {\n",
       "        vertical-align: top;\n",
       "    }\n",
       "\n",
       "    .dataframe thead th {\n",
       "        text-align: right;\n",
       "    }\n",
       "</style>\n",
       "<table border=\"1\" class=\"dataframe\">\n",
       "  <thead>\n",
       "    <tr style=\"text-align: right;\">\n",
       "      <th></th>\n",
       "      <th>Airline</th>\n",
       "      <th>Source</th>\n",
       "      <th>Destination</th>\n",
       "      <th>Route</th>\n",
       "      <th>Duration</th>\n",
       "      <th>Total_Stops</th>\n",
       "      <th>Additional_Info</th>\n",
       "      <th>weekday</th>\n",
       "      <th>month</th>\n",
       "    </tr>\n",
       "  </thead>\n",
       "  <tbody>\n",
       "    <tr>\n",
       "      <th>0</th>\n",
       "      <td>Jet Airways</td>\n",
       "      <td>Delhi</td>\n",
       "      <td>Cochin</td>\n",
       "      <td>DEL → BOM → COK</td>\n",
       "      <td>10h 55m</td>\n",
       "      <td>1</td>\n",
       "      <td>No info</td>\n",
       "      <td>3</td>\n",
       "      <td>3</td>\n",
       "    </tr>\n",
       "    <tr>\n",
       "      <th>1</th>\n",
       "      <td>IndiGo</td>\n",
       "      <td>Kolkata</td>\n",
       "      <td>Banglore</td>\n",
       "      <td>CCU → MAA → BLR</td>\n",
       "      <td>4h</td>\n",
       "      <td>1</td>\n",
       "      <td>No info</td>\n",
       "      <td>6</td>\n",
       "      <td>6</td>\n",
       "    </tr>\n",
       "    <tr>\n",
       "      <th>2</th>\n",
       "      <td>Jet Airways</td>\n",
       "      <td>Delhi</td>\n",
       "      <td>Cochin</td>\n",
       "      <td>DEL → BOM → COK</td>\n",
       "      <td>23h 45m</td>\n",
       "      <td>1</td>\n",
       "      <td>In-flight meal not included</td>\n",
       "      <td>1</td>\n",
       "      <td>1</td>\n",
       "    </tr>\n",
       "    <tr>\n",
       "      <th>3</th>\n",
       "      <td>Multiple carriers</td>\n",
       "      <td>Delhi</td>\n",
       "      <td>Cochin</td>\n",
       "      <td>DEL → BOM → COK</td>\n",
       "      <td>13h</td>\n",
       "      <td>1</td>\n",
       "      <td>No info</td>\n",
       "      <td>1</td>\n",
       "      <td>1</td>\n",
       "    </tr>\n",
       "    <tr>\n",
       "      <th>4</th>\n",
       "      <td>other</td>\n",
       "      <td>Banglore</td>\n",
       "      <td>Delhi</td>\n",
       "      <td>BLR → DEL</td>\n",
       "      <td>2h 50m</td>\n",
       "      <td>0</td>\n",
       "      <td>No info</td>\n",
       "      <td>0</td>\n",
       "      <td>0</td>\n",
       "    </tr>\n",
       "  </tbody>\n",
       "</table>\n",
       "</div>"
      ],
      "text/plain": [
       "             Airline    Source Destination            Route Duration  \\\n",
       "0        Jet Airways     Delhi      Cochin  DEL → BOM → COK  10h 55m   \n",
       "1             IndiGo   Kolkata    Banglore  CCU → MAA → BLR       4h   \n",
       "2        Jet Airways     Delhi      Cochin  DEL → BOM → COK  23h 45m   \n",
       "3  Multiple carriers     Delhi      Cochin  DEL → BOM → COK      13h   \n",
       "4              other  Banglore       Delhi        BLR → DEL   2h 50m   \n",
       "\n",
       "   Total_Stops              Additional_Info  weekday  month  \n",
       "0            1                      No info        3      3  \n",
       "1            1                      No info        6      6  \n",
       "2            1  In-flight meal not included        1      1  \n",
       "3            1                      No info        1      1  \n",
       "4            0                      No info        0      0  "
      ]
     },
     "execution_count": 47,
     "metadata": {},
     "output_type": "execute_result"
    }
   ],
   "source": [
    "data_test.head()"
   ]
  },
  {
   "cell_type": "code",
   "execution_count": 48,
   "metadata": {},
   "outputs": [
    {
     "data": {
      "text/html": [
       "<div>\n",
       "<style scoped>\n",
       "    .dataframe tbody tr th:only-of-type {\n",
       "        vertical-align: middle;\n",
       "    }\n",
       "\n",
       "    .dataframe tbody tr th {\n",
       "        vertical-align: top;\n",
       "    }\n",
       "\n",
       "    .dataframe thead th {\n",
       "        text-align: right;\n",
       "    }\n",
       "</style>\n",
       "<table border=\"1\" class=\"dataframe\">\n",
       "  <thead>\n",
       "    <tr style=\"text-align: right;\">\n",
       "      <th></th>\n",
       "      <th>Airline</th>\n",
       "      <th>Source</th>\n",
       "      <th>Destination</th>\n",
       "      <th>Route</th>\n",
       "      <th>Duration</th>\n",
       "      <th>Total_Stops</th>\n",
       "      <th>Additional_Info</th>\n",
       "      <th>Price</th>\n",
       "      <th>weekday</th>\n",
       "      <th>month</th>\n",
       "    </tr>\n",
       "  </thead>\n",
       "  <tbody>\n",
       "    <tr>\n",
       "      <th>0</th>\n",
       "      <td>IndiGo</td>\n",
       "      <td>Banglore</td>\n",
       "      <td>New Delhi</td>\n",
       "      <td>BLR → DEL</td>\n",
       "      <td>2h 50m</td>\n",
       "      <td>0</td>\n",
       "      <td>No info</td>\n",
       "      <td>3897</td>\n",
       "      <td>1</td>\n",
       "      <td>3</td>\n",
       "    </tr>\n",
       "    <tr>\n",
       "      <th>1</th>\n",
       "      <td>Air India</td>\n",
       "      <td>Kolkata</td>\n",
       "      <td>Banglore</td>\n",
       "      <td>CCU → IXR → BBI → BLR</td>\n",
       "      <td>7h 25m</td>\n",
       "      <td>2</td>\n",
       "      <td>No info</td>\n",
       "      <td>7662</td>\n",
       "      <td>1</td>\n",
       "      <td>5</td>\n",
       "    </tr>\n",
       "    <tr>\n",
       "      <th>2</th>\n",
       "      <td>Jet Airways</td>\n",
       "      <td>Delhi</td>\n",
       "      <td>Cochin</td>\n",
       "      <td>DEL → LKO → BOM → COK</td>\n",
       "      <td>19h</td>\n",
       "      <td>2</td>\n",
       "      <td>No info</td>\n",
       "      <td>13882</td>\n",
       "      <td>1</td>\n",
       "      <td>6</td>\n",
       "    </tr>\n",
       "    <tr>\n",
       "      <th>3</th>\n",
       "      <td>IndiGo</td>\n",
       "      <td>Kolkata</td>\n",
       "      <td>Banglore</td>\n",
       "      <td>CCU → NAG → BLR</td>\n",
       "      <td>5h 25m</td>\n",
       "      <td>1</td>\n",
       "      <td>No info</td>\n",
       "      <td>6218</td>\n",
       "      <td>1</td>\n",
       "      <td>5</td>\n",
       "    </tr>\n",
       "    <tr>\n",
       "      <th>4</th>\n",
       "      <td>IndiGo</td>\n",
       "      <td>Banglore</td>\n",
       "      <td>New Delhi</td>\n",
       "      <td>BLR → NAG → DEL</td>\n",
       "      <td>4h 45m</td>\n",
       "      <td>1</td>\n",
       "      <td>No info</td>\n",
       "      <td>13302</td>\n",
       "      <td>2</td>\n",
       "      <td>3</td>\n",
       "    </tr>\n",
       "  </tbody>\n",
       "</table>\n",
       "</div>"
      ],
      "text/plain": [
       "       Airline    Source Destination                  Route Duration  \\\n",
       "0       IndiGo  Banglore   New Delhi              BLR → DEL   2h 50m   \n",
       "1    Air India   Kolkata    Banglore  CCU → IXR → BBI → BLR   7h 25m   \n",
       "2  Jet Airways     Delhi      Cochin  DEL → LKO → BOM → COK      19h   \n",
       "3       IndiGo   Kolkata    Banglore        CCU → NAG → BLR   5h 25m   \n",
       "4       IndiGo  Banglore   New Delhi        BLR → NAG → DEL   4h 45m   \n",
       "\n",
       "   Total_Stops Additional_Info  Price  weekday  month  \n",
       "0            0         No info   3897        1      3  \n",
       "1            2         No info   7662        1      5  \n",
       "2            2         No info  13882        1      6  \n",
       "3            1         No info   6218        1      5  \n",
       "4            1         No info  13302        2      3  "
      ]
     },
     "execution_count": 48,
     "metadata": {},
     "output_type": "execute_result"
    }
   ],
   "source": [
    "data.head()"
   ]
  },
  {
   "cell_type": "code",
   "execution_count": 49,
   "metadata": {},
   "outputs": [],
   "source": [
    "data_test.weekday=data_test.weekday.map({0:0,1:1,2:1,3:1,5:1,6:1,4:2})"
   ]
  },
  {
   "cell_type": "code",
   "execution_count": 50,
   "metadata": {},
   "outputs": [],
   "source": [
    "data_1=data.drop(['Route','Duration'],axis=1)"
   ]
  },
  {
   "cell_type": "code",
   "execution_count": 51,
   "metadata": {},
   "outputs": [],
   "source": [
    "data_1=pd.get_dummies(data_1,drop_first=True)"
   ]
  },
  {
   "cell_type": "code",
   "execution_count": 52,
   "metadata": {},
   "outputs": [],
   "source": [
    "data_in=data_1.drop(['Price'],axis=1)"
   ]
  },
  {
   "cell_type": "code",
   "execution_count": 53,
   "metadata": {},
   "outputs": [],
   "source": [
    "data_op=data_1.Price"
   ]
  },
  {
   "cell_type": "code",
   "execution_count": 54,
   "metadata": {},
   "outputs": [
    {
     "data": {
      "text/plain": [
       "((2667, 9), (10646, 20))"
      ]
     },
     "execution_count": 54,
     "metadata": {},
     "output_type": "execute_result"
    }
   ],
   "source": [
    "data_test.shape,data_in.shape"
   ]
  },
  {
   "cell_type": "code",
   "execution_count": 55,
   "metadata": {},
   "outputs": [],
   "source": [
    "from sklearn.metrics import r2_score,mean_squared_error,mean_absolute_error\n",
    "from sklearn.model_selection import KFold"
   ]
  },
  {
   "cell_type": "code",
   "execution_count": 56,
   "metadata": {},
   "outputs": [],
   "source": [
    "from sklearn.model_selection import cross_val_score as cvs\n",
    "from sklearn.model_selection import train_test_split as tts"
   ]
  },
  {
   "cell_type": "code",
   "execution_count": 57,
   "metadata": {},
   "outputs": [
    {
     "name": "stdout",
     "output_type": "stream",
     "text": [
      "at random state 0 r2score is:0.6046439956045017\n",
      "at random state 1 r2score is:0.6259801959111477\n",
      "at random state 2 r2score is:0.6716608408224081\n",
      "at random state 3 r2score is:0.6360185863892234\n",
      "at random state 4 r2score is:0.6138346294156247\n",
      "at random state 5 r2score is:0.6451416070993162\n",
      "at random state 6 r2score is:0.6324293718853597\n",
      "at random state 7 r2score is:0.6308171184195311\n",
      "at random state 8 r2score is:0.5980769849833463\n",
      "at random state 9 r2score is:0.6483884280166636\n",
      "at random state 10 r2score is:0.6464884755736848\n",
      "at random state 11 r2score is:0.6578178652850967\n",
      "at random state 12 r2score is:0.6077410056399737\n",
      "at random state 13 r2score is:0.6475623806653215\n",
      "at random state 14 r2score is:0.6244587178554772\n",
      "at random state 15 r2score is:0.577393885789554\n",
      "at random state 16 r2score is:0.6211801513705777\n",
      "at random state 17 r2score is:0.6021597139942907\n",
      "at random state 18 r2score is:0.628427956806134\n",
      "at random state 19 r2score is:0.6372970291027003\n",
      "at random state 20 r2score is:0.6087630917824692\n",
      "at random state 21 r2score is:0.6262776063740162\n",
      "at random state 22 r2score is:0.646849802110945\n",
      "at random state 23 r2score is:0.6270653703081505\n",
      "at random state 24 r2score is:0.5908084999529849\n",
      "at random state 25 r2score is:0.6471258349195128\n",
      "at random state 26 r2score is:0.625291992908187\n",
      "at random state 27 r2score is:0.6143624514035495\n",
      "at random state 28 r2score is:0.614373190779986\n",
      "at random state 29 r2score is:0.6209574943007253\n",
      "at random state 30 r2score is:0.6177545685032828\n",
      "at random state 31 r2score is:0.6679237562004186\n",
      "at random state 32 r2score is:0.5867627371582167\n",
      "at random state 33 r2score is:0.60450240148945\n",
      "at random state 34 r2score is:0.6409836144822596\n",
      "at random state 35 r2score is:0.6805785342033017\n",
      "at random state 36 r2score is:0.6378464620938247\n",
      "at random state 37 r2score is:0.6370768575706158\n",
      "at random state 38 r2score is:0.6239962884975669\n",
      "at random state 39 r2score is:0.6407736959823135\n",
      "at random state 40 r2score is:0.6437083714070393\n",
      "at random state 41 r2score is:0.6473549301923451\n",
      "at random state 42 r2score is:0.6411494360055771\n",
      "at random state 43 r2score is:0.5940349979531648\n",
      "at random state 44 r2score is:0.6577147202314564\n",
      "at random state 45 r2score is:0.6434806152767987\n",
      "at random state 46 r2score is:0.6572454187098651\n",
      "at random state 47 r2score is:0.6934334523481973\n",
      "at random state 48 r2score is:0.6136404559163116\n",
      "at random state 49 r2score is:0.6385748239920113\n",
      "at random state 50 r2score is:0.6094857461661659\n",
      "at random state 51 r2score is:0.6264516053797394\n",
      "at random state 52 r2score is:0.6692505811035713\n",
      "at random state 53 r2score is:0.6637742912928883\n",
      "at random state 54 r2score is:0.6045336858240687\n",
      "at random state 55 r2score is:0.6045560265829113\n",
      "at random state 56 r2score is:0.6615608303410546\n",
      "at random state 57 r2score is:0.6281031851554479\n",
      "at random state 58 r2score is:0.6330878884490423\n",
      "at random state 59 r2score is:0.6278604754215387\n",
      "at random state 60 r2score is:0.6105806286588314\n",
      "at random state 61 r2score is:0.63773660683076\n",
      "at random state 62 r2score is:0.6067249367618137\n",
      "at random state 63 r2score is:0.6216492440897994\n",
      "at random state 64 r2score is:0.654926839174123\n",
      "at random state 65 r2score is:0.6489646370745898\n",
      "at random state 66 r2score is:0.6286186845557866\n",
      "at random state 67 r2score is:0.6739274966949971\n",
      "at random state 68 r2score is:0.5852898620134586\n",
      "at random state 69 r2score is:0.5880270103973859\n",
      "at random state 70 r2score is:0.6458578920779519\n",
      "at random state 71 r2score is:0.6425985825022529\n",
      "at random state 72 r2score is:0.6727158995562953\n",
      "at random state 73 r2score is:0.6494358987878979\n",
      "at random state 74 r2score is:0.5942663053296984\n",
      "at random state 75 r2score is:0.6429232844854771\n",
      "at random state 76 r2score is:0.6909593286926454\n",
      "at random state 77 r2score is:0.6271445528507038\n",
      "at random state 78 r2score is:0.624926476244323\n",
      "at random state 79 r2score is:0.6634206784052343\n",
      "at random state 80 r2score is:0.6507218751407525\n",
      "at random state 81 r2score is:0.6572619160231989\n",
      "at random state 82 r2score is:0.6531390291509818\n",
      "at random state 83 r2score is:0.6295407660226464\n",
      "at random state 84 r2score is:0.6489015461164033\n",
      "at random state 85 r2score is:0.6324719858026147\n",
      "at random state 86 r2score is:0.6462897716189573\n",
      "at random state 87 r2score is:0.6620372723029686\n",
      "at random state 88 r2score is:0.6465806653068202\n",
      "at random state 89 r2score is:0.6367999264459043\n",
      "at random state 90 r2score is:0.6504984756823702\n",
      "at random state 91 r2score is:0.6787905171062844\n",
      "at random state 92 r2score is:0.627445671418094\n",
      "at random state 93 r2score is:0.6106560700074608\n",
      "at random state 94 r2score is:0.6420207962833476\n",
      "at random state 95 r2score is:0.6478518209986227\n",
      "at random state 96 r2score is:0.6246353471605313\n",
      "at random state 97 r2score is:0.6274832117394332\n",
      "at random state 98 r2score is:0.6112049224869907\n",
      "at random state 99 r2score is:0.6427488196041049\n",
      "Max_score is : 0.6934334523481973 at 47\n"
     ]
    }
   ],
   "source": [
    "from sklearn.linear_model import LinearRegression\n",
    "from sklearn.metrics import mean_squared_error as mse\n",
    "lr=LinearRegression()\n",
    "max_score=0\n",
    "for i in range(0,100):\n",
    "    x_train,x_test,y_train,y_test=tts(data_in,data_op,random_state=i,test_size=0.20)\n",
    "    lr.fit(x_train,y_train)\n",
    "    y_pred=lr.predict(x_test)\n",
    "    rscore=r2_score(y_test,y_pred)\n",
    "    print('at random state {} r2score is:{}'.format(i,rscore))\n",
    "    if rscore>max_score:\n",
    "            max_score=rscore\n",
    "            final_state=i\n",
    "print('Max_score is :',max_score,'at',final_state)"
   ]
  },
  {
   "cell_type": "code",
   "execution_count": 58,
   "metadata": {},
   "outputs": [
    {
     "data": {
      "text/plain": [
       "RandomForestRegressor(bootstrap=True, criterion='mse', max_depth=None,\n",
       "                      max_features='auto', max_leaf_nodes=None,\n",
       "                      min_impurity_decrease=0.0, min_impurity_split=None,\n",
       "                      min_samples_leaf=1, min_samples_split=2,\n",
       "                      min_weight_fraction_leaf=0.0, n_estimators=10,\n",
       "                      n_jobs=None, oob_score=False, random_state=40, verbose=0,\n",
       "                      warm_start=False)"
      ]
     },
     "execution_count": 58,
     "metadata": {},
     "output_type": "execute_result"
    }
   ],
   "source": [
    "from sklearn.ensemble import RandomForestRegressor as RFR\n",
    "RFR=RFR(random_state=40)\n",
    "RFR.fit(x_train,y_train)"
   ]
  },
  {
   "cell_type": "code",
   "execution_count": 61,
   "metadata": {},
   "outputs": [],
   "source": [
    "from sklearn.model_selection import GridSearchCV\n",
    "parameters=[{'random_state':range(0,100),'max_depth':range(2,10)}]\n",
    "grid_search=GridSearchCV(estimator=RFR,param_grid=parameters,scoring='r2',cv=10,n_jobs=-1)\n",
    "grid_search=grid_search.fit(x_train,y_train)"
   ]
  },
  {
   "cell_type": "code",
   "execution_count": 62,
   "metadata": {},
   "outputs": [
    {
     "name": "stdout",
     "output_type": "stream",
     "text": [
      "{'max_depth': 9, 'random_state': 64}\n"
     ]
    },
    {
     "data": {
      "text/plain": [
       "0.7661440979699892"
      ]
     },
     "execution_count": 62,
     "metadata": {},
     "output_type": "execute_result"
    }
   ],
   "source": [
    "print(grid_search.best_params_)\n",
    "score=grid_search.best_score_\n",
    "score"
   ]
  },
  {
   "cell_type": "code",
   "execution_count": 63,
   "metadata": {},
   "outputs": [
    {
     "name": "stdout",
     "output_type": "stream",
     "text": [
      "rscore for testing data: 0.7379299677889637\n",
      "rscore for training data: 0.789378815393302\n",
      "Cross val score: [0.74720534 0.70116212 0.77584675 0.79414925 0.81421662 0.79469629\n",
      " 0.68477263 0.73454176 0.77299047 0.67188687]\n",
      "Mean cv: 0.7491468092031126\n"
     ]
    }
   ],
   "source": [
    "from sklearn.ensemble import RandomForestRegressor as RFR\n",
    "RFR=RFR(random_state=64,max_depth=9)\n",
    "RFR.fit(x_train,y_train)\n",
    "y_pred=RFR.predict(x_test)\n",
    "train_pred=RFR.predict(x_train)\n",
    "rscore=r2_score(y_test,y_pred)\n",
    "rscore1=r2_score(y_train,train_pred)\n",
    "kf = KFold(shuffle=True, n_splits=10)\n",
    "cv=cvs(RFR,data_in,data_op,cv=kf,scoring='r2')\n",
    "print('rscore for testing data:',rscore)\n",
    "print('rscore for training data:',rscore1)\n",
    "print('Cross val score:',cv)\n",
    "print('Mean cv:',np.mean(cv))\n"
   ]
  },
  {
   "cell_type": "code",
   "execution_count": 68,
   "metadata": {},
   "outputs": [
    {
     "data": {
      "text/plain": [
       "[<matplotlib.lines.Line2D at 0x1dff2abde80>]"
      ]
     },
     "execution_count": 68,
     "metadata": {},
     "output_type": "execute_result"
    },
    {
     "data": {
      "image/png": "[encoded data removed]",
      "text/plain": [
       "<Figure size 432x288 with 1 Axes>"
      ]
     },
     "metadata": {
      "needs_background": "light"
     },
     "output_type": "display_data"
    }
   ],
   "source": [
    "plot_k = sns.scatterplot(y_test, y_pred)\n",
    "plot_k.set(xlabel='Given', ylabel='Prediction')\n",
    "x_plot = np.linspace(0,30000,10)\n",
    "y_plot = x_plot\n",
    "plt.plot(x_plot, y_plot, color='r')"
   ]
  },
  {
   "cell_type": "code",
   "execution_count": 69,
   "metadata": {},
   "outputs": [
    {
     "name": "stdout",
     "output_type": "stream",
     "text": [
      "error:\n",
      "Mean absolute error of test data: 1333.0112803615839\n",
      "Mean absolute error of train data: 1235.1047990567479\n",
      "Mean squared error of test data: 2253.5752090346587\n",
      "Mean squared error of train data: 2049.3911741468123\n"
     ]
    }
   ],
   "source": [
    "from sklearn.metrics import mean_absolute_error,mean_squared_error\n",
    "print('error:')\n",
    "print('Mean absolute error of test data:',mean_absolute_error(y_test,y_pred))\n",
    "print('Mean absolute error of train data:',mean_absolute_error(y_train,train_pred))\n",
    "print('Mean squared error of test data:',np.sqrt(mean_squared_error(y_test,y_pred)))\n",
    "print('Mean squared error of train data:',np.sqrt(mean_squared_error(y_train,train_pred)))"
   ]
  },
  {
   "cell_type": "code",
   "execution_count": 72,
   "metadata": {},
   "outputs": [
    {
     "name": "stdout",
     "output_type": "stream",
     "text": [
      "{'learning_rate': 0.3, 'loss': 'linear', 'random_state': 7}\n"
     ]
    },
    {
     "data": {
      "text/plain": [
       "0.6949218082602469"
      ]
     },
     "execution_count": 72,
     "metadata": {},
     "output_type": "execute_result"
    }
   ],
   "source": [
    "from sklearn.ensemble import AdaBoostRegressor as ABR\n",
    "ABR=ABR(base_estimator=RFR)\n",
    "ABR.fit(x_train,y_train)\n",
    "from sklearn.model_selection import GridSearchCV\n",
    "parameters=[{'random_state':range(0,50),'loss':['linear', 'square'],'learning_rate':[0.3]}]\n",
    "kf = KFold(shuffle=True, n_splits=10)\n",
    "grid_search=GridSearchCV(estimator=ABR,param_grid=parameters,scoring='r2',cv=kf,n_jobs=-1)\n",
    "grid_search=grid_search.fit(x_train,y_train)\n",
    "print(grid_search.best_params_)\n",
    "score=grid_search.best_score_\n",
    "score"
   ]
  },
  {
   "cell_type": "code",
   "execution_count": 76,
   "metadata": {},
   "outputs": [
    {
     "name": "stdout",
     "output_type": "stream",
     "text": [
      "rscore for testing data: 0.6880288390821605\n",
      "rscore for training data: 0.7326425510127681\n",
      "Cross val score: [0.68946812 0.67309937 0.73996694 0.67749102 0.62978622 0.60736639\n",
      " 0.73643173 0.6846394  0.6998769  0.73601716]\n",
      "Mean cv: 0.6874143222237319\n"
     ]
    }
   ],
   "source": [
    "from sklearn.ensemble import AdaBoostRegressor as ABR\n",
    "ABR=ABR(base_estimator=RFR,learning_rate=0.1,loss='linear',random_state=7)\n",
    "ABR.fit(x_train,y_train)\n",
    "y_pred=ABR.predict(x_test)\n",
    "train_pred=ABR.predict(x_train)\n",
    "rscore=r2_score(y_test,y_pred)\n",
    "rscore1=r2_score(y_train,train_pred)\n",
    "kf = KFold(shuffle=True, n_splits=10)\n",
    "cv=cvs(ABR,data_in,data_op,cv=kf,scoring='r2')\n",
    "print('rscore for testing data:',rscore)\n",
    "print('rscore for training data:',rscore1)\n",
    "print('Cross val score:',cv)\n",
    "print('Mean cv:',np.mean(cv))\n"
   ]
  },
  {
   "cell_type": "code",
   "execution_count": 77,
   "metadata": {},
   "outputs": [
    {
     "data": {
      "text/plain": [
       "[<matplotlib.lines.Line2D at 0x1dff2b210f0>]"
      ]
     },
     "execution_count": 77,
     "metadata": {},
     "output_type": "execute_result"
    },
    {
     "data": {
      "image/png": "[encoded data removed]",
      "text/plain": [
       "<Figure size 432x288 with 1 Axes>"
      ]
     },
     "metadata": {
      "needs_background": "light"
     },
     "output_type": "display_data"
    }
   ],
   "source": [
    "plot_k = sns.scatterplot(y_test, y_pred)\n",
    "plot_k.set(xlabel='Given', ylabel='Prediction')\n",
    "x_plot = np.linspace(0,40000,10)\n",
    "y_plot = x_plot\n",
    "plt.plot(x_plot, y_plot, color='r')"
   ]
  },
  {
   "cell_type": "code",
   "execution_count": 78,
   "metadata": {},
   "outputs": [
    {
     "name": "stdout",
     "output_type": "stream",
     "text": [
      "error:\n",
      "Mean absolute error of test data: 1445.5273403327292\n",
      "Mean absolute error of train data: 1350.3069781447703\n",
      "Mean squared error of test data: 2458.785254311958\n",
      "Mean squared error of train data: 2308.9789857599403\n"
     ]
    }
   ],
   "source": [
    "from sklearn.metrics import mean_absolute_error,mean_squared_error\n",
    "print('error:')\n",
    "print('Mean absolute error of test data:',mean_absolute_error(y_test,y_pred))\n",
    "print('Mean absolute error of train data:',mean_absolute_error(y_train,train_pred))\n",
    "print('Mean squared error of test data:',np.sqrt(mean_squared_error(y_test,y_pred)))\n",
    "print('Mean squared error of train data:',np.sqrt(mean_squared_error(y_train,train_pred)))"
   ]
  },
  {
   "cell_type": "code",
   "execution_count": 79,
   "metadata": {},
   "outputs": [
    {
     "data": {
      "text/plain": [
       "KNeighborsRegressor(algorithm='auto', leaf_size=30, metric='minkowski',\n",
       "                    metric_params=None, n_jobs=None, n_neighbors=5, p=2,\n",
       "                    weights='uniform')"
      ]
     },
     "execution_count": 79,
     "metadata": {},
     "output_type": "execute_result"
    }
   ],
   "source": [
    "from sklearn.neighbors import KNeighborsRegressor\n",
    "KNR=KNeighborsRegressor(n_neighbors=5,leaf_size=30)\n",
    "KNR.fit(x_train,y_train)"
   ]
  },
  {
   "cell_type": "code",
   "execution_count": 80,
   "metadata": {},
   "outputs": [
    {
     "name": "stdout",
     "output_type": "stream",
     "text": [
      "{'leaf_size': 30, 'n_neighbors': 19, 'weights': 'distance'}\n"
     ]
    },
    {
     "data": {
      "text/plain": [
       "0.7554048984901075"
      ]
     },
     "execution_count": 80,
     "metadata": {},
     "output_type": "execute_result"
    }
   ],
   "source": [
    "from sklearn.model_selection import GridSearchCV\n",
    "parameters=[{'n_neighbors':range(3,20),'weights':['uniform','distance'],'leaf_size':[30,50,100]}]\n",
    "grid_search=GridSearchCV(estimator=KNR,param_grid=parameters,scoring='r2',cv=10,n_jobs=-1)\n",
    "grid_search=grid_search.fit(x_train,y_train)\n",
    "print(grid_search.best_params_)\n",
    "score=grid_search.best_score_\n",
    "score"
   ]
  },
  {
   "cell_type": "code",
   "execution_count": 81,
   "metadata": {},
   "outputs": [
    {
     "name": "stdout",
     "output_type": "stream",
     "text": [
      "rscore for testing data: 0.719931828447819\n",
      "rscore for training data: 0.7874564670624216\n",
      "Cross val score: [0.74906322 0.78780319 0.74922038 0.75502754 0.7042098  0.80509153\n",
      " 0.77086963 0.7326819  0.76983264 0.7218082 ]\n",
      "Mean cv: 0.7545608033001285\n"
     ]
    }
   ],
   "source": [
    "from sklearn.neighbors import KNeighborsRegressor\n",
    "KNR=KNeighborsRegressor(n_neighbors=19,leaf_size=30,weights='distance')\n",
    "KNR.fit(x_train,y_train)\n",
    "y_pred=KNR.predict(x_test)\n",
    "train_pred=KNR.predict(x_train)\n",
    "rscore=r2_score(y_test,y_pred)\n",
    "rscore1=r2_score(y_train,train_pred)\n",
    "kf = KFold(shuffle=True, n_splits=10)\n",
    "cv=cvs(KNR,data_in,data_op,cv=kf,scoring='r2')\n",
    "print('rscore for testing data:',rscore)\n",
    "print('rscore for training data:',rscore1)\n",
    "print('Cross val score:',cv)\n",
    "print('Mean cv:',np.mean(cv))\n"
   ]
  },
  {
   "cell_type": "code",
   "execution_count": 58,
   "metadata": {},
   "outputs": [],
   "source": [
    "from sklearn.ensemble import GradientBoostingRegressor as GBR\n",
    "GBR=GBR(alpha=0.1)"
   ]
  },
  {
   "cell_type": "code",
   "execution_count": 59,
   "metadata": {},
   "outputs": [
    {
     "name": "stdout",
     "output_type": "stream",
     "text": [
      "rscore for testing data: 0.7281838393374375\n",
      "rscore for training data: 0.7508146668457353\n",
      "Cross val score: [0.75661572 0.73246993 0.70431924 0.760452   0.72524672 0.76620278\n",
      " 0.77386126 0.76866814 0.70490443 0.74249698]\n",
      "Mean cv: 0.7435237183877358\n"
     ]
    }
   ],
   "source": [
    "GBR.fit(x_train,y_train)\n",
    "y_pred=GBR.predict(x_test)\n",
    "train_pred=GBR.predict(x_train)\n",
    "rscore=r2_score(y_test,y_pred)\n",
    "rscore1=r2_score(y_train,train_pred)\n",
    "kf = KFold(shuffle=True, n_splits=10)\n",
    "cv=cvs(GBR,data_in,data_op,cv=kf,scoring='r2')\n",
    "print('rscore for testing data:',rscore)\n",
    "print('rscore for training data:',rscore1)\n",
    "print('Cross val score:',cv)\n",
    "print('Mean cv:',np.mean(cv))"
   ]
  },
  {
   "cell_type": "code",
   "execution_count": 62,
   "metadata": {},
   "outputs": [
    {
     "data": {
      "text/plain": [
       "[<matplotlib.lines.Line2D at 0x1757e8cd6d8>]"
      ]
     },
     "execution_count": 62,
     "metadata": {},
     "output_type": "execute_result"
    },
    {
     "data": {
      "image/png": "[encoded data removed]",
      "text/plain": [
       "<Figure size 432x288 with 1 Axes>"
      ]
     },
     "metadata": {
      "needs_background": "light"
     },
     "output_type": "display_data"
    }
   ],
   "source": [
    "plot_k = sns.scatterplot(y_test, y_pred)\n",
    "plot_k.set(xlabel='Given', ylabel='Prediction')\n",
    "x_plot = np.linspace(0,40000,10)\n",
    "y_plot = x_plot\n",
    "plt.plot(x_plot, y_plot, color='r')"
   ]
  },
  {
   "cell_type": "code",
   "execution_count": 63,
   "metadata": {},
   "outputs": [
    {
     "name": "stdout",
     "output_type": "stream",
     "text": [
      "error:\n",
      "Mean absolute error of test data: 1666.8545042341802\n",
      "Mean absolute error of train data: 1610.8443324223667\n",
      "Mean squared error of test data: 2617.685376769034\n",
      "Mean squared error of train data: 2541.000303885974\n"
     ]
    }
   ],
   "source": [
    "from sklearn.metrics import mean_absolute_error,mean_squared_error\n",
    "print('error:')\n",
    "print('Mean absolute error of test data:',mean_absolute_error(y_test,y_pred))\n",
    "print('Mean absolute error of train data:',mean_absolute_error(y_train,train_pred))\n",
    "print('Mean squared error of test data:',np.sqrt(mean_squared_error(y_test,y_pred)))\n",
    "print('Mean squared error of train data:',np.sqrt(mean_squared_error(y_train,train_pred)))"
   ]
  },
  {
   "cell_type": "code",
   "execution_count": 64,
   "metadata": {},
   "outputs": [
    {
     "data": {
      "text/plain": [
       "DecisionTreeRegressor(criterion='mse', max_depth=None, max_features=None,\n",
       "                      max_leaf_nodes=None, min_impurity_decrease=0.0,\n",
       "                      min_impurity_split=None, min_samples_leaf=1,\n",
       "                      min_samples_split=2, min_weight_fraction_leaf=0.0,\n",
       "                      presort=False, random_state=None, splitter='best')"
      ]
     },
     "execution_count": 64,
     "metadata": {},
     "output_type": "execute_result"
    }
   ],
   "source": [
    "from sklearn.tree import DecisionTreeRegressor as DTC\n",
    "DTC=DTC()\n",
    "DTC.fit(x_train,y_train)"
   ]
  },
  {
   "cell_type": "code",
   "execution_count": 66,
   "metadata": {},
   "outputs": [
    {
     "name": "stdout",
     "output_type": "stream",
     "text": [
      "{'max_depth': 10, 'random_state': 1}\n"
     ]
    },
    {
     "data": {
      "text/plain": [
       "0.7478100263717641"
      ]
     },
     "execution_count": 66,
     "metadata": {},
     "output_type": "execute_result"
    }
   ],
   "source": [
    "from sklearn.model_selection import GridSearchCV\n",
    "parameters=[{'random_state':range(0,100),'max_depth':range(2,11)}]\n",
    "grid_search=GridSearchCV(estimator=DTC,param_grid=parameters,scoring='r2',cv=10,n_jobs=-1)\n",
    "grid_search=grid_search.fit(x_train,y_train)\n",
    "print(grid_search.best_params_)\n",
    "score=grid_search.best_score_\n",
    "score"
   ]
  },
  {
   "cell_type": "code",
   "execution_count": 67,
   "metadata": {},
   "outputs": [
    {
     "name": "stdout",
     "output_type": "stream",
     "text": [
      "rscore for testing data: 0.7370412131674897\n",
      "rscore for training data: 0.7939775431624673\n",
      "Cross val score: [0.75362549 0.80838597 0.79102843 0.67142196 0.76559381 0.73421227\n",
      " 0.74706172 0.79451482 0.72750651 0.74981274]\n",
      "Mean cv: 0.7543163706248199\n"
     ]
    }
   ],
   "source": [
    "from sklearn.tree import DecisionTreeRegressor as DTR\n",
    "DTR=DTR(max_depth=10,random_state=1)\n",
    "DTR.fit(x_train,y_train)\n",
    "y_pred=DTR.predict(x_test)\n",
    "train_pred=DTR.predict(x_train)\n",
    "rscore=r2_score(y_test,y_pred)\n",
    "rscore1=r2_score(y_train,train_pred)\n",
    "kf = KFold(shuffle=True, n_splits=10)\n",
    "cv=cvs(DTR,data_in,data_op,cv=kf,scoring='r2')\n",
    "print('rscore for testing data:',rscore)\n",
    "print('rscore for training data:',rscore1)\n",
    "print('Cross val score:',cv)\n",
    "print('Mean cv:',np.mean(cv))"
   ]
  },
  {
   "cell_type": "code",
   "execution_count": 68,
   "metadata": {},
   "outputs": [
    {
     "data": {
      "text/plain": [
       "[<matplotlib.lines.Line2D at 0x17500ae9e48>]"
      ]
     },
     "execution_count": 68,
     "metadata": {},
     "output_type": "execute_result"
    },
    {
     "data": {
      "image/png": "[encoded data removed]",
      "text/plain": [
       "<Figure size 432x288 with 1 Axes>"
      ]
     },
     "metadata": {
      "needs_background": "light"
     },
     "output_type": "display_data"
    }
   ],
   "source": [
    "plot_k = sns.scatterplot(y_test, y_pred)\n",
    "plot_k.set(xlabel='Given', ylabel='Prediction')\n",
    "x_plot = np.linspace(0,40000,10)\n",
    "y_plot = x_plot\n",
    "plt.plot(x_plot, y_plot, color='r')"
   ]
  },
  {
   "cell_type": "code",
   "execution_count": 69,
   "metadata": {},
   "outputs": [
    {
     "name": "stdout",
     "output_type": "stream",
     "text": [
      "error:\n",
      "Mean absolute error of test data: 1322.194976835794\n",
      "Mean absolute error of train data: 1213.2057587264821\n",
      "Mean squared error of test data: 2257.3932346155743\n",
      "Mean squared error of train data: 2026.8943727479477\n"
     ]
    }
   ],
   "source": [
    "from sklearn.metrics import mean_absolute_error,mean_squared_error\n",
    "print('error:')\n",
    "print('Mean absolute error of test data:',mean_absolute_error(y_test,y_pred))\n",
    "print('Mean absolute error of train data:',mean_absolute_error(y_train,train_pred))\n",
    "print('Mean squared error of test data:',np.sqrt(mean_squared_error(y_test,y_pred)))\n",
    "print('Mean squared error of train data:',np.sqrt(mean_squared_error(y_train,train_pred)))"
   ]
  },
  {
   "cell_type": "code",
   "execution_count": 70,
   "metadata": {},
   "outputs": [
    {
     "data": {
      "text/html": [
       "<div>\n",
       "<style scoped>\n",
       "    .dataframe tbody tr th:only-of-type {\n",
       "        vertical-align: middle;\n",
       "    }\n",
       "\n",
       "    .dataframe tbody tr th {\n",
       "        vertical-align: top;\n",
       "    }\n",
       "\n",
       "    .dataframe thead th {\n",
       "        text-align: right;\n",
       "    }\n",
       "</style>\n",
       "<table border=\"1\" class=\"dataframe\">\n",
       "  <thead>\n",
       "    <tr style=\"text-align: right;\">\n",
       "      <th></th>\n",
       "      <th>Airline</th>\n",
       "      <th>Source</th>\n",
       "      <th>Destination</th>\n",
       "      <th>Route</th>\n",
       "      <th>Duration</th>\n",
       "      <th>Total_Stops</th>\n",
       "      <th>Additional_Info</th>\n",
       "      <th>weekday</th>\n",
       "      <th>month</th>\n",
       "    </tr>\n",
       "  </thead>\n",
       "  <tbody>\n",
       "    <tr>\n",
       "      <th>0</th>\n",
       "      <td>Jet Airways</td>\n",
       "      <td>Delhi</td>\n",
       "      <td>Cochin</td>\n",
       "      <td>DEL → BOM → COK</td>\n",
       "      <td>10h 55m</td>\n",
       "      <td>1</td>\n",
       "      <td>No info</td>\n",
       "      <td>1</td>\n",
       "      <td>3</td>\n",
       "    </tr>\n",
       "    <tr>\n",
       "      <th>1</th>\n",
       "      <td>IndiGo</td>\n",
       "      <td>Kolkata</td>\n",
       "      <td>Banglore</td>\n",
       "      <td>CCU → MAA → BLR</td>\n",
       "      <td>4h</td>\n",
       "      <td>1</td>\n",
       "      <td>No info</td>\n",
       "      <td>1</td>\n",
       "      <td>6</td>\n",
       "    </tr>\n",
       "    <tr>\n",
       "      <th>2</th>\n",
       "      <td>Jet Airways</td>\n",
       "      <td>Delhi</td>\n",
       "      <td>Cochin</td>\n",
       "      <td>DEL → BOM → COK</td>\n",
       "      <td>23h 45m</td>\n",
       "      <td>1</td>\n",
       "      <td>In-flight meal not included</td>\n",
       "      <td>1</td>\n",
       "      <td>1</td>\n",
       "    </tr>\n",
       "    <tr>\n",
       "      <th>3</th>\n",
       "      <td>Multiple carriers</td>\n",
       "      <td>Delhi</td>\n",
       "      <td>Cochin</td>\n",
       "      <td>DEL → BOM → COK</td>\n",
       "      <td>13h</td>\n",
       "      <td>1</td>\n",
       "      <td>No info</td>\n",
       "      <td>1</td>\n",
       "      <td>1</td>\n",
       "    </tr>\n",
       "    <tr>\n",
       "      <th>4</th>\n",
       "      <td>other</td>\n",
       "      <td>Banglore</td>\n",
       "      <td>Delhi</td>\n",
       "      <td>BLR → DEL</td>\n",
       "      <td>2h 50m</td>\n",
       "      <td>0</td>\n",
       "      <td>No info</td>\n",
       "      <td>0</td>\n",
       "      <td>0</td>\n",
       "    </tr>\n",
       "  </tbody>\n",
       "</table>\n",
       "</div>"
      ],
      "text/plain": [
       "             Airline    Source Destination            Route Duration  \\\n",
       "0        Jet Airways     Delhi      Cochin  DEL → BOM → COK  10h 55m   \n",
       "1             IndiGo   Kolkata    Banglore  CCU → MAA → BLR       4h   \n",
       "2        Jet Airways     Delhi      Cochin  DEL → BOM → COK  23h 45m   \n",
       "3  Multiple carriers     Delhi      Cochin  DEL → BOM → COK      13h   \n",
       "4              other  Banglore       Delhi        BLR → DEL   2h 50m   \n",
       "\n",
       "   Total_Stops              Additional_Info  weekday  month  \n",
       "0            1                      No info        1      3  \n",
       "1            1                      No info        1      6  \n",
       "2            1  In-flight meal not included        1      1  \n",
       "3            1                      No info        1      1  \n",
       "4            0                      No info        0      0  "
      ]
     },
     "execution_count": 70,
     "metadata": {},
     "output_type": "execute_result"
    }
   ],
   "source": [
    "data_test.head()"
   ]
  },
  {
   "cell_type": "code",
   "execution_count": 71,
   "metadata": {},
   "outputs": [],
   "source": [
    "data_test.drop(['Route','Duration'],axis=1,inplace=True)"
   ]
  },
  {
   "cell_type": "code",
   "execution_count": 72,
   "metadata": {},
   "outputs": [],
   "source": [
    "data_2=pd.get_dummies(data_test,drop_first=True)"
   ]
  },
  {
   "cell_type": "code",
   "execution_count": 73,
   "metadata": {},
   "outputs": [
    {
     "data": {
      "text/plain": [
       "(2667, 20)"
      ]
     },
     "execution_count": 73,
     "metadata": {},
     "output_type": "execute_result"
    }
   ],
   "source": [
    "data_2.shape"
   ]
  },
  {
   "cell_type": "code",
   "execution_count": 74,
   "metadata": {},
   "outputs": [
    {
     "data": {
      "text/html": [
       "<div>\n",
       "<style scoped>\n",
       "    .dataframe tbody tr th:only-of-type {\n",
       "        vertical-align: middle;\n",
       "    }\n",
       "\n",
       "    .dataframe tbody tr th {\n",
       "        vertical-align: top;\n",
       "    }\n",
       "\n",
       "    .dataframe thead th {\n",
       "        text-align: right;\n",
       "    }\n",
       "</style>\n",
       "<table border=\"1\" class=\"dataframe\">\n",
       "  <thead>\n",
       "    <tr style=\"text-align: right;\">\n",
       "      <th></th>\n",
       "      <th>Actual price</th>\n",
       "      <th>Predicted price</th>\n",
       "    </tr>\n",
       "  </thead>\n",
       "  <tbody>\n",
       "    <tr>\n",
       "      <th>10601</th>\n",
       "      <td>15147</td>\n",
       "      <td>12376.065217</td>\n",
       "    </tr>\n",
       "    <tr>\n",
       "      <th>5336</th>\n",
       "      <td>13376</td>\n",
       "      <td>13481.458333</td>\n",
       "    </tr>\n",
       "    <tr>\n",
       "      <th>10037</th>\n",
       "      <td>9663</td>\n",
       "      <td>9950.826667</td>\n",
       "    </tr>\n",
       "    <tr>\n",
       "      <th>3620</th>\n",
       "      <td>13292</td>\n",
       "      <td>13481.458333</td>\n",
       "    </tr>\n",
       "    <tr>\n",
       "      <th>8539</th>\n",
       "      <td>8073</td>\n",
       "      <td>10114.010152</td>\n",
       "    </tr>\n",
       "    <tr>\n",
       "      <th>3043</th>\n",
       "      <td>14848</td>\n",
       "      <td>10114.010152</td>\n",
       "    </tr>\n",
       "    <tr>\n",
       "      <th>2832</th>\n",
       "      <td>4145</td>\n",
       "      <td>5860.186441</td>\n",
       "    </tr>\n",
       "    <tr>\n",
       "      <th>338</th>\n",
       "      <td>5201</td>\n",
       "      <td>5860.186441</td>\n",
       "    </tr>\n",
       "    <tr>\n",
       "      <th>8203</th>\n",
       "      <td>3419</td>\n",
       "      <td>4405.895270</td>\n",
       "    </tr>\n",
       "    <tr>\n",
       "      <th>3412</th>\n",
       "      <td>3625</td>\n",
       "      <td>3952.242857</td>\n",
       "    </tr>\n",
       "    <tr>\n",
       "      <th>4314</th>\n",
       "      <td>8907</td>\n",
       "      <td>8327.336406</td>\n",
       "    </tr>\n",
       "    <tr>\n",
       "      <th>10272</th>\n",
       "      <td>3687</td>\n",
       "      <td>7526.689655</td>\n",
       "    </tr>\n",
       "    <tr>\n",
       "      <th>3812</th>\n",
       "      <td>4729</td>\n",
       "      <td>5860.186441</td>\n",
       "    </tr>\n",
       "    <tr>\n",
       "      <th>562</th>\n",
       "      <td>7408</td>\n",
       "      <td>10320.820513</td>\n",
       "    </tr>\n",
       "    <tr>\n",
       "      <th>2058</th>\n",
       "      <td>10262</td>\n",
       "      <td>10354.777778</td>\n",
       "    </tr>\n",
       "    <tr>\n",
       "      <th>2587</th>\n",
       "      <td>3841</td>\n",
       "      <td>3942.200000</td>\n",
       "    </tr>\n",
       "    <tr>\n",
       "      <th>7749</th>\n",
       "      <td>15603</td>\n",
       "      <td>12376.065217</td>\n",
       "    </tr>\n",
       "    <tr>\n",
       "      <th>6716</th>\n",
       "      <td>4667</td>\n",
       "      <td>5517.000000</td>\n",
       "    </tr>\n",
       "    <tr>\n",
       "      <th>5505</th>\n",
       "      <td>5000</td>\n",
       "      <td>5534.055556</td>\n",
       "    </tr>\n",
       "    <tr>\n",
       "      <th>2726</th>\n",
       "      <td>5054</td>\n",
       "      <td>6931.976562</td>\n",
       "    </tr>\n",
       "    <tr>\n",
       "      <th>7364</th>\n",
       "      <td>4804</td>\n",
       "      <td>4733.428571</td>\n",
       "    </tr>\n",
       "    <tr>\n",
       "      <th>6323</th>\n",
       "      <td>6838</td>\n",
       "      <td>6931.976562</td>\n",
       "    </tr>\n",
       "    <tr>\n",
       "      <th>10304</th>\n",
       "      <td>6377</td>\n",
       "      <td>5900.956522</td>\n",
       "    </tr>\n",
       "    <tr>\n",
       "      <th>4574</th>\n",
       "      <td>3597</td>\n",
       "      <td>3617.933333</td>\n",
       "    </tr>\n",
       "    <tr>\n",
       "      <th>6662</th>\n",
       "      <td>16736</td>\n",
       "      <td>15510.050725</td>\n",
       "    </tr>\n",
       "    <tr>\n",
       "      <th>6358</th>\n",
       "      <td>10406</td>\n",
       "      <td>10315.105263</td>\n",
       "    </tr>\n",
       "    <tr>\n",
       "      <th>9591</th>\n",
       "      <td>5198</td>\n",
       "      <td>4474.687500</td>\n",
       "    </tr>\n",
       "    <tr>\n",
       "      <th>7593</th>\n",
       "      <td>13882</td>\n",
       "      <td>13805.993289</td>\n",
       "    </tr>\n",
       "    <tr>\n",
       "      <th>2278</th>\n",
       "      <td>4030</td>\n",
       "      <td>4474.687500</td>\n",
       "    </tr>\n",
       "    <tr>\n",
       "      <th>176</th>\n",
       "      <td>5073</td>\n",
       "      <td>5900.956522</td>\n",
       "    </tr>\n",
       "    <tr>\n",
       "      <th>...</th>\n",
       "      <td>...</td>\n",
       "      <td>...</td>\n",
       "    </tr>\n",
       "    <tr>\n",
       "      <th>8889</th>\n",
       "      <td>12935</td>\n",
       "      <td>11764.152542</td>\n",
       "    </tr>\n",
       "    <tr>\n",
       "      <th>1283</th>\n",
       "      <td>10577</td>\n",
       "      <td>10354.777778</td>\n",
       "    </tr>\n",
       "    <tr>\n",
       "      <th>8288</th>\n",
       "      <td>5277</td>\n",
       "      <td>3849.259259</td>\n",
       "    </tr>\n",
       "    <tr>\n",
       "      <th>598</th>\n",
       "      <td>10368</td>\n",
       "      <td>11186.284091</td>\n",
       "    </tr>\n",
       "    <tr>\n",
       "      <th>619</th>\n",
       "      <td>9424</td>\n",
       "      <td>10114.010152</td>\n",
       "    </tr>\n",
       "    <tr>\n",
       "      <th>1230</th>\n",
       "      <td>4667</td>\n",
       "      <td>5517.000000</td>\n",
       "    </tr>\n",
       "    <tr>\n",
       "      <th>8265</th>\n",
       "      <td>12140</td>\n",
       "      <td>12498.141026</td>\n",
       "    </tr>\n",
       "    <tr>\n",
       "      <th>6208</th>\n",
       "      <td>6717</td>\n",
       "      <td>12376.065217</td>\n",
       "    </tr>\n",
       "    <tr>\n",
       "      <th>9718</th>\n",
       "      <td>13817</td>\n",
       "      <td>15510.050725</td>\n",
       "    </tr>\n",
       "    <tr>\n",
       "      <th>9199</th>\n",
       "      <td>10262</td>\n",
       "      <td>10380.725806</td>\n",
       "    </tr>\n",
       "    <tr>\n",
       "      <th>1503</th>\n",
       "      <td>3597</td>\n",
       "      <td>3998.812500</td>\n",
       "    </tr>\n",
       "    <tr>\n",
       "      <th>229</th>\n",
       "      <td>4995</td>\n",
       "      <td>3477.666667</td>\n",
       "    </tr>\n",
       "    <tr>\n",
       "      <th>7226</th>\n",
       "      <td>12557</td>\n",
       "      <td>14735.774834</td>\n",
       "    </tr>\n",
       "    <tr>\n",
       "      <th>523</th>\n",
       "      <td>3543</td>\n",
       "      <td>3588.142857</td>\n",
       "    </tr>\n",
       "    <tr>\n",
       "      <th>9348</th>\n",
       "      <td>7657</td>\n",
       "      <td>32271.500000</td>\n",
       "    </tr>\n",
       "    <tr>\n",
       "      <th>8210</th>\n",
       "      <td>14781</td>\n",
       "      <td>13713.307692</td>\n",
       "    </tr>\n",
       "    <tr>\n",
       "      <th>4454</th>\n",
       "      <td>8844</td>\n",
       "      <td>7640.692308</td>\n",
       "    </tr>\n",
       "    <tr>\n",
       "      <th>1326</th>\n",
       "      <td>14781</td>\n",
       "      <td>13713.307692</td>\n",
       "    </tr>\n",
       "    <tr>\n",
       "      <th>7143</th>\n",
       "      <td>10975</td>\n",
       "      <td>11547.536364</td>\n",
       "    </tr>\n",
       "    <tr>\n",
       "      <th>7823</th>\n",
       "      <td>1965</td>\n",
       "      <td>1965.000000</td>\n",
       "    </tr>\n",
       "    <tr>\n",
       "      <th>142</th>\n",
       "      <td>5636</td>\n",
       "      <td>6394.080214</td>\n",
       "    </tr>\n",
       "    <tr>\n",
       "      <th>3025</th>\n",
       "      <td>11150</td>\n",
       "      <td>11186.284091</td>\n",
       "    </tr>\n",
       "    <tr>\n",
       "      <th>10507</th>\n",
       "      <td>14781</td>\n",
       "      <td>13713.307692</td>\n",
       "    </tr>\n",
       "    <tr>\n",
       "      <th>640</th>\n",
       "      <td>14781</td>\n",
       "      <td>13713.307692</td>\n",
       "    </tr>\n",
       "    <tr>\n",
       "      <th>7218</th>\n",
       "      <td>3841</td>\n",
       "      <td>3942.200000</td>\n",
       "    </tr>\n",
       "    <tr>\n",
       "      <th>4312</th>\n",
       "      <td>7480</td>\n",
       "      <td>8327.336406</td>\n",
       "    </tr>\n",
       "    <tr>\n",
       "      <th>8318</th>\n",
       "      <td>5111</td>\n",
       "      <td>7417.857143</td>\n",
       "    </tr>\n",
       "    <tr>\n",
       "      <th>5395</th>\n",
       "      <td>10262</td>\n",
       "      <td>10354.777778</td>\n",
       "    </tr>\n",
       "    <tr>\n",
       "      <th>10024</th>\n",
       "      <td>13873</td>\n",
       "      <td>12498.141026</td>\n",
       "    </tr>\n",
       "    <tr>\n",
       "      <th>1774</th>\n",
       "      <td>6093</td>\n",
       "      <td>6394.080214</td>\n",
       "    </tr>\n",
       "  </tbody>\n",
       "</table>\n",
       "<p>2130 rows × 2 columns</p>\n",
       "</div>"
      ],
      "text/plain": [
       "       Actual price  Predicted price\n",
       "10601         15147     12376.065217\n",
       "5336          13376     13481.458333\n",
       "10037          9663      9950.826667\n",
       "3620          13292     13481.458333\n",
       "8539           8073     10114.010152\n",
       "3043          14848     10114.010152\n",
       "2832           4145      5860.186441\n",
       "338            5201      5860.186441\n",
       "8203           3419      4405.895270\n",
       "3412           3625      3952.242857\n",
       "4314           8907      8327.336406\n",
       "10272          3687      7526.689655\n",
       "3812           4729      5860.186441\n",
       "562            7408     10320.820513\n",
       "2058          10262     10354.777778\n",
       "2587           3841      3942.200000\n",
       "7749          15603     12376.065217\n",
       "6716           4667      5517.000000\n",
       "5505           5000      5534.055556\n",
       "2726           5054      6931.976562\n",
       "7364           4804      4733.428571\n",
       "6323           6838      6931.976562\n",
       "10304          6377      5900.956522\n",
       "4574           3597      3617.933333\n",
       "6662          16736     15510.050725\n",
       "6358          10406     10315.105263\n",
       "9591           5198      4474.687500\n",
       "7593          13882     13805.993289\n",
       "2278           4030      4474.687500\n",
       "176            5073      5900.956522\n",
       "...             ...              ...\n",
       "8889          12935     11764.152542\n",
       "1283          10577     10354.777778\n",
       "8288           5277      3849.259259\n",
       "598           10368     11186.284091\n",
       "619            9424     10114.010152\n",
       "1230           4667      5517.000000\n",
       "8265          12140     12498.141026\n",
       "6208           6717     12376.065217\n",
       "9718          13817     15510.050725\n",
       "9199          10262     10380.725806\n",
       "1503           3597      3998.812500\n",
       "229            4995      3477.666667\n",
       "7226          12557     14735.774834\n",
       "523            3543      3588.142857\n",
       "9348           7657     32271.500000\n",
       "8210          14781     13713.307692\n",
       "4454           8844      7640.692308\n",
       "1326          14781     13713.307692\n",
       "7143          10975     11547.536364\n",
       "7823           1965      1965.000000\n",
       "142            5636      6394.080214\n",
       "3025          11150     11186.284091\n",
       "10507         14781     13713.307692\n",
       "640           14781     13713.307692\n",
       "7218           3841      3942.200000\n",
       "4312           7480      8327.336406\n",
       "8318           5111      7417.857143\n",
       "5395          10262     10354.777778\n",
       "10024         13873     12498.141026\n",
       "1774           6093      6394.080214\n",
       "\n",
       "[2130 rows x 2 columns]"
      ]
     },
     "execution_count": 74,
     "metadata": {},
     "output_type": "execute_result"
    }
   ],
   "source": [
    "Price=pd.DataFrame({'Actual price':y_test,'Predicted price':y_pred})\n",
    "Price"
   ]
  },
  {
   "cell_type": "code",
   "execution_count": 81,
   "metadata": {},
   "outputs": [],
   "source": [
    "test_pred=DTR.predict(data_2)\n",
    "test_pred=pd.DataFrame(test_pred,columns=['Predicted test'])"
   ]
  },
  {
   "cell_type": "code",
   "execution_count": 82,
   "metadata": {},
   "outputs": [
    {
     "data": {
      "text/html": [
       "<div>\n",
       "<style scoped>\n",
       "    .dataframe tbody tr th:only-of-type {\n",
       "        vertical-align: middle;\n",
       "    }\n",
       "\n",
       "    .dataframe tbody tr th {\n",
       "        vertical-align: top;\n",
       "    }\n",
       "\n",
       "    .dataframe thead th {\n",
       "        text-align: right;\n",
       "    }\n",
       "</style>\n",
       "<table border=\"1\" class=\"dataframe\">\n",
       "  <thead>\n",
       "    <tr style=\"text-align: right;\">\n",
       "      <th></th>\n",
       "      <th>Predicted test</th>\n",
       "    </tr>\n",
       "  </thead>\n",
       "  <tbody>\n",
       "    <tr>\n",
       "      <th>0</th>\n",
       "      <td>14735.774834</td>\n",
       "    </tr>\n",
       "    <tr>\n",
       "      <th>1</th>\n",
       "      <td>6322.500000</td>\n",
       "    </tr>\n",
       "    <tr>\n",
       "      <th>2</th>\n",
       "      <td>9623.625000</td>\n",
       "    </tr>\n",
       "    <tr>\n",
       "      <th>3</th>\n",
       "      <td>12376.065217</td>\n",
       "    </tr>\n",
       "    <tr>\n",
       "      <th>4</th>\n",
       "      <td>4289.046875</td>\n",
       "    </tr>\n",
       "    <tr>\n",
       "      <th>5</th>\n",
       "      <td>9623.625000</td>\n",
       "    </tr>\n",
       "    <tr>\n",
       "      <th>6</th>\n",
       "      <td>9466.066667</td>\n",
       "    </tr>\n",
       "    <tr>\n",
       "      <th>7</th>\n",
       "      <td>9406.746753</td>\n",
       "    </tr>\n",
       "    <tr>\n",
       "      <th>8</th>\n",
       "      <td>4733.428571</td>\n",
       "    </tr>\n",
       "    <tr>\n",
       "      <th>9</th>\n",
       "      <td>13713.307692</td>\n",
       "    </tr>\n",
       "    <tr>\n",
       "      <th>10</th>\n",
       "      <td>9912.500000</td>\n",
       "    </tr>\n",
       "    <tr>\n",
       "      <th>11</th>\n",
       "      <td>6931.976562</td>\n",
       "    </tr>\n",
       "    <tr>\n",
       "      <th>12</th>\n",
       "      <td>12376.065217</td>\n",
       "    </tr>\n",
       "    <tr>\n",
       "      <th>13</th>\n",
       "      <td>15510.050725</td>\n",
       "    </tr>\n",
       "    <tr>\n",
       "      <th>14</th>\n",
       "      <td>11070.571429</td>\n",
       "    </tr>\n",
       "    <tr>\n",
       "      <th>15</th>\n",
       "      <td>15510.050725</td>\n",
       "    </tr>\n",
       "    <tr>\n",
       "      <th>16</th>\n",
       "      <td>12376.065217</td>\n",
       "    </tr>\n",
       "    <tr>\n",
       "      <th>17</th>\n",
       "      <td>8780.054054</td>\n",
       "    </tr>\n",
       "    <tr>\n",
       "      <th>18</th>\n",
       "      <td>9623.625000</td>\n",
       "    </tr>\n",
       "    <tr>\n",
       "      <th>19</th>\n",
       "      <td>15510.050725</td>\n",
       "    </tr>\n",
       "    <tr>\n",
       "      <th>20</th>\n",
       "      <td>9406.746753</td>\n",
       "    </tr>\n",
       "    <tr>\n",
       "      <th>21</th>\n",
       "      <td>10492.405405</td>\n",
       "    </tr>\n",
       "    <tr>\n",
       "      <th>22</th>\n",
       "      <td>11070.571429</td>\n",
       "    </tr>\n",
       "    <tr>\n",
       "      <th>23</th>\n",
       "      <td>9912.500000</td>\n",
       "    </tr>\n",
       "    <tr>\n",
       "      <th>24</th>\n",
       "      <td>5860.186441</td>\n",
       "    </tr>\n",
       "    <tr>\n",
       "      <th>25</th>\n",
       "      <td>9623.625000</td>\n",
       "    </tr>\n",
       "    <tr>\n",
       "      <th>26</th>\n",
       "      <td>5026.363636</td>\n",
       "    </tr>\n",
       "    <tr>\n",
       "      <th>27</th>\n",
       "      <td>14735.774834</td>\n",
       "    </tr>\n",
       "    <tr>\n",
       "      <th>28</th>\n",
       "      <td>9623.625000</td>\n",
       "    </tr>\n",
       "    <tr>\n",
       "      <th>29</th>\n",
       "      <td>10114.010152</td>\n",
       "    </tr>\n",
       "    <tr>\n",
       "      <th>...</th>\n",
       "      <td>...</td>\n",
       "    </tr>\n",
       "    <tr>\n",
       "      <th>2637</th>\n",
       "      <td>12376.065217</td>\n",
       "    </tr>\n",
       "    <tr>\n",
       "      <th>2638</th>\n",
       "      <td>9623.625000</td>\n",
       "    </tr>\n",
       "    <tr>\n",
       "      <th>2639</th>\n",
       "      <td>11764.152542</td>\n",
       "    </tr>\n",
       "    <tr>\n",
       "      <th>2640</th>\n",
       "      <td>12376.065217</td>\n",
       "    </tr>\n",
       "    <tr>\n",
       "      <th>2641</th>\n",
       "      <td>9458.572917</td>\n",
       "    </tr>\n",
       "    <tr>\n",
       "      <th>2642</th>\n",
       "      <td>15436.197183</td>\n",
       "    </tr>\n",
       "    <tr>\n",
       "      <th>2643</th>\n",
       "      <td>13181.687500</td>\n",
       "    </tr>\n",
       "    <tr>\n",
       "      <th>2644</th>\n",
       "      <td>4469.200000</td>\n",
       "    </tr>\n",
       "    <tr>\n",
       "      <th>2645</th>\n",
       "      <td>4413.000000</td>\n",
       "    </tr>\n",
       "    <tr>\n",
       "      <th>2646</th>\n",
       "      <td>13181.687500</td>\n",
       "    </tr>\n",
       "    <tr>\n",
       "      <th>2647</th>\n",
       "      <td>10492.405405</td>\n",
       "    </tr>\n",
       "    <tr>\n",
       "      <th>2648</th>\n",
       "      <td>15510.050725</td>\n",
       "    </tr>\n",
       "    <tr>\n",
       "      <th>2649</th>\n",
       "      <td>9950.826667</td>\n",
       "    </tr>\n",
       "    <tr>\n",
       "      <th>2650</th>\n",
       "      <td>8327.336406</td>\n",
       "    </tr>\n",
       "    <tr>\n",
       "      <th>2651</th>\n",
       "      <td>12449.000000</td>\n",
       "    </tr>\n",
       "    <tr>\n",
       "      <th>2652</th>\n",
       "      <td>9996.793388</td>\n",
       "    </tr>\n",
       "    <tr>\n",
       "      <th>2653</th>\n",
       "      <td>12376.065217</td>\n",
       "    </tr>\n",
       "    <tr>\n",
       "      <th>2654</th>\n",
       "      <td>12536.458333</td>\n",
       "    </tr>\n",
       "    <tr>\n",
       "      <th>2655</th>\n",
       "      <td>13562.354839</td>\n",
       "    </tr>\n",
       "    <tr>\n",
       "      <th>2656</th>\n",
       "      <td>14415.526316</td>\n",
       "    </tr>\n",
       "    <tr>\n",
       "      <th>2657</th>\n",
       "      <td>14735.774834</td>\n",
       "    </tr>\n",
       "    <tr>\n",
       "      <th>2658</th>\n",
       "      <td>3920.473684</td>\n",
       "    </tr>\n",
       "    <tr>\n",
       "      <th>2659</th>\n",
       "      <td>6936.076336</td>\n",
       "    </tr>\n",
       "    <tr>\n",
       "      <th>2660</th>\n",
       "      <td>10114.010152</td>\n",
       "    </tr>\n",
       "    <tr>\n",
       "      <th>2661</th>\n",
       "      <td>1965.000000</td>\n",
       "    </tr>\n",
       "    <tr>\n",
       "      <th>2662</th>\n",
       "      <td>10185.816667</td>\n",
       "    </tr>\n",
       "    <tr>\n",
       "      <th>2663</th>\n",
       "      <td>5026.363636</td>\n",
       "    </tr>\n",
       "    <tr>\n",
       "      <th>2664</th>\n",
       "      <td>14735.774834</td>\n",
       "    </tr>\n",
       "    <tr>\n",
       "      <th>2665</th>\n",
       "      <td>10185.816667</td>\n",
       "    </tr>\n",
       "    <tr>\n",
       "      <th>2666</th>\n",
       "      <td>10114.010152</td>\n",
       "    </tr>\n",
       "  </tbody>\n",
       "</table>\n",
       "<p>2667 rows × 1 columns</p>\n",
       "</div>"
      ],
      "text/plain": [
       "      Predicted test\n",
       "0       14735.774834\n",
       "1        6322.500000\n",
       "2        9623.625000\n",
       "3       12376.065217\n",
       "4        4289.046875\n",
       "5        9623.625000\n",
       "6        9466.066667\n",
       "7        9406.746753\n",
       "8        4733.428571\n",
       "9       13713.307692\n",
       "10       9912.500000\n",
       "11       6931.976562\n",
       "12      12376.065217\n",
       "13      15510.050725\n",
       "14      11070.571429\n",
       "15      15510.050725\n",
       "16      12376.065217\n",
       "17       8780.054054\n",
       "18       9623.625000\n",
       "19      15510.050725\n",
       "20       9406.746753\n",
       "21      10492.405405\n",
       "22      11070.571429\n",
       "23       9912.500000\n",
       "24       5860.186441\n",
       "25       9623.625000\n",
       "26       5026.363636\n",
       "27      14735.774834\n",
       "28       9623.625000\n",
       "29      10114.010152\n",
       "...              ...\n",
       "2637    12376.065217\n",
       "2638     9623.625000\n",
       "2639    11764.152542\n",
       "2640    12376.065217\n",
       "2641     9458.572917\n",
       "2642    15436.197183\n",
       "2643    13181.687500\n",
       "2644     4469.200000\n",
       "2645     4413.000000\n",
       "2646    13181.687500\n",
       "2647    10492.405405\n",
       "2648    15510.050725\n",
       "2649     9950.826667\n",
       "2650     8327.336406\n",
       "2651    12449.000000\n",
       "2652     9996.793388\n",
       "2653    12376.065217\n",
       "2654    12536.458333\n",
       "2655    13562.354839\n",
       "2656    14415.526316\n",
       "2657    14735.774834\n",
       "2658     3920.473684\n",
       "2659     6936.076336\n",
       "2660    10114.010152\n",
       "2661     1965.000000\n",
       "2662    10185.816667\n",
       "2663     5026.363636\n",
       "2664    14735.774834\n",
       "2665    10185.816667\n",
       "2666    10114.010152\n",
       "\n",
       "[2667 rows x 1 columns]"
      ]
     },
     "execution_count": 82,
     "metadata": {},
     "output_type": "execute_result"
    }
   ],
   "source": [
    "test_pred"
   ]
  },
  {
   "cell_type": "code",
   "execution_count": 83,
   "metadata": {},
   "outputs": [],
   "source": [
    "test_pred.to_csv('project17_predictions.csv')"
   ]
  },
  {
   "cell_type": "code",
   "execution_count": 84,
   "metadata": {},
   "outputs": [],
   "source": [
    "from sklearn.externals import joblib"
   ]
  },
  {
   "cell_type": "code",
   "execution_count": 85,
   "metadata": {},
   "outputs": [
    {
     "data": {
      "text/plain": [
       "['project17_DTC.pkl']"
      ]
     },
     "execution_count": 85,
     "metadata": {},
     "output_type": "execute_result"
    }
   ],
   "source": [
    "joblib.dump(DTR,'project17_DTC.pkl')"
   ]
  },
  {
   "cell_type": "raw",
   "metadata": {},
   "source": [
    "# decision tree regressor gives good r2 score for both training and testing data and error is also minimum as compared to other models so chosen as best model for this project."
   ]
  }
 ],
 "metadata": {
  "kernelspec": {
   "display_name": "Python 3",
   "language": "python",
   "name": "python3"
  },
  "language_info": {
   "codemirror_mode": {
    "name": "ipython",
    "version": 3
   },
   "file_extension": ".py",
   "mimetype": "text/x-python",
   "name": "python",
   "nbconvert_exporter": "python",
   "pygments_lexer": "ipython3",
   "version": "3.7.3"
  }
 },
 "nbformat": 4,
 "nbformat_minor": 2
}
