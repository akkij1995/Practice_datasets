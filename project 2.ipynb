{
 "cells": [
  {
   "cell_type": "code",
   "execution_count": 1,
   "metadata": {},
   "outputs": [],
   "source": [
    "import pandas as pd\n",
    "import numpy as np\n",
    "import matplotlib.pyplot as plt\n",
    "import seaborn as sns\n",
    "import warnings\n",
    "warnings.filterwarnings('ignore')\n",
    "%matplotlib inline"
   ]
  },
  {
   "cell_type": "code",
   "execution_count": 2,
   "metadata": {},
   "outputs": [
    {
     "data": {
      "text/html": [
       "<div>\n",
       "<style scoped>\n",
       "    .dataframe tbody tr th:only-of-type {\n",
       "        vertical-align: middle;\n",
       "    }\n",
       "\n",
       "    .dataframe tbody tr th {\n",
       "        vertical-align: top;\n",
       "    }\n",
       "\n",
       "    .dataframe thead th {\n",
       "        text-align: right;\n",
       "    }\n",
       "</style>\n",
       "<table border=\"1\" class=\"dataframe\">\n",
       "  <thead>\n",
       "    <tr style=\"text-align: right;\">\n",
       "      <th></th>\n",
       "      <th>age</th>\n",
       "      <th>sex</th>\n",
       "      <th>bmi</th>\n",
       "      <th>children</th>\n",
       "      <th>smoker</th>\n",
       "      <th>region</th>\n",
       "      <th>charges</th>\n",
       "      <th>insuranceclaim</th>\n",
       "    </tr>\n",
       "  </thead>\n",
       "  <tbody>\n",
       "    <tr>\n",
       "      <th>0</th>\n",
       "      <td>19</td>\n",
       "      <td>0</td>\n",
       "      <td>27.900</td>\n",
       "      <td>0</td>\n",
       "      <td>1</td>\n",
       "      <td>3</td>\n",
       "      <td>16884.92400</td>\n",
       "      <td>1</td>\n",
       "    </tr>\n",
       "    <tr>\n",
       "      <th>1</th>\n",
       "      <td>18</td>\n",
       "      <td>1</td>\n",
       "      <td>33.770</td>\n",
       "      <td>1</td>\n",
       "      <td>0</td>\n",
       "      <td>2</td>\n",
       "      <td>1725.55230</td>\n",
       "      <td>1</td>\n",
       "    </tr>\n",
       "    <tr>\n",
       "      <th>2</th>\n",
       "      <td>28</td>\n",
       "      <td>1</td>\n",
       "      <td>33.000</td>\n",
       "      <td>3</td>\n",
       "      <td>0</td>\n",
       "      <td>2</td>\n",
       "      <td>4449.46200</td>\n",
       "      <td>0</td>\n",
       "    </tr>\n",
       "    <tr>\n",
       "      <th>3</th>\n",
       "      <td>33</td>\n",
       "      <td>1</td>\n",
       "      <td>22.705</td>\n",
       "      <td>0</td>\n",
       "      <td>0</td>\n",
       "      <td>1</td>\n",
       "      <td>21984.47061</td>\n",
       "      <td>0</td>\n",
       "    </tr>\n",
       "    <tr>\n",
       "      <th>4</th>\n",
       "      <td>32</td>\n",
       "      <td>1</td>\n",
       "      <td>28.880</td>\n",
       "      <td>0</td>\n",
       "      <td>0</td>\n",
       "      <td>1</td>\n",
       "      <td>3866.85520</td>\n",
       "      <td>1</td>\n",
       "    </tr>\n",
       "  </tbody>\n",
       "</table>\n",
       "</div>"
      ],
      "text/plain": [
       "   age  sex     bmi  children  smoker  region      charges  insuranceclaim\n",
       "0   19    0  27.900         0       1       3  16884.92400               1\n",
       "1   18    1  33.770         1       0       2   1725.55230               1\n",
       "2   28    1  33.000         3       0       2   4449.46200               0\n",
       "3   33    1  22.705         0       0       1  21984.47061               0\n",
       "4   32    1  28.880         0       0       1   3866.85520               1"
      ]
     },
     "execution_count": 2,
     "metadata": {},
     "output_type": "execute_result"
    }
   ],
   "source": [
    "data=pd.read_csv('SBI_life_insurance.csv')\n",
    "data.head()"
   ]
  },
  {
   "cell_type": "code",
   "execution_count": 3,
   "metadata": {},
   "outputs": [],
   "source": [
    "rawdata=['Northeast','Northwest','Southeast','Southwest']\n",
    "region=pd.DataFrame(rawdata,columns=['Region'])"
   ]
  },
  {
   "cell_type": "code",
   "execution_count": 4,
   "metadata": {},
   "outputs": [
    {
     "data": {
      "text/html": [
       "<div>\n",
       "<style scoped>\n",
       "    .dataframe tbody tr th:only-of-type {\n",
       "        vertical-align: middle;\n",
       "    }\n",
       "\n",
       "    .dataframe tbody tr th {\n",
       "        vertical-align: top;\n",
       "    }\n",
       "\n",
       "    .dataframe thead th {\n",
       "        text-align: right;\n",
       "    }\n",
       "</style>\n",
       "<table border=\"1\" class=\"dataframe\">\n",
       "  <thead>\n",
       "    <tr style=\"text-align: right;\">\n",
       "      <th></th>\n",
       "      <th>Region</th>\n",
       "    </tr>\n",
       "  </thead>\n",
       "  <tbody>\n",
       "    <tr>\n",
       "      <th>0</th>\n",
       "      <td>Northeast</td>\n",
       "    </tr>\n",
       "    <tr>\n",
       "      <th>1</th>\n",
       "      <td>Northwest</td>\n",
       "    </tr>\n",
       "    <tr>\n",
       "      <th>2</th>\n",
       "      <td>Southeast</td>\n",
       "    </tr>\n",
       "    <tr>\n",
       "      <th>3</th>\n",
       "      <td>Southwest</td>\n",
       "    </tr>\n",
       "  </tbody>\n",
       "</table>\n",
       "</div>"
      ],
      "text/plain": [
       "      Region\n",
       "0  Northeast\n",
       "1  Northwest\n",
       "2  Southeast\n",
       "3  Southwest"
      ]
     },
     "execution_count": 4,
     "metadata": {},
     "output_type": "execute_result"
    }
   ],
   "source": [
    "region.head()"
   ]
  },
  {
   "cell_type": "code",
   "execution_count": 5,
   "metadata": {},
   "outputs": [],
   "source": [
    "data.rename(columns={'sex':'sex_male'},inplace=True)"
   ]
  },
  {
   "cell_type": "code",
   "execution_count": 6,
   "metadata": {},
   "outputs": [
    {
     "data": {
      "text/plain": [
       "age               0\n",
       "sex_male          0\n",
       "bmi               0\n",
       "children          0\n",
       "smoker            0\n",
       "region            0\n",
       "charges           0\n",
       "insuranceclaim    0\n",
       "dtype: int64"
      ]
     },
     "execution_count": 6,
     "metadata": {},
     "output_type": "execute_result"
    }
   ],
   "source": [
    "data.isnull().sum()"
   ]
  },
  {
   "cell_type": "code",
   "execution_count": 7,
   "metadata": {},
   "outputs": [
    {
     "data": {
      "text/plain": [
       "age                 int64\n",
       "sex_male            int64\n",
       "bmi               float64\n",
       "children            int64\n",
       "smoker              int64\n",
       "region              int64\n",
       "charges           float64\n",
       "insuranceclaim      int64\n",
       "dtype: object"
      ]
     },
     "execution_count": 7,
     "metadata": {},
     "output_type": "execute_result"
    }
   ],
   "source": [
    "data.dtypes"
   ]
  },
  {
   "cell_type": "code",
   "execution_count": 8,
   "metadata": {},
   "outputs": [
    {
     "data": {
      "text/plain": [
       "array([1, 0], dtype=int64)"
      ]
     },
     "execution_count": 8,
     "metadata": {},
     "output_type": "execute_result"
    }
   ],
   "source": [
    "data['insuranceclaim'].unique()"
   ]
  },
  {
   "cell_type": "code",
   "execution_count": 9,
   "metadata": {},
   "outputs": [
    {
     "data": {
      "text/plain": [
       "<matplotlib.axes._subplots.AxesSubplot at 0x1ea6771f9e8>"
      ]
     },
     "execution_count": 9,
     "metadata": {},
     "output_type": "execute_result"
    },
    {
     "data": {
      "image/png": "[encoded data removed]",
      "text/plain": [
       "<Figure size 432x288 with 1 Axes>"
      ]
     },
     "metadata": {
      "needs_background": "light"
     },
     "output_type": "display_data"
    }
   ],
   "source": [
    "sns.distplot(data.age,bins=20)"
   ]
  },
  {
   "cell_type": "code",
   "execution_count": 10,
   "metadata": {},
   "outputs": [
    {
     "data": {
      "text/plain": [
       "<matplotlib.axes._subplots.AxesSubplot at 0x1ea6c4667f0>"
      ]
     },
     "execution_count": 10,
     "metadata": {},
     "output_type": "execute_result"
    },
    {
     "data": {
      "image/png": "[encoded data removed]",
      "text/plain": [
       "<Figure size 432x288 with 1 Axes>"
      ]
     },
     "metadata": {
      "needs_background": "light"
     },
     "output_type": "display_data"
    }
   ],
   "source": [
    "sns.countplot(x=data['sex_male'])"
   ]
  },
  {
   "cell_type": "code",
   "execution_count": 11,
   "metadata": {},
   "outputs": [
    {
     "data": {
      "text/plain": [
       "1    676\n",
       "0    662\n",
       "Name: sex_male, dtype: int64"
      ]
     },
     "execution_count": 11,
     "metadata": {},
     "output_type": "execute_result"
    }
   ],
   "source": [
    "data['sex_male'].value_counts()"
   ]
  },
  {
   "cell_type": "code",
   "execution_count": 12,
   "metadata": {},
   "outputs": [
    {
     "data": {
      "text/plain": [
       "<matplotlib.axes._subplots.AxesSubplot at 0x1ea6c4c4be0>"
      ]
     },
     "execution_count": 12,
     "metadata": {},
     "output_type": "execute_result"
    },
    {
     "data": {
      "image/png": "[encoded data removed]",
      "text/plain": [
       "<Figure size 432x288 with 1 Axes>"
      ]
     },
     "metadata": {
      "needs_background": "light"
     },
     "output_type": "display_data"
    }
   ],
   "source": [
    "sns.distplot(data['bmi'])"
   ]
  },
  {
   "cell_type": "code",
   "execution_count": 13,
   "metadata": {},
   "outputs": [
    {
     "data": {
      "text/plain": [
       "<matplotlib.axes._subplots.AxesSubplot at 0x1ea6c49bf60>"
      ]
     },
     "execution_count": 13,
     "metadata": {},
     "output_type": "execute_result"
    },
    {
     "data": {
      "image/png": "[encoded data removed]",
      "text/plain": [
       "<Figure size 432x288 with 1 Axes>"
      ]
     },
     "metadata": {
      "needs_background": "light"
     },
     "output_type": "display_data"
    }
   ],
   "source": [
    "sns.countplot(data['children'])"
   ]
  },
  {
   "cell_type": "code",
   "execution_count": 14,
   "metadata": {},
   "outputs": [
    {
     "data": {
      "text/plain": [
       "<matplotlib.axes._subplots.AxesSubplot at 0x1ea6c5e0940>"
      ]
     },
     "execution_count": 14,
     "metadata": {},
     "output_type": "execute_result"
    },
    {
     "data": {
      "image/png": "[encoded data removed]",
      "text/plain": [
       "<Figure size 432x288 with 1 Axes>"
      ]
     },
     "metadata": {
      "needs_background": "light"
     },
     "output_type": "display_data"
    }
   ],
   "source": [
    "sns.countplot(data['smoker'])"
   ]
  },
  {
   "cell_type": "code",
   "execution_count": 15,
   "metadata": {},
   "outputs": [
    {
     "data": {
      "text/plain": [
       "<matplotlib.axes._subplots.AxesSubplot at 0x1ea6c6217b8>"
      ]
     },
     "execution_count": 15,
     "metadata": {},
     "output_type": "execute_result"
    },
    {
     "data": {
      "image/png": "[encoded data removed]",
      "text/plain": [
       "<Figure size 432x288 with 1 Axes>"
      ]
     },
     "metadata": {
      "needs_background": "light"
     },
     "output_type": "display_data"
    }
   ],
   "source": [
    "sns.countplot(data['region'])"
   ]
  },
  {
   "cell_type": "code",
   "execution_count": 16,
   "metadata": {},
   "outputs": [
    {
     "data": {
      "text/plain": [
       "<matplotlib.axes._subplots.AxesSubplot at 0x1ea6c5c97f0>"
      ]
     },
     "execution_count": 16,
     "metadata": {},
     "output_type": "execute_result"
    },
    {
     "data": {
      "image/png": "[encoded data removed]",
      "text/plain": [
       "<Figure size 432x288 with 1 Axes>"
      ]
     },
     "metadata": {
      "needs_background": "light"
     },
     "output_type": "display_data"
    }
   ],
   "source": [
    "sns.distplot(data.charges)"
   ]
  },
  {
   "cell_type": "code",
   "execution_count": 17,
   "metadata": {},
   "outputs": [
    {
     "data": {
      "text/plain": [
       "<matplotlib.axes._subplots.AxesSubplot at 0x1ea6c737ba8>"
      ]
     },
     "execution_count": 17,
     "metadata": {},
     "output_type": "execute_result"
    },
    {
     "data": {
      "image/png": "[encoded data removed]",
      "text/plain": [
       "<Figure size 432x288 with 1 Axes>"
      ]
     },
     "metadata": {
      "needs_background": "light"
     },
     "output_type": "display_data"
    }
   ],
   "source": [
    "sns.countplot(data.insuranceclaim)"
   ]
  },
  {
   "cell_type": "code",
   "execution_count": 18,
   "metadata": {},
   "outputs": [
    {
     "data": {
      "text/html": [
       "<div>\n",
       "<style scoped>\n",
       "    .dataframe tbody tr th:only-of-type {\n",
       "        vertical-align: middle;\n",
       "    }\n",
       "\n",
       "    .dataframe tbody tr th {\n",
       "        vertical-align: top;\n",
       "    }\n",
       "\n",
       "    .dataframe thead th {\n",
       "        text-align: right;\n",
       "    }\n",
       "</style>\n",
       "<table border=\"1\" class=\"dataframe\">\n",
       "  <thead>\n",
       "    <tr style=\"text-align: right;\">\n",
       "      <th></th>\n",
       "      <th>age</th>\n",
       "      <th>sex_male</th>\n",
       "      <th>bmi</th>\n",
       "      <th>children</th>\n",
       "      <th>smoker</th>\n",
       "      <th>region</th>\n",
       "      <th>charges</th>\n",
       "      <th>insuranceclaim</th>\n",
       "    </tr>\n",
       "  </thead>\n",
       "  <tbody>\n",
       "    <tr>\n",
       "      <th>age</th>\n",
       "      <td>1.000000</td>\n",
       "      <td>-0.020856</td>\n",
       "      <td>0.109272</td>\n",
       "      <td>0.042469</td>\n",
       "      <td>-0.025019</td>\n",
       "      <td>0.002127</td>\n",
       "      <td>0.299008</td>\n",
       "      <td>0.113723</td>\n",
       "    </tr>\n",
       "    <tr>\n",
       "      <th>sex_male</th>\n",
       "      <td>-0.020856</td>\n",
       "      <td>1.000000</td>\n",
       "      <td>0.046371</td>\n",
       "      <td>0.017163</td>\n",
       "      <td>0.076185</td>\n",
       "      <td>0.004588</td>\n",
       "      <td>0.057292</td>\n",
       "      <td>0.031565</td>\n",
       "    </tr>\n",
       "    <tr>\n",
       "      <th>bmi</th>\n",
       "      <td>0.109272</td>\n",
       "      <td>0.046371</td>\n",
       "      <td>1.000000</td>\n",
       "      <td>0.012759</td>\n",
       "      <td>0.003750</td>\n",
       "      <td>0.157566</td>\n",
       "      <td>0.198341</td>\n",
       "      <td>0.384198</td>\n",
       "    </tr>\n",
       "    <tr>\n",
       "      <th>children</th>\n",
       "      <td>0.042469</td>\n",
       "      <td>0.017163</td>\n",
       "      <td>0.012759</td>\n",
       "      <td>1.000000</td>\n",
       "      <td>0.007673</td>\n",
       "      <td>0.016569</td>\n",
       "      <td>0.067998</td>\n",
       "      <td>-0.409526</td>\n",
       "    </tr>\n",
       "    <tr>\n",
       "      <th>smoker</th>\n",
       "      <td>-0.025019</td>\n",
       "      <td>0.076185</td>\n",
       "      <td>0.003750</td>\n",
       "      <td>0.007673</td>\n",
       "      <td>1.000000</td>\n",
       "      <td>-0.002181</td>\n",
       "      <td>0.787251</td>\n",
       "      <td>0.333261</td>\n",
       "    </tr>\n",
       "    <tr>\n",
       "      <th>region</th>\n",
       "      <td>0.002127</td>\n",
       "      <td>0.004588</td>\n",
       "      <td>0.157566</td>\n",
       "      <td>0.016569</td>\n",
       "      <td>-0.002181</td>\n",
       "      <td>1.000000</td>\n",
       "      <td>-0.006208</td>\n",
       "      <td>0.020891</td>\n",
       "    </tr>\n",
       "    <tr>\n",
       "      <th>charges</th>\n",
       "      <td>0.299008</td>\n",
       "      <td>0.057292</td>\n",
       "      <td>0.198341</td>\n",
       "      <td>0.067998</td>\n",
       "      <td>0.787251</td>\n",
       "      <td>-0.006208</td>\n",
       "      <td>1.000000</td>\n",
       "      <td>0.309418</td>\n",
       "    </tr>\n",
       "    <tr>\n",
       "      <th>insuranceclaim</th>\n",
       "      <td>0.113723</td>\n",
       "      <td>0.031565</td>\n",
       "      <td>0.384198</td>\n",
       "      <td>-0.409526</td>\n",
       "      <td>0.333261</td>\n",
       "      <td>0.020891</td>\n",
       "      <td>0.309418</td>\n",
       "      <td>1.000000</td>\n",
       "    </tr>\n",
       "  </tbody>\n",
       "</table>\n",
       "</div>"
      ],
      "text/plain": [
       "                     age  sex_male       bmi  children    smoker    region  \\\n",
       "age             1.000000 -0.020856  0.109272  0.042469 -0.025019  0.002127   \n",
       "sex_male       -0.020856  1.000000  0.046371  0.017163  0.076185  0.004588   \n",
       "bmi             0.109272  0.046371  1.000000  0.012759  0.003750  0.157566   \n",
       "children        0.042469  0.017163  0.012759  1.000000  0.007673  0.016569   \n",
       "smoker         -0.025019  0.076185  0.003750  0.007673  1.000000 -0.002181   \n",
       "region          0.002127  0.004588  0.157566  0.016569 -0.002181  1.000000   \n",
       "charges         0.299008  0.057292  0.198341  0.067998  0.787251 -0.006208   \n",
       "insuranceclaim  0.113723  0.031565  0.384198 -0.409526  0.333261  0.020891   \n",
       "\n",
       "                 charges  insuranceclaim  \n",
       "age             0.299008        0.113723  \n",
       "sex_male        0.057292        0.031565  \n",
       "bmi             0.198341        0.384198  \n",
       "children        0.067998       -0.409526  \n",
       "smoker          0.787251        0.333261  \n",
       "region         -0.006208        0.020891  \n",
       "charges         1.000000        0.309418  \n",
       "insuranceclaim  0.309418        1.000000  "
      ]
     },
     "execution_count": 18,
     "metadata": {},
     "output_type": "execute_result"
    }
   ],
   "source": [
    "data.corr()"
   ]
  },
  {
   "cell_type": "code",
   "execution_count": 19,
   "metadata": {},
   "outputs": [
    {
     "data": {
      "image/png": "[encoded data removed]",
      "text/plain": [
       "<Figure size 576x504 with 2 Axes>"
      ]
     },
     "metadata": {
      "needs_background": "light"
     },
     "output_type": "display_data"
    }
   ],
   "source": [
    "corr_hmap=data.corr()\n",
    "plt.figure(figsize=(8,7))\n",
    "sns.heatmap(corr_hmap,annot=True)\n",
    "plt.show()"
   ]
  },
  {
   "cell_type": "code",
   "execution_count": 20,
   "metadata": {},
   "outputs": [
    {
     "data": {
      "text/plain": [
       "age               0.055673\n",
       "sex_male         -0.020951\n",
       "bmi               0.284047\n",
       "children          0.938380\n",
       "smoker            1.464766\n",
       "region           -0.038101\n",
       "charges           1.515880\n",
       "insuranceclaim   -0.346254\n",
       "dtype: float64"
      ]
     },
     "execution_count": 20,
     "metadata": {},
     "output_type": "execute_result"
    }
   ],
   "source": [
    "data.skew()"
   ]
  },
  {
   "cell_type": "code",
   "execution_count": 21,
   "metadata": {},
   "outputs": [],
   "source": [
    "for col in data.columns:\n",
    "    if data.skew().loc[col]>0.55:\n",
    "        data[col]=np.log1p(data[col])"
   ]
  },
  {
   "cell_type": "code",
   "execution_count": 22,
   "metadata": {},
   "outputs": [
    {
     "data": {
      "text/plain": [
       "age               0.055673\n",
       "sex_male         -0.020951\n",
       "bmi               0.284047\n",
       "children          0.264083\n",
       "smoker            1.464766\n",
       "region           -0.038101\n",
       "charges          -0.089817\n",
       "insuranceclaim   -0.346254\n",
       "dtype: float64"
      ]
     },
     "execution_count": 22,
     "metadata": {},
     "output_type": "execute_result"
    }
   ],
   "source": [
    "data.skew()"
   ]
  },
  {
   "cell_type": "code",
   "execution_count": 23,
   "metadata": {},
   "outputs": [
    {
     "data": {
      "text/plain": [
       "<matplotlib.axes._subplots.AxesSubplot at 0x1ea6c0ff208>"
      ]
     },
     "execution_count": 23,
     "metadata": {},
     "output_type": "execute_result"
    },
    {
     "data": {
      "image/png": "[encoded data removed]",
      "text/plain": [
       "<Figure size 432x288 with 1 Axes>"
      ]
     },
     "metadata": {
      "needs_background": "light"
     },
     "output_type": "display_data"
    }
   ],
   "source": [
    "sns.boxplot(data.age)"
   ]
  },
  {
   "cell_type": "code",
   "execution_count": 24,
   "metadata": {},
   "outputs": [
    {
     "data": {
      "text/plain": [
       "<matplotlib.axes._subplots.AxesSubplot at 0x1ea6c8e9da0>"
      ]
     },
     "execution_count": 24,
     "metadata": {},
     "output_type": "execute_result"
    },
    {
     "data": {
      "image/png": "[encoded data removed]",
      "text/plain": [
       "<Figure size 432x288 with 1 Axes>"
      ]
     },
     "metadata": {
      "needs_background": "light"
     },
     "output_type": "display_data"
    }
   ],
   "source": [
    "sns.boxplot(data.bmi)"
   ]
  },
  {
   "cell_type": "code",
   "execution_count": 25,
   "metadata": {},
   "outputs": [
    {
     "data": {
      "text/plain": [
       "<matplotlib.axes._subplots.AxesSubplot at 0x1ea6c950fd0>"
      ]
     },
     "execution_count": 25,
     "metadata": {},
     "output_type": "execute_result"
    },
    {
     "data": {
      "image/png": "[encoded data removed]",
      "text/plain": [
       "<Figure size 432x288 with 1 Axes>"
      ]
     },
     "metadata": {
      "needs_background": "light"
     },
     "output_type": "display_data"
    }
   ],
   "source": [
    "sns.boxplot(data.charges)"
   ]
  },
  {
   "cell_type": "code",
   "execution_count": 26,
   "metadata": {},
   "outputs": [
    {
     "name": "stdout",
     "output_type": "stream",
     "text": [
      "(array([ 116,  847, 1047, 1317], dtype=int64), array([2, 2, 2, 2], dtype=int64))\n"
     ]
    }
   ],
   "source": [
    "from scipy.stats import zscore\n",
    "z=abs(zscore(data))\n",
    "print(np.where(z>3))"
   ]
  },
  {
   "cell_type": "code",
   "execution_count": 27,
   "metadata": {},
   "outputs": [],
   "source": [
    "data=data[(z<3).all(axis=1)]"
   ]
  },
  {
   "cell_type": "code",
   "execution_count": 28,
   "metadata": {},
   "outputs": [
    {
     "data": {
      "text/plain": [
       "(1334, 8)"
      ]
     },
     "execution_count": 28,
     "metadata": {},
     "output_type": "execute_result"
    }
   ],
   "source": [
    "data.shape"
   ]
  },
  {
   "cell_type": "code",
   "execution_count": 29,
   "metadata": {},
   "outputs": [],
   "source": [
    "from sklearn.model_selection import train_test_split as tts"
   ]
  },
  {
   "cell_type": "code",
   "execution_count": 30,
   "metadata": {},
   "outputs": [],
   "source": [
    "data_x=data.drop('insuranceclaim',axis=1)\n",
    "data_y=data.insuranceclaim"
   ]
  },
  {
   "cell_type": "code",
   "execution_count": 31,
   "metadata": {},
   "outputs": [
    {
     "data": {
      "text/html": [
       "<div>\n",
       "<style scoped>\n",
       "    .dataframe tbody tr th:only-of-type {\n",
       "        vertical-align: middle;\n",
       "    }\n",
       "\n",
       "    .dataframe tbody tr th {\n",
       "        vertical-align: top;\n",
       "    }\n",
       "\n",
       "    .dataframe thead th {\n",
       "        text-align: right;\n",
       "    }\n",
       "</style>\n",
       "<table border=\"1\" class=\"dataframe\">\n",
       "  <thead>\n",
       "    <tr style=\"text-align: right;\">\n",
       "      <th></th>\n",
       "      <th>age</th>\n",
       "      <th>sex_male</th>\n",
       "      <th>bmi</th>\n",
       "      <th>children</th>\n",
       "      <th>smoker</th>\n",
       "      <th>region</th>\n",
       "      <th>charges</th>\n",
       "    </tr>\n",
       "  </thead>\n",
       "  <tbody>\n",
       "    <tr>\n",
       "      <th>0</th>\n",
       "      <td>19</td>\n",
       "      <td>0</td>\n",
       "      <td>27.900</td>\n",
       "      <td>0.000000</td>\n",
       "      <td>0.693147</td>\n",
       "      <td>3</td>\n",
       "      <td>9.734236</td>\n",
       "    </tr>\n",
       "    <tr>\n",
       "      <th>1</th>\n",
       "      <td>18</td>\n",
       "      <td>1</td>\n",
       "      <td>33.770</td>\n",
       "      <td>0.693147</td>\n",
       "      <td>0.000000</td>\n",
       "      <td>2</td>\n",
       "      <td>7.453882</td>\n",
       "    </tr>\n",
       "    <tr>\n",
       "      <th>2</th>\n",
       "      <td>28</td>\n",
       "      <td>1</td>\n",
       "      <td>33.000</td>\n",
       "      <td>1.386294</td>\n",
       "      <td>0.000000</td>\n",
       "      <td>2</td>\n",
       "      <td>8.400763</td>\n",
       "    </tr>\n",
       "    <tr>\n",
       "      <th>3</th>\n",
       "      <td>33</td>\n",
       "      <td>1</td>\n",
       "      <td>22.705</td>\n",
       "      <td>0.000000</td>\n",
       "      <td>0.000000</td>\n",
       "      <td>1</td>\n",
       "      <td>9.998137</td>\n",
       "    </tr>\n",
       "    <tr>\n",
       "      <th>4</th>\n",
       "      <td>32</td>\n",
       "      <td>1</td>\n",
       "      <td>28.880</td>\n",
       "      <td>0.000000</td>\n",
       "      <td>0.000000</td>\n",
       "      <td>1</td>\n",
       "      <td>8.260455</td>\n",
       "    </tr>\n",
       "  </tbody>\n",
       "</table>\n",
       "</div>"
      ],
      "text/plain": [
       "   age  sex_male     bmi  children    smoker  region   charges\n",
       "0   19         0  27.900  0.000000  0.693147       3  9.734236\n",
       "1   18         1  33.770  0.693147  0.000000       2  7.453882\n",
       "2   28         1  33.000  1.386294  0.000000       2  8.400763\n",
       "3   33         1  22.705  0.000000  0.000000       1  9.998137\n",
       "4   32         1  28.880  0.000000  0.000000       1  8.260455"
      ]
     },
     "execution_count": 31,
     "metadata": {},
     "output_type": "execute_result"
    }
   ],
   "source": [
    "data_x.head()"
   ]
  },
  {
   "cell_type": "code",
   "execution_count": 32,
   "metadata": {},
   "outputs": [],
   "source": [
    "x_train,x_test,y_train,y_test=tts(data_x,data_y,stratify=data_y,random_state=0,test_size=0.20)"
   ]
  },
  {
   "cell_type": "code",
   "execution_count": 33,
   "metadata": {},
   "outputs": [
    {
     "data": {
      "text/plain": [
       "((1067, 7), (1067,))"
      ]
     },
     "execution_count": 33,
     "metadata": {},
     "output_type": "execute_result"
    }
   ],
   "source": [
    "x_train.shape,y_train.shape"
   ]
  },
  {
   "cell_type": "code",
   "execution_count": 34,
   "metadata": {},
   "outputs": [
    {
     "data": {
      "text/plain": [
       "((267, 7), (267,))"
      ]
     },
     "execution_count": 34,
     "metadata": {},
     "output_type": "execute_result"
    }
   ],
   "source": [
    "x_test.shape,y_test.shape"
   ]
  },
  {
   "cell_type": "code",
   "execution_count": 35,
   "metadata": {},
   "outputs": [],
   "source": [
    "from sklearn.metrics import accuracy_score"
   ]
  },
  {
   "cell_type": "code",
   "execution_count": 36,
   "metadata": {},
   "outputs": [
    {
     "name": "stdout",
     "output_type": "stream",
     "text": [
      "0.8277153558052435 0.8772258669165885\n"
     ]
    }
   ],
   "source": [
    "from sklearn.linear_model import LogisticRegression\n",
    "lr=LogisticRegression()\n",
    "lr.fit(x_train,y_train)\n",
    "y_pred=lr.predict(x_test)\n",
    "train_pred=lr.predict(x_train)\n",
    "accuracy=accuracy_score(y_pred,y_test)\n",
    "accuracy1=accuracy_score(train_pred,y_train)\n",
    "print(accuracy,accuracy1)"
   ]
  },
  {
   "cell_type": "code",
   "execution_count": 37,
   "metadata": {},
   "outputs": [],
   "source": [
    "from sklearn.preprocessing import StandardScaler\n",
    "sc=StandardScaler()"
   ]
  },
  {
   "cell_type": "code",
   "execution_count": 38,
   "metadata": {},
   "outputs": [],
   "source": [
    "x_scaled=sc.fit_transform(x_train)\n",
    "x_test_scaled=sc.transform(x_test)"
   ]
  },
  {
   "cell_type": "code",
   "execution_count": 39,
   "metadata": {},
   "outputs": [],
   "source": [
    "x_scaled=pd.DataFrame(data=x_scaled,columns=x_train.columns)\n",
    "x_test_scaled=pd.DataFrame(data=x_test_scaled,columns=x_test.columns)"
   ]
  },
  {
   "cell_type": "code",
   "execution_count": 40,
   "metadata": {},
   "outputs": [
    {
     "name": "stdout",
     "output_type": "stream",
     "text": [
      "0.8389513108614233 0.880037488284911\n"
     ]
    }
   ],
   "source": [
    "lr.fit(x_scaled,y_train)\n",
    "y_pred=lr.predict(x_test_scaled)\n",
    "train_pred=lr.predict(x_scaled)\n",
    "accuracy=accuracy_score(y_pred,y_test)\n",
    "accuracy1=accuracy_score(train_pred,y_train)\n",
    "print(accuracy,accuracy1)"
   ]
  },
  {
   "cell_type": "code",
   "execution_count": 41,
   "metadata": {},
   "outputs": [
    {
     "data": {
      "text/plain": [
       "age         0.071283\n",
       "sex_male   -0.084543\n",
       "bmi         0.182739\n",
       "children    0.254243\n",
       "smoker      1.447471\n",
       "region     -0.025911\n",
       "charges    -0.074375\n",
       "dtype: float64"
      ]
     },
     "execution_count": 41,
     "metadata": {},
     "output_type": "execute_result"
    }
   ],
   "source": [
    "x_scaled.skew()"
   ]
  },
  {
   "cell_type": "code",
   "execution_count": 42,
   "metadata": {},
   "outputs": [],
   "source": [
    "data_X=sc.fit_transform(data_x)\n",
    "data_X=pd.DataFrame(data=data_X,columns=data_x.columns)\n",
    "data_Y=data_y"
   ]
  },
  {
   "cell_type": "code",
   "execution_count": 43,
   "metadata": {},
   "outputs": [
    {
     "name": "stdout",
     "output_type": "stream",
     "text": [
      "Accuracy score is 0.8389513108614233 at random state 0\n",
      "Accuracy score is 0.8764044943820225 at random state 1\n",
      "Accuracy score is 0.8614232209737828 at random state 2\n",
      "Accuracy score is 0.8389513108614233 at random state 3\n",
      "Accuracy score is 0.8913857677902621 at random state 4\n",
      "Accuracy score is 0.8726591760299626 at random state 5\n",
      "Accuracy score is 0.8801498127340824 at random state 6\n",
      "Accuracy score is 0.8651685393258427 at random state 7\n",
      "Accuracy score is 0.8389513108614233 at random state 8\n",
      "Accuracy score is 0.8539325842696629 at random state 9\n",
      "Accuracy score is 0.8764044943820225 at random state 10\n",
      "Accuracy score is 0.8576779026217228 at random state 11\n",
      "Accuracy score is 0.8539325842696629 at random state 12\n",
      "Accuracy score is 0.8689138576779026 at random state 13\n",
      "Accuracy score is 0.8726591760299626 at random state 14\n",
      "Accuracy score is 0.8876404494382022 at random state 15\n",
      "Accuracy score is 0.8838951310861424 at random state 16\n",
      "Accuracy score is 0.8801498127340824 at random state 17\n",
      "Accuracy score is 0.846441947565543 at random state 18\n",
      "Accuracy score is 0.8764044943820225 at random state 19\n",
      "Accuracy score is 0.898876404494382 at random state 20\n",
      "Accuracy score is 0.8651685393258427 at random state 21\n",
      "Accuracy score is 0.8576779026217228 at random state 22\n",
      "Accuracy score is 0.8913857677902621 at random state 23\n",
      "Accuracy score is 0.898876404494382 at random state 24\n",
      "Accuracy score is 0.8726591760299626 at random state 25\n",
      "Accuracy score is 0.8801498127340824 at random state 26\n",
      "Accuracy score is 0.8838951310861424 at random state 27\n",
      "Accuracy score is 0.8689138576779026 at random state 28\n",
      "Accuracy score is 0.846441947565543 at random state 29\n",
      "Accuracy score is 0.8838951310861424 at random state 30\n",
      "Accuracy score is 0.8689138576779026 at random state 31\n",
      "Accuracy score is 0.898876404494382 at random state 32\n",
      "Accuracy score is 0.8352059925093633 at random state 33\n",
      "Accuracy score is 0.850187265917603 at random state 34\n",
      "Accuracy score is 0.8314606741573034 at random state 35\n",
      "Accuracy score is 0.8539325842696629 at random state 36\n",
      "Accuracy score is 0.8689138576779026 at random state 37\n",
      "Accuracy score is 0.8614232209737828 at random state 38\n",
      "Accuracy score is 0.8876404494382022 at random state 39\n",
      "Accuracy score is 0.850187265917603 at random state 40\n",
      "Accuracy score is 0.8651685393258427 at random state 41\n",
      "Accuracy score is 0.8576779026217228 at random state 42\n",
      "Accuracy score is 0.8651685393258427 at random state 43\n",
      "Accuracy score is 0.8651685393258427 at random state 44\n",
      "Accuracy score is 0.8726591760299626 at random state 45\n",
      "Accuracy score is 0.8876404494382022 at random state 46\n",
      "Accuracy score is 0.8764044943820225 at random state 47\n",
      "Accuracy score is 0.8801498127340824 at random state 48\n",
      "Accuracy score is 0.8576779026217228 at random state 49\n",
      "Accuracy score is 0.8426966292134831 at random state 50\n",
      "Accuracy score is 0.8913857677902621 at random state 51\n",
      "Accuracy score is 0.8764044943820225 at random state 52\n",
      "Accuracy score is 0.8801498127340824 at random state 53\n",
      "Accuracy score is 0.8576779026217228 at random state 54\n",
      "Accuracy score is 0.8764044943820225 at random state 55\n",
      "Accuracy score is 0.8801498127340824 at random state 56\n",
      "Accuracy score is 0.8876404494382022 at random state 57\n",
      "Accuracy score is 0.8913857677902621 at random state 58\n",
      "Accuracy score is 0.8576779026217228 at random state 59\n",
      "Accuracy score is 0.8913857677902621 at random state 60\n",
      "Accuracy score is 0.8913857677902621 at random state 61\n",
      "Accuracy score is 0.8726591760299626 at random state 62\n",
      "Accuracy score is 0.8202247191011236 at random state 63\n",
      "Accuracy score is 0.8651685393258427 at random state 64\n",
      "Accuracy score is 0.8838951310861424 at random state 65\n",
      "Accuracy score is 0.8576779026217228 at random state 66\n",
      "Accuracy score is 0.8689138576779026 at random state 67\n",
      "Accuracy score is 0.9101123595505618 at random state 68\n",
      "Accuracy score is 0.8576779026217228 at random state 69\n",
      "Accuracy score is 0.8614232209737828 at random state 70\n",
      "Accuracy score is 0.8689138576779026 at random state 71\n",
      "Accuracy score is 0.8614232209737828 at random state 72\n",
      "Accuracy score is 0.8876404494382022 at random state 73\n",
      "Accuracy score is 0.8801498127340824 at random state 74\n",
      "Accuracy score is 0.8726591760299626 at random state 75\n",
      "Accuracy score is 0.8913857677902621 at random state 76\n",
      "Accuracy score is 0.8689138576779026 at random state 77\n",
      "Accuracy score is 0.8876404494382022 at random state 78\n",
      "Accuracy score is 0.8801498127340824 at random state 79\n",
      "Accuracy score is 0.8764044943820225 at random state 80\n",
      "Accuracy score is 0.8764044943820225 at random state 81\n",
      "Accuracy score is 0.8876404494382022 at random state 82\n",
      "Accuracy score is 0.846441947565543 at random state 83\n",
      "Accuracy score is 0.8651685393258427 at random state 84\n",
      "Accuracy score is 0.8801498127340824 at random state 85\n",
      "Accuracy score is 0.8726591760299626 at random state 86\n",
      "Accuracy score is 0.8876404494382022 at random state 87\n",
      "Accuracy score is 0.8801498127340824 at random state 88\n",
      "Accuracy score is 0.8801498127340824 at random state 89\n",
      "Accuracy score is 0.8614232209737828 at random state 90\n",
      "Accuracy score is 0.8801498127340824 at random state 91\n",
      "Accuracy score is 0.8539325842696629 at random state 92\n",
      "Accuracy score is 0.8951310861423221 at random state 93\n",
      "Accuracy score is 0.8389513108614233 at random state 94\n",
      "Accuracy score is 0.850187265917603 at random state 95\n",
      "Accuracy score is 0.9138576779026217 at random state 96\n",
      "Accuracy score is 0.9026217228464419 at random state 97\n",
      "Accuracy score is 0.8539325842696629 at random state 98\n",
      "Accuracy score is 0.8689138576779026 at random state 99\n",
      "max accuracy score is  0.9138576779026217 at random state 96\n"
     ]
    }
   ],
   "source": [
    "accuracy=0\n",
    "for i in range(0,100):\n",
    "    x_train,x_test,y_train,y_test=tts(data_X,data_Y,stratify=data_Y,test_size=0.2,random_state=i)\n",
    "    lr.fit(x_train,y_train)\n",
    "    pred_y=lr.predict(x_test)\n",
    "    acc_score=accuracy_score(y_test,pred_y)\n",
    "    print('Accuracy score is',acc_score,'at random state',i)\n",
    "    if acc_score>accuracy:\n",
    "        accuracy=acc_score\n",
    "        final_state=i\n",
    "print('max accuracy score is ',accuracy,'at random state',final_state)"
   ]
  },
  {
   "cell_type": "code",
   "execution_count": 44,
   "metadata": {},
   "outputs": [
    {
     "name": "stdout",
     "output_type": "stream",
     "text": [
      "Test accuracy: 0.9138576779026217 Train accuracy: 0.8669165885660731\n"
     ]
    }
   ],
   "source": [
    "x_train,x_test,y_train,y_test=tts(data_X,data_Y,stratify=data_Y,test_size=0.2,random_state=96)\n",
    "lr.fit(x_train,y_train)\n",
    "pred_y=lr.predict(x_test)\n",
    "train_pred=lr.predict(x_train)\n",
    "test_accuracy=accuracy_score(y_test,pred_y)\n",
    "train_accuracy=accuracy_score(y_train,train_pred)\n",
    "print('Test accuracy:',test_accuracy,'Train accuracy:',train_accuracy)"
   ]
  },
  {
   "cell_type": "code",
   "execution_count": 45,
   "metadata": {},
   "outputs": [],
   "source": [
    "from sklearn.metrics import roc_curve\n",
    "from sklearn.metrics import roc_auc_score"
   ]
  },
  {
   "cell_type": "code",
   "execution_count": 46,
   "metadata": {},
   "outputs": [
    {
     "data": {
      "text/plain": [
       "(0.9093901593901593, 0.8611213540988821)"
      ]
     },
     "execution_count": 46,
     "metadata": {},
     "output_type": "execute_result"
    }
   ],
   "source": [
    "lr_test_auc=roc_auc_score(y_test,pred_y)\n",
    "lr_train_auc=roc_auc_score(y_train,train_pred)\n",
    "lr_test_auc,lr_train_auc"
   ]
  },
  {
   "cell_type": "code",
   "execution_count": 47,
   "metadata": {},
   "outputs": [],
   "source": [
    "lr_test_probs=lr.predict_proba(x_test)[:,1]\n",
    "lr_train_probs=lr.predict_proba(x_train)[:,1]"
   ]
  },
  {
   "cell_type": "code",
   "execution_count": 48,
   "metadata": {},
   "outputs": [],
   "source": [
    "lr_test_fpr,lr_test_tpr,test_threshold=roc_curve(y_test,lr_test_probs)\n",
    "lr_train_fpr,lr_train_tpr,train_threshold=roc_curve(y_train,lr_train_probs)"
   ]
  },
  {
   "cell_type": "code",
   "execution_count": 49,
   "metadata": {},
   "outputs": [
    {
     "data": {
      "image/png": "[encoded data removed]",
      "text/plain": [
       "<Figure size 432x288 with 1 Axes>"
      ]
     },
     "metadata": {
      "needs_background": "light"
     },
     "output_type": "display_data"
    }
   ],
   "source": [
    "plt.plot(lr_test_fpr,lr_test_tpr,label='Test_auc:0.90939')\n",
    "plt.plot(lr_train_fpr,lr_train_tpr,label='Train_auc:0.86112')\n",
    "plt.xlabel('False Positive Rate')\n",
    "plt.ylabel('True Positive Rate')\n",
    "plt.legend()\n",
    "plt.show()"
   ]
  },
  {
   "cell_type": "code",
   "execution_count": 50,
   "metadata": {},
   "outputs": [],
   "source": [
    "from sklearn.model_selection import cross_val_score as cvs\n",
    "from sklearn.naive_bayes import GaussianNB\n",
    "from sklearn.neighbors import KNeighborsClassifier as KNC\n",
    "from sklearn.tree import DecisionTreeClassifier as DTC\n",
    "from sklearn.svm import SVC\n",
    "from sklearn.ensemble import RandomForestClassifier as RFC\n",
    "from sklearn.ensemble import AdaBoostClassifier\n",
    "from sklearn.ensemble import GradientBoostingClassifier\n"
   ]
  },
  {
   "cell_type": "code",
   "execution_count": 52,
   "metadata": {},
   "outputs": [
    {
     "name": "stdout",
     "output_type": "stream",
     "text": [
      "Test accuracy: 0.9063670411985019 Train accuracy: 0.9231490159325211\n"
     ]
    }
   ],
   "source": [
    "from sklearn.neighbors import KNeighborsClassifier as KNC\n",
    "KNC=KNC(n_neighbors=7)\n",
    "KNC.fit(x_train,y_train)\n",
    "pred_y=KNC.predict(x_test)\n",
    "train_pred=KNC.predict(x_train)\n",
    "test_accuracy=accuracy_score(y_test,pred_y)\n",
    "train_accuracy=accuracy_score(y_train,train_pred)\n",
    "print('Test accuracy:',test_accuracy,'Train accuracy:',train_accuracy)\n"
   ]
  },
  {
   "cell_type": "code",
   "execution_count": 53,
   "metadata": {},
   "outputs": [
    {
     "data": {
      "text/plain": [
       "(0.9029799029799029, 0.9235119951412086)"
      ]
     },
     "execution_count": 53,
     "metadata": {},
     "output_type": "execute_result"
    }
   ],
   "source": [
    "KNC_test_auc=roc_auc_score(y_test,pred_y)\n",
    "KNC_train_auc=roc_auc_score(y_train,train_pred)\n",
    "KNC_test_auc,KNC_train_auc"
   ]
  },
  {
   "cell_type": "code",
   "execution_count": 54,
   "metadata": {},
   "outputs": [],
   "source": [
    "KNC_test_probs=KNC.predict_proba(x_test)[:,1]\n",
    "KNC_train_probs=KNC.predict_proba(x_train)[:,1]"
   ]
  },
  {
   "cell_type": "code",
   "execution_count": 55,
   "metadata": {},
   "outputs": [],
   "source": [
    "KNC_test_fpr,KNC_test_tpr,test_threshold=roc_curve(y_test,KNC_test_probs)\n",
    "KNC_train_fpr,KNC_train_tpr,train_threshold=roc_curve(y_train,KNC_train_probs)"
   ]
  },
  {
   "cell_type": "code",
   "execution_count": 56,
   "metadata": {},
   "outputs": [
    {
     "data": {
      "image/png": "[encoded data removed]",
      "text/plain": [
       "<Figure size 432x288 with 1 Axes>"
      ]
     },
     "metadata": {
      "needs_background": "light"
     },
     "output_type": "display_data"
    }
   ],
   "source": [
    "plt.plot(KNC_test_fpr,KNC_test_tpr,label='Test_auc:0.90298')\n",
    "plt.plot(KNC_train_fpr,KNC_train_tpr,label='Train_auc:0.9235')\n",
    "plt.xlabel('False Positive Rate')\n",
    "plt.ylabel('True Positive Rate')\n",
    "plt.legend()\n",
    "plt.show()"
   ]
  },
  {
   "cell_type": "code",
   "execution_count": 57,
   "metadata": {},
   "outputs": [
    {
     "name": "stdout",
     "output_type": "stream",
     "text": [
      "cv result is  0.8753047172708858 for cv: 5\n",
      "cv result is  0.8687710277407478 for cv: 6\n",
      "cv result is  0.8743734335839598 for cv: 7\n",
      "cv result is  0.8734130738991305 for cv: 8\n",
      "cv result is  0.8799445578608092 for cv: 9\n",
      "cv result is  0.872398394691641 for cv: 10\n",
      "cv result is  0.8742690023525811 for cv: 11\n",
      "cv result is  0.8734465440926117 for cv: 12\n",
      "cv result is  0.8733883487532228 for cv: 13\n",
      "cv result is  0.87506916642255 for cv: 14\n",
      "cv result is  0.8741545569714584 for cv: 15\n",
      "cv result is  0.8761541940646419 for cv: 16\n",
      "cv result is  0.8788694241137315 for cv: 17\n",
      "cv result is  0.8741714829967314 for cv: 18\n",
      "cv result is  0.8771267283040135 for cv: 19\n",
      "max cv is: 0.8799445578608092 at cv: 9\n"
     ]
    }
   ],
   "source": [
    "from sklearn.neighbors import KNeighborsClassifier as KNC\n",
    "KNC=KNC(n_neighbors=7)\n",
    "max_cv=0\n",
    "for i in range(5,20):\n",
    "    cv_res=cvs(KNC,x_train,y_train,scoring='accuracy',cv=i,n_jobs=-1)\n",
    "    print('cv result is ',np.mean(cv_res),'for cv:',i)\n",
    "    if np.mean(cv_res)>max_cv:\n",
    "        max_cv=np.mean(cv_res)\n",
    "        final_cv=i\n",
    "print('max cv is:',max_cv,'at cv:',final_cv)\n",
    "        "
   ]
  },
  {
   "cell_type": "code",
   "execution_count": 58,
   "metadata": {},
   "outputs": [],
   "source": [
    "from sklearn.naive_bayes import GaussianNB as GNB\n",
    "GNB=GNB()\n",
    "from sklearn.metrics import confusion_matrix"
   ]
  },
  {
   "cell_type": "code",
   "execution_count": 59,
   "metadata": {},
   "outputs": [
    {
     "name": "stdout",
     "output_type": "stream",
     "text": [
      "0.8202247191011236 0.7835051546391752\n"
     ]
    },
    {
     "data": {
      "text/plain": [
       "array([[101,  10],\n",
       "       [ 38, 118]], dtype=int64)"
      ]
     },
     "execution_count": 59,
     "metadata": {},
     "output_type": "execute_result"
    }
   ],
   "source": [
    "GNB.fit(x_train,y_train)\n",
    "y_pred=GNB.predict(x_test)\n",
    "train_pred=GNB.predict(x_train)\n",
    "accuracy=accuracy_score(y_test,y_pred)\n",
    "accuracy1=accuracy_score(y_train,train_pred)\n",
    "print(accuracy,accuracy1)\n",
    "cm=confusion_matrix(y_test,y_pred)\n",
    "cm"
   ]
  },
  {
   "cell_type": "code",
   "execution_count": 60,
   "metadata": {},
   "outputs": [
    {
     "name": "stdout",
     "output_type": "stream",
     "text": [
      "0.7827715355805244 0.7488284910965324\n"
     ]
    },
    {
     "data": {
      "text/plain": [
       "array([[ 85,  26],\n",
       "       [ 32, 124]], dtype=int64)"
      ]
     },
     "execution_count": 60,
     "metadata": {},
     "output_type": "execute_result"
    }
   ],
   "source": [
    "from sklearn.naive_bayes import BernoulliNB as BNB\n",
    "BNB=BNB(alpha=8)\n",
    "BNB.fit(x_train,y_train)\n",
    "y_pred=BNB.predict(x_test)\n",
    "train_pred=BNB.predict(x_train)\n",
    "accuracy=accuracy_score(y_test,y_pred)\n",
    "accuracy1=accuracy_score(y_train,train_pred)\n",
    "print(accuracy,accuracy1)\n",
    "cm=confusion_matrix(y_test,y_pred)\n",
    "cm"
   ]
  },
  {
   "cell_type": "code",
   "execution_count": 61,
   "metadata": {},
   "outputs": [
    {
     "name": "stdout",
     "output_type": "stream",
     "text": [
      "at depth: 1 test accuracy: 0.7191011235955056 train accuracy: 0.7216494845360825\n",
      "at depth: 2 test accuracy: 0.8127340823970037 train accuracy: 0.7525773195876289\n",
      "at depth: 3 test accuracy: 0.8801498127340824 train accuracy: 0.8416119962511716\n",
      "at depth: 4 test accuracy: 0.8689138576779026 train accuracy: 0.8753514526710403\n",
      "at depth: 5 test accuracy: 0.898876404494382 train accuracy: 0.8978444236176195\n",
      "at depth: 6 test accuracy: 0.9101123595505618 train accuracy: 0.9343955014058107\n",
      "at depth: 7 test accuracy: 0.947565543071161 train accuracy: 0.9465791940018744\n",
      "at depth: 8 test accuracy: 0.9588014981273408 train accuracy: 0.9587628865979382\n",
      "at depth: 9 test accuracy: 0.9625468164794008 train accuracy: 0.9643861293345829\n",
      "at depth: 10 test accuracy: 0.9438202247191011 train accuracy: 0.9700093720712277\n"
     ]
    }
   ],
   "source": [
    "for i in range(1,11):\n",
    "    from sklearn.tree import DecisionTreeClassifier as DTC\n",
    "    DTC=DTC(max_depth=i,random_state=0,criterion='entropy')\n",
    "    DTC.fit(x_train,y_train)\n",
    "    y_pred=DTC.predict(x_test)\n",
    "    train_pred=DTC.predict(x_train)\n",
    "    accuracy=accuracy_score(y_test,y_pred)\n",
    "    accuracy1=accuracy_score(y_train,train_pred)\n",
    "    print('at depth:',i,'test accuracy:',accuracy,'train accuracy:',accuracy1)"
   ]
  },
  {
   "cell_type": "code",
   "execution_count": 62,
   "metadata": {},
   "outputs": [
    {
     "data": {
      "text/plain": [
       "(0.9029799029799029, 0.9649346376874467)"
      ]
     },
     "execution_count": 62,
     "metadata": {},
     "output_type": "execute_result"
    }
   ],
   "source": [
    "DTC_test_auc=roc_auc_score(y_test,y_pred)\n",
    "DTC_train_auc=roc_auc_score(y_train,train_pred)\n",
    "DTC_test_auc,DTC_train_auc"
   ]
  },
  {
   "cell_type": "code",
   "execution_count": 63,
   "metadata": {},
   "outputs": [],
   "source": [
    "DTC_test_probs=DTC.predict_proba(x_test)[:,1]\n",
    "DTC_train_probs=DTC.predict_proba(x_train)[:,1]"
   ]
  },
  {
   "cell_type": "code",
   "execution_count": 64,
   "metadata": {},
   "outputs": [],
   "source": [
    "DTC_test_fpr,DTC_test_tpr,test_threshold=roc_curve(y_test,DTC_test_probs)\n",
    "DTC_train_fpr,DTC_train_tpr,train_threshold=roc_curve(y_train,DTC_train_probs)"
   ]
  },
  {
   "cell_type": "code",
   "execution_count": 65,
   "metadata": {},
   "outputs": [
    {
     "data": {
      "image/png": "[encoded data removed]",
      "text/plain": [
       "<Figure size 432x288 with 1 Axes>"
      ]
     },
     "metadata": {
      "needs_background": "light"
     },
     "output_type": "display_data"
    }
   ],
   "source": [
    "plt.plot(DTC_test_fpr,DTC_test_tpr,label='Test_auc:0.90298')\n",
    "plt.plot(DTC_train_fpr,DTC_train_tpr,label='Train_auc:0.965')\n",
    "plt.xlabel('False Positive Rate')\n",
    "plt.ylabel('True Positive Rate')\n",
    "plt.legend()\n",
    "plt.show()"
   ]
  },
  {
   "cell_type": "code",
   "execution_count": 130,
   "metadata": {},
   "outputs": [
    {
     "name": "stdout",
     "output_type": "stream",
     "text": [
      "at depth: 1 test accuracy: 0.7191011235955056 train accuracy: 0.7216494845360825\n",
      "at depth: 2 test accuracy: 0.8127340823970037 train accuracy: 0.7525773195876289\n",
      "at depth: 3 test accuracy: 0.8801498127340824 train accuracy: 0.8416119962511716\n",
      "at depth: 4 test accuracy: 0.8689138576779026 train accuracy: 0.8753514526710403\n",
      "at depth: 5 test accuracy: 0.898876404494382 train accuracy: 0.8978444236176195\n",
      "at depth: 6 test accuracy: 0.9176029962546817 train accuracy: 0.9353327085285849\n",
      "at depth: 7 test accuracy: 0.947565543071161 train accuracy: 0.9465791940018744\n",
      "at depth: 8 test accuracy: 0.9588014981273408 train accuracy: 0.9587628865979382\n",
      "at depth: 9 test accuracy: 0.9588014981273408 train accuracy: 0.9662605435801312\n",
      "at depth: 10 test accuracy: 0.9700374531835206 train accuracy: 0.9728209934395501\n"
     ]
    }
   ],
   "source": [
    "for i in range(1,11):\n",
    "    from sklearn.tree import DecisionTreeClassifier as DTC\n",
    "    DTC=DTC(max_depth=i,random_state=0,criterion='gini')\n",
    "    DTC.fit(x_train,y_train)\n",
    "    y_pred=DTC.predict(x_test)\n",
    "    train_pred=DTC.predict(x_train)\n",
    "    accuracy=accuracy_score(y_test,y_pred)\n",
    "    accuracy1=accuracy_score(y_train,train_pred)\n",
    "    print('at depth:',i,'test accuracy:',accuracy,'train accuracy:',accuracy1)"
   ]
  },
  {
   "cell_type": "code",
   "execution_count": 131,
   "metadata": {},
   "outputs": [
    {
     "data": {
      "text/plain": [
       "(0.9704608454608455, 0.9767255216693419)"
      ]
     },
     "execution_count": 131,
     "metadata": {},
     "output_type": "execute_result"
    }
   ],
   "source": [
    "DTC_test_auc=roc_auc_score(y_test,y_pred)\n",
    "DTC_train_auc=roc_auc_score(y_train,train_pred)\n",
    "DTC_test_auc,DTC_train_auc"
   ]
  },
  {
   "cell_type": "code",
   "execution_count": 68,
   "metadata": {},
   "outputs": [],
   "source": [
    "DTC_test_probs=DTC.predict_proba(x_test)[:,1]\n",
    "DTC_train_probs=DTC.predict_proba(x_train)[:,1]"
   ]
  },
  {
   "cell_type": "code",
   "execution_count": 69,
   "metadata": {},
   "outputs": [],
   "source": [
    "DTC_test_fpr,DTC_test_tpr,test_threshold=roc_curve(y_test,DTC_test_probs)\n",
    "DTC_train_fpr,DTC_train_tpr,train_threshold=roc_curve(y_train,DTC_train_probs)"
   ]
  },
  {
   "cell_type": "code",
   "execution_count": 70,
   "metadata": {},
   "outputs": [
    {
     "data": {
      "image/png": "[encoded data removed]",
      "text/plain": [
       "<Figure size 432x288 with 1 Axes>"
      ]
     },
     "metadata": {
      "needs_background": "light"
     },
     "output_type": "display_data"
    }
   ],
   "source": [
    "plt.plot(DTC_test_fpr,DTC_test_tpr,label='Test_auc:0.90298')\n",
    "plt.plot(DTC_train_fpr,DTC_train_tpr,label='Train_auc:0.9767')\n",
    "plt.xlabel('False Positive Rate')\n",
    "plt.ylabel('True Positive Rate')\n",
    "plt.legend()\n",
    "plt.show()"
   ]
  },
  {
   "cell_type": "code",
   "execution_count": 71,
   "metadata": {},
   "outputs": [
    {
     "data": {
      "text/plain": [
       "array([[108,   3],\n",
       "       [  5, 151]], dtype=int64)"
      ]
     },
     "execution_count": 71,
     "metadata": {},
     "output_type": "execute_result"
    }
   ],
   "source": [
    "cm=confusion_matrix(y_test,y_pred)\n",
    "cm"
   ]
  },
  {
   "cell_type": "code",
   "execution_count": 72,
   "metadata": {},
   "outputs": [
    {
     "data": {
      "text/plain": [
       "SVC(C=1.0, cache_size=200, class_weight=None, coef0=0.0,\n",
       "    decision_function_shape='ovr', degree=3, gamma='auto_deprecated',\n",
       "    kernel='rbf', max_iter=-1, probability=False, random_state=20,\n",
       "    shrinking=True, tol=0.001, verbose=False)"
      ]
     },
     "execution_count": 72,
     "metadata": {},
     "output_type": "execute_result"
    }
   ],
   "source": [
    "from sklearn.svm import SVC\n",
    "classifier=SVC(kernel='rbf',random_state=20)\n",
    "classifier.fit(x_train,y_train)"
   ]
  },
  {
   "cell_type": "code",
   "execution_count": 73,
   "metadata": {},
   "outputs": [],
   "source": [
    "from sklearn.model_selection import GridSearchCV\n",
    "parameters=[{'C':[1,10,100,1000],'kernel':['linear']},\n",
    "            {'C':[1,10,100,1000],'kernel':['rbf'],'gamma':[0.1,0.2,0.3,0.4,0.5,0.6,0.7,0.8,0.9]}]\n",
    "grid_search=GridSearchCV(estimator=classifier,param_grid=parameters,scoring='accuracy',cv=10,n_jobs=-1)\n",
    "grid_search=grid_search.fit(x_train,y_train)"
   ]
  },
  {
   "cell_type": "code",
   "execution_count": 74,
   "metadata": {},
   "outputs": [
    {
     "data": {
      "text/plain": [
       "0.9062792877225867"
      ]
     },
     "execution_count": 74,
     "metadata": {},
     "output_type": "execute_result"
    }
   ],
   "source": [
    "accuracy=grid_search.best_score_\n",
    "accuracy"
   ]
  },
  {
   "cell_type": "code",
   "execution_count": 75,
   "metadata": {},
   "outputs": [
    {
     "data": {
      "text/plain": [
       "{'C': 100, 'gamma': 0.2, 'kernel': 'rbf'}"
      ]
     },
     "execution_count": 75,
     "metadata": {},
     "output_type": "execute_result"
    }
   ],
   "source": [
    "grid_search.best_params_"
   ]
  },
  {
   "cell_type": "code",
   "execution_count": 127,
   "metadata": {},
   "outputs": [
    {
     "name": "stdout",
     "output_type": "stream",
     "text": [
      "0.9138576779026217 0.9728209934395501\n"
     ]
    }
   ],
   "source": [
    "from sklearn.svm import SVC\n",
    "classifier=SVC(kernel='rbf',random_state=15,C=100,gamma=0.2)\n",
    "classifier.fit(x_train,y_train)\n",
    "y_pred=classifier.predict(x_test)\n",
    "train_pred=classifier.predict(x_train)\n",
    "accuracy=accuracy_score(y_test,y_pred)\n",
    "accuracy1=accuracy_score(y_train,train_pred)\n",
    "print(accuracy,accuracy1)"
   ]
  },
  {
   "cell_type": "code",
   "execution_count": 128,
   "metadata": {},
   "outputs": [
    {
     "data": {
      "text/plain": [
       "array([[ 97,  14],\n",
       "       [  9, 147]], dtype=int64)"
      ]
     },
     "execution_count": 128,
     "metadata": {},
     "output_type": "execute_result"
    }
   ],
   "source": [
    "cm=confusion_matrix(y_test,y_pred)\n",
    "cm"
   ]
  },
  {
   "cell_type": "code",
   "execution_count": 129,
   "metadata": {},
   "outputs": [
    {
     "data": {
      "text/plain": [
       "(0.9080907830907831, 0.9767255216693419)"
      ]
     },
     "execution_count": 129,
     "metadata": {},
     "output_type": "execute_result"
    }
   ],
   "source": [
    "SVC_test_auc=roc_auc_score(y_test,y_pred)\n",
    "SVC_train_auc=roc_auc_score(y_train,train_pred)\n",
    "SVC_test_auc,SVC_train_auc"
   ]
  },
  {
   "cell_type": "code",
   "execution_count": 79,
   "metadata": {},
   "outputs": [
    {
     "name": "stdout",
     "output_type": "stream",
     "text": [
      "at random state  0 test accuracy: 0.9662921348314607 train accuracy: 0.9990627928772259\n",
      "at random state  1 test accuracy: 0.9438202247191011 train accuracy: 0.993439550140581\n",
      "at random state  2 test accuracy: 0.9625468164794008 train accuracy: 0.9990627928772259\n",
      "at random state  3 test accuracy: 0.9213483146067416 train accuracy: 0.9990627928772259\n",
      "at random state  4 test accuracy: 0.951310861423221 train accuracy: 0.9981255857544518\n",
      "at random state  5 test accuracy: 0.951310861423221 train accuracy: 0.9971883786316776\n",
      "at random state  6 test accuracy: 0.9400749063670412 train accuracy: 0.9981255857544518\n",
      "at random state  7 test accuracy: 0.947565543071161 train accuracy: 0.9990627928772259\n",
      "at random state  8 test accuracy: 0.9325842696629213 train accuracy: 0.9971883786316776\n",
      "at random state  9 test accuracy: 0.9213483146067416 train accuracy: 0.9962511715089035\n",
      "at random state  10 test accuracy: 0.947565543071161 train accuracy: 1.0\n",
      "at random state  11 test accuracy: 0.9588014981273408 train accuracy: 1.0\n",
      "at random state  12 test accuracy: 0.947565543071161 train accuracy: 0.9990627928772259\n",
      "at random state  13 test accuracy: 0.9400749063670412 train accuracy: 0.9981255857544518\n",
      "at random state  14 test accuracy: 0.9176029962546817 train accuracy: 0.9981255857544518\n",
      "at random state  15 test accuracy: 0.947565543071161 train accuracy: 0.9990627928772259\n",
      "at random state  16 test accuracy: 0.9438202247191011 train accuracy: 0.9971883786316776\n",
      "at random state  17 test accuracy: 0.9662921348314607 train accuracy: 0.9990627928772259\n",
      "at random state  18 test accuracy: 0.947565543071161 train accuracy: 0.9981255857544518\n",
      "at random state  19 test accuracy: 0.951310861423221 train accuracy: 0.9971883786316776\n",
      "at random state  20 test accuracy: 0.9325842696629213 train accuracy: 0.9981255857544518\n",
      "at random state  21 test accuracy: 0.9588014981273408 train accuracy: 1.0\n",
      "at random state  22 test accuracy: 0.9438202247191011 train accuracy: 0.9971883786316776\n",
      "at random state  23 test accuracy: 0.9550561797752809 train accuracy: 1.0\n",
      "at random state  24 test accuracy: 0.9438202247191011 train accuracy: 0.9990627928772259\n",
      "at random state  25 test accuracy: 0.9363295880149812 train accuracy: 0.9962511715089035\n",
      "at random state  26 test accuracy: 0.9363295880149812 train accuracy: 0.9981255857544518\n",
      "at random state  27 test accuracy: 0.9400749063670412 train accuracy: 0.9990627928772259\n",
      "at random state  28 test accuracy: 0.9438202247191011 train accuracy: 0.9990627928772259\n",
      "at random state  29 test accuracy: 0.9438202247191011 train accuracy: 0.9971883786316776\n",
      "at random state  30 test accuracy: 0.9363295880149812 train accuracy: 0.9981255857544518\n",
      "at random state  31 test accuracy: 0.951310861423221 train accuracy: 0.9990627928772259\n",
      "at random state  32 test accuracy: 0.9363295880149812 train accuracy: 0.9981255857544518\n",
      "at random state  33 test accuracy: 0.9288389513108615 train accuracy: 0.9953139643861293\n",
      "at random state  34 test accuracy: 0.947565543071161 train accuracy: 0.993439550140581\n",
      "at random state  35 test accuracy: 0.947565543071161 train accuracy: 0.9971883786316776\n",
      "at random state  36 test accuracy: 0.9213483146067416 train accuracy: 0.9962511715089035\n",
      "at random state  37 test accuracy: 0.951310861423221 train accuracy: 0.9971883786316776\n",
      "at random state  38 test accuracy: 0.9438202247191011 train accuracy: 0.9962511715089035\n",
      "at random state  39 test accuracy: 0.9588014981273408 train accuracy: 0.9981255857544518\n",
      "at random state  40 test accuracy: 0.9363295880149812 train accuracy: 0.9981255857544518\n",
      "at random state  41 test accuracy: 0.9625468164794008 train accuracy: 0.9981255857544518\n",
      "at random state  42 test accuracy: 0.9550561797752809 train accuracy: 0.9990627928772259\n",
      "at random state  43 test accuracy: 0.9250936329588015 train accuracy: 0.9971883786316776\n",
      "at random state  44 test accuracy: 0.9438202247191011 train accuracy: 0.9962511715089035\n",
      "at random state  45 test accuracy: 0.9400749063670412 train accuracy: 1.0\n",
      "at random state  46 test accuracy: 0.951310861423221 train accuracy: 0.9971883786316776\n",
      "at random state  47 test accuracy: 0.9550561797752809 train accuracy: 0.9981255857544518\n",
      "at random state  48 test accuracy: 0.951310861423221 train accuracy: 1.0\n",
      "at random state  49 test accuracy: 0.9250936329588015 train accuracy: 0.9962511715089035\n",
      "at random state  50 test accuracy: 0.9325842696629213 train accuracy: 0.9990627928772259\n",
      "at random state  51 test accuracy: 0.9325842696629213 train accuracy: 0.9962511715089035\n",
      "at random state  52 test accuracy: 0.9438202247191011 train accuracy: 1.0\n",
      "at random state  53 test accuracy: 0.9438202247191011 train accuracy: 0.9981255857544518\n",
      "at random state  54 test accuracy: 0.951310861423221 train accuracy: 0.9981255857544518\n",
      "at random state  55 test accuracy: 0.9550561797752809 train accuracy: 0.9962511715089035\n",
      "at random state  56 test accuracy: 0.9438202247191011 train accuracy: 0.9953139643861293\n",
      "at random state  57 test accuracy: 0.9213483146067416 train accuracy: 0.9990627928772259\n",
      "at random state  58 test accuracy: 0.9325842696629213 train accuracy: 0.9990627928772259\n",
      "at random state  59 test accuracy: 0.947565543071161 train accuracy: 0.9990627928772259\n",
      "at random state  60 test accuracy: 0.9176029962546817 train accuracy: 0.9981255857544518\n",
      "at random state  61 test accuracy: 0.9288389513108615 train accuracy: 0.9990627928772259\n",
      "at random state  62 test accuracy: 0.9438202247191011 train accuracy: 0.9971883786316776\n",
      "at random state  63 test accuracy: 0.9550561797752809 train accuracy: 0.9971883786316776\n",
      "at random state  64 test accuracy: 0.9438202247191011 train accuracy: 1.0\n",
      "at random state  65 test accuracy: 0.9325842696629213 train accuracy: 0.9971883786316776\n",
      "at random state  66 test accuracy: 0.951310861423221 train accuracy: 0.9971883786316776\n",
      "at random state  67 test accuracy: 0.9625468164794008 train accuracy: 0.9953139643861293\n",
      "at random state  68 test accuracy: 0.9325842696629213 train accuracy: 0.9953139643861293\n",
      "at random state  69 test accuracy: 0.9250936329588015 train accuracy: 0.9990627928772259\n",
      "at random state  70 test accuracy: 0.9438202247191011 train accuracy: 0.9962511715089035\n",
      "at random state  71 test accuracy: 0.9213483146067416 train accuracy: 0.9962511715089035\n",
      "at random state  72 test accuracy: 0.947565543071161 train accuracy: 0.9990627928772259\n",
      "at random state  73 test accuracy: 0.947565543071161 train accuracy: 0.9990627928772259\n",
      "at random state  74 test accuracy: 0.9325842696629213 train accuracy: 0.9971883786316776\n",
      "at random state  75 test accuracy: 0.9325842696629213 train accuracy: 0.9990627928772259\n",
      "at random state  76 test accuracy: 0.947565543071161 train accuracy: 0.9990627928772259\n",
      "at random state  77 test accuracy: 0.9438202247191011 train accuracy: 0.9953139643861293\n",
      "at random state  78 test accuracy: 0.9325842696629213 train accuracy: 0.9962511715089035\n",
      "at random state  79 test accuracy: 0.9250936329588015 train accuracy: 0.9953139643861293\n",
      "at random state  80 test accuracy: 0.9325842696629213 train accuracy: 0.9990627928772259\n",
      "at random state  81 test accuracy: 0.947565543071161 train accuracy: 0.9971883786316776\n",
      "at random state  82 test accuracy: 0.947565543071161 train accuracy: 0.9971883786316776\n",
      "at random state  83 test accuracy: 0.947565543071161 train accuracy: 0.9990627928772259\n",
      "at random state  84 test accuracy: 0.9662921348314607 train accuracy: 0.9981255857544518\n",
      "at random state  85 test accuracy: 0.9662921348314607 train accuracy: 0.9990627928772259\n",
      "at random state  86 test accuracy: 0.9438202247191011 train accuracy: 0.9981255857544518\n",
      "at random state  87 test accuracy: 0.9588014981273408 train accuracy: 1.0\n",
      "at random state  88 test accuracy: 0.951310861423221 train accuracy: 0.9990627928772259\n",
      "at random state  89 test accuracy: 0.9662921348314607 train accuracy: 0.9962511715089035\n",
      "at random state  90 test accuracy: 0.947565543071161 train accuracy: 0.9953139643861293\n",
      "at random state  91 test accuracy: 0.9325842696629213 train accuracy: 1.0\n",
      "at random state  92 test accuracy: 0.9213483146067416 train accuracy: 0.9971883786316776\n",
      "at random state  93 test accuracy: 0.9438202247191011 train accuracy: 0.9953139643861293\n",
      "at random state  94 test accuracy: 0.9363295880149812 train accuracy: 1.0\n",
      "at random state  95 test accuracy: 0.9325842696629213 train accuracy: 0.9953139643861293\n",
      "at random state  96 test accuracy: 0.9438202247191011 train accuracy: 0.9981255857544518\n"
     ]
    },
    {
     "name": "stdout",
     "output_type": "stream",
     "text": [
      "at random state  97 test accuracy: 0.9363295880149812 train accuracy: 0.9990627928772259\n",
      "at random state  98 test accuracy: 0.9438202247191011 train accuracy: 0.9990627928772259\n",
      "at random state  99 test accuracy: 0.9363295880149812 train accuracy: 1.0\n"
     ]
    }
   ],
   "source": [
    "for i in range(0,100):\n",
    "    from sklearn.ensemble import RandomForestClassifier as RFC\n",
    "    RFC=RFC(random_state=i,criterion='entropy')\n",
    "    RFC.fit(x_train,y_train)\n",
    "    y_pred=RFC.predict(x_test)\n",
    "    train_pred=RFC.predict(x_train)\n",
    "    accuracy=accuracy_score(y_test,y_pred)\n",
    "    accuracy1=accuracy_score(y_train,train_pred)\n",
    "    print('at random state ',i,'test accuracy:',accuracy,'train accuracy:',accuracy1)"
   ]
  },
  {
   "cell_type": "code",
   "execution_count": 125,
   "metadata": {},
   "outputs": [
    {
     "name": "stdout",
     "output_type": "stream",
     "text": [
      "0.9588014981273408 1.0\n"
     ]
    }
   ],
   "source": [
    "from sklearn.ensemble import RandomForestClassifier as RFC\n",
    "RFC=RFC(random_state=11,criterion='entropy')\n",
    "RFC.fit(x_train,y_train)\n",
    "y_pred=RFC.predict(x_test)\n",
    "train_pred=RFC.predict(x_train)\n",
    "accuracy=accuracy_score(y_test,y_pred)\n",
    "accuracy1=accuracy_score(y_train,train_pred)\n",
    "print(accuracy,accuracy1)"
   ]
  },
  {
   "cell_type": "code",
   "execution_count": 126,
   "metadata": {},
   "outputs": [
    {
     "data": {
      "text/plain": [
       "(0.9582467082467084, 1.0)"
      ]
     },
     "execution_count": 126,
     "metadata": {},
     "output_type": "execute_result"
    }
   ],
   "source": [
    "RFC_test_auc=roc_auc_score(y_test,y_pred)\n",
    "RFC_train_auc=roc_auc_score(y_train,train_pred)\n",
    "RFC_test_auc,RFC_train_auc"
   ]
  },
  {
   "cell_type": "code",
   "execution_count": 82,
   "metadata": {},
   "outputs": [
    {
     "name": "stdout",
     "output_type": "stream",
     "text": [
      "at random state  0 test accuracy: 0.9438202247191011 train accuracy: 0.9953139643861293\n",
      "at random state  1 test accuracy: 0.951310861423221 train accuracy: 0.9953139643861293\n",
      "at random state  2 test accuracy: 0.947565543071161 train accuracy: 1.0\n",
      "at random state  3 test accuracy: 0.9363295880149812 train accuracy: 0.9962511715089035\n",
      "at random state  4 test accuracy: 0.947565543071161 train accuracy: 0.9962511715089035\n",
      "at random state  5 test accuracy: 0.947565543071161 train accuracy: 0.9943767572633552\n",
      "at random state  6 test accuracy: 0.9250936329588015 train accuracy: 0.9990627928772259\n",
      "at random state  7 test accuracy: 0.9363295880149812 train accuracy: 0.9990627928772259\n",
      "at random state  8 test accuracy: 0.9250936329588015 train accuracy: 0.9990627928772259\n",
      "at random state  9 test accuracy: 0.9662921348314607 train accuracy: 0.9990627928772259\n",
      "at random state  10 test accuracy: 0.9662921348314607 train accuracy: 1.0\n",
      "at random state  11 test accuracy: 0.9550561797752809 train accuracy: 0.9981255857544518\n",
      "at random state  12 test accuracy: 0.9588014981273408 train accuracy: 0.9990627928772259\n",
      "at random state  13 test accuracy: 0.9400749063670412 train accuracy: 0.9981255857544518\n",
      "at random state  14 test accuracy: 0.9625468164794008 train accuracy: 0.9981255857544518\n",
      "at random state  15 test accuracy: 0.9400749063670412 train accuracy: 0.9981255857544518\n",
      "at random state  16 test accuracy: 0.947565543071161 train accuracy: 0.9962511715089035\n",
      "at random state  17 test accuracy: 0.947565543071161 train accuracy: 0.9990627928772259\n",
      "at random state  18 test accuracy: 0.9400749063670412 train accuracy: 0.9981255857544518\n",
      "at random state  19 test accuracy: 0.947565543071161 train accuracy: 0.9971883786316776\n",
      "at random state  20 test accuracy: 0.9400749063670412 train accuracy: 1.0\n",
      "at random state  21 test accuracy: 0.951310861423221 train accuracy: 0.9990627928772259\n",
      "at random state  22 test accuracy: 0.9700374531835206 train accuracy: 0.9971883786316776\n",
      "at random state  23 test accuracy: 0.9438202247191011 train accuracy: 0.9981255857544518\n",
      "at random state  24 test accuracy: 0.947565543071161 train accuracy: 0.9990627928772259\n",
      "at random state  25 test accuracy: 0.951310861423221 train accuracy: 0.9962511715089035\n",
      "at random state  26 test accuracy: 0.947565543071161 train accuracy: 0.9971883786316776\n",
      "at random state  27 test accuracy: 0.9400749063670412 train accuracy: 1.0\n",
      "at random state  28 test accuracy: 0.9288389513108615 train accuracy: 0.9981255857544518\n",
      "at random state  29 test accuracy: 0.9737827715355806 train accuracy: 0.9962511715089035\n",
      "at random state  30 test accuracy: 0.9812734082397003 train accuracy: 0.9971883786316776\n",
      "at random state  31 test accuracy: 0.9550561797752809 train accuracy: 1.0\n",
      "at random state  32 test accuracy: 0.9400749063670412 train accuracy: 0.9971883786316776\n",
      "at random state  33 test accuracy: 0.9438202247191011 train accuracy: 0.9971883786316776\n",
      "at random state  34 test accuracy: 0.9550561797752809 train accuracy: 0.9971883786316776\n",
      "at random state  35 test accuracy: 0.951310861423221 train accuracy: 0.9990627928772259\n",
      "at random state  36 test accuracy: 0.9325842696629213 train accuracy: 0.9971883786316776\n",
      "at random state  37 test accuracy: 0.9400749063670412 train accuracy: 0.9962511715089035\n",
      "at random state  38 test accuracy: 0.9625468164794008 train accuracy: 0.9990627928772259\n",
      "at random state  39 test accuracy: 0.9588014981273408 train accuracy: 0.9981255857544518\n",
      "at random state  40 test accuracy: 0.9438202247191011 train accuracy: 1.0\n",
      "at random state  41 test accuracy: 0.9288389513108615 train accuracy: 0.9953139643861293\n",
      "at random state  42 test accuracy: 0.947565543071161 train accuracy: 0.9971883786316776\n",
      "at random state  43 test accuracy: 0.9550561797752809 train accuracy: 0.9981255857544518\n",
      "at random state  44 test accuracy: 0.9400749063670412 train accuracy: 0.9962511715089035\n",
      "at random state  45 test accuracy: 0.9438202247191011 train accuracy: 1.0\n",
      "at random state  46 test accuracy: 0.9363295880149812 train accuracy: 0.9953139643861293\n",
      "at random state  47 test accuracy: 0.9662921348314607 train accuracy: 1.0\n",
      "at random state  48 test accuracy: 0.9550561797752809 train accuracy: 0.9971883786316776\n",
      "at random state  49 test accuracy: 0.9700374531835206 train accuracy: 0.9971883786316776\n",
      "at random state  50 test accuracy: 0.9101123595505618 train accuracy: 0.9971883786316776\n",
      "at random state  51 test accuracy: 0.947565543071161 train accuracy: 0.9990627928772259\n",
      "at random state  52 test accuracy: 0.947565543071161 train accuracy: 0.9990627928772259\n",
      "at random state  53 test accuracy: 0.9250936329588015 train accuracy: 0.9971883786316776\n",
      "at random state  54 test accuracy: 0.9288389513108615 train accuracy: 0.9990627928772259\n",
      "at random state  55 test accuracy: 0.9625468164794008 train accuracy: 0.9925023430178069\n",
      "at random state  56 test accuracy: 0.9400749063670412 train accuracy: 0.9962511715089035\n",
      "at random state  57 test accuracy: 0.9325842696629213 train accuracy: 0.9981255857544518\n",
      "at random state  58 test accuracy: 0.9438202247191011 train accuracy: 0.9990627928772259\n",
      "at random state  59 test accuracy: 0.951310861423221 train accuracy: 0.9981255857544518\n",
      "at random state  60 test accuracy: 0.9438202247191011 train accuracy: 0.9971883786316776\n",
      "at random state  61 test accuracy: 0.9588014981273408 train accuracy: 0.9990627928772259\n",
      "at random state  62 test accuracy: 0.9550561797752809 train accuracy: 0.9981255857544518\n",
      "at random state  63 test accuracy: 0.9400749063670412 train accuracy: 0.9990627928772259\n",
      "at random state  64 test accuracy: 0.9588014981273408 train accuracy: 0.9981255857544518\n",
      "at random state  65 test accuracy: 0.9400749063670412 train accuracy: 0.9990627928772259\n",
      "at random state  66 test accuracy: 0.9363295880149812 train accuracy: 1.0\n",
      "at random state  67 test accuracy: 0.9363295880149812 train accuracy: 0.9953139643861293\n",
      "at random state  68 test accuracy: 0.9550561797752809 train accuracy: 0.9990627928772259\n",
      "at random state  69 test accuracy: 0.9588014981273408 train accuracy: 0.9981255857544518\n",
      "at random state  70 test accuracy: 0.9438202247191011 train accuracy: 0.9971883786316776\n",
      "at random state  71 test accuracy: 0.947565543071161 train accuracy: 0.9981255857544518\n",
      "at random state  72 test accuracy: 0.9400749063670412 train accuracy: 0.9962511715089035\n",
      "at random state  73 test accuracy: 0.947565543071161 train accuracy: 0.9981255857544518\n",
      "at random state  74 test accuracy: 0.9176029962546817 train accuracy: 0.9953139643861293\n",
      "at random state  75 test accuracy: 0.9588014981273408 train accuracy: 0.9971883786316776\n",
      "at random state  76 test accuracy: 0.951310861423221 train accuracy: 0.9981255857544518\n",
      "at random state  77 test accuracy: 0.9288389513108615 train accuracy: 0.9943767572633552\n",
      "at random state  78 test accuracy: 0.9325842696629213 train accuracy: 0.9981255857544518\n",
      "at random state  79 test accuracy: 0.9363295880149812 train accuracy: 0.9962511715089035\n",
      "at random state  80 test accuracy: 0.9400749063670412 train accuracy: 0.9981255857544518\n",
      "at random state  81 test accuracy: 0.9325842696629213 train accuracy: 0.9981255857544518\n",
      "at random state  82 test accuracy: 0.9400749063670412 train accuracy: 0.9971883786316776\n",
      "at random state  83 test accuracy: 0.9550561797752809 train accuracy: 0.9971883786316776\n",
      "at random state  84 test accuracy: 0.9625468164794008 train accuracy: 0.9990627928772259\n",
      "at random state  85 test accuracy: 0.9325842696629213 train accuracy: 0.9990627928772259\n",
      "at random state  86 test accuracy: 0.951310861423221 train accuracy: 0.9990627928772259\n",
      "at random state  87 test accuracy: 0.9438202247191011 train accuracy: 0.9990627928772259\n",
      "at random state  88 test accuracy: 0.9775280898876404 train accuracy: 1.0\n",
      "at random state  89 test accuracy: 0.9550561797752809 train accuracy: 0.9981255857544518\n",
      "at random state  90 test accuracy: 0.9288389513108615 train accuracy: 0.9971883786316776\n",
      "at random state  91 test accuracy: 0.9550561797752809 train accuracy: 1.0\n",
      "at random state  92 test accuracy: 0.9288389513108615 train accuracy: 0.9981255857544518\n",
      "at random state  93 test accuracy: 0.9325842696629213 train accuracy: 0.993439550140581\n",
      "at random state  94 test accuracy: 0.951310861423221 train accuracy: 0.9971883786316776\n",
      "at random state  95 test accuracy: 0.9625468164794008 train accuracy: 0.9990627928772259\n",
      "at random state  96 test accuracy: 0.9438202247191011 train accuracy: 0.9981255857544518\n"
     ]
    },
    {
     "name": "stdout",
     "output_type": "stream",
     "text": [
      "at random state  97 test accuracy: 0.947565543071161 train accuracy: 0.9981255857544518\n",
      "at random state  98 test accuracy: 0.9400749063670412 train accuracy: 0.9990627928772259\n",
      "at random state  99 test accuracy: 0.9550561797752809 train accuracy: 0.9990627928772259\n"
     ]
    }
   ],
   "source": [
    "for i in range(0,100):\n",
    "    from sklearn.ensemble import RandomForestClassifier as RFC\n",
    "    RFC=RFC(random_state=i,criterion='gini')\n",
    "    RFC.fit(x_train,y_train)\n",
    "    y_pred=RFC.predict(x_test)\n",
    "    train_pred=RFC.predict(x_train)\n",
    "    accuracy=accuracy_score(y_test,y_pred)\n",
    "    accuracy1=accuracy_score(y_train,train_pred)\n",
    "    print('at random state ',i,'test accuracy:',accuracy,'train accuracy:',accuracy1)"
   ]
  },
  {
   "cell_type": "code",
   "execution_count": 123,
   "metadata": {},
   "outputs": [
    {
     "name": "stdout",
     "output_type": "stream",
     "text": [
      "0.9775280898876404 1.0\n"
     ]
    }
   ],
   "source": [
    "from sklearn.ensemble import RandomForestClassifier as RFC\n",
    "RFC=RFC(random_state=88,criterion='gini')\n",
    "RFC.fit(x_train,y_train)\n",
    "y_pred=RFC.predict(x_test)\n",
    "train_pred=RFC.predict(x_train)\n",
    "accuracy=accuracy_score(y_test,y_pred)\n",
    "accuracy1=accuracy_score(y_train,train_pred)\n",
    "print(accuracy,accuracy1)\n"
   ]
  },
  {
   "cell_type": "code",
   "execution_count": 124,
   "metadata": {},
   "outputs": [
    {
     "name": "stdout",
     "output_type": "stream",
     "text": [
      "0.9768711018711019 1.0\n"
     ]
    },
    {
     "data": {
      "text/plain": [
       "array([[108,   3],\n",
       "       [  3, 153]], dtype=int64)"
      ]
     },
     "execution_count": 124,
     "metadata": {},
     "output_type": "execute_result"
    }
   ],
   "source": [
    "RFC_test_auc=roc_auc_score(y_test,y_pred)\n",
    "RFC_train_auc=roc_auc_score(y_train,train_pred)\n",
    "print(RFC_test_auc,RFC_train_auc)\n",
    "cm=confusion_matrix(y_test,y_pred)\n",
    "cm"
   ]
  },
  {
   "cell_type": "code",
   "execution_count": 96,
   "metadata": {},
   "outputs": [
    {
     "name": "stdout",
     "output_type": "stream",
     "text": [
      "accuracy at : 0 is: 0.9588014981273408\n",
      "accuracy at : 1 is: 0.951310861423221\n",
      "accuracy at : 2 is: 0.9662921348314607\n",
      "accuracy at : 3 is: 0.947565543071161\n",
      "accuracy at : 4 is: 0.951310861423221\n",
      "accuracy at : 5 is: 0.9588014981273408\n",
      "accuracy at : 6 is: 0.9625468164794008\n",
      "accuracy at : 7 is: 0.9588014981273408\n",
      "accuracy at : 8 is: 0.9625468164794008\n",
      "accuracy at : 9 is: 0.951310861423221\n",
      "accuracy at : 10 is: 0.9625468164794008\n",
      "accuracy at : 11 is: 0.9550561797752809\n",
      "accuracy at : 12 is: 0.9625468164794008\n",
      "accuracy at : 13 is: 0.9550561797752809\n",
      "accuracy at : 14 is: 0.9625468164794008\n"
     ]
    }
   ],
   "source": [
    "from sklearn.ensemble import RandomForestClassifier as RFC\n",
    "RFC=RFC(n_estimators=15,max_depth=6,criterion='entropy',random_state=43)\n",
    "for i in range(0,15):\n",
    "    from sklearn.ensemble import AdaBoostClassifier as ABC\n",
    "    ABC=ABC(base_estimator=RFC,learning_rate=0.5,random_state=i)\n",
    "    ABC.fit(x_train,y_train)\n",
    "    y_pred=ABC.predict(x_test)\n",
    "    train_pred=ABC.predict(x_train)\n",
    "    accuracy=accuracy_score(y_test,y_pred)\n",
    "    print('accuracy at :',i,'is:',accuracy)"
   ]
  },
  {
   "cell_type": "code",
   "execution_count": 97,
   "metadata": {},
   "outputs": [
    {
     "name": "stdout",
     "output_type": "stream",
     "text": [
      "0.9625468164794008 1.0\n"
     ]
    }
   ],
   "source": [
    "from sklearn.ensemble import AdaBoostClassifier as ABC\n",
    "ABC=ABC(base_estimator=RFC,learning_rate=0.5,random_state=i)\n",
    "ABC.fit(x_train,y_train)\n",
    "y_pred=ABC.predict(x_test)\n",
    "train_pred=ABC.predict(x_train)\n",
    "accuracy=accuracy_score(y_test,y_pred)\n",
    "accuracy1=accuracy_score(y_train,train_pred)\n",
    "print(accuracy,accuracy1)"
   ]
  },
  {
   "cell_type": "code",
   "execution_count": 122,
   "metadata": {},
   "outputs": [
    {
     "name": "stdout",
     "output_type": "stream",
     "text": [
      "0.990990990990991 1.0\n"
     ]
    },
    {
     "data": {
      "text/plain": [
       "array([[109,   2],\n",
       "       [  0, 156]], dtype=int64)"
      ]
     },
     "execution_count": 122,
     "metadata": {},
     "output_type": "execute_result"
    }
   ],
   "source": [
    "ABC_test_auc=roc_auc_score(y_test,y_pred)\n",
    "ABC_train_auc=roc_auc_score(y_train,train_pred)\n",
    "print(ABC_test_auc,ABC_train_auc)\n",
    "cm=confusion_matrix(y_test,y_pred)\n",
    "cm"
   ]
  },
  {
   "cell_type": "code",
   "execution_count": 99,
   "metadata": {},
   "outputs": [],
   "source": [
    "from sklearn.ensemble import GradientBoostingClassifier as GBC"
   ]
  },
  {
   "cell_type": "code",
   "execution_count": 103,
   "metadata": {},
   "outputs": [
    {
     "name": "stdout",
     "output_type": "stream",
     "text": [
      "0.9925093632958801 1.0\n",
      "0.9887640449438202 1.0\n",
      "0.9887640449438202 1.0\n",
      "0.9887640449438202 1.0\n",
      "0.9887640449438202 1.0\n",
      "0.9887640449438202 1.0\n",
      "0.9887640449438202 1.0\n",
      "0.9887640449438202 1.0\n",
      "0.9925093632958801 1.0\n",
      "0.9925093632958801 1.0\n",
      "0.9887640449438202 1.0\n",
      "0.9887640449438202 1.0\n",
      "0.9887640449438202 1.0\n",
      "0.9887640449438202 1.0\n",
      "0.9887640449438202 1.0\n",
      "0.9887640449438202 1.0\n",
      "0.9887640449438202 1.0\n",
      "0.9887640449438202 1.0\n",
      "0.9887640449438202 1.0\n",
      "0.9925093632958801 1.0\n",
      "0.9887640449438202 1.0\n",
      "0.9887640449438202 1.0\n",
      "0.9925093632958801 1.0\n",
      "0.9887640449438202 1.0\n",
      "0.9887640449438202 1.0\n",
      "0.9887640449438202 1.0\n",
      "0.9887640449438202 1.0\n",
      "0.9887640449438202 1.0\n",
      "0.9887640449438202 1.0\n",
      "0.9887640449438202 1.0\n",
      "0.9887640449438202 1.0\n",
      "0.9887640449438202 1.0\n",
      "0.9887640449438202 1.0\n",
      "0.9887640449438202 1.0\n",
      "0.9887640449438202 1.0\n",
      "0.9887640449438202 1.0\n",
      "0.9887640449438202 1.0\n",
      "0.9887640449438202 1.0\n",
      "0.9925093632958801 1.0\n",
      "0.9887640449438202 1.0\n",
      "0.9925093632958801 1.0\n",
      "0.9887640449438202 1.0\n",
      "0.9925093632958801 1.0\n",
      "0.9887640449438202 1.0\n",
      "0.9887640449438202 1.0\n",
      "0.9887640449438202 1.0\n",
      "0.9887640449438202 1.0\n",
      "0.9887640449438202 1.0\n",
      "0.9887640449438202 1.0\n",
      "0.9887640449438202 1.0\n"
     ]
    }
   ],
   "source": [
    "for i in range(0,50):\n",
    "    from sklearn.ensemble import GradientBoostingClassifier as GBC\n",
    "    GBC=GBC(learning_rate=0.4,max_depth=7,random_state=i,n_estimators=200)\n",
    "    GBC.fit(x_train,y_train)\n",
    "    y_pred=GBC.predict(x_test)\n",
    "    train_pred=GBC.predict(x_train)\n",
    "    accuracy=accuracy_score(y_test,y_pred)\n",
    "    accuracy1=accuracy_score(y_train,train_pred)\n",
    "    print(accuracy,accuracy1)\n"
   ]
  },
  {
   "cell_type": "code",
   "execution_count": 117,
   "metadata": {},
   "outputs": [
    {
     "name": "stdout",
     "output_type": "stream",
     "text": [
      "0.9925093632958801 1.0\n"
     ]
    }
   ],
   "source": [
    "from sklearn.ensemble import GradientBoostingClassifier as GBC\n",
    "GBC=GBC(learning_rate=0.4,max_depth=7,random_state=0,n_estimators=100)\n",
    "GBC.fit(x_train,y_train)\n",
    "pred_y=GBC.predict(x_test)\n",
    "train_pred=GBC.predict(x_train)\n",
    "accuracy=accuracy_score(y_test,pred_y)\n",
    "accuracy1=accuracy_score(y_train,train_pred)\n",
    "print(accuracy,accuracy1)"
   ]
  },
  {
   "cell_type": "code",
   "execution_count": 118,
   "metadata": {},
   "outputs": [
    {
     "name": "stdout",
     "output_type": "stream",
     "text": [
      "0.990990990990991 1.0\n"
     ]
    },
    {
     "data": {
      "text/plain": [
       "array([[109,   2],\n",
       "       [  0, 156]], dtype=int64)"
      ]
     },
     "execution_count": 118,
     "metadata": {},
     "output_type": "execute_result"
    }
   ],
   "source": [
    "GBC_test_auc=roc_auc_score(y_test,pred_y)\n",
    "GBC_train_auc=roc_auc_score(y_train,train_pred)\n",
    "print(GBC_test_auc,GBC_train_auc)\n",
    "cm=confusion_matrix(y_test,y_pred)\n",
    "cm"
   ]
  },
  {
   "cell_type": "code",
   "execution_count": 119,
   "metadata": {},
   "outputs": [],
   "source": [
    "GBC_test_probs=GBC.predict_proba(x_test)\n",
    "GBC_train_probs=GBC.predict_proba(x_train)\n",
    "GBC_test_probs=GBC_test_probs[:,1]\n",
    "GBC_train_probs=GBC_train_probs[:,1]"
   ]
  },
  {
   "cell_type": "code",
   "execution_count": 120,
   "metadata": {},
   "outputs": [],
   "source": [
    "GBC_test_fpr,GBC_test_tpr,test_threshold=roc_curve(y_test,GBC_test_probs)\n",
    "GBC_train_fpr,GBC_train_tpr,train_threshold=roc_curve(y_train,GBC_train_probs)"
   ]
  },
  {
   "cell_type": "code",
   "execution_count": 135,
   "metadata": {},
   "outputs": [
    {
     "data": {
      "image/png": "[encoded data removed]",
      "text/plain": [
       "<Figure size 432x288 with 1 Axes>"
      ]
     },
     "metadata": {
      "needs_background": "light"
     },
     "output_type": "display_data"
    }
   ],
   "source": [
    "plt.plot(GBC_test_fpr,GBC_test_tpr,label='Test_auc:0.991')\n",
    "plt.plot(GBC_train_fpr,GBC_train_tpr,label='Train_auc:1.0')\n",
    "plt.xlabel('False Positive Rate')\n",
    "plt.ylabel('True Positive Rate')\n",
    "plt.legend()\n",
    "plt.show()"
   ]
  },
  {
   "cell_type": "code",
   "execution_count": 134,
   "metadata": {},
   "outputs": [
    {
     "data": {
      "text/plain": [
       "['Gradient_boosting_classifier.pkl']"
      ]
     },
     "execution_count": 134,
     "metadata": {},
     "output_type": "execute_result"
    }
   ],
   "source": [
    "from sklearn.externals import joblib\n",
    "joblib.dump(GBC,'Gradient_boosting_classifier.pkl')"
   ]
  },
  {
   "cell_type": "raw",
   "metadata": {},
   "source": [
    "# Gradient boosting classifying data more accurately as compared to other models and also confusion matrix is showing good \n",
    "result so chosen as best model for this data."
   ]
  }
 ],
 "metadata": {
  "kernelspec": {
   "display_name": "Python 3",
   "language": "python",
   "name": "python3"
  },
  "language_info": {
   "codemirror_mode": {
    "name": "ipython",
    "version": 3
   },
   "file_extension": ".py",
   "mimetype": "text/x-python",
   "name": "python",
   "nbconvert_exporter": "python",
   "pygments_lexer": "ipython3",
   "version": "3.7.3"
  }
 },
 "nbformat": 4,
 "nbformat_minor": 2
}
