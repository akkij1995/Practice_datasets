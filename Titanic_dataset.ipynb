{
 "cells": [
  {
   "cell_type": "code",
   "execution_count": 2,
   "metadata": {},
   "outputs": [],
   "source": [
    "import pandas as pd\n",
    "import numpy as np\n",
    "import matplotlib.pyplot as plt\n",
    "%matplotlib inline\n",
    "import seaborn as sns\n",
    "import warnings\n",
    "warnings.filterwarnings('ignore')"
   ]
  },
  {
   "cell_type": "code",
   "execution_count": 3,
   "metadata": {},
   "outputs": [],
   "source": [
    "data=pd.read_csv('Titanic.csv')"
   ]
  },
  {
   "cell_type": "code",
   "execution_count": 4,
   "metadata": {},
   "outputs": [
    {
     "data": {
      "text/html": [
       "<div>\n",
       "<style scoped>\n",
       "    .dataframe tbody tr th:only-of-type {\n",
       "        vertical-align: middle;\n",
       "    }\n",
       "\n",
       "    .dataframe tbody tr th {\n",
       "        vertical-align: top;\n",
       "    }\n",
       "\n",
       "    .dataframe thead th {\n",
       "        text-align: right;\n",
       "    }\n",
       "</style>\n",
       "<table border=\"1\" class=\"dataframe\">\n",
       "  <thead>\n",
       "    <tr style=\"text-align: right;\">\n",
       "      <th></th>\n",
       "      <th>PassengerId</th>\n",
       "      <th>Survived</th>\n",
       "      <th>Pclass</th>\n",
       "      <th>Name</th>\n",
       "      <th>Sex</th>\n",
       "      <th>Age</th>\n",
       "      <th>SibSp</th>\n",
       "      <th>Parch</th>\n",
       "      <th>Ticket</th>\n",
       "      <th>Fare</th>\n",
       "      <th>Cabin</th>\n",
       "      <th>Embarked</th>\n",
       "    </tr>\n",
       "  </thead>\n",
       "  <tbody>\n",
       "    <tr>\n",
       "      <th>0</th>\n",
       "      <td>1</td>\n",
       "      <td>0</td>\n",
       "      <td>3</td>\n",
       "      <td>Braund, Mr. Owen Harris</td>\n",
       "      <td>male</td>\n",
       "      <td>22.0</td>\n",
       "      <td>1</td>\n",
       "      <td>0</td>\n",
       "      <td>A/5 21171</td>\n",
       "      <td>7.2500</td>\n",
       "      <td>NaN</td>\n",
       "      <td>S</td>\n",
       "    </tr>\n",
       "    <tr>\n",
       "      <th>1</th>\n",
       "      <td>2</td>\n",
       "      <td>1</td>\n",
       "      <td>1</td>\n",
       "      <td>Cumings, Mrs. John Bradley (Florence Briggs Th...</td>\n",
       "      <td>female</td>\n",
       "      <td>38.0</td>\n",
       "      <td>1</td>\n",
       "      <td>0</td>\n",
       "      <td>PC 17599</td>\n",
       "      <td>71.2833</td>\n",
       "      <td>C85</td>\n",
       "      <td>C</td>\n",
       "    </tr>\n",
       "    <tr>\n",
       "      <th>2</th>\n",
       "      <td>3</td>\n",
       "      <td>1</td>\n",
       "      <td>3</td>\n",
       "      <td>Heikkinen, Miss. Laina</td>\n",
       "      <td>female</td>\n",
       "      <td>26.0</td>\n",
       "      <td>0</td>\n",
       "      <td>0</td>\n",
       "      <td>STON/O2. 3101282</td>\n",
       "      <td>7.9250</td>\n",
       "      <td>NaN</td>\n",
       "      <td>S</td>\n",
       "    </tr>\n",
       "    <tr>\n",
       "      <th>3</th>\n",
       "      <td>4</td>\n",
       "      <td>1</td>\n",
       "      <td>1</td>\n",
       "      <td>Futrelle, Mrs. Jacques Heath (Lily May Peel)</td>\n",
       "      <td>female</td>\n",
       "      <td>35.0</td>\n",
       "      <td>1</td>\n",
       "      <td>0</td>\n",
       "      <td>113803</td>\n",
       "      <td>53.1000</td>\n",
       "      <td>C123</td>\n",
       "      <td>S</td>\n",
       "    </tr>\n",
       "    <tr>\n",
       "      <th>4</th>\n",
       "      <td>5</td>\n",
       "      <td>0</td>\n",
       "      <td>3</td>\n",
       "      <td>Allen, Mr. William Henry</td>\n",
       "      <td>male</td>\n",
       "      <td>35.0</td>\n",
       "      <td>0</td>\n",
       "      <td>0</td>\n",
       "      <td>373450</td>\n",
       "      <td>8.0500</td>\n",
       "      <td>NaN</td>\n",
       "      <td>S</td>\n",
       "    </tr>\n",
       "  </tbody>\n",
       "</table>\n",
       "</div>"
      ],
      "text/plain": [
       "   PassengerId  Survived  Pclass  \\\n",
       "0            1         0       3   \n",
       "1            2         1       1   \n",
       "2            3         1       3   \n",
       "3            4         1       1   \n",
       "4            5         0       3   \n",
       "\n",
       "                                                Name     Sex   Age  SibSp  \\\n",
       "0                            Braund, Mr. Owen Harris    male  22.0      1   \n",
       "1  Cumings, Mrs. John Bradley (Florence Briggs Th...  female  38.0      1   \n",
       "2                             Heikkinen, Miss. Laina  female  26.0      0   \n",
       "3       Futrelle, Mrs. Jacques Heath (Lily May Peel)  female  35.0      1   \n",
       "4                           Allen, Mr. William Henry    male  35.0      0   \n",
       "\n",
       "   Parch            Ticket     Fare Cabin Embarked  \n",
       "0      0         A/5 21171   7.2500   NaN        S  \n",
       "1      0          PC 17599  71.2833   C85        C  \n",
       "2      0  STON/O2. 3101282   7.9250   NaN        S  \n",
       "3      0            113803  53.1000  C123        S  \n",
       "4      0            373450   8.0500   NaN        S  "
      ]
     },
     "execution_count": 4,
     "metadata": {},
     "output_type": "execute_result"
    }
   ],
   "source": [
    "data.head()"
   ]
  },
  {
   "cell_type": "code",
   "execution_count": 5,
   "metadata": {},
   "outputs": [
    {
     "data": {
      "text/plain": [
       "PassengerId      0\n",
       "Survived         0\n",
       "Pclass           0\n",
       "Name             0\n",
       "Sex              0\n",
       "Age            177\n",
       "SibSp            0\n",
       "Parch            0\n",
       "Ticket           0\n",
       "Fare             0\n",
       "Cabin          687\n",
       "Embarked         2\n",
       "dtype: int64"
      ]
     },
     "execution_count": 5,
     "metadata": {},
     "output_type": "execute_result"
    }
   ],
   "source": [
    "data.isnull().sum()"
   ]
  },
  {
   "cell_type": "code",
   "execution_count": 6,
   "metadata": {},
   "outputs": [
    {
     "data": {
      "text/plain": [
       "24.00    30\n",
       "22.00    27\n",
       "18.00    26\n",
       "19.00    25\n",
       "30.00    25\n",
       "28.00    25\n",
       "21.00    24\n",
       "25.00    23\n",
       "36.00    22\n",
       "29.00    20\n",
       "32.00    18\n",
       "27.00    18\n",
       "35.00    18\n",
       "26.00    18\n",
       "16.00    17\n",
       "31.00    17\n",
       "20.00    15\n",
       "33.00    15\n",
       "23.00    15\n",
       "34.00    15\n",
       "39.00    14\n",
       "17.00    13\n",
       "42.00    13\n",
       "40.00    13\n",
       "45.00    12\n",
       "38.00    11\n",
       "50.00    10\n",
       "2.00     10\n",
       "4.00     10\n",
       "47.00     9\n",
       "         ..\n",
       "71.00     2\n",
       "59.00     2\n",
       "63.00     2\n",
       "0.83      2\n",
       "30.50     2\n",
       "70.00     2\n",
       "57.00     2\n",
       "0.75      2\n",
       "13.00     2\n",
       "10.00     2\n",
       "64.00     2\n",
       "40.50     2\n",
       "32.50     2\n",
       "45.50     2\n",
       "20.50     1\n",
       "24.50     1\n",
       "0.67      1\n",
       "14.50     1\n",
       "0.92      1\n",
       "74.00     1\n",
       "34.50     1\n",
       "80.00     1\n",
       "12.00     1\n",
       "36.50     1\n",
       "53.00     1\n",
       "55.50     1\n",
       "70.50     1\n",
       "66.00     1\n",
       "23.50     1\n",
       "0.42      1\n",
       "Name: Age, Length: 88, dtype: int64"
      ]
     },
     "execution_count": 6,
     "metadata": {},
     "output_type": "execute_result"
    }
   ],
   "source": [
    "data['Age'].value_counts()"
   ]
  },
  {
   "cell_type": "code",
   "execution_count": 7,
   "metadata": {},
   "outputs": [
    {
     "data": {
      "text/plain": [
       "C23 C25 C27    4\n",
       "G6             4\n",
       "B96 B98        4\n",
       "C22 C26        3\n",
       "D              3\n",
       "F2             3\n",
       "E101           3\n",
       "F33            3\n",
       "D26            2\n",
       "E67            2\n",
       "B20            2\n",
       "C124           2\n",
       "C52            2\n",
       "B5             2\n",
       "B22            2\n",
       "C126           2\n",
       "B49            2\n",
       "C83            2\n",
       "F4             2\n",
       "D36            2\n",
       "C2             2\n",
       "C123           2\n",
       "E33            2\n",
       "D17            2\n",
       "E121           2\n",
       "C68            2\n",
       "B35            2\n",
       "C92            2\n",
       "F G73          2\n",
       "D33            2\n",
       "              ..\n",
       "E38            1\n",
       "D37            1\n",
       "D48            1\n",
       "C50            1\n",
       "C95            1\n",
       "B4             1\n",
       "T              1\n",
       "B101           1\n",
       "C82            1\n",
       "C148           1\n",
       "C128           1\n",
       "B50            1\n",
       "A34            1\n",
       "C118           1\n",
       "C32            1\n",
       "A19            1\n",
       "E46            1\n",
       "C99            1\n",
       "D15            1\n",
       "C111           1\n",
       "D30            1\n",
       "A5             1\n",
       "D19            1\n",
       "C91            1\n",
       "B19            1\n",
       "B79            1\n",
       "E36            1\n",
       "D50            1\n",
       "D7             1\n",
       "E40            1\n",
       "Name: Cabin, Length: 147, dtype: int64"
      ]
     },
     "execution_count": 7,
     "metadata": {},
     "output_type": "execute_result"
    }
   ],
   "source": [
    "data['Cabin'].value_counts()"
   ]
  },
  {
   "cell_type": "code",
   "execution_count": 8,
   "metadata": {},
   "outputs": [
    {
     "data": {
      "text/plain": [
       "PassengerId    0.000000\n",
       "Survived       0.478523\n",
       "Pclass        -0.630548\n",
       "Age            0.389108\n",
       "SibSp          3.695352\n",
       "Parch          2.749117\n",
       "Fare           4.787317\n",
       "dtype: float64"
      ]
     },
     "execution_count": 8,
     "metadata": {},
     "output_type": "execute_result"
    }
   ],
   "source": [
    "data.skew()"
   ]
  },
  {
   "cell_type": "code",
   "execution_count": 9,
   "metadata": {},
   "outputs": [
    {
     "data": {
      "text/plain": [
       "<matplotlib.axes._subplots.AxesSubplot at 0x1f701663e48>"
      ]
     },
     "execution_count": 9,
     "metadata": {},
     "output_type": "execute_result"
    },
    {
     "data": {
      "image/png": "[encoded data removed]",
      "text/plain": [
       "<Figure size 432x288 with 1 Axes>"
      ]
     },
     "metadata": {
      "needs_background": "light"
     },
     "output_type": "display_data"
    }
   ],
   "source": [
    "sns.countplot(x=data.Pclass)"
   ]
  },
  {
   "cell_type": "code",
   "execution_count": 10,
   "metadata": {},
   "outputs": [
    {
     "data": {
      "text/plain": [
       "<matplotlib.axes._subplots.AxesSubplot at 0x1f701962438>"
      ]
     },
     "execution_count": 10,
     "metadata": {},
     "output_type": "execute_result"
    },
    {
     "data": {
      "image/png": "[encoded data removed]",
      "text/plain": [
       "<Figure size 432x288 with 1 Axes>"
      ]
     },
     "metadata": {
      "needs_background": "light"
     },
     "output_type": "display_data"
    }
   ],
   "source": [
    "sns.countplot(x=data.Sex)"
   ]
  },
  {
   "cell_type": "code",
   "execution_count": 11,
   "metadata": {},
   "outputs": [
    {
     "data": {
      "text/plain": [
       "<matplotlib.axes._subplots.AxesSubplot at 0x1f7019d9860>"
      ]
     },
     "execution_count": 11,
     "metadata": {},
     "output_type": "execute_result"
    },
    {
     "data": {
      "image/png": "[encoded data removed]",
      "text/plain": [
       "<Figure size 432x288 with 1 Axes>"
      ]
     },
     "metadata": {
      "needs_background": "light"
     },
     "output_type": "display_data"
    }
   ],
   "source": [
    "sns.countplot(x=data.Survived)"
   ]
  },
  {
   "cell_type": "code",
   "execution_count": 12,
   "metadata": {},
   "outputs": [
    {
     "data": {
      "text/plain": [
       "<matplotlib.axes._subplots.AxesSubplot at 0x1f701a2d6a0>"
      ]
     },
     "execution_count": 12,
     "metadata": {},
     "output_type": "execute_result"
    },
    {
     "data": {
      "image/png": "[encoded data removed]",
      "text/plain": [
       "<Figure size 432x288 with 1 Axes>"
      ]
     },
     "metadata": {
      "needs_background": "light"
     },
     "output_type": "display_data"
    }
   ],
   "source": [
    "sns.countplot(x='Survived',hue='Sex',data=data)"
   ]
  },
  {
   "cell_type": "code",
   "execution_count": 13,
   "metadata": {},
   "outputs": [
    {
     "data": {
      "text/plain": [
       "Index(['PassengerId', 'Survived', 'Pclass', 'Name', 'Sex', 'Age', 'SibSp',\n",
       "       'Parch', 'Ticket', 'Fare', 'Cabin', 'Embarked'],\n",
       "      dtype='object')"
      ]
     },
     "execution_count": 13,
     "metadata": {},
     "output_type": "execute_result"
    }
   ],
   "source": [
    "data.columns"
   ]
  },
  {
   "cell_type": "code",
   "execution_count": 14,
   "metadata": {},
   "outputs": [
    {
     "data": {
      "text/plain": [
       "<matplotlib.axes._subplots.AxesSubplot at 0x1f701a80f60>"
      ]
     },
     "execution_count": 14,
     "metadata": {},
     "output_type": "execute_result"
    },
    {
     "data": {
      "image/png": "[encoded data removed]",
      "text/plain": [
       "<Figure size 432x288 with 1 Axes>"
      ]
     },
     "metadata": {
      "needs_background": "light"
     },
     "output_type": "display_data"
    }
   ],
   "source": [
    "sns.countplot(x=data.SibSp)"
   ]
  },
  {
   "cell_type": "code",
   "execution_count": 15,
   "metadata": {},
   "outputs": [
    {
     "data": {
      "text/plain": [
       "<matplotlib.axes._subplots.AxesSubplot at 0x1f701b0ed68>"
      ]
     },
     "execution_count": 15,
     "metadata": {},
     "output_type": "execute_result"
    },
    {
     "data": {
      "image/png": "[encoded data removed]",
      "text/plain": [
       "<Figure size 432x288 with 1 Axes>"
      ]
     },
     "metadata": {
      "needs_background": "light"
     },
     "output_type": "display_data"
    }
   ],
   "source": [
    "sns.boxplot(x='Pclass',y='Age',data=data,width=0.8)"
   ]
  },
  {
   "cell_type": "code",
   "execution_count": 16,
   "metadata": {},
   "outputs": [],
   "source": [
    "def age(col):\n",
    "    age=col[0]\n",
    "    pclass=col[1]\n",
    "    if pd.isnull(age):\n",
    "        if pclass==1:\n",
    "            return 37\n",
    "        elif pclass==2:\n",
    "            return 28\n",
    "        else:\n",
    "            return 25\n",
    "    else:\n",
    "        return age"
   ]
  },
  {
   "cell_type": "code",
   "execution_count": 17,
   "metadata": {},
   "outputs": [],
   "source": [
    "data['Age']=data[['Age','Pclass']].apply(age,axis=1)"
   ]
  },
  {
   "cell_type": "code",
   "execution_count": 18,
   "metadata": {},
   "outputs": [
    {
     "data": {
      "text/plain": [
       "PassengerId      0\n",
       "Survived         0\n",
       "Pclass           0\n",
       "Name             0\n",
       "Sex              0\n",
       "Age              0\n",
       "SibSp            0\n",
       "Parch            0\n",
       "Ticket           0\n",
       "Fare             0\n",
       "Cabin          687\n",
       "Embarked         2\n",
       "dtype: int64"
      ]
     },
     "execution_count": 18,
     "metadata": {},
     "output_type": "execute_result"
    }
   ],
   "source": [
    "data.isnull().sum()"
   ]
  },
  {
   "cell_type": "code",
   "execution_count": 19,
   "metadata": {},
   "outputs": [],
   "source": [
    "data.drop(columns='Cabin',inplace=True)"
   ]
  },
  {
   "cell_type": "code",
   "execution_count": 20,
   "metadata": {},
   "outputs": [
    {
     "data": {
      "text/plain": [
       "0    S\n",
       "dtype: object"
      ]
     },
     "execution_count": 20,
     "metadata": {},
     "output_type": "execute_result"
    }
   ],
   "source": [
    "data['Embarked'].mode()"
   ]
  },
  {
   "cell_type": "code",
   "execution_count": 21,
   "metadata": {},
   "outputs": [
    {
     "data": {
      "text/plain": [
       "0      S\n",
       "1      C\n",
       "2      S\n",
       "3      S\n",
       "4      S\n",
       "5      Q\n",
       "6      S\n",
       "7      S\n",
       "8      S\n",
       "9      C\n",
       "10     S\n",
       "11     S\n",
       "12     S\n",
       "13     S\n",
       "14     S\n",
       "15     S\n",
       "16     Q\n",
       "17     S\n",
       "18     S\n",
       "19     C\n",
       "20     S\n",
       "21     S\n",
       "22     Q\n",
       "23     S\n",
       "24     S\n",
       "25     S\n",
       "26     C\n",
       "27     S\n",
       "28     Q\n",
       "29     S\n",
       "      ..\n",
       "861    S\n",
       "862    S\n",
       "863    S\n",
       "864    S\n",
       "865    S\n",
       "866    C\n",
       "867    S\n",
       "868    S\n",
       "869    S\n",
       "870    S\n",
       "871    S\n",
       "872    S\n",
       "873    S\n",
       "874    C\n",
       "875    C\n",
       "876    S\n",
       "877    S\n",
       "878    S\n",
       "879    C\n",
       "880    S\n",
       "881    S\n",
       "882    S\n",
       "883    S\n",
       "884    S\n",
       "885    Q\n",
       "886    S\n",
       "887    S\n",
       "888    S\n",
       "889    C\n",
       "890    Q\n",
       "Name: Embarked, Length: 891, dtype: object"
      ]
     },
     "execution_count": 21,
     "metadata": {},
     "output_type": "execute_result"
    }
   ],
   "source": [
    "data['Embarked'].fillna('S')"
   ]
  },
  {
   "cell_type": "code",
   "execution_count": 22,
   "metadata": {},
   "outputs": [
    {
     "data": {
      "text/plain": [
       "PassengerId    0.000000\n",
       "Survived       0.478523\n",
       "Pclass        -0.630548\n",
       "Age            0.527097\n",
       "SibSp          3.695352\n",
       "Parch          2.749117\n",
       "Fare           4.787317\n",
       "dtype: float64"
      ]
     },
     "execution_count": 22,
     "metadata": {},
     "output_type": "execute_result"
    }
   ],
   "source": [
    "data.skew()"
   ]
  },
  {
   "cell_type": "code",
   "execution_count": 23,
   "metadata": {},
   "outputs": [],
   "source": [
    "data.SibSp=np.log1p(data.SibSp)"
   ]
  },
  {
   "cell_type": "code",
   "execution_count": 24,
   "metadata": {},
   "outputs": [],
   "source": [
    "data.Parch=np.log1p(data.Parch)"
   ]
  },
  {
   "cell_type": "code",
   "execution_count": 25,
   "metadata": {},
   "outputs": [],
   "source": [
    "data.Fare=np.log1p(data.Fare)"
   ]
  },
  {
   "cell_type": "code",
   "execution_count": 26,
   "metadata": {},
   "outputs": [
    {
     "data": {
      "text/plain": [
       "PassengerId    0.000000\n",
       "Survived       0.478523\n",
       "Pclass        -0.630548\n",
       "Age            0.527097\n",
       "SibSp          1.661245\n",
       "Parch          1.675439\n",
       "Fare           0.394928\n",
       "dtype: float64"
      ]
     },
     "execution_count": 26,
     "metadata": {},
     "output_type": "execute_result"
    }
   ],
   "source": [
    "data.skew()"
   ]
  },
  {
   "cell_type": "code",
   "execution_count": 27,
   "metadata": {},
   "outputs": [
    {
     "data": {
      "text/html": [
       "<div>\n",
       "<style scoped>\n",
       "    .dataframe tbody tr th:only-of-type {\n",
       "        vertical-align: middle;\n",
       "    }\n",
       "\n",
       "    .dataframe tbody tr th {\n",
       "        vertical-align: top;\n",
       "    }\n",
       "\n",
       "    .dataframe thead th {\n",
       "        text-align: right;\n",
       "    }\n",
       "</style>\n",
       "<table border=\"1\" class=\"dataframe\">\n",
       "  <thead>\n",
       "    <tr style=\"text-align: right;\">\n",
       "      <th></th>\n",
       "      <th>PassengerId</th>\n",
       "      <th>Survived</th>\n",
       "      <th>Pclass</th>\n",
       "      <th>Name</th>\n",
       "      <th>Age</th>\n",
       "      <th>SibSp</th>\n",
       "      <th>Parch</th>\n",
       "      <th>Ticket</th>\n",
       "      <th>Fare</th>\n",
       "      <th>Sex_male</th>\n",
       "      <th>Embarked_Q</th>\n",
       "      <th>Embarked_S</th>\n",
       "    </tr>\n",
       "  </thead>\n",
       "  <tbody>\n",
       "    <tr>\n",
       "      <th>0</th>\n",
       "      <td>1</td>\n",
       "      <td>0</td>\n",
       "      <td>3</td>\n",
       "      <td>Braund, Mr. Owen Harris</td>\n",
       "      <td>22.0</td>\n",
       "      <td>0.693147</td>\n",
       "      <td>0.0</td>\n",
       "      <td>A/5 21171</td>\n",
       "      <td>2.110213</td>\n",
       "      <td>1</td>\n",
       "      <td>0</td>\n",
       "      <td>1</td>\n",
       "    </tr>\n",
       "    <tr>\n",
       "      <th>1</th>\n",
       "      <td>2</td>\n",
       "      <td>1</td>\n",
       "      <td>1</td>\n",
       "      <td>Cumings, Mrs. John Bradley (Florence Briggs Th...</td>\n",
       "      <td>38.0</td>\n",
       "      <td>0.693147</td>\n",
       "      <td>0.0</td>\n",
       "      <td>PC 17599</td>\n",
       "      <td>4.280593</td>\n",
       "      <td>0</td>\n",
       "      <td>0</td>\n",
       "      <td>0</td>\n",
       "    </tr>\n",
       "    <tr>\n",
       "      <th>2</th>\n",
       "      <td>3</td>\n",
       "      <td>1</td>\n",
       "      <td>3</td>\n",
       "      <td>Heikkinen, Miss. Laina</td>\n",
       "      <td>26.0</td>\n",
       "      <td>0.000000</td>\n",
       "      <td>0.0</td>\n",
       "      <td>STON/O2. 3101282</td>\n",
       "      <td>2.188856</td>\n",
       "      <td>0</td>\n",
       "      <td>0</td>\n",
       "      <td>1</td>\n",
       "    </tr>\n",
       "    <tr>\n",
       "      <th>3</th>\n",
       "      <td>4</td>\n",
       "      <td>1</td>\n",
       "      <td>1</td>\n",
       "      <td>Futrelle, Mrs. Jacques Heath (Lily May Peel)</td>\n",
       "      <td>35.0</td>\n",
       "      <td>0.693147</td>\n",
       "      <td>0.0</td>\n",
       "      <td>113803</td>\n",
       "      <td>3.990834</td>\n",
       "      <td>0</td>\n",
       "      <td>0</td>\n",
       "      <td>1</td>\n",
       "    </tr>\n",
       "    <tr>\n",
       "      <th>4</th>\n",
       "      <td>5</td>\n",
       "      <td>0</td>\n",
       "      <td>3</td>\n",
       "      <td>Allen, Mr. William Henry</td>\n",
       "      <td>35.0</td>\n",
       "      <td>0.000000</td>\n",
       "      <td>0.0</td>\n",
       "      <td>373450</td>\n",
       "      <td>2.202765</td>\n",
       "      <td>1</td>\n",
       "      <td>0</td>\n",
       "      <td>1</td>\n",
       "    </tr>\n",
       "  </tbody>\n",
       "</table>\n",
       "</div>"
      ],
      "text/plain": [
       "   PassengerId  Survived  Pclass  \\\n",
       "0            1         0       3   \n",
       "1            2         1       1   \n",
       "2            3         1       3   \n",
       "3            4         1       1   \n",
       "4            5         0       3   \n",
       "\n",
       "                                                Name   Age     SibSp  Parch  \\\n",
       "0                            Braund, Mr. Owen Harris  22.0  0.693147    0.0   \n",
       "1  Cumings, Mrs. John Bradley (Florence Briggs Th...  38.0  0.693147    0.0   \n",
       "2                             Heikkinen, Miss. Laina  26.0  0.000000    0.0   \n",
       "3       Futrelle, Mrs. Jacques Heath (Lily May Peel)  35.0  0.693147    0.0   \n",
       "4                           Allen, Mr. William Henry  35.0  0.000000    0.0   \n",
       "\n",
       "             Ticket      Fare  Sex_male  Embarked_Q  Embarked_S  \n",
       "0         A/5 21171  2.110213         1           0           1  \n",
       "1          PC 17599  4.280593         0           0           0  \n",
       "2  STON/O2. 3101282  2.188856         0           0           1  \n",
       "3            113803  3.990834         0           0           1  \n",
       "4            373450  2.202765         1           0           1  "
      ]
     },
     "execution_count": 27,
     "metadata": {},
     "output_type": "execute_result"
    }
   ],
   "source": [
    "data_new=pd.get_dummies(data,columns=['Sex','Embarked'],drop_first=True)\n",
    "data_new.head()"
   ]
  },
  {
   "cell_type": "code",
   "execution_count": 28,
   "metadata": {},
   "outputs": [],
   "source": [
    "data_new=data_new.drop(['Name','Ticket'],axis=1)"
   ]
  },
  {
   "cell_type": "code",
   "execution_count": 29,
   "metadata": {},
   "outputs": [
    {
     "data": {
      "text/plain": [
       "PassengerId    0.000000\n",
       "Survived       0.478523\n",
       "Pclass        -0.630548\n",
       "Age            0.527097\n",
       "SibSp          1.661245\n",
       "Parch          1.675439\n",
       "Fare           0.394928\n",
       "Sex_male      -0.618921\n",
       "Embarked_Q     2.948778\n",
       "Embarked_S    -0.997083\n",
       "dtype: float64"
      ]
     },
     "execution_count": 29,
     "metadata": {},
     "output_type": "execute_result"
    }
   ],
   "source": [
    "data_new.skew()\n"
   ]
  },
  {
   "cell_type": "code",
   "execution_count": 30,
   "metadata": {},
   "outputs": [
    {
     "data": {
      "text/html": [
       "<div>\n",
       "<style scoped>\n",
       "    .dataframe tbody tr th:only-of-type {\n",
       "        vertical-align: middle;\n",
       "    }\n",
       "\n",
       "    .dataframe tbody tr th {\n",
       "        vertical-align: top;\n",
       "    }\n",
       "\n",
       "    .dataframe thead th {\n",
       "        text-align: right;\n",
       "    }\n",
       "</style>\n",
       "<table border=\"1\" class=\"dataframe\">\n",
       "  <thead>\n",
       "    <tr style=\"text-align: right;\">\n",
       "      <th></th>\n",
       "      <th>PassengerId</th>\n",
       "      <th>Pclass</th>\n",
       "      <th>Age</th>\n",
       "      <th>SibSp</th>\n",
       "      <th>Parch</th>\n",
       "      <th>Fare</th>\n",
       "      <th>Sex_male</th>\n",
       "      <th>Embarked_Q</th>\n",
       "      <th>Embarked_S</th>\n",
       "    </tr>\n",
       "  </thead>\n",
       "  <tbody>\n",
       "    <tr>\n",
       "      <th>0</th>\n",
       "      <td>1</td>\n",
       "      <td>3</td>\n",
       "      <td>22.0</td>\n",
       "      <td>0.693147</td>\n",
       "      <td>0.0</td>\n",
       "      <td>2.110213</td>\n",
       "      <td>1</td>\n",
       "      <td>0</td>\n",
       "      <td>1</td>\n",
       "    </tr>\n",
       "    <tr>\n",
       "      <th>1</th>\n",
       "      <td>2</td>\n",
       "      <td>1</td>\n",
       "      <td>38.0</td>\n",
       "      <td>0.693147</td>\n",
       "      <td>0.0</td>\n",
       "      <td>4.280593</td>\n",
       "      <td>0</td>\n",
       "      <td>0</td>\n",
       "      <td>0</td>\n",
       "    </tr>\n",
       "    <tr>\n",
       "      <th>2</th>\n",
       "      <td>3</td>\n",
       "      <td>3</td>\n",
       "      <td>26.0</td>\n",
       "      <td>0.000000</td>\n",
       "      <td>0.0</td>\n",
       "      <td>2.188856</td>\n",
       "      <td>0</td>\n",
       "      <td>0</td>\n",
       "      <td>1</td>\n",
       "    </tr>\n",
       "    <tr>\n",
       "      <th>3</th>\n",
       "      <td>4</td>\n",
       "      <td>1</td>\n",
       "      <td>35.0</td>\n",
       "      <td>0.693147</td>\n",
       "      <td>0.0</td>\n",
       "      <td>3.990834</td>\n",
       "      <td>0</td>\n",
       "      <td>0</td>\n",
       "      <td>1</td>\n",
       "    </tr>\n",
       "    <tr>\n",
       "      <th>4</th>\n",
       "      <td>5</td>\n",
       "      <td>3</td>\n",
       "      <td>35.0</td>\n",
       "      <td>0.000000</td>\n",
       "      <td>0.0</td>\n",
       "      <td>2.202765</td>\n",
       "      <td>1</td>\n",
       "      <td>0</td>\n",
       "      <td>1</td>\n",
       "    </tr>\n",
       "  </tbody>\n",
       "</table>\n",
       "</div>"
      ],
      "text/plain": [
       "   PassengerId  Pclass   Age     SibSp  Parch      Fare  Sex_male  Embarked_Q  \\\n",
       "0            1       3  22.0  0.693147    0.0  2.110213         1           0   \n",
       "1            2       1  38.0  0.693147    0.0  4.280593         0           0   \n",
       "2            3       3  26.0  0.000000    0.0  2.188856         0           0   \n",
       "3            4       1  35.0  0.693147    0.0  3.990834         0           0   \n",
       "4            5       3  35.0  0.000000    0.0  2.202765         1           0   \n",
       "\n",
       "   Embarked_S  \n",
       "0           1  \n",
       "1           0  \n",
       "2           1  \n",
       "3           1  \n",
       "4           1  "
      ]
     },
     "execution_count": 30,
     "metadata": {},
     "output_type": "execute_result"
    }
   ],
   "source": [
    "X=data_new.drop(columns=['Survived'],axis=1)\n",
    "X.head()"
   ]
  },
  {
   "cell_type": "code",
   "execution_count": 31,
   "metadata": {},
   "outputs": [
    {
     "data": {
      "text/plain": [
       "0    0\n",
       "1    1\n",
       "2    1\n",
       "3    1\n",
       "4    0\n",
       "Name: Survived, dtype: int64"
      ]
     },
     "execution_count": 31,
     "metadata": {},
     "output_type": "execute_result"
    }
   ],
   "source": [
    "Y=data_new['Survived']\n",
    "Y.head()"
   ]
  },
  {
   "cell_type": "code",
   "execution_count": 32,
   "metadata": {},
   "outputs": [],
   "source": [
    "from sklearn.model_selection import train_test_split as tts\n",
    "x_train,x_test,y_train,y_test=tts(X,Y,random_state=0,test_size=0.33,stratify=Y)"
   ]
  },
  {
   "cell_type": "code",
   "execution_count": 33,
   "metadata": {},
   "outputs": [],
   "source": [
    "from sklearn.preprocessing import StandardScaler\n",
    "sc=StandardScaler()\n",
    "X_train=sc.fit_transform(x_train)\n",
    "X_test=sc.transform(x_test)\n"
   ]
  },
  {
   "cell_type": "code",
   "execution_count": 34,
   "metadata": {},
   "outputs": [],
   "source": [
    "train_y=y_train"
   ]
  },
  {
   "cell_type": "code",
   "execution_count": 35,
   "metadata": {},
   "outputs": [
    {
     "data": {
      "text/html": [
       "<div>\n",
       "<style scoped>\n",
       "    .dataframe tbody tr th:only-of-type {\n",
       "        vertical-align: middle;\n",
       "    }\n",
       "\n",
       "    .dataframe tbody tr th {\n",
       "        vertical-align: top;\n",
       "    }\n",
       "\n",
       "    .dataframe thead th {\n",
       "        text-align: right;\n",
       "    }\n",
       "</style>\n",
       "<table border=\"1\" class=\"dataframe\">\n",
       "  <thead>\n",
       "    <tr style=\"text-align: right;\">\n",
       "      <th></th>\n",
       "      <th>PassengerId</th>\n",
       "      <th>Pclass</th>\n",
       "      <th>Age</th>\n",
       "      <th>SibSp</th>\n",
       "      <th>Parch</th>\n",
       "      <th>Fare</th>\n",
       "      <th>Sex_male</th>\n",
       "      <th>Embarked_Q</th>\n",
       "      <th>Embarked_S</th>\n",
       "    </tr>\n",
       "  </thead>\n",
       "  <tbody>\n",
       "    <tr>\n",
       "      <th>0</th>\n",
       "      <td>0.764715</td>\n",
       "      <td>-1.540481</td>\n",
       "      <td>1.458026</td>\n",
       "      <td>0.921945</td>\n",
       "      <td>-0.518494</td>\n",
       "      <td>1.383502</td>\n",
       "      <td>0.729475</td>\n",
       "      <td>-0.292592</td>\n",
       "      <td>-1.643735</td>\n",
       "    </tr>\n",
       "    <tr>\n",
       "      <th>1</th>\n",
       "      <td>0.622926</td>\n",
       "      <td>-0.348109</td>\n",
       "      <td>-0.538387</td>\n",
       "      <td>0.921945</td>\n",
       "      <td>2.260738</td>\n",
       "      <td>0.781770</td>\n",
       "      <td>-1.370849</td>\n",
       "      <td>-0.292592</td>\n",
       "      <td>-1.643735</td>\n",
       "    </tr>\n",
       "    <tr>\n",
       "      <th>2</th>\n",
       "      <td>0.147743</td>\n",
       "      <td>-1.540481</td>\n",
       "      <td>-0.308032</td>\n",
       "      <td>0.921945</td>\n",
       "      <td>-0.518494</td>\n",
       "      <td>1.552882</td>\n",
       "      <td>0.729475</td>\n",
       "      <td>-0.292592</td>\n",
       "      <td>-1.643735</td>\n",
       "    </tr>\n",
       "    <tr>\n",
       "      <th>3</th>\n",
       "      <td>-1.086202</td>\n",
       "      <td>0.844263</td>\n",
       "      <td>-0.231247</td>\n",
       "      <td>-0.598714</td>\n",
       "      <td>-0.518494</td>\n",
       "      <td>-0.797339</td>\n",
       "      <td>0.729475</td>\n",
       "      <td>-0.292592</td>\n",
       "      <td>0.608371</td>\n",
       "    </tr>\n",
       "    <tr>\n",
       "      <th>4</th>\n",
       "      <td>-1.277809</td>\n",
       "      <td>0.844263</td>\n",
       "      <td>-0.538387</td>\n",
       "      <td>-0.598714</td>\n",
       "      <td>-0.518494</td>\n",
       "      <td>-0.766488</td>\n",
       "      <td>0.729475</td>\n",
       "      <td>-0.292592</td>\n",
       "      <td>0.608371</td>\n",
       "    </tr>\n",
       "  </tbody>\n",
       "</table>\n",
       "</div>"
      ],
      "text/plain": [
       "   PassengerId    Pclass       Age     SibSp     Parch      Fare  Sex_male  \\\n",
       "0     0.764715 -1.540481  1.458026  0.921945 -0.518494  1.383502  0.729475   \n",
       "1     0.622926 -0.348109 -0.538387  0.921945  2.260738  0.781770 -1.370849   \n",
       "2     0.147743 -1.540481 -0.308032  0.921945 -0.518494  1.552882  0.729475   \n",
       "3    -1.086202  0.844263 -0.231247 -0.598714 -0.518494 -0.797339  0.729475   \n",
       "4    -1.277809  0.844263 -0.538387 -0.598714 -0.518494 -0.766488  0.729475   \n",
       "\n",
       "   Embarked_Q  Embarked_S  \n",
       "0   -0.292592   -1.643735  \n",
       "1   -0.292592   -1.643735  \n",
       "2   -0.292592   -1.643735  \n",
       "3   -0.292592    0.608371  \n",
       "4   -0.292592    0.608371  "
      ]
     },
     "execution_count": 35,
     "metadata": {},
     "output_type": "execute_result"
    }
   ],
   "source": [
    "train_x=pd.DataFrame(data=X_train,columns=x_train.columns)\n",
    "train_x.head()"
   ]
  },
  {
   "cell_type": "code",
   "execution_count": 36,
   "metadata": {},
   "outputs": [
    {
     "data": {
      "text/html": [
       "<div>\n",
       "<style scoped>\n",
       "    .dataframe tbody tr th:only-of-type {\n",
       "        vertical-align: middle;\n",
       "    }\n",
       "\n",
       "    .dataframe tbody tr th {\n",
       "        vertical-align: top;\n",
       "    }\n",
       "\n",
       "    .dataframe thead th {\n",
       "        text-align: right;\n",
       "    }\n",
       "</style>\n",
       "<table border=\"1\" class=\"dataframe\">\n",
       "  <thead>\n",
       "    <tr style=\"text-align: right;\">\n",
       "      <th></th>\n",
       "      <th>PassengerId</th>\n",
       "      <th>Pclass</th>\n",
       "      <th>Age</th>\n",
       "      <th>SibSp</th>\n",
       "      <th>Parch</th>\n",
       "      <th>Fare</th>\n",
       "      <th>Sex_male</th>\n",
       "      <th>Embarked_Q</th>\n",
       "      <th>Embarked_S</th>\n",
       "    </tr>\n",
       "  </thead>\n",
       "  <tbody>\n",
       "    <tr>\n",
       "      <th>0</th>\n",
       "      <td>0.496466</td>\n",
       "      <td>0.844263</td>\n",
       "      <td>-0.768743</td>\n",
       "      <td>-0.598714</td>\n",
       "      <td>-0.518494</td>\n",
       "      <td>-0.228532</td>\n",
       "      <td>0.729475</td>\n",
       "      <td>-0.292592</td>\n",
       "      <td>0.608371</td>\n",
       "    </tr>\n",
       "    <tr>\n",
       "      <th>1</th>\n",
       "      <td>-1.649525</td>\n",
       "      <td>-0.348109</td>\n",
       "      <td>1.995522</td>\n",
       "      <td>-0.598714</td>\n",
       "      <td>-0.518494</td>\n",
       "      <td>-0.136179</td>\n",
       "      <td>-1.370849</td>\n",
       "      <td>-0.292592</td>\n",
       "      <td>0.608371</td>\n",
       "    </tr>\n",
       "    <tr>\n",
       "      <th>2</th>\n",
       "      <td>-1.480911</td>\n",
       "      <td>0.844263</td>\n",
       "      <td>-1.383024</td>\n",
       "      <td>3.332132</td>\n",
       "      <td>2.260738</td>\n",
       "      <td>0.899494</td>\n",
       "      <td>0.729475</td>\n",
       "      <td>-0.292592</td>\n",
       "      <td>0.608371</td>\n",
       "    </tr>\n",
       "    <tr>\n",
       "      <th>3</th>\n",
       "      <td>-0.384923</td>\n",
       "      <td>-0.348109</td>\n",
       "      <td>-0.384817</td>\n",
       "      <td>-0.598714</td>\n",
       "      <td>-0.518494</td>\n",
       "      <td>-0.330292</td>\n",
       "      <td>-1.370849</td>\n",
       "      <td>-0.292592</td>\n",
       "      <td>0.608371</td>\n",
       "    </tr>\n",
       "    <tr>\n",
       "      <th>4</th>\n",
       "      <td>-1.312298</td>\n",
       "      <td>0.844263</td>\n",
       "      <td>0.306249</td>\n",
       "      <td>-0.598714</td>\n",
       "      <td>-0.518494</td>\n",
       "      <td>-0.701874</td>\n",
       "      <td>0.729475</td>\n",
       "      <td>-0.292592</td>\n",
       "      <td>0.608371</td>\n",
       "    </tr>\n",
       "  </tbody>\n",
       "</table>\n",
       "</div>"
      ],
      "text/plain": [
       "   PassengerId    Pclass       Age     SibSp     Parch      Fare  Sex_male  \\\n",
       "0     0.496466  0.844263 -0.768743 -0.598714 -0.518494 -0.228532  0.729475   \n",
       "1    -1.649525 -0.348109  1.995522 -0.598714 -0.518494 -0.136179 -1.370849   \n",
       "2    -1.480911  0.844263 -1.383024  3.332132  2.260738  0.899494  0.729475   \n",
       "3    -0.384923 -0.348109 -0.384817 -0.598714 -0.518494 -0.330292 -1.370849   \n",
       "4    -1.312298  0.844263  0.306249 -0.598714 -0.518494 -0.701874  0.729475   \n",
       "\n",
       "   Embarked_Q  Embarked_S  \n",
       "0   -0.292592    0.608371  \n",
       "1   -0.292592    0.608371  \n",
       "2   -0.292592    0.608371  \n",
       "3   -0.292592    0.608371  \n",
       "4   -0.292592    0.608371  "
      ]
     },
     "execution_count": 36,
     "metadata": {},
     "output_type": "execute_result"
    }
   ],
   "source": [
    "test_x=pd.DataFrame(data=X_test,columns=x_test.columns)\n",
    "test_x.head()"
   ]
  },
  {
   "cell_type": "code",
   "execution_count": 37,
   "metadata": {},
   "outputs": [
    {
     "data": {
      "text/plain": [
       "PassengerId   -0.006466\n",
       "Pclass        -0.593079\n",
       "Age            0.513147\n",
       "SibSp          1.687785\n",
       "Parch          1.701020\n",
       "Fare           0.407666\n",
       "Sex_male      -0.642993\n",
       "Embarked_Q     3.133024\n",
       "Embarked_S    -1.037978\n",
       "dtype: float64"
      ]
     },
     "execution_count": 37,
     "metadata": {},
     "output_type": "execute_result"
    }
   ],
   "source": [
    "train_x.skew()"
   ]
  },
  {
   "cell_type": "code",
   "execution_count": 38,
   "metadata": {},
   "outputs": [
    {
     "data": {
      "text/plain": [
       "Index(['PassengerId', 'Pclass', 'Age', 'SibSp', 'Parch', 'Fare', 'Sex_male',\n",
       "       'Embarked_Q', 'Embarked_S'],\n",
       "      dtype='object')"
      ]
     },
     "execution_count": 38,
     "metadata": {},
     "output_type": "execute_result"
    }
   ],
   "source": [
    "train_x.columns"
   ]
  },
  {
   "cell_type": "code",
   "execution_count": 39,
   "metadata": {},
   "outputs": [
    {
     "data": {
      "text/plain": [
       "((596, 9), (596,))"
      ]
     },
     "execution_count": 39,
     "metadata": {},
     "output_type": "execute_result"
    }
   ],
   "source": [
    "train_x.shape,train_y.shape"
   ]
  },
  {
   "cell_type": "code",
   "execution_count": 40,
   "metadata": {},
   "outputs": [
    {
     "data": {
      "text/plain": [
       "((295, 9), (295,))"
      ]
     },
     "execution_count": 40,
     "metadata": {},
     "output_type": "execute_result"
    }
   ],
   "source": [
    "test_x.shape,y_test.shape"
   ]
  },
  {
   "cell_type": "code",
   "execution_count": 41,
   "metadata": {},
   "outputs": [],
   "source": [
    "from sklearn.linear_model import LogisticRegression\n",
    "lr=LogisticRegression()"
   ]
  },
  {
   "cell_type": "code",
   "execution_count": 42,
   "metadata": {},
   "outputs": [],
   "source": [
    "from sklearn.metrics import accuracy_score"
   ]
  },
  {
   "cell_type": "code",
   "execution_count": 43,
   "metadata": {},
   "outputs": [
    {
     "name": "stdout",
     "output_type": "stream",
     "text": [
      "Accuracy score is 0.775 at random state 5\n",
      "Accuracy score is 0.7833333333333333 at random state 6\n",
      "Accuracy score is 0.825 at random state 7\n",
      "Accuracy score is 0.75 at random state 8\n",
      "Accuracy score is 0.775 at random state 9\n",
      "Accuracy score is 0.75 at random state 10\n",
      "Accuracy score is 0.7833333333333333 at random state 11\n",
      "Accuracy score is 0.7916666666666666 at random state 12\n",
      "Accuracy score is 0.775 at random state 13\n",
      "Accuracy score is 0.775 at random state 14\n",
      "Accuracy score is 0.825 at random state 15\n",
      "Accuracy score is 0.7833333333333333 at random state 16\n",
      "Accuracy score is 0.7666666666666667 at random state 17\n",
      "Accuracy score is 0.7833333333333333 at random state 18\n",
      "Accuracy score is 0.7416666666666667 at random state 19\n",
      "Accuracy score is 0.8 at random state 20\n",
      "Accuracy score is 0.775 at random state 21\n",
      "Accuracy score is 0.7583333333333333 at random state 22\n",
      "Accuracy score is 0.775 at random state 23\n",
      "Accuracy score is 0.7833333333333333 at random state 24\n",
      "Accuracy score is 0.775 at random state 25\n",
      "Accuracy score is 0.8583333333333333 at random state 26\n",
      "Accuracy score is 0.7916666666666666 at random state 27\n",
      "Accuracy score is 0.8166666666666667 at random state 28\n",
      "Accuracy score is 0.7833333333333333 at random state 29\n",
      "Accuracy score is 0.7583333333333333 at random state 30\n",
      "Accuracy score is 0.8166666666666667 at random state 31\n",
      "Accuracy score is 0.7833333333333333 at random state 32\n",
      "Accuracy score is 0.8166666666666667 at random state 33\n",
      "Accuracy score is 0.7583333333333333 at random state 34\n",
      "Accuracy score is 0.75 at random state 35\n",
      "Accuracy score is 0.825 at random state 36\n",
      "Accuracy score is 0.7583333333333333 at random state 37\n",
      "Accuracy score is 0.7833333333333333 at random state 38\n",
      "Accuracy score is 0.7666666666666667 at random state 39\n",
      "Accuracy score is 0.8166666666666667 at random state 40\n",
      "Accuracy score is 0.7666666666666667 at random state 41\n",
      "Accuracy score is 0.7666666666666667 at random state 42\n",
      "Accuracy score is 0.8166666666666667 at random state 43\n",
      "Accuracy score is 0.8083333333333333 at random state 44\n",
      "Accuracy score is 0.85 at random state 45\n",
      "Accuracy score is 0.7666666666666667 at random state 46\n",
      "Accuracy score is 0.8166666666666667 at random state 47\n",
      "Accuracy score is 0.8 at random state 48\n",
      "Accuracy score is 0.7916666666666666 at random state 49\n",
      "Accuracy score is 0.7666666666666667 at random state 50\n",
      "Accuracy score is 0.8083333333333333 at random state 51\n",
      "Accuracy score is 0.7916666666666666 at random state 52\n",
      "Accuracy score is 0.75 at random state 53\n",
      "Accuracy score is 0.7666666666666667 at random state 54\n",
      "Accuracy score is 0.8 at random state 55\n",
      "Accuracy score is 0.8166666666666667 at random state 56\n",
      "Accuracy score is 0.8333333333333334 at random state 57\n",
      "Accuracy score is 0.7583333333333333 at random state 58\n",
      "Accuracy score is 0.8083333333333333 at random state 59\n",
      "Accuracy score is 0.7833333333333333 at random state 60\n",
      "Accuracy score is 0.8583333333333333 at random state 61\n",
      "Accuracy score is 0.7833333333333333 at random state 62\n",
      "Accuracy score is 0.8 at random state 63\n",
      "Accuracy score is 0.7666666666666667 at random state 64\n",
      "Accuracy score is 0.825 at random state 65\n",
      "Accuracy score is 0.7666666666666667 at random state 66\n",
      "Accuracy score is 0.775 at random state 67\n",
      "Accuracy score is 0.8 at random state 68\n",
      "Accuracy score is 0.7166666666666667 at random state 69\n",
      "Accuracy score is 0.8333333333333334 at random state 70\n",
      "Accuracy score is 0.7583333333333333 at random state 71\n",
      "Accuracy score is 0.7666666666666667 at random state 72\n",
      "Accuracy score is 0.7333333333333333 at random state 73\n",
      "Accuracy score is 0.8333333333333334 at random state 74\n",
      "Accuracy score is 0.775 at random state 75\n",
      "Accuracy score is 0.8 at random state 76\n",
      "Accuracy score is 0.7833333333333333 at random state 77\n",
      "Accuracy score is 0.7833333333333333 at random state 78\n",
      "Accuracy score is 0.8083333333333333 at random state 79\n",
      "Accuracy score is 0.8083333333333333 at random state 80\n",
      "Accuracy score is 0.7916666666666666 at random state 81\n",
      "Accuracy score is 0.7916666666666666 at random state 82\n",
      "Accuracy score is 0.7583333333333333 at random state 83\n",
      "Accuracy score is 0.8083333333333333 at random state 84\n",
      "Accuracy score is 0.7666666666666667 at random state 85\n",
      "Accuracy score is 0.8 at random state 86\n",
      "Accuracy score is 0.7916666666666666 at random state 87\n",
      "Accuracy score is 0.775 at random state 88\n",
      "Accuracy score is 0.8083333333333333 at random state 89\n",
      "Accuracy score is 0.7583333333333333 at random state 90\n",
      "Accuracy score is 0.7583333333333333 at random state 91\n",
      "Accuracy score is 0.8083333333333333 at random state 92\n",
      "Accuracy score is 0.8 at random state 93\n",
      "Accuracy score is 0.775 at random state 94\n",
      "Accuracy score is 0.7916666666666666 at random state 95\n",
      "Accuracy score is 0.8333333333333334 at random state 96\n",
      "Accuracy score is 0.8 at random state 97\n",
      "Accuracy score is 0.775 at random state 98\n",
      "Accuracy score is 0.7666666666666667 at random state 99\n",
      "max accuracy score is  0.8583333333333333 at random state 26\n"
     ]
    }
   ],
   "source": [
    "accuracy=0\n",
    "for i in range(5,100):\n",
    "    x_train,x_test,y_train,y_test=tts(train_x,train_y,test_size=0.2,random_state=i,stratify=train_y)\n",
    "    lr.fit(x_train,y_train)\n",
    "    pred_y=lr.predict(x_test)\n",
    "    acc_score=accuracy_score(y_test,pred_y)\n",
    "    print('Accuracy score is',acc_score,'at random state',i)\n",
    "    if acc_score>accuracy:\n",
    "        accuracy=acc_score\n",
    "        final_state=i\n",
    "print('max accuracy score is ',accuracy,'at random state',final_state)\n",
    "    "
   ]
  },
  {
   "cell_type": "code",
   "execution_count": 44,
   "metadata": {},
   "outputs": [],
   "source": [
    "x_train,x_test,y_train,y_test=tts(train_x,train_y,test_size=0.2,random_state=26,stratify=train_y)\n",
    "lr.fit(x_train,y_train)\n",
    "pred_y=lr.predict(x_test)\n",
    "train_pred=lr.predict(x_train)\n",
    "acc_score=accuracy_score(y_test,pred_y)"
   ]
  },
  {
   "cell_type": "code",
   "execution_count": 45,
   "metadata": {},
   "outputs": [
    {
     "data": {
      "text/plain": [
       "0.8583333333333333"
      ]
     },
     "execution_count": 45,
     "metadata": {},
     "output_type": "execute_result"
    }
   ],
   "source": [
    "acc_score"
   ]
  },
  {
   "cell_type": "code",
   "execution_count": 46,
   "metadata": {},
   "outputs": [],
   "source": [
    "from sklearn.metrics import roc_auc_score\n",
    "from sklearn.metrics import roc_curve"
   ]
  },
  {
   "cell_type": "code",
   "execution_count": 47,
   "metadata": {},
   "outputs": [],
   "source": [
    "lr_test_auc=roc_auc_score(y_test,pred_y)\n",
    "lr_train_auc=roc_auc_score(y_train,train_pred)"
   ]
  },
  {
   "cell_type": "code",
   "execution_count": 48,
   "metadata": {},
   "outputs": [
    {
     "data": {
      "text/plain": [
       "(0.8522326674500589, 0.7568865514090154)"
      ]
     },
     "execution_count": 48,
     "metadata": {},
     "output_type": "execute_result"
    }
   ],
   "source": [
    "lr_test_auc,lr_train_auc"
   ]
  },
  {
   "cell_type": "code",
   "execution_count": 49,
   "metadata": {},
   "outputs": [],
   "source": [
    "lr_test_probs=lr.predict_proba(x_test)\n",
    "lr_train_probs=lr.predict_proba(x_train)\n",
    "lr_test_probs=lr_test_probs[:,1]\n",
    "lr_train_probs=lr_train_probs[:,1]"
   ]
  },
  {
   "cell_type": "code",
   "execution_count": 50,
   "metadata": {},
   "outputs": [],
   "source": [
    "lr_test_fpr,lr_test_tpr,test_threshold=roc_curve(y_test,lr_test_probs)\n",
    "lr_train_fpr,lr_train_tpr,train_threshold=roc_curve(y_train,lr_train_probs)"
   ]
  },
  {
   "cell_type": "code",
   "execution_count": 51,
   "metadata": {},
   "outputs": [
    {
     "name": "stderr",
     "output_type": "stream",
     "text": [
      "No handles with labels found to put in legend.\n"
     ]
    },
    {
     "data": {
      "image/png": "[encoded data removed]",
      "text/plain": [
       "<Figure size 432x288 with 1 Axes>"
      ]
     },
     "metadata": {
      "needs_background": "light"
     },
     "output_type": "display_data"
    }
   ],
   "source": [
    "plt.plot(lr_test_fpr,lr_test_tpr,marker='.')\n",
    "plt.plot(lr_train_fpr,lr_train_tpr)\n",
    "plt.xlabel('False Positive Rate')\n",
    "plt.ylabel('True Positive Rate')\n",
    "plt.legend()\n",
    "plt.show()"
   ]
  },
  {
   "cell_type": "code",
   "execution_count": 52,
   "metadata": {},
   "outputs": [
    {
     "data": {
      "text/plain": [
       "array([[65,  9],\n",
       "       [ 8, 38]], dtype=int64)"
      ]
     },
     "execution_count": 52,
     "metadata": {},
     "output_type": "execute_result"
    }
   ],
   "source": [
    "from sklearn.metrics import confusion_matrix\n",
    "confusion=confusion_matrix(y_test,pred_y)\n",
    "confusion"
   ]
  },
  {
   "cell_type": "code",
   "execution_count": 53,
   "metadata": {},
   "outputs": [
    {
     "data": {
      "text/plain": [
       "(array([[65,  9],\n",
       "        [ 8, 38]], dtype=int64), 0.8166666666666667)"
      ]
     },
     "execution_count": 53,
     "metadata": {},
     "output_type": "execute_result"
    }
   ],
   "source": [
    "from sklearn.svm import SVC\n",
    "classifier=SVC(kernel='linear',random_state=0)\n",
    "classifier.fit(x_train,y_train)\n",
    "y_pred=classifier.predict(x_test)\n",
    "accuracy=accuracy_score(y_test,y_pred)\n",
    "confusion=confusion_matrix(y_test,pred_y)\n",
    "confusion,accuracy"
   ]
  },
  {
   "cell_type": "code",
   "execution_count": 54,
   "metadata": {},
   "outputs": [],
   "source": [
    "from sklearn.model_selection import GridSearchCV\n",
    "parameters=[{'C':[1,10,100,1000],'kernel':['linear']},\n",
    "            {'C':[1,10,100,1000],'kernel':['rbf'],'gamma':[0.1,0.2,0.3,0.4,0.5,0.6,0.7,0.8,0.9]}]\n",
    "grid_search=GridSearchCV(estimator=classifier,param_grid=parameters,scoring='accuracy',cv=10,n_jobs=-1)\n",
    "grid_search=grid_search.fit(x_train,y_train)"
   ]
  },
  {
   "cell_type": "code",
   "execution_count": 55,
   "metadata": {},
   "outputs": [
    {
     "data": {
      "text/plain": [
       "0.7878151260504201"
      ]
     },
     "execution_count": 55,
     "metadata": {},
     "output_type": "execute_result"
    }
   ],
   "source": [
    "accuracy=grid_search.best_score_\n",
    "accuracy"
   ]
  },
  {
   "cell_type": "code",
   "execution_count": 56,
   "metadata": {},
   "outputs": [
    {
     "data": {
      "text/plain": [
       "{'C': 1, 'gamma': 0.1, 'kernel': 'rbf'}"
      ]
     },
     "execution_count": 56,
     "metadata": {},
     "output_type": "execute_result"
    }
   ],
   "source": [
    "grid_search.best_params_"
   ]
  },
  {
   "cell_type": "code",
   "execution_count": 57,
   "metadata": {},
   "outputs": [
    {
     "data": {
      "text/plain": [
       "(array([[65,  9],\n",
       "        [ 8, 38]], dtype=int64), 0.8583333333333333)"
      ]
     },
     "execution_count": 57,
     "metadata": {},
     "output_type": "execute_result"
    }
   ],
   "source": [
    "classifier=SVC(kernel='rbf',gamma=0.1,C=1,random_state=10)\n",
    "classifier.fit(x_train,y_train)\n",
    "y_pred=classifier.predict(x_test)\n",
    "train_pred=classifier.predict(x_train)\n",
    "accuracy=accuracy_score(y_test,y_pred)\n",
    "confusion=confusion_matrix(y_test,pred_y)\n",
    "confusion,accuracy"
   ]
  },
  {
   "cell_type": "code",
   "execution_count": 58,
   "metadata": {},
   "outputs": [
    {
     "data": {
      "text/plain": [
       "(0.8398942420681551, 0.80433241947817)"
      ]
     },
     "execution_count": 58,
     "metadata": {},
     "output_type": "execute_result"
    }
   ],
   "source": [
    "svc_test_auc=roc_auc_score(y_test,y_pred)\n",
    "svc_train_auc=roc_auc_score(y_train,train_pred)\n",
    "svc_test_auc,svc_train_auc"
   ]
  },
  {
   "cell_type": "code",
   "execution_count": 59,
   "metadata": {},
   "outputs": [
    {
     "name": "stdout",
     "output_type": "stream",
     "text": [
      "0.8583333333333333\n"
     ]
    },
    {
     "data": {
      "text/plain": [
       "array([[67,  7],\n",
       "       [10, 36]], dtype=int64)"
      ]
     },
     "execution_count": 59,
     "metadata": {},
     "output_type": "execute_result"
    }
   ],
   "source": [
    "from sklearn.ensemble import RandomForestClassifier as RFC\n",
    "RFC=RFC(n_estimators=10,criterion='entropy',max_depth=4)\n",
    "RFC.fit(x_train,y_train)\n",
    "y_pred=RFC.predict(x_test)\n",
    "accuracy=accuracy_score(y_test,y_pred)\n",
    "print(accuracy)\n",
    "cm=confusion_matrix(y_test,y_pred)\n",
    "cm"
   ]
  },
  {
   "cell_type": "code",
   "execution_count": 60,
   "metadata": {},
   "outputs": [
    {
     "name": "stdout",
     "output_type": "stream",
     "text": [
      "Accuracy at random state 0 is 0.8666666666666667\n",
      "Accuracy at random state 1 is 0.875\n",
      "Accuracy at random state 2 is 0.8666666666666667\n",
      "Accuracy at random state 3 is 0.8583333333333333\n",
      "Accuracy at random state 4 is 0.8833333333333333\n",
      "Accuracy at random state 5 is 0.8333333333333334\n",
      "Accuracy at random state 6 is 0.8583333333333333\n",
      "Accuracy at random state 7 is 0.8333333333333334\n",
      "Accuracy at random state 8 is 0.85\n",
      "Accuracy at random state 9 is 0.8666666666666667\n",
      "Accuracy at random state 10 is 0.8583333333333333\n",
      "Accuracy at random state 11 is 0.875\n",
      "Accuracy at random state 12 is 0.875\n",
      "Accuracy at random state 13 is 0.875\n",
      "Accuracy at random state 14 is 0.85\n",
      "Accuracy at random state 15 is 0.85\n",
      "Accuracy at random state 16 is 0.8666666666666667\n",
      "Accuracy at random state 17 is 0.8416666666666667\n",
      "Accuracy at random state 18 is 0.8583333333333333\n",
      "Accuracy at random state 19 is 0.8416666666666667\n",
      "Accuracy at random state 20 is 0.85\n",
      "Accuracy at random state 21 is 0.85\n",
      "Accuracy at random state 22 is 0.8666666666666667\n",
      "Accuracy at random state 23 is 0.875\n",
      "Accuracy at random state 24 is 0.8666666666666667\n",
      "Accuracy at random state 25 is 0.875\n",
      "Accuracy at random state 26 is 0.85\n",
      "Accuracy at random state 27 is 0.8583333333333333\n",
      "Accuracy at random state 28 is 0.8916666666666667\n",
      "Accuracy at random state 29 is 0.875\n",
      "Accuracy at random state 30 is 0.85\n",
      "Accuracy at random state 31 is 0.8416666666666667\n",
      "Accuracy at random state 32 is 0.8583333333333333\n",
      "Accuracy at random state 33 is 0.875\n",
      "Accuracy at random state 34 is 0.875\n",
      "Accuracy at random state 35 is 0.8666666666666667\n",
      "Accuracy at random state 36 is 0.85\n",
      "Accuracy at random state 37 is 0.85\n",
      "Accuracy at random state 38 is 0.875\n",
      "Accuracy at random state 39 is 0.875\n",
      "Accuracy at random state 40 is 0.85\n",
      "Accuracy at random state 41 is 0.875\n",
      "Accuracy at random state 42 is 0.8833333333333333\n",
      "Accuracy at random state 43 is 0.8583333333333333\n",
      "Accuracy at random state 44 is 0.85\n",
      "Accuracy at random state 45 is 0.875\n",
      "Accuracy at random state 46 is 0.8916666666666667\n",
      "Accuracy at random state 47 is 0.8666666666666667\n",
      "Accuracy at random state 48 is 0.875\n",
      "Accuracy at random state 49 is 0.8833333333333333\n",
      "Accuracy at random state 50 is 0.85\n",
      "Accuracy at random state 51 is 0.85\n",
      "Accuracy at random state 52 is 0.8833333333333333\n",
      "Accuracy at random state 53 is 0.8666666666666667\n",
      "Accuracy at random state 54 is 0.8583333333333333\n",
      "Accuracy at random state 55 is 0.8583333333333333\n",
      "Accuracy at random state 56 is 0.85\n",
      "Accuracy at random state 57 is 0.8583333333333333\n",
      "Accuracy at random state 58 is 0.85\n",
      "Accuracy at random state 59 is 0.875\n",
      "Accuracy at random state 60 is 0.8666666666666667\n",
      "Accuracy at random state 61 is 0.8583333333333333\n",
      "Accuracy at random state 62 is 0.8666666666666667\n",
      "Accuracy at random state 63 is 0.8583333333333333\n",
      "Accuracy at random state 64 is 0.8833333333333333\n",
      "Accuracy at random state 65 is 0.8416666666666667\n",
      "Accuracy at random state 66 is 0.8666666666666667\n",
      "Accuracy at random state 67 is 0.8833333333333333\n",
      "Accuracy at random state 68 is 0.8583333333333333\n",
      "Accuracy at random state 69 is 0.8583333333333333\n",
      "Accuracy at random state 70 is 0.8666666666666667\n",
      "Accuracy at random state 71 is 0.8583333333333333\n",
      "Accuracy at random state 72 is 0.85\n",
      "Accuracy at random state 73 is 0.8916666666666667\n",
      "Accuracy at random state 74 is 0.825\n",
      "Accuracy at random state 75 is 0.8583333333333333\n",
      "Accuracy at random state 76 is 0.8333333333333334\n",
      "Accuracy at random state 77 is 0.875\n",
      "Accuracy at random state 78 is 0.8666666666666667\n",
      "Accuracy at random state 79 is 0.825\n",
      "Accuracy at random state 80 is 0.85\n",
      "Accuracy at random state 81 is 0.85\n",
      "Accuracy at random state 82 is 0.875\n",
      "Accuracy at random state 83 is 0.8583333333333333\n",
      "Accuracy at random state 84 is 0.8583333333333333\n",
      "Accuracy at random state 85 is 0.8416666666666667\n",
      "Accuracy at random state 86 is 0.8166666666666667\n",
      "Accuracy at random state 87 is 0.8583333333333333\n",
      "Accuracy at random state 88 is 0.8583333333333333\n",
      "Accuracy at random state 89 is 0.8833333333333333\n",
      "Accuracy at random state 90 is 0.85\n",
      "Accuracy at random state 91 is 0.8666666666666667\n",
      "Accuracy at random state 92 is 0.8666666666666667\n",
      "Accuracy at random state 93 is 0.8583333333333333\n",
      "Accuracy at random state 94 is 0.8583333333333333\n",
      "Accuracy at random state 95 is 0.85\n",
      "Accuracy at random state 96 is 0.85\n",
      "Accuracy at random state 97 is 0.8583333333333333\n",
      "Accuracy at random state 98 is 0.8583333333333333\n",
      "Accuracy at random state 99 is 0.85\n",
      "Max score is: 0.8916666666666667 at 28\n"
     ]
    }
   ],
   "source": [
    "from sklearn.ensemble import RandomForestClassifier as RFC\n",
    "max_score=0\n",
    "for i in range(0,100):\n",
    "    from sklearn.ensemble import RandomForestClassifier as RFC\n",
    "    RFC=RFC(n_estimators=15,criterion='entropy',max_depth=4,random_state=i)\n",
    "    RFC.fit(x_train,y_train)\n",
    "    y_pred=RFC.predict(x_test)\n",
    "    train_pred=RFC.predict(x_train)\n",
    "    accuracy=accuracy_score(y_test,y_pred)\n",
    "    print('Accuracy at random state',i,'is',accuracy)\n",
    "    if accuracy>max_score:\n",
    "        max_score=accuracy\n",
    "        final_state=i\n",
    "print('Max score is:',max_score,'at',final_state)\n"
   ]
  },
  {
   "cell_type": "code",
   "execution_count": 61,
   "metadata": {},
   "outputs": [
    {
     "data": {
      "text/plain": [
       "(0.8249118683901293, 0.8179842966112759)"
      ]
     },
     "execution_count": 61,
     "metadata": {},
     "output_type": "execute_result"
    }
   ],
   "source": [
    "rfc_test_auc=roc_auc_score(y_test,y_pred)\n",
    "rfc_train_auc=roc_auc_score(y_train,train_pred)\n",
    "rfc_test_auc,rfc_train_auc"
   ]
  },
  {
   "cell_type": "code",
   "execution_count": 62,
   "metadata": {},
   "outputs": [
    {
     "name": "stdout",
     "output_type": "stream",
     "text": [
      "accuracy at : 0 is: 0.8583333333333333\n",
      "accuracy at : 1 is: 0.8666666666666667\n",
      "accuracy at : 2 is: 0.875\n",
      "accuracy at : 3 is: 0.8666666666666667\n",
      "accuracy at : 4 is: 0.875\n",
      "accuracy at : 5 is: 0.8666666666666667\n",
      "accuracy at : 6 is: 0.875\n",
      "accuracy at : 7 is: 0.8666666666666667\n",
      "accuracy at : 8 is: 0.8583333333333333\n",
      "accuracy at : 9 is: 0.8666666666666667\n",
      "accuracy at : 10 is: 0.875\n",
      "accuracy at : 11 is: 0.8583333333333333\n",
      "accuracy at : 12 is: 0.85\n",
      "accuracy at : 13 is: 0.8583333333333333\n",
      "accuracy at : 14 is: 0.8666666666666667\n",
      "accuracy at : 15 is: 0.8666666666666667\n",
      "accuracy at : 16 is: 0.875\n",
      "accuracy at : 17 is: 0.875\n",
      "accuracy at : 18 is: 0.8666666666666667\n",
      "accuracy at : 19 is: 0.8833333333333333\n",
      "accuracy at : 20 is: 0.8666666666666667\n",
      "accuracy at : 21 is: 0.8666666666666667\n",
      "accuracy at : 22 is: 0.8666666666666667\n",
      "accuracy at : 23 is: 0.8666666666666667\n",
      "accuracy at : 24 is: 0.8583333333333333\n",
      "accuracy at : 25 is: 0.8666666666666667\n",
      "accuracy at : 26 is: 0.8666666666666667\n",
      "accuracy at : 27 is: 0.8666666666666667\n",
      "accuracy at : 28 is: 0.875\n",
      "accuracy at : 29 is: 0.8583333333333333\n",
      "accuracy at : 30 is: 0.8666666666666667\n",
      "accuracy at : 31 is: 0.875\n",
      "accuracy at : 32 is: 0.8916666666666667\n",
      "accuracy at : 33 is: 0.8666666666666667\n",
      "accuracy at : 34 is: 0.8666666666666667\n",
      "accuracy at : 35 is: 0.8666666666666667\n",
      "accuracy at : 36 is: 0.8666666666666667\n",
      "accuracy at : 37 is: 0.875\n",
      "accuracy at : 38 is: 0.8583333333333333\n",
      "accuracy at : 39 is: 0.8833333333333333\n",
      "accuracy at : 40 is: 0.875\n",
      "accuracy at : 41 is: 0.8666666666666667\n",
      "accuracy at : 42 is: 0.8833333333333333\n",
      "accuracy at : 43 is: 0.8583333333333333\n",
      "accuracy at : 44 is: 0.8666666666666667\n",
      "accuracy at : 45 is: 0.8583333333333333\n",
      "accuracy at : 46 is: 0.8833333333333333\n",
      "accuracy at : 47 is: 0.875\n",
      "accuracy at : 48 is: 0.8666666666666667\n",
      "accuracy at : 49 is: 0.875\n",
      "accuracy at : 50 is: 0.875\n",
      "accuracy at : 51 is: 0.8666666666666667\n",
      "accuracy at : 52 is: 0.8666666666666667\n",
      "accuracy at : 53 is: 0.8666666666666667\n",
      "accuracy at : 54 is: 0.8666666666666667\n",
      "accuracy at : 55 is: 0.875\n",
      "accuracy at : 56 is: 0.875\n",
      "accuracy at : 57 is: 0.8833333333333333\n",
      "accuracy at : 58 is: 0.8833333333333333\n",
      "accuracy at : 59 is: 0.8666666666666667\n",
      "accuracy at : 60 is: 0.8666666666666667\n",
      "accuracy at : 61 is: 0.8666666666666667\n",
      "accuracy at : 62 is: 0.875\n",
      "accuracy at : 63 is: 0.875\n",
      "accuracy at : 64 is: 0.875\n",
      "accuracy at : 65 is: 0.8583333333333333\n",
      "accuracy at : 66 is: 0.8583333333333333\n",
      "accuracy at : 67 is: 0.8666666666666667\n",
      "accuracy at : 68 is: 0.875\n",
      "accuracy at : 69 is: 0.8666666666666667\n",
      "accuracy at : 70 is: 0.8666666666666667\n",
      "accuracy at : 71 is: 0.8666666666666667\n",
      "accuracy at : 72 is: 0.875\n",
      "accuracy at : 73 is: 0.8666666666666667\n",
      "accuracy at : 74 is: 0.8583333333333333\n",
      "accuracy at : 75 is: 0.875\n",
      "accuracy at : 76 is: 0.8666666666666667\n",
      "accuracy at : 77 is: 0.875\n",
      "accuracy at : 78 is: 0.8666666666666667\n",
      "accuracy at : 79 is: 0.875\n",
      "accuracy at : 80 is: 0.8666666666666667\n",
      "accuracy at : 81 is: 0.8666666666666667\n",
      "accuracy at : 82 is: 0.875\n",
      "accuracy at : 83 is: 0.8583333333333333\n",
      "accuracy at : 84 is: 0.8666666666666667\n",
      "accuracy at : 85 is: 0.8666666666666667\n",
      "accuracy at : 86 is: 0.8583333333333333\n",
      "accuracy at : 87 is: 0.875\n",
      "accuracy at : 88 is: 0.8666666666666667\n",
      "accuracy at : 89 is: 0.8583333333333333\n",
      "accuracy at : 90 is: 0.8666666666666667\n",
      "accuracy at : 91 is: 0.875\n",
      "accuracy at : 92 is: 0.875\n",
      "accuracy at : 93 is: 0.8666666666666667\n",
      "accuracy at : 94 is: 0.875\n",
      "accuracy at : 95 is: 0.8666666666666667\n",
      "accuracy at : 96 is: 0.8666666666666667\n",
      "accuracy at : 97 is: 0.8666666666666667\n",
      "accuracy at : 98 is: 0.8583333333333333\n",
      "accuracy at : 99 is: 0.8666666666666667\n"
     ]
    }
   ],
   "source": [
    "from sklearn.ensemble import RandomForestClassifier as RFC\n",
    "RFC=RFC(n_estimators=15,max_depth=4,criterion='entropy',random_state=28)\n",
    "for i in range(0,100):\n",
    "    from sklearn.ensemble import AdaBoostClassifier as ABC\n",
    "    ABC=ABC(base_estimator=RFC,learning_rate=0.1,random_state=i)\n",
    "    ABC.fit(x_train,y_train)\n",
    "    y_pred=ABC.predict(x_test)\n",
    "    train_pred=ABC.predict(x_train)\n",
    "    accuracy=accuracy_score(y_test,y_pred)\n",
    "    print('accuracy at :',i,'is:',accuracy)\n",
    "\n"
   ]
  },
  {
   "cell_type": "code",
   "execution_count": 63,
   "metadata": {},
   "outputs": [
    {
     "name": "stdout",
     "output_type": "stream",
     "text": [
      "0.8833333333333333\n"
     ]
    }
   ],
   "source": [
    "from sklearn.ensemble import RandomForestClassifier as RFC\n",
    "RFC=RFC(n_estimators=15,max_depth=4,criterion='entropy',random_state=28)\n",
    "from sklearn.ensemble import AdaBoostClassifier as ABC\n",
    "ABC=ABC(base_estimator=RFC,learning_rate=0.1,random_state=19)\n",
    "ABC.fit(x_train,y_train)\n",
    "y_pred=ABC.predict(x_test)\n",
    "train_pred=ABC.predict(x_train)\n",
    "accuracy=accuracy_score(y_test,y_pred)\n",
    "print(accuracy)\n"
   ]
  },
  {
   "cell_type": "code",
   "execution_count": 64,
   "metadata": {},
   "outputs": [
    {
     "data": {
      "text/plain": [
       "(0.8683901292596945, 0.8695518379678845)"
      ]
     },
     "execution_count": 64,
     "metadata": {},
     "output_type": "execute_result"
    }
   ],
   "source": [
    "ABC_test_auc=roc_auc_score(y_test,y_pred)\n",
    "ABC_train_auc=roc_auc_score(y_train,train_pred)\n",
    "ABC_test_auc,ABC_train_auc"
   ]
  },
  {
   "cell_type": "code",
   "execution_count": 65,
   "metadata": {},
   "outputs": [],
   "source": [
    "ABC_test_probs=ABC.predict_proba(x_test)\n",
    "ABC_train_probs=ABC.predict_proba(x_train)\n",
    "ABC_test_probs=ABC_test_probs[:,1]\n",
    "ABC_train_probs=ABC_train_probs[:,1]"
   ]
  },
  {
   "cell_type": "code",
   "execution_count": 66,
   "metadata": {},
   "outputs": [],
   "source": [
    "ABC_test_fpr,ABC_test_tpr,test_threshold=roc_curve(y_test,ABC_test_probs)\n",
    "ABC_train_fpr,ABC_train_tpr,train_threshold=roc_curve(y_train,ABC_train_probs)"
   ]
  },
  {
   "cell_type": "code",
   "execution_count": 67,
   "metadata": {},
   "outputs": [
    {
     "name": "stderr",
     "output_type": "stream",
     "text": [
      "No handles with labels found to put in legend.\n"
     ]
    },
    {
     "data": {
      "text/plain": [
       "<function matplotlib.pyplot.show(*args, **kw)>"
      ]
     },
     "execution_count": 67,
     "metadata": {},
     "output_type": "execute_result"
    },
    {
     "data": {
      "image/png": "[encoded data removed]",
      "text/plain": [
       "<Figure size 432x288 with 1 Axes>"
      ]
     },
     "metadata": {
      "needs_background": "light"
     },
     "output_type": "display_data"
    }
   ],
   "source": [
    "plt.plot(ABC_test_fpr,ABC_test_tpr,marker='.')\n",
    "plt.plot(ABC_train_fpr,ABC_train_tpr)\n",
    "plt.xlabel('False Positive Rate')\n",
    "plt.ylabel('True Positive Rate')\n",
    "plt.legend()\n",
    "plt.show"
   ]
  },
  {
   "cell_type": "code",
   "execution_count": 68,
   "metadata": {},
   "outputs": [
    {
     "data": {
      "text/plain": [
       "array([[69,  5],\n",
       "       [ 9, 37]], dtype=int64)"
      ]
     },
     "execution_count": 68,
     "metadata": {},
     "output_type": "execute_result"
    }
   ],
   "source": [
    "cm=confusion_matrix(y_test,y_pred)\n",
    "cm"
   ]
  },
  {
   "cell_type": "code",
   "execution_count": 69,
   "metadata": {},
   "outputs": [],
   "source": [
    "from sklearn.tree import DecisionTreeClassifier as DTC"
   ]
  },
  {
   "cell_type": "code",
   "execution_count": 70,
   "metadata": {},
   "outputs": [
    {
     "name": "stdout",
     "output_type": "stream",
     "text": [
      "0.8666666666666667\n"
     ]
    },
    {
     "data": {
      "text/plain": [
       "array([[70,  4],\n",
       "       [12, 34]], dtype=int64)"
      ]
     },
     "execution_count": 70,
     "metadata": {},
     "output_type": "execute_result"
    }
   ],
   "source": [
    "DTC=DTC(max_depth=3)\n",
    "DTC.fit(x_train,y_train)\n",
    "y_pred=DTC.predict(x_test)\n",
    "train_pred=DTC.predict(x_train)\n",
    "accuracy=accuracy_score(y_test,y_pred)\n",
    "print(accuracy)\n",
    "cm=confusion_matrix(y_test,y_pred)\n",
    "cm"
   ]
  },
  {
   "cell_type": "code",
   "execution_count": 71,
   "metadata": {},
   "outputs": [
    {
     "data": {
      "text/plain": [
       "(0.8425381903642772, 0.7913426210858091)"
      ]
     },
     "execution_count": 71,
     "metadata": {},
     "output_type": "execute_result"
    }
   ],
   "source": [
    "dtc_test_auc=roc_auc_score(y_test,y_pred)\n",
    "dtc_train_auc=roc_auc_score(y_train,train_pred)\n",
    "dtc_test_auc,dtc_train_auc"
   ]
  },
  {
   "cell_type": "code",
   "execution_count": 72,
   "metadata": {},
   "outputs": [
    {
     "name": "stdout",
     "output_type": "stream",
     "text": [
      "0.8083333333333333 0.7478991596638656\n"
     ]
    },
    {
     "data": {
      "text/plain": [
       "array([[60, 14],\n",
       "       [ 9, 37]], dtype=int64)"
      ]
     },
     "execution_count": 72,
     "metadata": {},
     "output_type": "execute_result"
    }
   ],
   "source": [
    "from sklearn.naive_bayes import GaussianNB\n",
    "GNB=GaussianNB()\n",
    "GNB.fit(x_train,y_train)\n",
    "y_pred=GNB.predict(x_test)\n",
    "train_pred=GNB.predict(x_train)\n",
    "accuracy=accuracy_score(y_test,y_pred)\n",
    "accuracy1=accuracy_score(y_train,train_pred)\n",
    "print(accuracy,accuracy1)\n",
    "cm=confusion_matrix(y_test,y_pred)\n",
    "cm"
   ]
  },
  {
   "cell_type": "code",
   "execution_count": 73,
   "metadata": {},
   "outputs": [
    {
     "name": "stdout",
     "output_type": "stream",
     "text": [
      "0.7666666666666667 0.7331932773109243\n"
     ]
    },
    {
     "data": {
      "text/plain": [
       "array([[60, 14],\n",
       "       [14, 32]], dtype=int64)"
      ]
     },
     "execution_count": 73,
     "metadata": {},
     "output_type": "execute_result"
    }
   ],
   "source": [
    "from sklearn.naive_bayes import BernoulliNB\n",
    "BNB=BernoulliNB()\n",
    "BNB.fit(x_train,y_train)\n",
    "y_pred=BNB.predict(x_test)\n",
    "train_pred=BNB.predict(x_train)\n",
    "accuracy=accuracy_score(y_test,y_pred)\n",
    "accuracy1=accuracy_score(y_train,train_pred)\n",
    "print(accuracy,accuracy1)\n",
    "cm=confusion_matrix(y_test,y_pred)\n",
    "cm"
   ]
  },
  {
   "cell_type": "code",
   "execution_count": 74,
   "metadata": {},
   "outputs": [
    {
     "data": {
      "text/plain": [
       "['adaboost_classifier.pkl']"
      ]
     },
     "execution_count": 74,
     "metadata": {},
     "output_type": "execute_result"
    }
   ],
   "source": [
    "from sklearn.externals import joblib\n",
    "joblib.dump(ABC,'adaboost_classifier.pkl')\n"
   ]
  },
  {
   "cell_type": "code",
   "execution_count": 75,
   "metadata": {},
   "outputs": [],
   "source": [
    "load=joblib.load('adaboost_classifier.pkl')"
   ]
  }
 ],
 "metadata": {
  "kernelspec": {
   "display_name": "Python 3",
   "language": "python",
   "name": "python3"
  },
  "language_info": {
   "codemirror_mode": {
    "name": "ipython",
    "version": 3
   },
   "file_extension": ".py",
   "mimetype": "text/x-python",
   "name": "python",
   "nbconvert_exporter": "python",
   "pygments_lexer": "ipython3",
   "version": "3.7.3"
  }
 },
 "nbformat": 4,
 "nbformat_minor": 2
}
