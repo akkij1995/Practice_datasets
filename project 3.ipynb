{
 "cells": [
  {
   "cell_type": "code",
   "execution_count": 1,
   "metadata": {},
   "outputs": [],
   "source": [
    "import pandas as pd\n",
    "import numpy as np\n",
    "import matplotlib.pyplot as plt\n",
    "import seaborn as sns\n",
    "import warnings\n",
    "warnings.filterwarnings('ignore')\n",
    "%matplotlib inline"
   ]
  },
  {
   "cell_type": "code",
   "execution_count": 2,
   "metadata": {},
   "outputs": [
    {
     "data": {
      "text/html": [
       "<div>\n",
       "<style scoped>\n",
       "    .dataframe tbody tr th:only-of-type {\n",
       "        vertical-align: middle;\n",
       "    }\n",
       "\n",
       "    .dataframe tbody tr th {\n",
       "        vertical-align: top;\n",
       "    }\n",
       "\n",
       "    .dataframe thead th {\n",
       "        text-align: right;\n",
       "    }\n",
       "</style>\n",
       "<table border=\"1\" class=\"dataframe\">\n",
       "  <thead>\n",
       "    <tr style=\"text-align: right;\">\n",
       "      <th></th>\n",
       "      <th>Sex</th>\n",
       "      <th>length</th>\n",
       "      <th>diameter</th>\n",
       "      <th>height</th>\n",
       "      <th>wholeweight</th>\n",
       "      <th>shuckedweight</th>\n",
       "      <th>visceraweight</th>\n",
       "      <th>shellweight</th>\n",
       "      <th>rings</th>\n",
       "    </tr>\n",
       "  </thead>\n",
       "  <tbody>\n",
       "    <tr>\n",
       "      <th>0</th>\n",
       "      <td>M</td>\n",
       "      <td>0.455</td>\n",
       "      <td>0.365</td>\n",
       "      <td>0.095</td>\n",
       "      <td>0.5140</td>\n",
       "      <td>0.2245</td>\n",
       "      <td>0.1010</td>\n",
       "      <td>0.150</td>\n",
       "      <td>15</td>\n",
       "    </tr>\n",
       "    <tr>\n",
       "      <th>1</th>\n",
       "      <td>M</td>\n",
       "      <td>0.350</td>\n",
       "      <td>0.265</td>\n",
       "      <td>0.090</td>\n",
       "      <td>0.2255</td>\n",
       "      <td>0.0995</td>\n",
       "      <td>0.0485</td>\n",
       "      <td>0.070</td>\n",
       "      <td>7</td>\n",
       "    </tr>\n",
       "    <tr>\n",
       "      <th>2</th>\n",
       "      <td>F</td>\n",
       "      <td>0.530</td>\n",
       "      <td>0.420</td>\n",
       "      <td>0.135</td>\n",
       "      <td>0.6770</td>\n",
       "      <td>0.2565</td>\n",
       "      <td>0.1415</td>\n",
       "      <td>0.210</td>\n",
       "      <td>9</td>\n",
       "    </tr>\n",
       "    <tr>\n",
       "      <th>3</th>\n",
       "      <td>M</td>\n",
       "      <td>0.440</td>\n",
       "      <td>0.365</td>\n",
       "      <td>0.125</td>\n",
       "      <td>0.5160</td>\n",
       "      <td>0.2155</td>\n",
       "      <td>0.1140</td>\n",
       "      <td>0.155</td>\n",
       "      <td>10</td>\n",
       "    </tr>\n",
       "    <tr>\n",
       "      <th>4</th>\n",
       "      <td>I</td>\n",
       "      <td>0.330</td>\n",
       "      <td>0.255</td>\n",
       "      <td>0.080</td>\n",
       "      <td>0.2050</td>\n",
       "      <td>0.0895</td>\n",
       "      <td>0.0395</td>\n",
       "      <td>0.055</td>\n",
       "      <td>7</td>\n",
       "    </tr>\n",
       "  </tbody>\n",
       "</table>\n",
       "</div>"
      ],
      "text/plain": [
       "  Sex  length  diameter  height  wholeweight  shuckedweight  visceraweight  \\\n",
       "0   M   0.455     0.365   0.095       0.5140         0.2245         0.1010   \n",
       "1   M   0.350     0.265   0.090       0.2255         0.0995         0.0485   \n",
       "2   F   0.530     0.420   0.135       0.6770         0.2565         0.1415   \n",
       "3   M   0.440     0.365   0.125       0.5160         0.2155         0.1140   \n",
       "4   I   0.330     0.255   0.080       0.2050         0.0895         0.0395   \n",
       "\n",
       "   shellweight  rings  \n",
       "0        0.150     15  \n",
       "1        0.070      7  \n",
       "2        0.210      9  \n",
       "3        0.155     10  \n",
       "4        0.055      7  "
      ]
     },
     "execution_count": 2,
     "metadata": {},
     "output_type": "execute_result"
    }
   ],
   "source": [
    "data=pd.read_csv('abalone.csv')\n",
    "data.head()"
   ]
  },
  {
   "cell_type": "code",
   "execution_count": 3,
   "metadata": {},
   "outputs": [
    {
     "data": {
      "text/plain": [
       "Sex               object\n",
       "length           float64\n",
       "diameter         float64\n",
       "height           float64\n",
       "wholeweight      float64\n",
       "shuckedweight    float64\n",
       "visceraweight    float64\n",
       "shellweight      float64\n",
       "rings              int64\n",
       "dtype: object"
      ]
     },
     "execution_count": 3,
     "metadata": {},
     "output_type": "execute_result"
    }
   ],
   "source": [
    "data.dtypes"
   ]
  },
  {
   "cell_type": "code",
   "execution_count": 4,
   "metadata": {},
   "outputs": [],
   "source": [
    "data['age']=data['rings']+1.5\n",
    "data.drop('rings',axis=1,inplace=True)"
   ]
  },
  {
   "cell_type": "code",
   "execution_count": 5,
   "metadata": {},
   "outputs": [
    {
     "data": {
      "text/html": [
       "<div>\n",
       "<style scoped>\n",
       "    .dataframe tbody tr th:only-of-type {\n",
       "        vertical-align: middle;\n",
       "    }\n",
       "\n",
       "    .dataframe tbody tr th {\n",
       "        vertical-align: top;\n",
       "    }\n",
       "\n",
       "    .dataframe thead th {\n",
       "        text-align: right;\n",
       "    }\n",
       "</style>\n",
       "<table border=\"1\" class=\"dataframe\">\n",
       "  <thead>\n",
       "    <tr style=\"text-align: right;\">\n",
       "      <th></th>\n",
       "      <th>Sex</th>\n",
       "      <th>length</th>\n",
       "      <th>diameter</th>\n",
       "      <th>height</th>\n",
       "      <th>wholeweight</th>\n",
       "      <th>shuckedweight</th>\n",
       "      <th>visceraweight</th>\n",
       "      <th>shellweight</th>\n",
       "      <th>age</th>\n",
       "    </tr>\n",
       "  </thead>\n",
       "  <tbody>\n",
       "    <tr>\n",
       "      <th>0</th>\n",
       "      <td>M</td>\n",
       "      <td>0.455</td>\n",
       "      <td>0.365</td>\n",
       "      <td>0.095</td>\n",
       "      <td>0.5140</td>\n",
       "      <td>0.2245</td>\n",
       "      <td>0.1010</td>\n",
       "      <td>0.150</td>\n",
       "      <td>16.5</td>\n",
       "    </tr>\n",
       "    <tr>\n",
       "      <th>1</th>\n",
       "      <td>M</td>\n",
       "      <td>0.350</td>\n",
       "      <td>0.265</td>\n",
       "      <td>0.090</td>\n",
       "      <td>0.2255</td>\n",
       "      <td>0.0995</td>\n",
       "      <td>0.0485</td>\n",
       "      <td>0.070</td>\n",
       "      <td>8.5</td>\n",
       "    </tr>\n",
       "    <tr>\n",
       "      <th>2</th>\n",
       "      <td>F</td>\n",
       "      <td>0.530</td>\n",
       "      <td>0.420</td>\n",
       "      <td>0.135</td>\n",
       "      <td>0.6770</td>\n",
       "      <td>0.2565</td>\n",
       "      <td>0.1415</td>\n",
       "      <td>0.210</td>\n",
       "      <td>10.5</td>\n",
       "    </tr>\n",
       "    <tr>\n",
       "      <th>3</th>\n",
       "      <td>M</td>\n",
       "      <td>0.440</td>\n",
       "      <td>0.365</td>\n",
       "      <td>0.125</td>\n",
       "      <td>0.5160</td>\n",
       "      <td>0.2155</td>\n",
       "      <td>0.1140</td>\n",
       "      <td>0.155</td>\n",
       "      <td>11.5</td>\n",
       "    </tr>\n",
       "    <tr>\n",
       "      <th>4</th>\n",
       "      <td>I</td>\n",
       "      <td>0.330</td>\n",
       "      <td>0.255</td>\n",
       "      <td>0.080</td>\n",
       "      <td>0.2050</td>\n",
       "      <td>0.0895</td>\n",
       "      <td>0.0395</td>\n",
       "      <td>0.055</td>\n",
       "      <td>8.5</td>\n",
       "    </tr>\n",
       "  </tbody>\n",
       "</table>\n",
       "</div>"
      ],
      "text/plain": [
       "  Sex  length  diameter  height  wholeweight  shuckedweight  visceraweight  \\\n",
       "0   M   0.455     0.365   0.095       0.5140         0.2245         0.1010   \n",
       "1   M   0.350     0.265   0.090       0.2255         0.0995         0.0485   \n",
       "2   F   0.530     0.420   0.135       0.6770         0.2565         0.1415   \n",
       "3   M   0.440     0.365   0.125       0.5160         0.2155         0.1140   \n",
       "4   I   0.330     0.255   0.080       0.2050         0.0895         0.0395   \n",
       "\n",
       "   shellweight   age  \n",
       "0        0.150  16.5  \n",
       "1        0.070   8.5  \n",
       "2        0.210  10.5  \n",
       "3        0.155  11.5  \n",
       "4        0.055   8.5  "
      ]
     },
     "execution_count": 5,
     "metadata": {},
     "output_type": "execute_result"
    }
   ],
   "source": [
    "data.head()"
   ]
  },
  {
   "cell_type": "code",
   "execution_count": 6,
   "metadata": {},
   "outputs": [
    {
     "data": {
      "text/plain": [
       "(4177, 9)"
      ]
     },
     "execution_count": 6,
     "metadata": {},
     "output_type": "execute_result"
    }
   ],
   "source": [
    "data.shape"
   ]
  },
  {
   "cell_type": "code",
   "execution_count": 7,
   "metadata": {},
   "outputs": [
    {
     "data": {
      "text/plain": [
       "Sex              0\n",
       "length           0\n",
       "diameter         0\n",
       "height           0\n",
       "wholeweight      0\n",
       "shuckedweight    0\n",
       "visceraweight    0\n",
       "shellweight      0\n",
       "age              0\n",
       "dtype: int64"
      ]
     },
     "execution_count": 7,
     "metadata": {},
     "output_type": "execute_result"
    }
   ],
   "source": [
    "data.isnull().sum()"
   ]
  },
  {
   "cell_type": "code",
   "execution_count": 8,
   "metadata": {},
   "outputs": [
    {
     "data": {
      "text/html": [
       "<div>\n",
       "<style scoped>\n",
       "    .dataframe tbody tr th:only-of-type {\n",
       "        vertical-align: middle;\n",
       "    }\n",
       "\n",
       "    .dataframe tbody tr th {\n",
       "        vertical-align: top;\n",
       "    }\n",
       "\n",
       "    .dataframe thead th {\n",
       "        text-align: right;\n",
       "    }\n",
       "</style>\n",
       "<table border=\"1\" class=\"dataframe\">\n",
       "  <thead>\n",
       "    <tr style=\"text-align: right;\">\n",
       "      <th></th>\n",
       "      <th>length</th>\n",
       "      <th>diameter</th>\n",
       "      <th>height</th>\n",
       "      <th>wholeweight</th>\n",
       "      <th>shuckedweight</th>\n",
       "      <th>visceraweight</th>\n",
       "      <th>shellweight</th>\n",
       "      <th>age</th>\n",
       "    </tr>\n",
       "  </thead>\n",
       "  <tbody>\n",
       "    <tr>\n",
       "      <th>count</th>\n",
       "      <td>4177.000000</td>\n",
       "      <td>4177.000000</td>\n",
       "      <td>4177.000000</td>\n",
       "      <td>4177.000000</td>\n",
       "      <td>4177.000000</td>\n",
       "      <td>4177.000000</td>\n",
       "      <td>4177.000000</td>\n",
       "      <td>4177.000000</td>\n",
       "    </tr>\n",
       "    <tr>\n",
       "      <th>mean</th>\n",
       "      <td>0.523992</td>\n",
       "      <td>0.407881</td>\n",
       "      <td>0.139516</td>\n",
       "      <td>0.828742</td>\n",
       "      <td>0.359367</td>\n",
       "      <td>0.180594</td>\n",
       "      <td>0.238831</td>\n",
       "      <td>11.433684</td>\n",
       "    </tr>\n",
       "    <tr>\n",
       "      <th>std</th>\n",
       "      <td>0.120093</td>\n",
       "      <td>0.099240</td>\n",
       "      <td>0.041827</td>\n",
       "      <td>0.490389</td>\n",
       "      <td>0.221963</td>\n",
       "      <td>0.109614</td>\n",
       "      <td>0.139203</td>\n",
       "      <td>3.224169</td>\n",
       "    </tr>\n",
       "    <tr>\n",
       "      <th>min</th>\n",
       "      <td>0.075000</td>\n",
       "      <td>0.055000</td>\n",
       "      <td>0.000000</td>\n",
       "      <td>0.002000</td>\n",
       "      <td>0.001000</td>\n",
       "      <td>0.000500</td>\n",
       "      <td>0.001500</td>\n",
       "      <td>2.500000</td>\n",
       "    </tr>\n",
       "    <tr>\n",
       "      <th>25%</th>\n",
       "      <td>0.450000</td>\n",
       "      <td>0.350000</td>\n",
       "      <td>0.115000</td>\n",
       "      <td>0.441500</td>\n",
       "      <td>0.186000</td>\n",
       "      <td>0.093500</td>\n",
       "      <td>0.130000</td>\n",
       "      <td>9.500000</td>\n",
       "    </tr>\n",
       "    <tr>\n",
       "      <th>50%</th>\n",
       "      <td>0.545000</td>\n",
       "      <td>0.425000</td>\n",
       "      <td>0.140000</td>\n",
       "      <td>0.799500</td>\n",
       "      <td>0.336000</td>\n",
       "      <td>0.171000</td>\n",
       "      <td>0.234000</td>\n",
       "      <td>10.500000</td>\n",
       "    </tr>\n",
       "    <tr>\n",
       "      <th>75%</th>\n",
       "      <td>0.615000</td>\n",
       "      <td>0.480000</td>\n",
       "      <td>0.165000</td>\n",
       "      <td>1.153000</td>\n",
       "      <td>0.502000</td>\n",
       "      <td>0.253000</td>\n",
       "      <td>0.329000</td>\n",
       "      <td>12.500000</td>\n",
       "    </tr>\n",
       "    <tr>\n",
       "      <th>max</th>\n",
       "      <td>0.815000</td>\n",
       "      <td>0.650000</td>\n",
       "      <td>1.130000</td>\n",
       "      <td>2.825500</td>\n",
       "      <td>1.488000</td>\n",
       "      <td>0.760000</td>\n",
       "      <td>1.005000</td>\n",
       "      <td>30.500000</td>\n",
       "    </tr>\n",
       "  </tbody>\n",
       "</table>\n",
       "</div>"
      ],
      "text/plain": [
       "            length     diameter       height  wholeweight  shuckedweight  \\\n",
       "count  4177.000000  4177.000000  4177.000000  4177.000000    4177.000000   \n",
       "mean      0.523992     0.407881     0.139516     0.828742       0.359367   \n",
       "std       0.120093     0.099240     0.041827     0.490389       0.221963   \n",
       "min       0.075000     0.055000     0.000000     0.002000       0.001000   \n",
       "25%       0.450000     0.350000     0.115000     0.441500       0.186000   \n",
       "50%       0.545000     0.425000     0.140000     0.799500       0.336000   \n",
       "75%       0.615000     0.480000     0.165000     1.153000       0.502000   \n",
       "max       0.815000     0.650000     1.130000     2.825500       1.488000   \n",
       "\n",
       "       visceraweight  shellweight          age  \n",
       "count    4177.000000  4177.000000  4177.000000  \n",
       "mean        0.180594     0.238831    11.433684  \n",
       "std         0.109614     0.139203     3.224169  \n",
       "min         0.000500     0.001500     2.500000  \n",
       "25%         0.093500     0.130000     9.500000  \n",
       "50%         0.171000     0.234000    10.500000  \n",
       "75%         0.253000     0.329000    12.500000  \n",
       "max         0.760000     1.005000    30.500000  "
      ]
     },
     "execution_count": 8,
     "metadata": {},
     "output_type": "execute_result"
    }
   ],
   "source": [
    "data.describe()"
   ]
  },
  {
   "cell_type": "code",
   "execution_count": 9,
   "metadata": {},
   "outputs": [
    {
     "data": {
      "text/plain": [
       "<matplotlib.axes._subplots.AxesSubplot at 0x19e16702748>"
      ]
     },
     "execution_count": 9,
     "metadata": {},
     "output_type": "execute_result"
    },
    {
     "data": {
      "image/png": "[encoded data removed]",
      "text/plain": [
       "<Figure size 432x288 with 1 Axes>"
      ]
     },
     "metadata": {
      "needs_background": "light"
     },
     "output_type": "display_data"
    }
   ],
   "source": [
    "sns.countplot(x='Sex',data=data)"
   ]
  },
  {
   "cell_type": "code",
   "execution_count": 10,
   "metadata": {},
   "outputs": [
    {
     "data": {
      "text/plain": [
       "<matplotlib.axes._subplots.AxesSubplot at 0x19e16a301d0>"
      ]
     },
     "execution_count": 10,
     "metadata": {},
     "output_type": "execute_result"
    },
    {
     "data": {
      "image/png": "[encoded data removed]",
      "text/plain": [
       "<Figure size 432x288 with 1 Axes>"
      ]
     },
     "metadata": {
      "needs_background": "light"
     },
     "output_type": "display_data"
    }
   ],
   "source": [
    "sns.distplot(data.length,bins=20)"
   ]
  },
  {
   "cell_type": "code",
   "execution_count": 11,
   "metadata": {},
   "outputs": [
    {
     "data": {
      "text/plain": [
       "<matplotlib.axes._subplots.AxesSubplot at 0x19e16a92b00>"
      ]
     },
     "execution_count": 11,
     "metadata": {},
     "output_type": "execute_result"
    },
    {
     "data": {
      "image/png": "[encoded data removed]",
      "text/plain": [
       "<Figure size 432x288 with 1 Axes>"
      ]
     },
     "metadata": {
      "needs_background": "light"
     },
     "output_type": "display_data"
    }
   ],
   "source": [
    "sns.distplot(data.diameter,bins=20)"
   ]
  },
  {
   "cell_type": "code",
   "execution_count": 12,
   "metadata": {},
   "outputs": [
    {
     "data": {
      "text/plain": [
       "<matplotlib.axes._subplots.AxesSubplot at 0x19e16ba5be0>"
      ]
     },
     "execution_count": 12,
     "metadata": {},
     "output_type": "execute_result"
    },
    {
     "data": {
      "image/png": "[encoded data removed]",
      "text/plain": [
       "<Figure size 432x288 with 1 Axes>"
      ]
     },
     "metadata": {
      "needs_background": "light"
     },
     "output_type": "display_data"
    }
   ],
   "source": [
    "sns.distplot(data.height,bins=5)"
   ]
  },
  {
   "cell_type": "code",
   "execution_count": 13,
   "metadata": {},
   "outputs": [
    {
     "data": {
      "text/plain": [
       "<matplotlib.axes._subplots.AxesSubplot at 0x19e16c0a128>"
      ]
     },
     "execution_count": 13,
     "metadata": {},
     "output_type": "execute_result"
    },
    {
     "data": {
      "image/png": "[encoded data removed]",
      "text/plain": [
       "<Figure size 432x288 with 1 Axes>"
      ]
     },
     "metadata": {
      "needs_background": "light"
     },
     "output_type": "display_data"
    }
   ],
   "source": [
    "sns.distplot(data.wholeweight,bins=20)"
   ]
  },
  {
   "cell_type": "code",
   "execution_count": 14,
   "metadata": {},
   "outputs": [
    {
     "data": {
      "text/plain": [
       "<matplotlib.axes._subplots.AxesSubplot at 0x19e16c95b00>"
      ]
     },
     "execution_count": 14,
     "metadata": {},
     "output_type": "execute_result"
    },
    {
     "data": {
      "image/png": "[encoded data removed]",
      "text/plain": [
       "<Figure size 432x288 with 1 Axes>"
      ]
     },
     "metadata": {
      "needs_background": "light"
     },
     "output_type": "display_data"
    }
   ],
   "source": [
    "sns.distplot(data.shuckedweight,bins=20)"
   ]
  },
  {
   "cell_type": "code",
   "execution_count": 15,
   "metadata": {},
   "outputs": [
    {
     "data": {
      "text/plain": [
       "<matplotlib.axes._subplots.AxesSubplot at 0x19e16cafef0>"
      ]
     },
     "execution_count": 15,
     "metadata": {},
     "output_type": "execute_result"
    },
    {
     "data": {
      "image/png": "[encoded data removed]",
      "text/plain": [
       "<Figure size 432x288 with 1 Axes>"
      ]
     },
     "metadata": {
      "needs_background": "light"
     },
     "output_type": "display_data"
    }
   ],
   "source": [
    "sns.distplot(data.visceraweight,bins=20)"
   ]
  },
  {
   "cell_type": "code",
   "execution_count": 16,
   "metadata": {},
   "outputs": [
    {
     "data": {
      "text/plain": [
       "<matplotlib.axes._subplots.AxesSubplot at 0x19e16dd2630>"
      ]
     },
     "execution_count": 16,
     "metadata": {},
     "output_type": "execute_result"
    },
    {
     "data": {
      "image/png": "[encoded data removed]",
      "text/plain": [
       "<Figure size 432x288 with 1 Axes>"
      ]
     },
     "metadata": {
      "needs_background": "light"
     },
     "output_type": "display_data"
    }
   ],
   "source": [
    "sns.distplot(data.shellweight,bins=20)"
   ]
  },
  {
   "cell_type": "code",
   "execution_count": 17,
   "metadata": {},
   "outputs": [
    {
     "data": {
      "text/plain": [
       "<matplotlib.axes._subplots.AxesSubplot at 0x19e16e73da0>"
      ]
     },
     "execution_count": 17,
     "metadata": {},
     "output_type": "execute_result"
    },
    {
     "data": {
      "image/png": "[encoded data removed]",
      "text/plain": [
       "<Figure size 432x288 with 1 Axes>"
      ]
     },
     "metadata": {
      "needs_background": "light"
     },
     "output_type": "display_data"
    }
   ],
   "source": [
    "sns.distplot(data.age,bins=20)"
   ]
  },
  {
   "cell_type": "code",
   "execution_count": 18,
   "metadata": {},
   "outputs": [
    {
     "data": {
      "text/plain": [
       "<matplotlib.collections.PathCollection at 0x19e16f2ce80>"
      ]
     },
     "execution_count": 18,
     "metadata": {},
     "output_type": "execute_result"
    },
    {
     "data": {
      "image/png": "[encoded data removed]",
      "text/plain": [
       "<Figure size 432x288 with 1 Axes>"
      ]
     },
     "metadata": {
      "needs_background": "light"
     },
     "output_type": "display_data"
    }
   ],
   "source": [
    "plt.scatter(data['length'],data['age'])"
   ]
  },
  {
   "cell_type": "code",
   "execution_count": 19,
   "metadata": {},
   "outputs": [
    {
     "data": {
      "text/plain": [
       "<matplotlib.collections.PathCollection at 0x19e16f9dda0>"
      ]
     },
     "execution_count": 19,
     "metadata": {},
     "output_type": "execute_result"
    },
    {
     "data": {
      "image/png": "[encoded data removed]",
      "text/plain": [
       "<Figure size 432x288 with 1 Axes>"
      ]
     },
     "metadata": {
      "needs_background": "light"
     },
     "output_type": "display_data"
    }
   ],
   "source": [
    "plt.scatter(data['diameter'],data['age'])"
   ]
  },
  {
   "cell_type": "code",
   "execution_count": 20,
   "metadata": {},
   "outputs": [
    {
     "data": {
      "text/plain": [
       "<matplotlib.collections.PathCollection at 0x19e17002358>"
      ]
     },
     "execution_count": 20,
     "metadata": {},
     "output_type": "execute_result"
    },
    {
     "data": {
      "image/png": "[encoded data removed]",
      "text/plain": [
       "<Figure size 432x288 with 1 Axes>"
      ]
     },
     "metadata": {
      "needs_background": "light"
     },
     "output_type": "display_data"
    }
   ],
   "source": [
    "plt.scatter(data['height'],data['age'])"
   ]
  },
  {
   "cell_type": "code",
   "execution_count": 21,
   "metadata": {},
   "outputs": [
    {
     "data": {
      "text/plain": [
       "<matplotlib.collections.PathCollection at 0x19e1705d710>"
      ]
     },
     "execution_count": 21,
     "metadata": {},
     "output_type": "execute_result"
    },
    {
     "data": {
      "image/png": "[encoded data removed]",
      "text/plain": [
       "<Figure size 432x288 with 1 Axes>"
      ]
     },
     "metadata": {
      "needs_background": "light"
     },
     "output_type": "display_data"
    }
   ],
   "source": [
    "plt.scatter(data['wholeweight'],data['age'])"
   ]
  },
  {
   "cell_type": "code",
   "execution_count": 22,
   "metadata": {},
   "outputs": [
    {
     "data": {
      "text/plain": [
       "<matplotlib.collections.PathCollection at 0x19e170b6c18>"
      ]
     },
     "execution_count": 22,
     "metadata": {},
     "output_type": "execute_result"
    },
    {
     "data": {
      "image/png": "[encoded data removed]",
      "text/plain": [
       "<Figure size 432x288 with 1 Axes>"
      ]
     },
     "metadata": {
      "needs_background": "light"
     },
     "output_type": "display_data"
    }
   ],
   "source": [
    "plt.scatter(data['shuckedweight'],data['age'])"
   ]
  },
  {
   "cell_type": "code",
   "execution_count": 23,
   "metadata": {},
   "outputs": [
    {
     "data": {
      "text/plain": [
       "<matplotlib.collections.PathCollection at 0x19e17120c18>"
      ]
     },
     "execution_count": 23,
     "metadata": {},
     "output_type": "execute_result"
    },
    {
     "data": {
      "image/png": "[encoded data removed]",
      "text/plain": [
       "<Figure size 432x288 with 1 Axes>"
      ]
     },
     "metadata": {
      "needs_background": "light"
     },
     "output_type": "display_data"
    }
   ],
   "source": [
    "plt.scatter(data['visceraweight'],data['age'])"
   ]
  },
  {
   "cell_type": "code",
   "execution_count": 24,
   "metadata": {},
   "outputs": [
    {
     "data": {
      "text/plain": [
       "<matplotlib.collections.PathCollection at 0x19e1718c0f0>"
      ]
     },
     "execution_count": 24,
     "metadata": {},
     "output_type": "execute_result"
    },
    {
     "data": {
      "image/png": "[encoded data removed]",
      "text/plain": [
       "<Figure size 432x288 with 1 Axes>"
      ]
     },
     "metadata": {
      "needs_background": "light"
     },
     "output_type": "display_data"
    }
   ],
   "source": [
    "plt.scatter(data['shellweight'],data['age'])"
   ]
  },
  {
   "cell_type": "code",
   "execution_count": 25,
   "metadata": {},
   "outputs": [
    {
     "data": {
      "text/plain": [
       "length          -0.639873\n",
       "diameter        -0.609198\n",
       "height           3.128817\n",
       "wholeweight      0.530959\n",
       "shuckedweight    0.719098\n",
       "visceraweight    0.591852\n",
       "shellweight      0.620927\n",
       "age              1.114102\n",
       "dtype: float64"
      ]
     },
     "execution_count": 25,
     "metadata": {},
     "output_type": "execute_result"
    }
   ],
   "source": [
    "data.skew()"
   ]
  },
  {
   "cell_type": "code",
   "execution_count": 27,
   "metadata": {},
   "outputs": [],
   "source": [
    "data_copy=data.drop(['Sex','age'],axis=1)\n",
    "for col in data_copy.columns:\n",
    "    if data.skew().loc[col]>0.55:\n",
    "        data[col]=np.log1p(data[col])"
   ]
  },
  {
   "cell_type": "code",
   "execution_count": 28,
   "metadata": {},
   "outputs": [
    {
     "data": {
      "text/plain": [
       "length          -0.639873\n",
       "diameter        -0.609198\n",
       "height           1.099602\n",
       "wholeweight      0.530959\n",
       "shuckedweight    0.306439\n",
       "visceraweight    0.375637\n",
       "shellweight      0.315321\n",
       "age              1.114102\n",
       "dtype: float64"
      ]
     },
     "execution_count": 28,
     "metadata": {},
     "output_type": "execute_result"
    }
   ],
   "source": [
    "data.skew()"
   ]
  },
  {
   "cell_type": "code",
   "execution_count": 29,
   "metadata": {},
   "outputs": [
    {
     "data": {
      "text/plain": [
       "0       16.5\n",
       "1        8.5\n",
       "2       10.5\n",
       "3       11.5\n",
       "4        8.5\n",
       "5        9.5\n",
       "6       21.5\n",
       "7       17.5\n",
       "8       10.5\n",
       "9       20.5\n",
       "10      15.5\n",
       "11      11.5\n",
       "12      12.5\n",
       "13      11.5\n",
       "14      11.5\n",
       "15      13.5\n",
       "16       8.5\n",
       "17      11.5\n",
       "18       8.5\n",
       "19      10.5\n",
       "20      12.5\n",
       "21      11.5\n",
       "22      13.5\n",
       "23      10.5\n",
       "24      11.5\n",
       "25      12.5\n",
       "26      12.5\n",
       "27      13.5\n",
       "28      16.5\n",
       "29      12.5\n",
       "        ... \n",
       "4147    12.5\n",
       "4148    12.5\n",
       "4149     7.5\n",
       "4150     8.5\n",
       "4151     7.5\n",
       "4152     8.5\n",
       "4153     9.5\n",
       "4154     7.5\n",
       "4155     7.5\n",
       "4156     9.5\n",
       "4157     9.5\n",
       "4158     9.5\n",
       "4159    10.5\n",
       "4160    12.5\n",
       "4161    12.5\n",
       "4162     9.5\n",
       "4163     8.5\n",
       "4164     8.5\n",
       "4165     8.5\n",
       "4166    11.5\n",
       "4167    10.5\n",
       "4168     9.5\n",
       "4169    11.5\n",
       "4170    11.5\n",
       "4171     9.5\n",
       "4172    12.5\n",
       "4173    11.5\n",
       "4174    10.5\n",
       "4175    11.5\n",
       "4176    13.5\n",
       "Name: age, Length: 4177, dtype: float64"
      ]
     },
     "execution_count": 29,
     "metadata": {},
     "output_type": "execute_result"
    }
   ],
   "source": [
    "data['age']"
   ]
  },
  {
   "cell_type": "code",
   "execution_count": 30,
   "metadata": {},
   "outputs": [
    {
     "data": {
      "image/png": "[encoded data removed]",
      "text/plain": [
       "<Figure size 576x504 with 2 Axes>"
      ]
     },
     "metadata": {
      "needs_background": "light"
     },
     "output_type": "display_data"
    }
   ],
   "source": [
    "plt.figure(figsize=(8,7))\n",
    "corr_hmap=data.corr()\n",
    "sns.heatmap(corr_hmap,annot=True)\n",
    "plt.show()"
   ]
  },
  {
   "cell_type": "code",
   "execution_count": 31,
   "metadata": {},
   "outputs": [],
   "source": [
    "data=pd.get_dummies(data,drop_first=True)"
   ]
  },
  {
   "cell_type": "code",
   "execution_count": 32,
   "metadata": {},
   "outputs": [
    {
     "data": {
      "text/html": [
       "<div>\n",
       "<style scoped>\n",
       "    .dataframe tbody tr th:only-of-type {\n",
       "        vertical-align: middle;\n",
       "    }\n",
       "\n",
       "    .dataframe tbody tr th {\n",
       "        vertical-align: top;\n",
       "    }\n",
       "\n",
       "    .dataframe thead th {\n",
       "        text-align: right;\n",
       "    }\n",
       "</style>\n",
       "<table border=\"1\" class=\"dataframe\">\n",
       "  <thead>\n",
       "    <tr style=\"text-align: right;\">\n",
       "      <th></th>\n",
       "      <th>length</th>\n",
       "      <th>diameter</th>\n",
       "      <th>height</th>\n",
       "      <th>wholeweight</th>\n",
       "      <th>shuckedweight</th>\n",
       "      <th>visceraweight</th>\n",
       "      <th>shellweight</th>\n",
       "      <th>age</th>\n",
       "      <th>Sex_I</th>\n",
       "      <th>Sex_M</th>\n",
       "    </tr>\n",
       "  </thead>\n",
       "  <tbody>\n",
       "    <tr>\n",
       "      <th>0</th>\n",
       "      <td>0.455</td>\n",
       "      <td>0.365</td>\n",
       "      <td>0.090754</td>\n",
       "      <td>0.5140</td>\n",
       "      <td>0.202533</td>\n",
       "      <td>0.096219</td>\n",
       "      <td>0.139762</td>\n",
       "      <td>16.5</td>\n",
       "      <td>0</td>\n",
       "      <td>1</td>\n",
       "    </tr>\n",
       "    <tr>\n",
       "      <th>1</th>\n",
       "      <td>0.350</td>\n",
       "      <td>0.265</td>\n",
       "      <td>0.086178</td>\n",
       "      <td>0.2255</td>\n",
       "      <td>0.094856</td>\n",
       "      <td>0.047361</td>\n",
       "      <td>0.067659</td>\n",
       "      <td>8.5</td>\n",
       "      <td>0</td>\n",
       "      <td>1</td>\n",
       "    </tr>\n",
       "    <tr>\n",
       "      <th>2</th>\n",
       "      <td>0.530</td>\n",
       "      <td>0.420</td>\n",
       "      <td>0.126633</td>\n",
       "      <td>0.6770</td>\n",
       "      <td>0.228330</td>\n",
       "      <td>0.132343</td>\n",
       "      <td>0.190620</td>\n",
       "      <td>10.5</td>\n",
       "      <td>0</td>\n",
       "      <td>0</td>\n",
       "    </tr>\n",
       "    <tr>\n",
       "      <th>3</th>\n",
       "      <td>0.440</td>\n",
       "      <td>0.365</td>\n",
       "      <td>0.117783</td>\n",
       "      <td>0.5160</td>\n",
       "      <td>0.195156</td>\n",
       "      <td>0.107957</td>\n",
       "      <td>0.144100</td>\n",
       "      <td>11.5</td>\n",
       "      <td>0</td>\n",
       "      <td>1</td>\n",
       "    </tr>\n",
       "    <tr>\n",
       "      <th>4</th>\n",
       "      <td>0.330</td>\n",
       "      <td>0.255</td>\n",
       "      <td>0.076961</td>\n",
       "      <td>0.2050</td>\n",
       "      <td>0.085719</td>\n",
       "      <td>0.038740</td>\n",
       "      <td>0.053541</td>\n",
       "      <td>8.5</td>\n",
       "      <td>1</td>\n",
       "      <td>0</td>\n",
       "    </tr>\n",
       "  </tbody>\n",
       "</table>\n",
       "</div>"
      ],
      "text/plain": [
       "   length  diameter    height  wholeweight  shuckedweight  visceraweight  \\\n",
       "0   0.455     0.365  0.090754       0.5140       0.202533       0.096219   \n",
       "1   0.350     0.265  0.086178       0.2255       0.094856       0.047361   \n",
       "2   0.530     0.420  0.126633       0.6770       0.228330       0.132343   \n",
       "3   0.440     0.365  0.117783       0.5160       0.195156       0.107957   \n",
       "4   0.330     0.255  0.076961       0.2050       0.085719       0.038740   \n",
       "\n",
       "   shellweight   age  Sex_I  Sex_M  \n",
       "0     0.139762  16.5      0      1  \n",
       "1     0.067659   8.5      0      1  \n",
       "2     0.190620  10.5      0      0  \n",
       "3     0.144100  11.5      0      1  \n",
       "4     0.053541   8.5      1      0  "
      ]
     },
     "execution_count": 32,
     "metadata": {},
     "output_type": "execute_result"
    }
   ],
   "source": [
    "data.head()"
   ]
  },
  {
   "cell_type": "code",
   "execution_count": 33,
   "metadata": {},
   "outputs": [
    {
     "name": "stdout",
     "output_type": "stream",
     "text": [
      "(array([   6,   72,   83,  129,  163,  164,  165,  165,  166,  166,  167,\n",
      "        168,  181,  232,  236,  236,  236,  237,  237,  238,  238,  239,\n",
      "        270,  275,  278,  294,  310,  313,  314,  351,  355,  358,  362,\n",
      "        375,  416,  417,  428,  431,  433,  469,  478,  480,  501,  526,\n",
      "        526,  530,  572,  628,  673,  674,  675,  678,  694,  694,  696,\n",
      "        696,  719,  719,  720,  720,  744,  754,  756,  811,  891,  891,\n",
      "       1051, 1052, 1174, 1204, 1207, 1207, 1209, 1209, 1257, 1417, 1422,\n",
      "       1427, 1427, 1428, 1429, 1429, 1528, 1762, 1762, 1763, 1763, 1763,\n",
      "       1986, 1987, 1987, 2051, 2108, 2108, 2114, 2114, 2157, 2161, 2169,\n",
      "       2176, 2180, 2199, 2201, 2209, 2275, 2305, 2334, 2334, 2334, 2335,\n",
      "       2344, 2358, 2381, 2436, 2459, 2471, 2623, 2624, 2811, 2811, 2862,\n",
      "       2863, 3007, 3008, 3140, 3149, 3151, 3151, 3193, 3280, 3359, 3427,\n",
      "       3427, 3599, 3599, 3713, 3715, 3715, 3715, 3800, 3837, 3899, 3899,\n",
      "       3902, 3902, 3924, 3930, 3944, 3996], dtype=int64), array([7, 7, 7, 6, 6, 6, 3, 6, 6, 7, 7, 6, 7, 7, 0, 1, 2, 0, 1, 0, 1, 0,\n",
      "       7, 7, 7, 7, 7, 7, 7, 7, 7, 3, 7, 7, 7, 7, 7, 7, 7, 7, 7, 7, 7, 0,\n",
      "       1, 7, 7, 7, 7, 7, 7, 7, 1, 2, 0, 1, 0, 1, 0, 1, 7, 7, 7, 7, 3, 6,\n",
      "       3, 3, 2, 5, 3, 4, 3, 4, 2, 2, 5, 3, 4, 6, 0, 1, 4, 3, 5, 3, 4, 5,\n",
      "       0, 0, 1, 2, 6, 7, 0, 1, 6, 6, 2, 7, 7, 7, 7, 7, 7, 7, 3, 5, 7, 7,\n",
      "       7, 7, 0, 7, 7, 7, 3, 3, 3, 4, 4, 3, 4, 6, 7, 7, 6, 7, 7, 7, 7, 3,\n",
      "       5, 3, 4, 4, 3, 4, 5, 3, 1, 0, 1, 0, 2, 7, 7, 7, 2], dtype=int64))\n"
     ]
    }
   ],
   "source": [
    "from scipy.stats import zscore\n",
    "z=abs(zscore(data))\n",
    "print(np.where(z>3))"
   ]
  },
  {
   "cell_type": "code",
   "execution_count": 34,
   "metadata": {},
   "outputs": [],
   "source": [
    "data_cleaned=data[(z<3).all(axis=1)]"
   ]
  },
  {
   "cell_type": "code",
   "execution_count": 35,
   "metadata": {},
   "outputs": [],
   "source": [
    "data=data_cleaned"
   ]
  },
  {
   "cell_type": "code",
   "execution_count": 36,
   "metadata": {},
   "outputs": [],
   "source": [
    "data_inp=data.drop('age',axis=1)\n",
    "data_op=data.age"
   ]
  },
  {
   "cell_type": "code",
   "execution_count": 40,
   "metadata": {},
   "outputs": [],
   "source": [
    "from sklearn.model_selection import train_test_split as tts\n",
    "from sklearn.metrics import r2_score"
   ]
  },
  {
   "cell_type": "code",
   "execution_count": 41,
   "metadata": {},
   "outputs": [
    {
     "name": "stdout",
     "output_type": "stream",
     "text": [
      "at random state 0 r2score is:0.5287576870098776\n",
      "at random state 1 r2score is:0.5187108628462742\n",
      "at random state 2 r2score is:0.5361760747295325\n",
      "at random state 3 r2score is:0.5448054743109574\n",
      "at random state 4 r2score is:0.5354535773744371\n",
      "at random state 5 r2score is:0.534768098822872\n",
      "at random state 6 r2score is:0.48738806622939923\n",
      "at random state 7 r2score is:0.522890704936861\n",
      "at random state 8 r2score is:0.5222437066688734\n",
      "at random state 9 r2score is:0.4869342897530339\n",
      "at random state 10 r2score is:0.5203515292825535\n",
      "at random state 11 r2score is:0.5345751099531553\n",
      "at random state 12 r2score is:0.5237243969118673\n",
      "at random state 13 r2score is:0.5263434131560867\n",
      "at random state 14 r2score is:0.5226559037814686\n",
      "at random state 15 r2score is:0.5117370137359306\n",
      "at random state 16 r2score is:0.5584202910802565\n",
      "at random state 17 r2score is:0.5460024573803628\n",
      "at random state 18 r2score is:0.5242494654217984\n",
      "at random state 19 r2score is:0.5504488289628231\n",
      "at random state 20 r2score is:0.5467007847431113\n",
      "at random state 21 r2score is:0.5111169668814559\n",
      "at random state 22 r2score is:0.5255862822875573\n",
      "at random state 23 r2score is:0.5353470719294401\n",
      "at random state 24 r2score is:0.518856440946937\n",
      "at random state 25 r2score is:0.5371192234434755\n",
      "at random state 26 r2score is:0.5439712577840179\n",
      "at random state 27 r2score is:0.5169928508868251\n",
      "at random state 28 r2score is:0.5474160154816141\n",
      "at random state 29 r2score is:0.5028632313268918\n",
      "at random state 30 r2score is:0.5164903739606825\n",
      "at random state 31 r2score is:0.5022393510023964\n",
      "at random state 32 r2score is:0.542891543387577\n",
      "at random state 33 r2score is:0.5397407871625586\n",
      "at random state 34 r2score is:0.5513153925810721\n",
      "at random state 35 r2score is:0.5648048559799076\n",
      "at random state 36 r2score is:0.5638677253166113\n",
      "at random state 37 r2score is:0.5243253828218972\n",
      "at random state 38 r2score is:0.5367340968984691\n",
      "at random state 39 r2score is:0.5183076284778034\n",
      "at random state 40 r2score is:0.5141937703652963\n",
      "at random state 41 r2score is:0.48631595879346834\n",
      "at random state 42 r2score is:0.5278326216212694\n",
      "at random state 43 r2score is:0.535150524629826\n",
      "at random state 44 r2score is:0.5115099099844904\n",
      "at random state 45 r2score is:0.5479847404327558\n",
      "at random state 46 r2score is:0.505912711192624\n",
      "at random state 47 r2score is:0.49328837238466705\n",
      "at random state 48 r2score is:0.5270340653195686\n",
      "at random state 49 r2score is:0.4970543242560186\n",
      "at random state 50 r2score is:0.5383540167345151\n",
      "at random state 51 r2score is:0.533748977558258\n",
      "at random state 52 r2score is:0.5618500072178682\n",
      "at random state 53 r2score is:0.4772237962647441\n",
      "at random state 54 r2score is:0.5180065672386351\n",
      "at random state 55 r2score is:0.5449879880962185\n",
      "at random state 56 r2score is:0.5310774951426387\n",
      "at random state 57 r2score is:0.5532182238962672\n",
      "at random state 58 r2score is:0.5491524032256958\n",
      "at random state 59 r2score is:0.5077280096514245\n",
      "at random state 60 r2score is:0.5029201165707358\n",
      "at random state 61 r2score is:0.5132441331637498\n",
      "at random state 62 r2score is:0.5139122812853902\n",
      "at random state 63 r2score is:0.5308239501337579\n",
      "at random state 64 r2score is:0.5285558131483343\n",
      "at random state 65 r2score is:0.5206668746055597\n",
      "at random state 66 r2score is:0.5255555120871556\n",
      "at random state 67 r2score is:0.5303568028683205\n",
      "at random state 68 r2score is:0.5128964041846189\n",
      "at random state 69 r2score is:0.5294873238504183\n",
      "at random state 70 r2score is:0.5336182091578682\n",
      "at random state 71 r2score is:0.5476269535665674\n",
      "at random state 72 r2score is:0.5067192861529956\n",
      "at random state 73 r2score is:0.5239076849025494\n",
      "at random state 74 r2score is:0.5074702025004163\n",
      "at random state 75 r2score is:0.5154122950478688\n",
      "at random state 76 r2score is:0.5210955560765691\n",
      "at random state 77 r2score is:0.522836626261033\n",
      "at random state 78 r2score is:0.5426696634920899\n",
      "at random state 79 r2score is:0.5278218304881552\n",
      "at random state 80 r2score is:0.5285727783093003\n",
      "at random state 81 r2score is:0.5444077898184478\n",
      "at random state 82 r2score is:0.5259802319289222\n",
      "at random state 83 r2score is:0.5120037741874662\n",
      "at random state 84 r2score is:0.5247782027908482\n",
      "at random state 85 r2score is:0.5600056931845727\n",
      "at random state 86 r2score is:0.551199846427124\n",
      "at random state 87 r2score is:0.5119983667294072\n",
      "at random state 88 r2score is:0.49928941615164957\n",
      "at random state 89 r2score is:0.543838251124255\n",
      "at random state 90 r2score is:0.5066962331791295\n",
      "at random state 91 r2score is:0.4835615838278531\n",
      "at random state 92 r2score is:0.49836339426959075\n",
      "at random state 93 r2score is:0.5159187885570995\n",
      "at random state 94 r2score is:0.5363335117981816\n",
      "at random state 95 r2score is:0.49855659278759845\n",
      "at random state 96 r2score is:0.5234845865578321\n",
      "at random state 97 r2score is:0.5036174210628301\n",
      "at random state 98 r2score is:0.5406321005532408\n",
      "at random state 99 r2score is:0.5514659027688426\n"
     ]
    }
   ],
   "source": [
    "from sklearn.linear_model import LinearRegression\n",
    "from sklearn.metrics import mean_squared_error as mse\n",
    "lr=LinearRegression()\n",
    "for i in range(0,100):\n",
    "    x_train,x_test,y_train,y_test=tts(data_inp,data_op,stratify=data_op,random_state=i,test_size=0.2)\n",
    "    lr.fit(x_train,y_train)\n",
    "    y_pred=lr.predict(x_test)\n",
    "    rscore=r2_score(y_test,y_pred)\n",
    "    print('at random state {} r2score is:{}'.format(i,rscore))\n",
    "    "
   ]
  },
  {
   "cell_type": "code",
   "execution_count": 42,
   "metadata": {},
   "outputs": [
    {
     "name": "stdout",
     "output_type": "stream",
     "text": [
      "1.9358099844730627 1.9862893643255428\n"
     ]
    }
   ],
   "source": [
    "x_train,x_test,y_train,y_test=tts(data_inp,data_op,stratify=data_op,random_state=3,test_size=0.2)\n",
    "lr.fit(x_train,y_train)\n",
    "y_pred=lr.predict(x_test)\n",
    "train_pred=lr.predict(x_train)\n",
    "error=np.sqrt(mse(y_test,y_pred))\n",
    "error1=np.sqrt(mse(y_train,train_pred))\n",
    "print(error,error1)"
   ]
  },
  {
   "cell_type": "code",
   "execution_count": 43,
   "metadata": {},
   "outputs": [
    {
     "data": {
      "text/plain": [
       "0.5207177952183075"
      ]
     },
     "execution_count": 43,
     "metadata": {},
     "output_type": "execute_result"
    }
   ],
   "source": [
    "lr.score(x_train,y_train)"
   ]
  },
  {
   "cell_type": "code",
   "execution_count": 44,
   "metadata": {},
   "outputs": [
    {
     "data": {
      "text/plain": [
       "0.5448054743109574"
      ]
     },
     "execution_count": 44,
     "metadata": {},
     "output_type": "execute_result"
    }
   ],
   "source": [
    "lr.score(x_test,y_test)"
   ]
  },
  {
   "cell_type": "code",
   "execution_count": 45,
   "metadata": {},
   "outputs": [
    {
     "name": "stdout",
     "output_type": "stream",
     "text": [
      "0.5448054743109574\n"
     ]
    }
   ],
   "source": [
    "from sklearn.metrics import r2_score\n",
    "print(r2_score(y_test,y_pred))\n",
    "    "
   ]
  },
  {
   "cell_type": "code",
   "execution_count": 50,
   "metadata": {},
   "outputs": [],
   "source": [
    "from sklearn.preprocessing import StandardScaler\n",
    "sc=StandardScaler()\n",
    "X_train=sc.fit_transform(x_train)\n",
    "X_test=sc.transform(x_test)\n",
    "x_train=pd.DataFrame(data=X_train,columns=data_inp.columns)\n",
    "x_test=pd.DataFrame(data=X_test,columns=data_inp.columns)"
   ]
  },
  {
   "cell_type": "code",
   "execution_count": 51,
   "metadata": {},
   "outputs": [
    {
     "name": "stdout",
     "output_type": "stream",
     "text": [
      "1.9358099844730627 1.9862893643255428\n"
     ]
    }
   ],
   "source": [
    "from sklearn.linear_model import LinearRegression\n",
    "from sklearn.metrics import mean_squared_error as mse\n",
    "lr=LinearRegression()\n",
    "lr.fit(x_train,y_train)\n",
    "y_pred=lr.predict(x_test)\n",
    "train_pred=lr.predict(x_train)\n",
    "error=np.sqrt(mse(y_test,y_pred))\n",
    "error1=np.sqrt(mse(y_train,train_pred))\n",
    "print(error,error1)"
   ]
  },
  {
   "cell_type": "code",
   "execution_count": 53,
   "metadata": {},
   "outputs": [
    {
     "data": {
      "text/plain": [
       "0.5207177952183075"
      ]
     },
     "execution_count": 53,
     "metadata": {},
     "output_type": "execute_result"
    }
   ],
   "source": [
    "lr.score(x_train,y_train)"
   ]
  },
  {
   "cell_type": "code",
   "execution_count": 49,
   "metadata": {},
   "outputs": [
    {
     "data": {
      "text/plain": [
       "0.5448054743109574"
      ]
     },
     "execution_count": 49,
     "metadata": {},
     "output_type": "execute_result"
    }
   ],
   "source": [
    "lr.score(x_test,y_test)"
   ]
  },
  {
   "cell_type": "code",
   "execution_count": null,
   "metadata": {},
   "outputs": [],
   "source": [
    "print(r2_score(y_test,y_pred))"
   ]
  },
  {
   "cell_type": "code",
   "execution_count": 54,
   "metadata": {},
   "outputs": [
    {
     "data": {
      "text/plain": [
       "0.5448054743109574"
      ]
     },
     "execution_count": 54,
     "metadata": {},
     "output_type": "execute_result"
    }
   ],
   "source": [
    "from sklearn.linear_model import Ridge\n",
    "Ridge=Ridge()\n",
    "Ridge.fit(x_train,y_train)\n",
    "y_pred=lr.predict(x_test)\n",
    "rscore=r2_score(y_test,y_pred)\n",
    "rscorefrom sklearn.metrics import r2_score"
   ]
  },
  {
   "cell_type": "code",
   "execution_count": 55,
   "metadata": {},
   "outputs": [],
   "source": [
    "from sklearn.model_selection import cross_val_score as cvs\n",
    "\n"
   ]
  },
  {
   "cell_type": "code",
   "execution_count": 56,
   "metadata": {},
   "outputs": [
    {
     "name": "stdout",
     "output_type": "stream",
     "text": [
      "cv result is  0.5168278593471443 for cv: 5\n",
      "cv result is  0.5165767834699552 for cv: 6\n",
      "cv result is  0.516619064817773 for cv: 7\n",
      "cv result is  0.5156340285136367 for cv: 8\n",
      "cv result is  0.5151578400622463 for cv: 9\n",
      "cv result is  0.5147519728593469 for cv: 10\n",
      "cv result is  0.5144479554922103 for cv: 11\n",
      "cv result is  0.5148306423727582 for cv: 12\n",
      "cv result is  0.5152452668465841 for cv: 13\n",
      "cv result is  0.5155669048519634 for cv: 14\n",
      "cv result is  0.5141701559647603 for cv: 15\n",
      "cv result is  0.5145120924455859 for cv: 16\n",
      "cv result is  0.5152829007358667 for cv: 17\n",
      "cv result is  0.5143722992351625 for cv: 18\n",
      "cv result is  0.5140802390995003 for cv: 19\n",
      "max cv is: 0.5168278593471443 at cv: 5\n"
     ]
    }
   ],
   "source": [
    "max_cv=0\n",
    "for i in range(5,20):\n",
    "    cv_res=cvs(Ridge,x_train,y_train,scoring='r2',cv=i,n_jobs=-1)\n",
    "    print('cv result is ',np.mean(cv_res),'for cv:',i)\n",
    "    if np.mean(cv_res)>max_cv:\n",
    "        max_cv=np.mean(cv_res)\n",
    "        final_cv=i\n",
    "print('max cv is:',max_cv,'at cv:',final_cv)\n",
    "        "
   ]
  },
  {
   "cell_type": "code",
   "execution_count": 57,
   "metadata": {},
   "outputs": [],
   "source": [
    "from sklearn.metrics import SCORERS"
   ]
  },
  {
   "cell_type": "code",
   "execution_count": 58,
   "metadata": {},
   "outputs": [
    {
     "data": {
      "text/plain": [
       "dict_keys(['explained_variance', 'r2', 'max_error', 'neg_median_absolute_error', 'neg_mean_absolute_error', 'neg_mean_squared_error', 'neg_mean_squared_log_error', 'accuracy', 'roc_auc', 'balanced_accuracy', 'average_precision', 'neg_log_loss', 'brier_score_loss', 'adjusted_rand_score', 'homogeneity_score', 'completeness_score', 'v_measure_score', 'mutual_info_score', 'adjusted_mutual_info_score', 'normalized_mutual_info_score', 'fowlkes_mallows_score', 'precision', 'precision_macro', 'precision_micro', 'precision_samples', 'precision_weighted', 'recall', 'recall_macro', 'recall_micro', 'recall_samples', 'recall_weighted', 'f1', 'f1_macro', 'f1_micro', 'f1_samples', 'f1_weighted', 'jaccard', 'jaccard_macro', 'jaccard_micro', 'jaccard_samples', 'jaccard_weighted'])"
      ]
     },
     "execution_count": 58,
     "metadata": {},
     "output_type": "execute_result"
    }
   ],
   "source": [
    "SCORERS.keys()"
   ]
  },
  {
   "cell_type": "code",
   "execution_count": 59,
   "metadata": {},
   "outputs": [
    {
     "data": {
      "text/plain": [
       "0.5399782940629416"
      ]
     },
     "execution_count": 59,
     "metadata": {},
     "output_type": "execute_result"
    }
   ],
   "source": [
    "from sklearn.neighbors import KNeighborsRegressor\n",
    "KNR=KNeighborsRegressor(n_neighbors=8)\n",
    "KNR.fit(x_train,y_train)\n",
    "y_pred=KNR.predict(x_test)\n",
    "rscore=r2_score(y_test,y_pred)\n",
    "rscore"
   ]
  },
  {
   "cell_type": "code",
   "execution_count": 60,
   "metadata": {},
   "outputs": [
    {
     "name": "stdout",
     "output_type": "stream",
     "text": [
      "rscore at 0 is: 0.530322718757968\n",
      "rscore at 1 is: 0.539823463782662\n",
      "rscore at 2 is: 0.5302404417974329\n",
      "rscore at 3 is: 0.526539474518092\n",
      "rscore at 4 is: 0.5435304148409508\n",
      "rscore at 5 is: 0.5300190419763567\n",
      "rscore at 6 is: 0.5248176421258037\n",
      "rscore at 7 is: 0.5269104688128683\n",
      "rscore at 8 is: 0.5360656506033152\n",
      "rscore at 9 is: 0.5417008744275984\n",
      "rscore at 10 is: 0.5307490630080132\n",
      "rscore at 11 is: 0.5269912498286664\n",
      "rscore at 12 is: 0.5069605498002214\n",
      "rscore at 13 is: 0.5334312919214562\n",
      "rscore at 14 is: 0.5274056265208158\n",
      "rscore at 15 is: 0.5281311597182612\n",
      "rscore at 16 is: 0.5573813671608443\n",
      "rscore at 17 is: 0.5373686184692432\n",
      "rscore at 18 is: 0.5345352991373631\n",
      "rscore at 19 is: 0.5178555153198006\n",
      "rscore at 20 is: 0.5366385974375867\n",
      "rscore at 21 is: 0.5137177321772555\n",
      "rscore at 22 is: 0.5368899161534029\n",
      "rscore at 23 is: 0.49429438571203277\n",
      "rscore at 24 is: 0.48535761185318804\n",
      "rscore at 25 is: 0.5360821059954223\n",
      "rscore at 26 is: 0.5222356415097398\n",
      "rscore at 27 is: 0.5282583150209064\n",
      "rscore at 28 is: 0.5481289489624923\n",
      "rscore at 29 is: 0.5316122231212629\n",
      "rscore at 30 is: 0.5148187475036883\n",
      "rscore at 31 is: 0.5315194745475688\n",
      "rscore at 32 is: 0.5230105408835064\n",
      "rscore at 33 is: 0.5402931904300803\n",
      "rscore at 34 is: 0.5366176542112686\n",
      "rscore at 35 is: 0.5182728839014239\n",
      "rscore at 36 is: 0.5290870684052049\n",
      "rscore at 37 is: 0.5516848096023439\n",
      "rscore at 38 is: 0.5314087746370308\n",
      "rscore at 39 is: 0.5257660710890625\n",
      "rscore at 40 is: 0.509188011513616\n",
      "rscore at 41 is: 0.5447226827963407\n",
      "rscore at 42 is: 0.5009274046758958\n",
      "rscore at 43 is: 0.5212273747570011\n",
      "rscore at 44 is: 0.5341777683452199\n",
      "rscore at 45 is: 0.5297886664868585\n",
      "rscore at 46 is: 0.5433763325330396\n",
      "rscore at 47 is: 0.5258004778180135\n",
      "rscore at 48 is: 0.514522550445762\n",
      "rscore at 49 is: 0.538530967529893\n",
      "rscore at 50 is: 0.5413807422538802\n",
      "rscore at 51 is: 0.5313818476317647\n",
      "rscore at 52 is: 0.5247742597284307\n",
      "rscore at 53 is: 0.5132330460824671\n",
      "rscore at 54 is: 0.5401495797353284\n",
      "rscore at 55 is: 0.5284497959472425\n",
      "rscore at 56 is: 0.5117984350796829\n",
      "rscore at 57 is: 0.5378263775587655\n",
      "rscore at 58 is: 0.5501798891969207\n",
      "rscore at 59 is: 0.5318695256160271\n",
      "rscore at 60 is: 0.5340999792188957\n",
      "rscore at 61 is: 0.5256763144048424\n",
      "rscore at 62 is: 0.5322016253476414\n",
      "rscore at 63 is: 0.5174620818539692\n",
      "rscore at 64 is: 0.5572063416266151\n",
      "rscore at 65 is: 0.5163730340854324\n",
      "rscore at 66 is: 0.5204584591621825\n",
      "rscore at 67 is: 0.5414166449275682\n",
      "rscore at 68 is: 0.5472373658992397\n",
      "rscore at 69 is: 0.5169444849749669\n",
      "rscore at 70 is: 0.5201383269884643\n",
      "rscore at 71 is: 0.5279007842287631\n",
      "rscore at 72 is: 0.5222461131228988\n",
      "rscore at 73 is: 0.5055094834053303\n",
      "rscore at 74 is: 0.5244406640520795\n",
      "rscore at 75 is: 0.5337050498083273\n",
      "rscore at 76 is: 0.5406776482274898\n",
      "rscore at 77 is: 0.5231137610703596\n",
      "rscore at 78 is: 0.5240591981441443\n",
      "rscore at 79 is: 0.5220710875886697\n",
      "rscore at 80 is: 0.5309450317685603\n",
      "rscore at 81 is: 0.5206319887516746\n",
      "rscore at 82 is: 0.5074168129450067\n",
      "rscore at 83 is: 0.5205811266306166\n",
      "rscore at 84 is: 0.527785596484014\n",
      "rscore at 85 is: 0.5008451277153607\n",
      "rscore at 86 is: 0.5337708713767555\n",
      "rscore at 87 is: 0.5392520128931276\n",
      "rscore at 88 is: 0.530497744292197\n",
      "rscore at 89 is: 0.5233605919519647\n",
      "rscore at 90 is: 0.5143550046352179\n",
      "rscore at 91 is: 0.5255102645390353\n",
      "rscore at 92 is: 0.5350798230216316\n",
      "rscore at 93 is: 0.5510011628575344\n",
      "rscore at 94 is: 0.5272156415392165\n",
      "rscore at 95 is: 0.5252574498784821\n",
      "rscore at 96 is: 0.5475859210229609\n",
      "rscore at 97 is: 0.5303092552553349\n",
      "rscore at 98 is: 0.5267414270575872\n",
      "rscore at 99 is: 0.5345233315794671\n"
     ]
    }
   ],
   "source": [
    "for i in range(0,100):\n",
    "    from sklearn.ensemble import RandomForestRegressor as RFR\n",
    "    RFR=RFR(random_state=i)\n",
    "    RFR.fit(x_train,y_train)\n",
    "    y_pred=RFR.predict(x_test)\n",
    "    rscore=r2_score(y_test,y_pred)\n",
    "    print('rscore at',i,'is:',rscore)"
   ]
  },
  {
   "cell_type": "code",
   "execution_count": 110,
   "metadata": {},
   "outputs": [],
   "source": [
    "from sklearn.ensemble import GradientBoostingRegressor as GBR\n",
    "GBR=GBR(alpha=0.3)"
   ]
  },
  {
   "cell_type": "code",
   "execution_count": 111,
   "metadata": {},
   "outputs": [
    {
     "data": {
      "text/plain": [
       "0.5811765965645616"
      ]
     },
     "execution_count": 111,
     "metadata": {},
     "output_type": "execute_result"
    }
   ],
   "source": [
    "GBR.fit(x_train,y_train)\n",
    "y_pred=GBR.predict(x_test)\n",
    "rscore=r2_score(y_test,y_pred)\n",
    "rscore"
   ]
  },
  {
   "cell_type": "code",
   "execution_count": 63,
   "metadata": {},
   "outputs": [],
   "source": [
    "from sklearn.model_selection import GridSearchCV\n",
    "parameters=[{'alpha':[0.01,0.1,1,10,100,1000]}]\n",
    "grid_search=GridSearchCV(estimator=Ridge,param_grid=parameters,cv=10,n_jobs=-1)\n",
    "grid_search=grid_search.fit(x_train,y_train)"
   ]
  },
  {
   "cell_type": "code",
   "execution_count": 64,
   "metadata": {},
   "outputs": [
    {
     "data": {
      "text/plain": [
       "0.5147203600708589"
      ]
     },
     "execution_count": 64,
     "metadata": {},
     "output_type": "execute_result"
    }
   ],
   "source": [
    "grid_search.best_score_"
   ]
  },
  {
   "cell_type": "code",
   "execution_count": 77,
   "metadata": {},
   "outputs": [],
   "source": [
    "from sklearn.ensemble import AdaBoostRegressor as ABR\n",
    "ABR=ABR(base_estimator=GBR,random_state=10,n_estimators=50)"
   ]
  },
  {
   "cell_type": "code",
   "execution_count": 78,
   "metadata": {},
   "outputs": [
    {
     "data": {
      "text/plain": [
       "0.5353817659468925"
      ]
     },
     "execution_count": 78,
     "metadata": {},
     "output_type": "execute_result"
    }
   ],
   "source": [
    "ABR.fit(x_train,y_train)\n",
    "y_pred=ABR.predict(x_test)\n",
    "rscore=r2_score(y_test,y_pred)\n",
    "rscore"
   ]
  },
  {
   "cell_type": "code",
   "execution_count": 112,
   "metadata": {},
   "outputs": [
    {
     "name": "stderr",
     "output_type": "stream",
     "text": [
      "C:\\ProgramData\\Anaconda3\\lib\\site-packages\\sklearn\\externals\\joblib\\__init__.py:15: DeprecationWarning: sklearn.externals.joblib is deprecated in 0.21 and will be removed in 0.23. Please import this functionality directly from joblib, which can be installed with: pip install joblib. If this warning is raised when loading pickled models, you may need to re-serialize those models with scikit-learn 0.21+.\n",
      "  warnings.warn(msg, category=DeprecationWarning)\n"
     ]
    },
    {
     "data": {
      "text/plain": [
       "['GradientBoostingRegressor.pkl']"
      ]
     },
     "execution_count": 112,
     "metadata": {},
     "output_type": "execute_result"
    }
   ],
   "source": [
    "from sklearn.externals import joblib\n",
    "joblib.dump(GBR,'GradientBoostingRegressor.pkl')"
   ]
  },
  {
   "cell_type": "raw",
   "metadata": {},
   "source": [
    "# Gradient boosting is giving best r2 score as compared to other models and so chosen as final model for this data."
   ]
  }
 ],
 "metadata": {
  "kernelspec": {
   "display_name": "Python 3",
   "language": "python",
   "name": "python3"
  },
  "language_info": {
   "codemirror_mode": {
    "name": "ipython",
    "version": 3
   },
   "file_extension": ".py",
   "mimetype": "text/x-python",
   "name": "python",
   "nbconvert_exporter": "python",
   "pygments_lexer": "ipython3",
   "version": "3.7.3"
  }
 },
 "nbformat": 4,
 "nbformat_minor": 2
}
