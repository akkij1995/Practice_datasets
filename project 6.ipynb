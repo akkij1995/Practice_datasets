{
 "cells": [
  {
   "cell_type": "code",
   "execution_count": 1,
   "metadata": {},
   "outputs": [],
   "source": [
    "import pandas as pd\n",
    "import numpy as np\n",
    "import matplotlib.pyplot as plt\n",
    "import seaborn as sns\n",
    "import warnings\n",
    "warnings.filterwarnings('ignore')\n",
    "%matplotlib inline"
   ]
  },
  {
   "cell_type": "code",
   "execution_count": 2,
   "metadata": {},
   "outputs": [
    {
     "data": {
      "text/html": [
       "<div>\n",
       "<style scoped>\n",
       "    .dataframe tbody tr th:only-of-type {\n",
       "        vertical-align: middle;\n",
       "    }\n",
       "\n",
       "    .dataframe tbody tr th {\n",
       "        vertical-align: top;\n",
       "    }\n",
       "\n",
       "    .dataframe thead th {\n",
       "        text-align: right;\n",
       "    }\n",
       "</style>\n",
       "<table border=\"1\" class=\"dataframe\">\n",
       "  <thead>\n",
       "    <tr style=\"text-align: right;\">\n",
       "      <th></th>\n",
       "      <th>Unnamed: 0</th>\n",
       "      <th>TV</th>\n",
       "      <th>radio</th>\n",
       "      <th>newspaper</th>\n",
       "      <th>sales</th>\n",
       "    </tr>\n",
       "  </thead>\n",
       "  <tbody>\n",
       "    <tr>\n",
       "      <th>0</th>\n",
       "      <td>1</td>\n",
       "      <td>230.1</td>\n",
       "      <td>37.8</td>\n",
       "      <td>69.2</td>\n",
       "      <td>22.1</td>\n",
       "    </tr>\n",
       "    <tr>\n",
       "      <th>1</th>\n",
       "      <td>2</td>\n",
       "      <td>44.5</td>\n",
       "      <td>39.3</td>\n",
       "      <td>45.1</td>\n",
       "      <td>10.4</td>\n",
       "    </tr>\n",
       "    <tr>\n",
       "      <th>2</th>\n",
       "      <td>3</td>\n",
       "      <td>17.2</td>\n",
       "      <td>45.9</td>\n",
       "      <td>69.3</td>\n",
       "      <td>9.3</td>\n",
       "    </tr>\n",
       "    <tr>\n",
       "      <th>3</th>\n",
       "      <td>4</td>\n",
       "      <td>151.5</td>\n",
       "      <td>41.3</td>\n",
       "      <td>58.5</td>\n",
       "      <td>18.5</td>\n",
       "    </tr>\n",
       "    <tr>\n",
       "      <th>4</th>\n",
       "      <td>5</td>\n",
       "      <td>180.8</td>\n",
       "      <td>10.8</td>\n",
       "      <td>58.4</td>\n",
       "      <td>12.9</td>\n",
       "    </tr>\n",
       "  </tbody>\n",
       "</table>\n",
       "</div>"
      ],
      "text/plain": [
       "   Unnamed: 0     TV  radio  newspaper  sales\n",
       "0           1  230.1   37.8       69.2   22.1\n",
       "1           2   44.5   39.3       45.1   10.4\n",
       "2           3   17.2   45.9       69.3    9.3\n",
       "3           4  151.5   41.3       58.5   18.5\n",
       "4           5  180.8   10.8       58.4   12.9"
      ]
     },
     "execution_count": 2,
     "metadata": {},
     "output_type": "execute_result"
    }
   ],
   "source": [
    "data=pd.read_csv('Sales.csv')\n",
    "data.head()"
   ]
  },
  {
   "cell_type": "code",
   "execution_count": 3,
   "metadata": {},
   "outputs": [
    {
     "data": {
      "text/plain": [
       "(200, 5)"
      ]
     },
     "execution_count": 3,
     "metadata": {},
     "output_type": "execute_result"
    }
   ],
   "source": [
    "data.shape"
   ]
  },
  {
   "cell_type": "code",
   "execution_count": 4,
   "metadata": {},
   "outputs": [],
   "source": [
    "data=data.drop('Unnamed: 0',axis=1)"
   ]
  },
  {
   "cell_type": "code",
   "execution_count": 5,
   "metadata": {},
   "outputs": [
    {
     "data": {
      "text/html": [
       "<div>\n",
       "<style scoped>\n",
       "    .dataframe tbody tr th:only-of-type {\n",
       "        vertical-align: middle;\n",
       "    }\n",
       "\n",
       "    .dataframe tbody tr th {\n",
       "        vertical-align: top;\n",
       "    }\n",
       "\n",
       "    .dataframe thead th {\n",
       "        text-align: right;\n",
       "    }\n",
       "</style>\n",
       "<table border=\"1\" class=\"dataframe\">\n",
       "  <thead>\n",
       "    <tr style=\"text-align: right;\">\n",
       "      <th></th>\n",
       "      <th>TV</th>\n",
       "      <th>radio</th>\n",
       "      <th>newspaper</th>\n",
       "      <th>sales</th>\n",
       "    </tr>\n",
       "  </thead>\n",
       "  <tbody>\n",
       "    <tr>\n",
       "      <th>0</th>\n",
       "      <td>230.1</td>\n",
       "      <td>37.8</td>\n",
       "      <td>69.2</td>\n",
       "      <td>22.1</td>\n",
       "    </tr>\n",
       "    <tr>\n",
       "      <th>1</th>\n",
       "      <td>44.5</td>\n",
       "      <td>39.3</td>\n",
       "      <td>45.1</td>\n",
       "      <td>10.4</td>\n",
       "    </tr>\n",
       "    <tr>\n",
       "      <th>2</th>\n",
       "      <td>17.2</td>\n",
       "      <td>45.9</td>\n",
       "      <td>69.3</td>\n",
       "      <td>9.3</td>\n",
       "    </tr>\n",
       "    <tr>\n",
       "      <th>3</th>\n",
       "      <td>151.5</td>\n",
       "      <td>41.3</td>\n",
       "      <td>58.5</td>\n",
       "      <td>18.5</td>\n",
       "    </tr>\n",
       "    <tr>\n",
       "      <th>4</th>\n",
       "      <td>180.8</td>\n",
       "      <td>10.8</td>\n",
       "      <td>58.4</td>\n",
       "      <td>12.9</td>\n",
       "    </tr>\n",
       "  </tbody>\n",
       "</table>\n",
       "</div>"
      ],
      "text/plain": [
       "      TV  radio  newspaper  sales\n",
       "0  230.1   37.8       69.2   22.1\n",
       "1   44.5   39.3       45.1   10.4\n",
       "2   17.2   45.9       69.3    9.3\n",
       "3  151.5   41.3       58.5   18.5\n",
       "4  180.8   10.8       58.4   12.9"
      ]
     },
     "execution_count": 5,
     "metadata": {},
     "output_type": "execute_result"
    }
   ],
   "source": [
    "data.head()"
   ]
  },
  {
   "cell_type": "code",
   "execution_count": 6,
   "metadata": {},
   "outputs": [
    {
     "data": {
      "text/plain": [
       "TV           0\n",
       "radio        0\n",
       "newspaper    0\n",
       "sales        0\n",
       "dtype: int64"
      ]
     },
     "execution_count": 6,
     "metadata": {},
     "output_type": "execute_result"
    }
   ],
   "source": [
    "data.isnull().sum()"
   ]
  },
  {
   "cell_type": "code",
   "execution_count": 7,
   "metadata": {},
   "outputs": [
    {
     "data": {
      "text/plain": [
       "<matplotlib.axes._subplots.AxesSubplot at 0x186bfca3978>"
      ]
     },
     "execution_count": 7,
     "metadata": {},
     "output_type": "execute_result"
    },
    {
     "data": {
      "image/png": "[encoded data removed]",
      "text/plain": [
       "<Figure size 432x288 with 1 Axes>"
      ]
     },
     "metadata": {
      "needs_background": "light"
     },
     "output_type": "display_data"
    }
   ],
   "source": [
    "sns.boxplot(x=data.TV)"
   ]
  },
  {
   "cell_type": "code",
   "execution_count": 8,
   "metadata": {},
   "outputs": [
    {
     "data": {
      "text/plain": [
       "<matplotlib.axes._subplots.AxesSubplot at 0x186bffd78d0>"
      ]
     },
     "execution_count": 8,
     "metadata": {},
     "output_type": "execute_result"
    },
    {
     "data": {
      "image/png": "[encoded data removed]",
      "text/plain": [
       "<Figure size 432x288 with 1 Axes>"
      ]
     },
     "metadata": {
      "needs_background": "light"
     },
     "output_type": "display_data"
    }
   ],
   "source": [
    "sns.boxplot(data.radio)"
   ]
  },
  {
   "cell_type": "code",
   "execution_count": 9,
   "metadata": {},
   "outputs": [
    {
     "data": {
      "text/plain": [
       "<matplotlib.axes._subplots.AxesSubplot at 0x186c0054a58>"
      ]
     },
     "execution_count": 9,
     "metadata": {},
     "output_type": "execute_result"
    },
    {
     "data": {
      "image/png": "[encoded data removed]",
      "text/plain": [
       "<Figure size 432x288 with 1 Axes>"
      ]
     },
     "metadata": {
      "needs_background": "light"
     },
     "output_type": "display_data"
    }
   ],
   "source": [
    "sns.boxplot(x=data.newspaper)"
   ]
  },
  {
   "cell_type": "code",
   "execution_count": 10,
   "metadata": {},
   "outputs": [],
   "source": [
    "data=data[data['newspaper']<90]"
   ]
  },
  {
   "cell_type": "code",
   "execution_count": 11,
   "metadata": {},
   "outputs": [
    {
     "data": {
      "text/plain": [
       "<matplotlib.axes._subplots.AxesSubplot at 0x186c00bbef0>"
      ]
     },
     "execution_count": 11,
     "metadata": {},
     "output_type": "execute_result"
    },
    {
     "data": {
      "image/png": "[encoded data removed]",
      "text/plain": [
       "<Figure size 432x288 with 1 Axes>"
      ]
     },
     "metadata": {
      "needs_background": "light"
     },
     "output_type": "display_data"
    }
   ],
   "source": [
    "sns.boxplot(x=data.newspaper)"
   ]
  },
  {
   "cell_type": "code",
   "execution_count": 12,
   "metadata": {},
   "outputs": [
    {
     "data": {
      "text/plain": [
       "<matplotlib.axes._subplots.AxesSubplot at 0x186c012f550>"
      ]
     },
     "execution_count": 12,
     "metadata": {},
     "output_type": "execute_result"
    },
    {
     "data": {
      "image/png": "[encoded data removed]",
      "text/plain": [
       "<Figure size 432x288 with 1 Axes>"
      ]
     },
     "metadata": {
      "needs_background": "light"
     },
     "output_type": "display_data"
    }
   ],
   "source": [
    "sns.boxplot(x=data.sales)"
   ]
  },
  {
   "cell_type": "code",
   "execution_count": 13,
   "metadata": {},
   "outputs": [
    {
     "data": {
      "text/plain": [
       "<matplotlib.axes._subplots.AxesSubplot at 0x186c018c400>"
      ]
     },
     "execution_count": 13,
     "metadata": {},
     "output_type": "execute_result"
    },
    {
     "data": {
      "image/png": "[encoded data removed]",
      "text/plain": [
       "<Figure size 432x288 with 1 Axes>"
      ]
     },
     "metadata": {
      "needs_background": "light"
     },
     "output_type": "display_data"
    }
   ],
   "source": [
    "sns.distplot(data.TV,bins=10)"
   ]
  },
  {
   "cell_type": "code",
   "execution_count": 14,
   "metadata": {},
   "outputs": [
    {
     "data": {
      "text/plain": [
       "<matplotlib.axes._subplots.AxesSubplot at 0x186c0213630>"
      ]
     },
     "execution_count": 14,
     "metadata": {},
     "output_type": "execute_result"
    },
    {
     "data": {
      "image/png": "[encoded data removed]",
      "text/plain": [
       "<Figure size 432x288 with 1 Axes>"
      ]
     },
     "metadata": {
      "needs_background": "light"
     },
     "output_type": "display_data"
    }
   ],
   "source": [
    "sns.distplot(data.radio,bins=10)"
   ]
  },
  {
   "cell_type": "code",
   "execution_count": 15,
   "metadata": {},
   "outputs": [
    {
     "data": {
      "text/plain": [
       "<matplotlib.axes._subplots.AxesSubplot at 0x186c028dd68>"
      ]
     },
     "execution_count": 15,
     "metadata": {},
     "output_type": "execute_result"
    },
    {
     "data": {
      "image/png": "[encoded data removed]",
      "text/plain": [
       "<Figure size 432x288 with 1 Axes>"
      ]
     },
     "metadata": {
      "needs_background": "light"
     },
     "output_type": "display_data"
    }
   ],
   "source": [
    "sns.distplot(data.newspaper,bins=10)"
   ]
  },
  {
   "cell_type": "code",
   "execution_count": 16,
   "metadata": {},
   "outputs": [
    {
     "data": {
      "text/plain": [
       "<matplotlib.axes._subplots.AxesSubplot at 0x186c02e07b8>"
      ]
     },
     "execution_count": 16,
     "metadata": {},
     "output_type": "execute_result"
    },
    {
     "data": {
      "image/png": "[encoded data removed]",
      "text/plain": [
       "<Figure size 432x288 with 1 Axes>"
      ]
     },
     "metadata": {
      "needs_background": "light"
     },
     "output_type": "display_data"
    }
   ],
   "source": [
    "sns.distplot(data.sales,bins=10)"
   ]
  },
  {
   "cell_type": "code",
   "execution_count": 17,
   "metadata": {},
   "outputs": [
    {
     "data": {
      "text/plain": [
       "<matplotlib.collections.PathCollection at 0x186c03a0cc0>"
      ]
     },
     "execution_count": 17,
     "metadata": {},
     "output_type": "execute_result"
    },
    {
     "data": {
      "image/png": "[encoded data removed]",
      "text/plain": [
       "<Figure size 432x288 with 1 Axes>"
      ]
     },
     "metadata": {
      "needs_background": "light"
     },
     "output_type": "display_data"
    }
   ],
   "source": [
    "plt.scatter(x='TV',y='sales',data=data)"
   ]
  },
  {
   "cell_type": "code",
   "execution_count": 18,
   "metadata": {},
   "outputs": [
    {
     "data": {
      "text/plain": [
       "<matplotlib.collections.PathCollection at 0x186c0416160>"
      ]
     },
     "execution_count": 18,
     "metadata": {},
     "output_type": "execute_result"
    },
    {
     "data": {
      "image/png": "[encoded data removed]",
      "text/plain": [
       "<Figure size 432x288 with 1 Axes>"
      ]
     },
     "metadata": {
      "needs_background": "light"
     },
     "output_type": "display_data"
    }
   ],
   "source": [
    "plt.scatter(x='radio',y='sales',data=data)"
   ]
  },
  {
   "cell_type": "code",
   "execution_count": 19,
   "metadata": {},
   "outputs": [
    {
     "data": {
      "text/plain": [
       "<matplotlib.collections.PathCollection at 0x186c04750f0>"
      ]
     },
     "execution_count": 19,
     "metadata": {},
     "output_type": "execute_result"
    },
    {
     "data": {
      "image/png": "[encoded data removed]",
      "text/plain": [
       "<Figure size 432x288 with 1 Axes>"
      ]
     },
     "metadata": {
      "needs_background": "light"
     },
     "output_type": "display_data"
    }
   ],
   "source": [
    "plt.scatter(x='newspaper',y='sales',data=data)"
   ]
  },
  {
   "cell_type": "code",
   "execution_count": 20,
   "metadata": {},
   "outputs": [
    {
     "data": {
      "text/plain": [
       "TV          -0.082332\n",
       "radio        0.114842\n",
       "newspaper    0.650112\n",
       "sales        0.407130\n",
       "dtype: float64"
      ]
     },
     "execution_count": 20,
     "metadata": {},
     "output_type": "execute_result"
    }
   ],
   "source": [
    "data.skew()"
   ]
  },
  {
   "cell_type": "code",
   "execution_count": 21,
   "metadata": {},
   "outputs": [],
   "source": [
    "data['newspaper']=np.sqrt(data.newspaper)"
   ]
  },
  {
   "cell_type": "code",
   "execution_count": 22,
   "metadata": {},
   "outputs": [
    {
     "data": {
      "text/plain": [
       "TV          -0.082332\n",
       "radio        0.114842\n",
       "newspaper   -0.040649\n",
       "sales        0.407130\n",
       "dtype: float64"
      ]
     },
     "execution_count": 22,
     "metadata": {},
     "output_type": "execute_result"
    }
   ],
   "source": [
    "data.skew()"
   ]
  },
  {
   "cell_type": "code",
   "execution_count": 23,
   "metadata": {},
   "outputs": [],
   "source": [
    "from sklearn.preprocessing import StandardScaler"
   ]
  },
  {
   "cell_type": "code",
   "execution_count": 24,
   "metadata": {},
   "outputs": [],
   "source": [
    "sc=StandardScaler()"
   ]
  },
  {
   "cell_type": "code",
   "execution_count": 25,
   "metadata": {},
   "outputs": [],
   "source": [
    "data_scaled=sc.fit_transform(data)"
   ]
  },
  {
   "cell_type": "code",
   "execution_count": 26,
   "metadata": {},
   "outputs": [],
   "source": [
    "data_scaled=pd.DataFrame(data_scaled,columns=data.columns)"
   ]
  },
  {
   "cell_type": "code",
   "execution_count": 27,
   "metadata": {},
   "outputs": [
    {
     "data": {
      "text/html": [
       "<div>\n",
       "<style scoped>\n",
       "    .dataframe tbody tr th:only-of-type {\n",
       "        vertical-align: middle;\n",
       "    }\n",
       "\n",
       "    .dataframe tbody tr th {\n",
       "        vertical-align: top;\n",
       "    }\n",
       "\n",
       "    .dataframe thead th {\n",
       "        text-align: right;\n",
       "    }\n",
       "</style>\n",
       "<table border=\"1\" class=\"dataframe\">\n",
       "  <thead>\n",
       "    <tr style=\"text-align: right;\">\n",
       "      <th></th>\n",
       "      <th>TV</th>\n",
       "      <th>radio</th>\n",
       "      <th>newspaper</th>\n",
       "      <th>sales</th>\n",
       "    </tr>\n",
       "  </thead>\n",
       "  <tbody>\n",
       "    <tr>\n",
       "      <th>0</th>\n",
       "      <td>0.978697</td>\n",
       "      <td>0.989521</td>\n",
       "      <td>1.636691</td>\n",
       "      <td>1.566517</td>\n",
       "    </tr>\n",
       "    <tr>\n",
       "      <th>1</th>\n",
       "      <td>-1.199012</td>\n",
       "      <td>1.090705</td>\n",
       "      <td>0.824808</td>\n",
       "      <td>-0.690881</td>\n",
       "    </tr>\n",
       "    <tr>\n",
       "      <th>2</th>\n",
       "      <td>-1.519332</td>\n",
       "      <td>1.535913</td>\n",
       "      <td>1.639734</td>\n",
       "      <td>-0.903115</td>\n",
       "    </tr>\n",
       "    <tr>\n",
       "      <th>3</th>\n",
       "      <td>0.056456</td>\n",
       "      <td>1.225616</td>\n",
       "      <td>1.297288</td>\n",
       "      <td>0.871933</td>\n",
       "    </tr>\n",
       "    <tr>\n",
       "      <th>4</th>\n",
       "      <td>0.400243</td>\n",
       "      <td>-0.831784</td>\n",
       "      <td>1.293976</td>\n",
       "      <td>-0.208531</td>\n",
       "    </tr>\n",
       "  </tbody>\n",
       "</table>\n",
       "</div>"
      ],
      "text/plain": [
       "         TV     radio  newspaper     sales\n",
       "0  0.978697  0.989521   1.636691  1.566517\n",
       "1 -1.199012  1.090705   0.824808 -0.690881\n",
       "2 -1.519332  1.535913   1.639734 -0.903115\n",
       "3  0.056456  1.225616   1.297288  0.871933\n",
       "4  0.400243 -0.831784   1.293976 -0.208531"
      ]
     },
     "execution_count": 27,
     "metadata": {},
     "output_type": "execute_result"
    }
   ],
   "source": [
    "data_scaled.head()"
   ]
  },
  {
   "cell_type": "code",
   "execution_count": 28,
   "metadata": {},
   "outputs": [
    {
     "data": {
      "text/plain": [
       "TV          -0.082332\n",
       "radio        0.114842\n",
       "newspaper   -0.040649\n",
       "sales        0.407130\n",
       "dtype: float64"
      ]
     },
     "execution_count": 28,
     "metadata": {},
     "output_type": "execute_result"
    }
   ],
   "source": [
    "data_scaled.skew()"
   ]
  },
  {
   "cell_type": "code",
   "execution_count": 29,
   "metadata": {},
   "outputs": [
    {
     "data": {
      "text/plain": [
       "<matplotlib.axes._subplots.AxesSubplot at 0x186c0b5ae80>"
      ]
     },
     "execution_count": 29,
     "metadata": {},
     "output_type": "execute_result"
    },
    {
     "data": {
      "image/png": "[encoded data removed]",
      "text/plain": [
       "<Figure size 432x288 with 1 Axes>"
      ]
     },
     "metadata": {
      "needs_background": "light"
     },
     "output_type": "display_data"
    }
   ],
   "source": [
    "sns.distplot(data.newspaper,bins=10)"
   ]
  },
  {
   "cell_type": "code",
   "execution_count": 30,
   "metadata": {},
   "outputs": [],
   "source": [
    "data_inp=data_scaled.drop('sales',axis=1)"
   ]
  },
  {
   "cell_type": "code",
   "execution_count": 31,
   "metadata": {},
   "outputs": [],
   "source": [
    "data_op=data_scaled.sales"
   ]
  },
  {
   "cell_type": "code",
   "execution_count": 32,
   "metadata": {},
   "outputs": [
    {
     "data": {
      "text/html": [
       "<div>\n",
       "<style scoped>\n",
       "    .dataframe tbody tr th:only-of-type {\n",
       "        vertical-align: middle;\n",
       "    }\n",
       "\n",
       "    .dataframe tbody tr th {\n",
       "        vertical-align: top;\n",
       "    }\n",
       "\n",
       "    .dataframe thead th {\n",
       "        text-align: right;\n",
       "    }\n",
       "</style>\n",
       "<table border=\"1\" class=\"dataframe\">\n",
       "  <thead>\n",
       "    <tr style=\"text-align: right;\">\n",
       "      <th></th>\n",
       "      <th>TV</th>\n",
       "      <th>radio</th>\n",
       "      <th>newspaper</th>\n",
       "    </tr>\n",
       "  </thead>\n",
       "  <tbody>\n",
       "    <tr>\n",
       "      <th>0</th>\n",
       "      <td>0.978697</td>\n",
       "      <td>0.989521</td>\n",
       "      <td>1.636691</td>\n",
       "    </tr>\n",
       "    <tr>\n",
       "      <th>1</th>\n",
       "      <td>-1.199012</td>\n",
       "      <td>1.090705</td>\n",
       "      <td>0.824808</td>\n",
       "    </tr>\n",
       "    <tr>\n",
       "      <th>2</th>\n",
       "      <td>-1.519332</td>\n",
       "      <td>1.535913</td>\n",
       "      <td>1.639734</td>\n",
       "    </tr>\n",
       "    <tr>\n",
       "      <th>3</th>\n",
       "      <td>0.056456</td>\n",
       "      <td>1.225616</td>\n",
       "      <td>1.297288</td>\n",
       "    </tr>\n",
       "    <tr>\n",
       "      <th>4</th>\n",
       "      <td>0.400243</td>\n",
       "      <td>-0.831784</td>\n",
       "      <td>1.293976</td>\n",
       "    </tr>\n",
       "    <tr>\n",
       "      <th>5</th>\n",
       "      <td>-1.619065</td>\n",
       "      <td>1.738280</td>\n",
       "      <td>1.809703</td>\n",
       "    </tr>\n",
       "    <tr>\n",
       "      <th>6</th>\n",
       "      <td>-1.046478</td>\n",
       "      <td>0.652243</td>\n",
       "      <td>-0.121278</td>\n",
       "    </tr>\n",
       "    <tr>\n",
       "      <th>7</th>\n",
       "      <td>-0.310797</td>\n",
       "      <td>-0.238173</td>\n",
       "      <td>-0.851517</td>\n",
       "    </tr>\n",
       "    <tr>\n",
       "      <th>8</th>\n",
       "      <td>-1.620239</td>\n",
       "      <td>-1.418649</td>\n",
       "      <td>-2.070039</td>\n",
       "    </tr>\n",
       "    <tr>\n",
       "      <th>9</th>\n",
       "      <td>0.623177</td>\n",
       "      <td>-1.384921</td>\n",
       "      <td>-0.244521</td>\n",
       "    </tr>\n",
       "    <tr>\n",
       "      <th>10</th>\n",
       "      <td>-0.945571</td>\n",
       "      <td>-1.169063</td>\n",
       "      <td>-0.084979</td>\n",
       "    </tr>\n",
       "    <tr>\n",
       "      <th>11</th>\n",
       "      <td>0.798004</td>\n",
       "      <td>0.058632</td>\n",
       "      <td>-1.563562</td>\n",
       "    </tr>\n",
       "    <tr>\n",
       "      <th>12</th>\n",
       "      <td>-1.441892</td>\n",
       "      <td>0.807391</td>\n",
       "      <td>1.535004</td>\n",
       "    </tr>\n",
       "    <tr>\n",
       "      <th>13</th>\n",
       "      <td>-0.577144</td>\n",
       "      <td>-1.047642</td>\n",
       "      <td>-1.217495</td>\n",
       "    </tr>\n",
       "    <tr>\n",
       "      <th>14</th>\n",
       "      <td>0.673630</td>\n",
       "      <td>0.658988</td>\n",
       "      <td>0.858578</td>\n",
       "    </tr>\n",
       "    <tr>\n",
       "      <th>15</th>\n",
       "      <td>0.571550</td>\n",
       "      <td>1.657333</td>\n",
       "      <td>1.107212</td>\n",
       "    </tr>\n",
       "    <tr>\n",
       "      <th>16</th>\n",
       "      <td>1.580618</td>\n",
       "      <td>1.110942</td>\n",
       "      <td>1.206837</td>\n",
       "    </tr>\n",
       "    <tr>\n",
       "      <th>17</th>\n",
       "      <td>-0.909198</td>\n",
       "      <td>-0.177463</td>\n",
       "      <td>-0.409883</td>\n",
       "    </tr>\n",
       "    <tr>\n",
       "      <th>18</th>\n",
       "      <td>0.007176</td>\n",
       "      <td>0.051886</td>\n",
       "      <td>-0.363032</td>\n",
       "    </tr>\n",
       "    <tr>\n",
       "      <th>19</th>\n",
       "      <td>0.841417</td>\n",
       "      <td>0.308218</td>\n",
       "      <td>1.124580</td>\n",
       "    </tr>\n",
       "    <tr>\n",
       "      <th>20</th>\n",
       "      <td>1.064351</td>\n",
       "      <td>-1.216282</td>\n",
       "      <td>-0.121278</td>\n",
       "    </tr>\n",
       "    <tr>\n",
       "      <th>21</th>\n",
       "      <td>-1.566265</td>\n",
       "      <td>-0.487760</td>\n",
       "      <td>0.990463</td>\n",
       "    </tr>\n",
       "    <tr>\n",
       "      <th>22</th>\n",
       "      <td>0.957577</td>\n",
       "      <td>-0.420304</td>\n",
       "      <td>0.015934</td>\n",
       "    </tr>\n",
       "    <tr>\n",
       "      <th>23</th>\n",
       "      <td>-0.990158</td>\n",
       "      <td>-0.710364</td>\n",
       "      <td>-0.409883</td>\n",
       "    </tr>\n",
       "    <tr>\n",
       "      <th>24</th>\n",
       "      <td>1.363551</td>\n",
       "      <td>-1.324211</td>\n",
       "      <td>-0.339974</td>\n",
       "    </tr>\n",
       "    <tr>\n",
       "      <th>25</th>\n",
       "      <td>-0.044450</td>\n",
       "      <td>0.416147</td>\n",
       "      <td>-0.778701</td>\n",
       "    </tr>\n",
       "    <tr>\n",
       "      <th>26</th>\n",
       "      <td>1.096031</td>\n",
       "      <td>-0.433795</td>\n",
       "      <td>-0.152824</td>\n",
       "    </tr>\n",
       "    <tr>\n",
       "      <th>27</th>\n",
       "      <td>1.198111</td>\n",
       "      <td>0.267745</td>\n",
       "      <td>-0.152824</td>\n",
       "    </tr>\n",
       "    <tr>\n",
       "      <th>28</th>\n",
       "      <td>-0.892771</td>\n",
       "      <td>-0.481014</td>\n",
       "      <td>0.658600</td>\n",
       "    </tr>\n",
       "    <tr>\n",
       "      <th>29</th>\n",
       "      <td>1.715551</td>\n",
       "      <td>0.348692</td>\n",
       "      <td>0.752390</td>\n",
       "    </tr>\n",
       "    <tr>\n",
       "      <th>...</th>\n",
       "      <td>...</td>\n",
       "      <td>...</td>\n",
       "      <td>...</td>\n",
       "    </tr>\n",
       "    <tr>\n",
       "      <th>168</th>\n",
       "      <td>-1.134478</td>\n",
       "      <td>-0.777819</td>\n",
       "      <td>-0.403972</td>\n",
       "    </tr>\n",
       "    <tr>\n",
       "      <th>169</th>\n",
       "      <td>0.208990</td>\n",
       "      <td>-0.150481</td>\n",
       "      <td>0.910459</td>\n",
       "    </tr>\n",
       "    <tr>\n",
       "      <th>170</th>\n",
       "      <td>-1.491172</td>\n",
       "      <td>-0.204445</td>\n",
       "      <td>-0.488258</td>\n",
       "    </tr>\n",
       "    <tr>\n",
       "      <th>171</th>\n",
       "      <td>0.254750</td>\n",
       "      <td>-1.081370</td>\n",
       "      <td>-0.764489</td>\n",
       "    </tr>\n",
       "    <tr>\n",
       "      <th>172</th>\n",
       "      <td>0.888351</td>\n",
       "      <td>-1.330956</td>\n",
       "      <td>-0.743377</td>\n",
       "    </tr>\n",
       "    <tr>\n",
       "      <th>173</th>\n",
       "      <td>1.527818</td>\n",
       "      <td>1.738280</td>\n",
       "      <td>0.698006</td>\n",
       "    </tr>\n",
       "    <tr>\n",
       "      <th>174</th>\n",
       "      <td>1.193418</td>\n",
       "      <td>0.476858</td>\n",
       "      <td>-0.294557</td>\n",
       "    </tr>\n",
       "    <tr>\n",
       "      <th>175</th>\n",
       "      <td>0.275870</td>\n",
       "      <td>-1.034151</td>\n",
       "      <td>0.428391</td>\n",
       "    </tr>\n",
       "    <tr>\n",
       "      <th>176</th>\n",
       "      <td>1.525471</td>\n",
       "      <td>-1.405158</td>\n",
       "      <td>-0.110852</td>\n",
       "    </tr>\n",
       "    <tr>\n",
       "      <th>177</th>\n",
       "      <td>0.221897</td>\n",
       "      <td>-0.885749</td>\n",
       "      <td>-0.451726</td>\n",
       "    </tr>\n",
       "    <tr>\n",
       "      <th>178</th>\n",
       "      <td>0.116296</td>\n",
       "      <td>-1.384921</td>\n",
       "      <td>-1.117370</td>\n",
       "    </tr>\n",
       "    <tr>\n",
       "      <th>179</th>\n",
       "      <td>0.842591</td>\n",
       "      <td>-1.196045</td>\n",
       "      <td>0.074638</td>\n",
       "    </tr>\n",
       "    <tr>\n",
       "      <th>180</th>\n",
       "      <td>-1.061732</td>\n",
       "      <td>-1.175808</td>\n",
       "      <td>0.183667</td>\n",
       "    </tr>\n",
       "    <tr>\n",
       "      <th>181</th>\n",
       "      <td>1.653365</td>\n",
       "      <td>1.340291</td>\n",
       "      <td>1.715111</td>\n",
       "    </tr>\n",
       "    <tr>\n",
       "      <th>182</th>\n",
       "      <td>1.256778</td>\n",
       "      <td>-0.123499</td>\n",
       "      <td>0.197573</td>\n",
       "    </tr>\n",
       "    <tr>\n",
       "      <th>183</th>\n",
       "      <td>0.684190</td>\n",
       "      <td>1.481948</td>\n",
       "      <td>-0.334247</td>\n",
       "    </tr>\n",
       "    <tr>\n",
       "      <th>184</th>\n",
       "      <td>-0.084344</td>\n",
       "      <td>-1.418649</td>\n",
       "      <td>0.035649</td>\n",
       "    </tr>\n",
       "    <tr>\n",
       "      <th>185</th>\n",
       "      <td>0.521097</td>\n",
       "      <td>0.375674</td>\n",
       "      <td>-0.415811</td>\n",
       "    </tr>\n",
       "    <tr>\n",
       "      <th>186</th>\n",
       "      <td>1.634591</td>\n",
       "      <td>-0.622671</td>\n",
       "      <td>-1.602288</td>\n",
       "    </tr>\n",
       "    <tr>\n",
       "      <th>187</th>\n",
       "      <td>-1.501732</td>\n",
       "      <td>-0.744091</td>\n",
       "      <td>-0.126507</td>\n",
       "    </tr>\n",
       "    <tr>\n",
       "      <th>188</th>\n",
       "      <td>-1.257678</td>\n",
       "      <td>1.212125</td>\n",
       "      <td>-1.356758</td>\n",
       "    </tr>\n",
       "    <tr>\n",
       "      <th>189</th>\n",
       "      <td>-0.835278</td>\n",
       "      <td>-0.831784</td>\n",
       "      <td>-1.335906</td>\n",
       "    </tr>\n",
       "    <tr>\n",
       "      <th>190</th>\n",
       "      <td>-1.519332</td>\n",
       "      <td>-1.283737</td>\n",
       "      <td>0.270588</td>\n",
       "    </tr>\n",
       "    <tr>\n",
       "      <th>191</th>\n",
       "      <td>0.235977</td>\n",
       "      <td>1.272836</td>\n",
       "      <td>-1.615543</td>\n",
       "    </tr>\n",
       "    <tr>\n",
       "      <th>192</th>\n",
       "      <td>0.035336</td>\n",
       "      <td>0.841119</td>\n",
       "      <td>-1.335906</td>\n",
       "    </tr>\n",
       "    <tr>\n",
       "      <th>193</th>\n",
       "      <td>-1.272932</td>\n",
       "      <td>-1.310720</td>\n",
       "      <td>-0.695037</td>\n",
       "    </tr>\n",
       "    <tr>\n",
       "      <th>194</th>\n",
       "      <td>-0.615864</td>\n",
       "      <td>-1.229773</td>\n",
       "      <td>-1.135057</td>\n",
       "    </tr>\n",
       "    <tr>\n",
       "      <th>195</th>\n",
       "      <td>0.355657</td>\n",
       "      <td>-0.932968</td>\n",
       "      <td>-1.295219</td>\n",
       "    </tr>\n",
       "    <tr>\n",
       "      <th>196</th>\n",
       "      <td>1.606431</td>\n",
       "      <td>1.272836</td>\n",
       "      <td>1.544352</td>\n",
       "    </tr>\n",
       "    <tr>\n",
       "      <th>197</th>\n",
       "      <td>1.002164</td>\n",
       "      <td>-0.980187</td>\n",
       "      <td>-1.082623</td>\n",
       "    </tr>\n",
       "  </tbody>\n",
       "</table>\n",
       "<p>198 rows × 3 columns</p>\n",
       "</div>"
      ],
      "text/plain": [
       "           TV     radio  newspaper\n",
       "0    0.978697  0.989521   1.636691\n",
       "1   -1.199012  1.090705   0.824808\n",
       "2   -1.519332  1.535913   1.639734\n",
       "3    0.056456  1.225616   1.297288\n",
       "4    0.400243 -0.831784   1.293976\n",
       "5   -1.619065  1.738280   1.809703\n",
       "6   -1.046478  0.652243  -0.121278\n",
       "7   -0.310797 -0.238173  -0.851517\n",
       "8   -1.620239 -1.418649  -2.070039\n",
       "9    0.623177 -1.384921  -0.244521\n",
       "10  -0.945571 -1.169063  -0.084979\n",
       "11   0.798004  0.058632  -1.563562\n",
       "12  -1.441892  0.807391   1.535004\n",
       "13  -0.577144 -1.047642  -1.217495\n",
       "14   0.673630  0.658988   0.858578\n",
       "15   0.571550  1.657333   1.107212\n",
       "16   1.580618  1.110942   1.206837\n",
       "17  -0.909198 -0.177463  -0.409883\n",
       "18   0.007176  0.051886  -0.363032\n",
       "19   0.841417  0.308218   1.124580\n",
       "20   1.064351 -1.216282  -0.121278\n",
       "21  -1.566265 -0.487760   0.990463\n",
       "22   0.957577 -0.420304   0.015934\n",
       "23  -0.990158 -0.710364  -0.409883\n",
       "24   1.363551 -1.324211  -0.339974\n",
       "25  -0.044450  0.416147  -0.778701\n",
       "26   1.096031 -0.433795  -0.152824\n",
       "27   1.198111  0.267745  -0.152824\n",
       "28  -0.892771 -0.481014   0.658600\n",
       "29   1.715551  0.348692   0.752390\n",
       "..        ...       ...        ...\n",
       "168 -1.134478 -0.777819  -0.403972\n",
       "169  0.208990 -0.150481   0.910459\n",
       "170 -1.491172 -0.204445  -0.488258\n",
       "171  0.254750 -1.081370  -0.764489\n",
       "172  0.888351 -1.330956  -0.743377\n",
       "173  1.527818  1.738280   0.698006\n",
       "174  1.193418  0.476858  -0.294557\n",
       "175  0.275870 -1.034151   0.428391\n",
       "176  1.525471 -1.405158  -0.110852\n",
       "177  0.221897 -0.885749  -0.451726\n",
       "178  0.116296 -1.384921  -1.117370\n",
       "179  0.842591 -1.196045   0.074638\n",
       "180 -1.061732 -1.175808   0.183667\n",
       "181  1.653365  1.340291   1.715111\n",
       "182  1.256778 -0.123499   0.197573\n",
       "183  0.684190  1.481948  -0.334247\n",
       "184 -0.084344 -1.418649   0.035649\n",
       "185  0.521097  0.375674  -0.415811\n",
       "186  1.634591 -0.622671  -1.602288\n",
       "187 -1.501732 -0.744091  -0.126507\n",
       "188 -1.257678  1.212125  -1.356758\n",
       "189 -0.835278 -0.831784  -1.335906\n",
       "190 -1.519332 -1.283737   0.270588\n",
       "191  0.235977  1.272836  -1.615543\n",
       "192  0.035336  0.841119  -1.335906\n",
       "193 -1.272932 -1.310720  -0.695037\n",
       "194 -0.615864 -1.229773  -1.135057\n",
       "195  0.355657 -0.932968  -1.295219\n",
       "196  1.606431  1.272836   1.544352\n",
       "197  1.002164 -0.980187  -1.082623\n",
       "\n",
       "[198 rows x 3 columns]"
      ]
     },
     "execution_count": 32,
     "metadata": {},
     "output_type": "execute_result"
    }
   ],
   "source": [
    "data_inp"
   ]
  },
  {
   "cell_type": "code",
   "execution_count": 33,
   "metadata": {},
   "outputs": [],
   "source": [
    "from sklearn.model_selection import train_test_split as tts\n",
    "from sklearn.metrics import r2_score"
   ]
  },
  {
   "cell_type": "code",
   "execution_count": 34,
   "metadata": {},
   "outputs": [
    {
     "name": "stdout",
     "output_type": "stream",
     "text": [
      "at random state 0 r2score is:0.9104353676454641\n",
      "at random state 1 r2score is:0.8915808201402337\n",
      "at random state 2 r2score is:0.8385093780102322\n",
      "at random state 3 r2score is:0.8977495614063602\n",
      "at random state 4 r2score is:0.8726744168845625\n",
      "at random state 5 r2score is:0.8622409600064913\n",
      "at random state 6 r2score is:0.8766949131606819\n",
      "at random state 7 r2score is:0.9063807263429214\n",
      "at random state 8 r2score is:0.8653415977754737\n",
      "at random state 9 r2score is:0.9151924962930181\n",
      "at random state 10 r2score is:0.7845167673812317\n",
      "at random state 11 r2score is:0.9259845612237145\n",
      "at random state 12 r2score is:0.9003144586779663\n",
      "at random state 13 r2score is:0.8382064807676584\n",
      "at random state 14 r2score is:0.9139620728175997\n",
      "at random state 15 r2score is:0.9079583268637837\n",
      "at random state 16 r2score is:0.9096736262327477\n",
      "at random state 17 r2score is:0.9172247053570081\n",
      "at random state 18 r2score is:0.8353660876793956\n",
      "at random state 19 r2score is:0.8783473492701435\n",
      "at random state 20 r2score is:0.9130903566365753\n",
      "at random state 21 r2score is:0.9280981225653249\n",
      "at random state 22 r2score is:0.9278015581594276\n",
      "at random state 23 r2score is:0.9292418223308447\n",
      "at random state 24 r2score is:0.9470588911088107\n",
      "at random state 25 r2score is:0.9374877000743008\n",
      "at random state 26 r2score is:0.8200205806125269\n",
      "at random state 27 r2score is:0.8220038227699802\n",
      "at random state 28 r2score is:0.824657137233989\n",
      "at random state 29 r2score is:0.8428721919021799\n",
      "at random state 30 r2score is:0.8252542820487997\n",
      "at random state 31 r2score is:0.9322410961977345\n",
      "at random state 32 r2score is:0.9175537182776695\n",
      "at random state 33 r2score is:0.9168810654061036\n",
      "at random state 34 r2score is:0.8827613135562806\n",
      "at random state 35 r2score is:0.9152274156114041\n",
      "at random state 36 r2score is:0.9128607101892308\n",
      "at random state 37 r2score is:0.908827832422178\n",
      "at random state 38 r2score is:0.9171487919237081\n",
      "at random state 39 r2score is:0.8557691443734091\n",
      "at random state 40 r2score is:0.8932663650180767\n",
      "at random state 41 r2score is:0.8664155228386854\n",
      "at random state 42 r2score is:0.8973506561453755\n",
      "at random state 43 r2score is:0.8753517136188682\n",
      "at random state 44 r2score is:0.8129261407044059\n",
      "at random state 45 r2score is:0.8752250488622104\n",
      "at random state 46 r2score is:0.8747213040260013\n",
      "at random state 47 r2score is:0.8922417237310007\n",
      "at random state 48 r2score is:0.8680086528232099\n",
      "at random state 49 r2score is:0.8350653342955414\n",
      "at random state 50 r2score is:0.8423100031908729\n",
      "at random state 51 r2score is:0.8957875198770013\n",
      "at random state 52 r2score is:0.8925915186724517\n",
      "at random state 53 r2score is:0.8523547724792295\n",
      "at random state 54 r2score is:0.877635300995289\n",
      "at random state 55 r2score is:0.8987976261667094\n",
      "at random state 56 r2score is:0.844997093268817\n",
      "at random state 57 r2score is:0.8659209846255536\n",
      "at random state 58 r2score is:0.9301081927084236\n",
      "at random state 59 r2score is:0.917710329070742\n",
      "at random state 60 r2score is:0.8827022031179701\n",
      "at random state 61 r2score is:0.854477629443231\n",
      "at random state 62 r2score is:0.8570993690354571\n",
      "at random state 63 r2score is:0.8964376150854271\n",
      "at random state 64 r2score is:0.9265085008144279\n",
      "at random state 65 r2score is:0.8828637466180442\n",
      "at random state 66 r2score is:0.8763302702830921\n",
      "at random state 67 r2score is:0.9058168794622785\n",
      "at random state 68 r2score is:0.8641483684931222\n",
      "at random state 69 r2score is:0.9060630749933308\n",
      "at random state 70 r2score is:0.923287975588787\n",
      "at random state 71 r2score is:0.8075682042626335\n",
      "at random state 72 r2score is:0.9204939440753832\n",
      "at random state 73 r2score is:0.8848284915077834\n",
      "at random state 74 r2score is:0.9302643275474216\n",
      "at random state 75 r2score is:0.8756530010156298\n",
      "at random state 76 r2score is:0.8517080643619264\n",
      "at random state 77 r2score is:0.9168452679704562\n",
      "at random state 78 r2score is:0.7899873713177685\n",
      "at random state 79 r2score is:0.9004279725235953\n",
      "at random state 80 r2score is:0.9035040850720206\n",
      "at random state 81 r2score is:0.9199819618982278\n",
      "at random state 82 r2score is:0.8407226457200959\n",
      "at random state 83 r2score is:0.8790442238369577\n",
      "at random state 84 r2score is:0.9284526387270742\n",
      "at random state 85 r2score is:0.7700764934265758\n",
      "at random state 86 r2score is:0.9056257429769184\n",
      "at random state 87 r2score is:0.8105298937240414\n",
      "at random state 88 r2score is:0.8836012807703079\n",
      "at random state 89 r2score is:0.8457607864614858\n",
      "at random state 90 r2score is:0.9468304700964035\n",
      "at random state 91 r2score is:0.8977596185481717\n",
      "at random state 92 r2score is:0.8934151292076533\n",
      "at random state 93 r2score is:0.8443176859670056\n",
      "at random state 94 r2score is:0.8683982189350958\n",
      "at random state 95 r2score is:0.8477779307074431\n",
      "at random state 96 r2score is:0.85390947283825\n",
      "at random state 97 r2score is:0.8974093864265151\n",
      "at random state 98 r2score is:0.8406615841001427\n",
      "at random state 99 r2score is:0.9298618955109363\n"
     ]
    }
   ],
   "source": [
    "from sklearn.linear_model import LinearRegression\n",
    "from sklearn.metrics import mean_squared_error as mse\n",
    "lr=LinearRegression()\n",
    "for i in range(0,100):\n",
    "    x_train,x_test,y_train,y_test=tts(data_inp,data_op,random_state=i,test_size=0.2)\n",
    "    lr.fit(x_train,y_train)\n",
    "    y_pred=lr.predict(x_test)\n",
    "    rscore=r2_score(y_test,y_pred)\n",
    "    print('at random state {} r2score is:{}'.format(i,rscore))"
   ]
  },
  {
   "cell_type": "code",
   "execution_count": 35,
   "metadata": {},
   "outputs": [
    {
     "data": {
      "text/plain": [
       "(0.9470588911088107, 0.8807167144986324)"
      ]
     },
     "execution_count": 35,
     "metadata": {},
     "output_type": "execute_result"
    }
   ],
   "source": [
    "x_train,x_test,y_train,y_test=tts(data_inp,data_op,random_state=24,test_size=0.2)\n",
    "lr.fit(x_train,y_train)\n",
    "y_pred=lr.predict(x_test)\n",
    "train_pred=lr.predict(x_train)\n",
    "rscore=r2_score(y_test,y_pred)\n",
    "rscore1=r2_score(y_train,train_pred)\n",
    "rscore,rscore1\n"
   ]
  },
  {
   "cell_type": "code",
   "execution_count": 36,
   "metadata": {},
   "outputs": [
    {
     "name": "stdout",
     "output_type": "stream",
     "text": [
      "error:\n",
      "Mean absolute error of test data: 0.18085343678709878\n",
      "Mean absolute error of train data: 0.2657399506208682\n",
      "Mean squared error of test data: 0.2251921960295781\n",
      "Mean squared error of train data: 0.34500202847936157\n"
     ]
    }
   ],
   "source": [
    "from sklearn.metrics import mean_absolute_error,mean_squared_error\n",
    "print('error:')\n",
    "print('Mean absolute error of test data:',mean_absolute_error(y_test,y_pred))\n",
    "print('Mean absolute error of train data:',mean_absolute_error(y_train,train_pred))\n",
    "print('Mean squared error of test data:',np.sqrt(mean_squared_error(y_test,y_pred)))\n",
    "print('Mean squared error of train data:',np.sqrt(mean_squared_error(y_train,train_pred)))"
   ]
  },
  {
   "cell_type": "code",
   "execution_count": 37,
   "metadata": {},
   "outputs": [
    {
     "data": {
      "text/plain": [
       "0.8807167144986324"
      ]
     },
     "execution_count": 37,
     "metadata": {},
     "output_type": "execute_result"
    }
   ],
   "source": [
    "lr.score(x_train,y_train)"
   ]
  },
  {
   "cell_type": "code",
   "execution_count": 38,
   "metadata": {},
   "outputs": [
    {
     "data": {
      "text/plain": [
       "0.9470588911088106"
      ]
     },
     "execution_count": 38,
     "metadata": {},
     "output_type": "execute_result"
    }
   ],
   "source": [
    "lr.score(x_test,y_test)"
   ]
  },
  {
   "cell_type": "code",
   "execution_count": 58,
   "metadata": {},
   "outputs": [
    {
     "data": {
      "text/plain": [
       "(0.9681649295532099, 0.9576905481525442)"
      ]
     },
     "execution_count": 58,
     "metadata": {},
     "output_type": "execute_result"
    }
   ],
   "source": [
    "from sklearn.neighbors import KNeighborsRegressor\n",
    "KNR=KNeighborsRegressor(n_neighbors=4)\n",
    "KNR.fit(x_train,y_train)\n",
    "y_pred=KNR.predict(x_test)\n",
    "train_pred=KNR.predict(x_train)\n",
    "rscore=r2_score(y_test,y_pred)\n",
    "rscore1=r2_score(y_train,train_pred)\n",
    "rscore,rscore1"
   ]
  },
  {
   "cell_type": "code",
   "execution_count": 59,
   "metadata": {},
   "outputs": [
    {
     "name": "stdout",
     "output_type": "stream",
     "text": [
      "error:\n",
      "Mean absolute error of test data: 0.132043293086902\n",
      "Mean absolute error of train data: 0.14049204896501305\n",
      "Mean squared error of test data: 0.17462633001258693\n",
      "Mean squared error of train data: 0.20547100804578586\n"
     ]
    }
   ],
   "source": [
    "from sklearn.metrics import mean_absolute_error,mean_squared_error\n",
    "print('error:')\n",
    "print('Mean absolute error of test data:',mean_absolute_error(y_test,y_pred))\n",
    "print('Mean absolute error of train data:',mean_absolute_error(y_train,train_pred))\n",
    "print('Mean squared error of test data:',np.sqrt(mean_squared_error(y_test,y_pred)))\n",
    "print('Mean squared error of train data:',np.sqrt(mean_squared_error(y_train,train_pred)))"
   ]
  },
  {
   "cell_type": "code",
   "execution_count": 41,
   "metadata": {},
   "outputs": [
    {
     "name": "stdout",
     "output_type": "stream",
     "text": [
      "rscore at 0 is: 0.9816168696301432\n",
      "rscore at 1 is: 0.9791535698003366\n",
      "rscore at 2 is: 0.9805946886129705\n",
      "rscore at 3 is: 0.9820327955815276\n",
      "rscore at 4 is: 0.9761907896350787\n",
      "rscore at 5 is: 0.9798301659987578\n",
      "rscore at 6 is: 0.98273465240769\n",
      "rscore at 7 is: 0.976761485509508\n",
      "rscore at 8 is: 0.97759566916253\n",
      "rscore at 9 is: 0.9744592707596819\n",
      "rscore at 10 is: 0.9814264433594789\n",
      "rscore at 11 is: 0.9764459219752645\n",
      "rscore at 12 is: 0.9764271708169797\n",
      "rscore at 13 is: 0.9796514956356194\n",
      "rscore at 14 is: 0.9803371273662711\n",
      "rscore at 15 is: 0.9805256105117245\n",
      "rscore at 16 is: 0.9797414623328821\n",
      "rscore at 17 is: 0.9793220387561181\n",
      "rscore at 18 is: 0.9751403361460881\n",
      "rscore at 19 is: 0.978613089522936\n",
      "rscore at 20 is: 0.9831290096692339\n",
      "rscore at 21 is: 0.9760166856161856\n",
      "rscore at 22 is: 0.9696724789589901\n",
      "rscore at 23 is: 0.9757407618362436\n",
      "rscore at 24 is: 0.9761241404403462\n",
      "rscore at 25 is: 0.9766903671267906\n",
      "rscore at 26 is: 0.9815210735572477\n",
      "rscore at 27 is: 0.9789167999933934\n",
      "rscore at 28 is: 0.9805305654810121\n",
      "rscore at 29 is: 0.9819490468849396\n",
      "rscore at 30 is: 0.9799023531003412\n",
      "rscore at 31 is: 0.9827132780303706\n",
      "rscore at 32 is: 0.9797475831772964\n",
      "rscore at 33 is: 0.9837643144569245\n",
      "rscore at 34 is: 0.97695686674946\n",
      "rscore at 35 is: 0.977942419856408\n",
      "rscore at 36 is: 0.975662453890246\n",
      "rscore at 37 is: 0.979194958367328\n",
      "rscore at 38 is: 0.9738755559463396\n",
      "rscore at 39 is: 0.9777220694574964\n",
      "rscore at 40 is: 0.9802128645090367\n",
      "rscore at 41 is: 0.975582299975298\n",
      "rscore at 42 is: 0.9809974984691817\n",
      "rscore at 43 is: 0.9796523700419643\n",
      "rscore at 44 is: 0.9763567325280861\n",
      "rscore at 45 is: 0.9770349803829366\n",
      "rscore at 46 is: 0.9777570457112919\n",
      "rscore at 47 is: 0.9807043780311235\n",
      "rscore at 48 is: 0.9777659840872619\n",
      "rscore at 49 is: 0.9785546014540891\n",
      "rscore at 50 is: 0.9798880711300415\n",
      "rscore at 51 is: 0.9754119850505661\n",
      "rscore at 52 is: 0.9776767946400834\n",
      "rscore at 53 is: 0.9794882731179071\n",
      "rscore at 54 is: 0.9789122336491478\n",
      "rscore at 55 is: 0.9772908899732067\n",
      "rscore at 56 is: 0.9723815841279704\n",
      "rscore at 57 is: 0.9804484684408533\n",
      "rscore at 58 is: 0.9705090915185256\n",
      "rscore at 59 is: 0.9815936492838734\n",
      "rscore at 60 is: 0.9784702698199379\n",
      "rscore at 61 is: 0.9770355633204998\n",
      "rscore at 62 is: 0.9768591275513537\n",
      "rscore at 63 is: 0.9767764475736317\n",
      "rscore at 64 is: 0.9757369727420824\n",
      "rscore at 65 is: 0.9848918128605256\n",
      "rscore at 66 is: 0.9804600300358579\n",
      "rscore at 67 is: 0.983057794130256\n",
      "rscore at 68 is: 0.9786765325610706\n",
      "rscore at 69 is: 0.9776500766684341\n",
      "rscore at 70 is: 0.9795961165671099\n",
      "rscore at 71 is: 0.9789990913460733\n",
      "rscore at 72 is: 0.9810923229794716\n",
      "rscore at 73 is: 0.9764469906941304\n",
      "rscore at 74 is: 0.976218576325594\n",
      "rscore at 75 is: 0.9803711320574611\n",
      "rscore at 76 is: 0.9817356917367872\n",
      "rscore at 77 is: 0.9780214078962294\n",
      "rscore at 78 is: 0.9778538133467927\n",
      "rscore at 79 is: 0.9772611601574805\n",
      "rscore at 80 is: 0.9783356112428253\n",
      "rscore at 81 is: 0.9824272499993321\n",
      "rscore at 82 is: 0.978458319599891\n",
      "rscore at 83 is: 0.9755860890694592\n",
      "rscore at 84 is: 0.9749049265267924\n",
      "rscore at 85 is: 0.9783423150248027\n",
      "rscore at 86 is: 0.9765525023930801\n",
      "rscore at 87 is: 0.9782530284213637\n",
      "rscore at 88 is: 0.9796573250112519\n",
      "rscore at 89 is: 0.9765026612314216\n",
      "rscore at 90 is: 0.9742345483290459\n",
      "rscore at 91 is: 0.9770417813211746\n",
      "rscore at 92 is: 0.9780096519887036\n",
      "rscore at 93 is: 0.9786769211861128\n",
      "rscore at 94 is: 0.9836591913830169\n",
      "rscore at 95 is: 0.9842602971669964\n",
      "rscore at 96 is: 0.9758056622182864\n",
      "rscore at 97 is: 0.9803125468323537\n",
      "rscore at 98 is: 0.9759646098605346\n",
      "rscore at 99 is: 0.9813280240675488\n"
     ]
    }
   ],
   "source": [
    "for i in range(0,100):\n",
    "    from sklearn.ensemble import RandomForestRegressor as RFR\n",
    "    RFR=RFR(random_state=i)\n",
    "    RFR.fit(x_train,y_train)\n",
    "    y_pred=RFR.predict(x_test)\n",
    "    rscore=r2_score(y_test,y_pred)\n",
    "    print('rscore at',i,'is:',rscore)"
   ]
  },
  {
   "cell_type": "code",
   "execution_count": 42,
   "metadata": {},
   "outputs": [
    {
     "data": {
      "text/plain": [
       "(0.9837643144569245, 0.9938490854659738)"
      ]
     },
     "execution_count": 42,
     "metadata": {},
     "output_type": "execute_result"
    }
   ],
   "source": [
    "from sklearn.ensemble import RandomForestRegressor as RFR\n",
    "RFR=RFR(random_state=33)\n",
    "RFR.fit(x_train,y_train)\n",
    "y_pred=RFR.predict(x_test)\n",
    "train_pred=RFR.predict(x_train)\n",
    "rscore=r2_score(y_test,y_pred)\n",
    "rscore1=r2_score(y_train,train_pred)\n",
    "rscore,rscore1"
   ]
  },
  {
   "cell_type": "code",
   "execution_count": 43,
   "metadata": {},
   "outputs": [
    {
     "name": "stdout",
     "output_type": "stream",
     "text": [
      "error:\n",
      "Mean absolute error of test data: 0.10105231014321814\n",
      "Mean absolute error of train data: 0.0549390463532024\n",
      "Mean squared error of test data: 0.12470737417037328\n",
      "Mean squared error of train data: 0.07834327067765653\n"
     ]
    }
   ],
   "source": [
    "from sklearn.metrics import mean_absolute_error,mean_squared_error\n",
    "print('error:')\n",
    "print('Mean absolute error of test data:',mean_absolute_error(y_test,y_pred))\n",
    "print('Mean absolute error of train data:',mean_absolute_error(y_train,train_pred))\n",
    "print('Mean squared error of test data:',np.sqrt(mean_squared_error(y_test,y_pred)))\n",
    "print('Mean squared error of train data:',np.sqrt(mean_squared_error(y_train,train_pred)))"
   ]
  },
  {
   "cell_type": "code",
   "execution_count": 44,
   "metadata": {},
   "outputs": [
    {
     "name": "stdout",
     "output_type": "stream",
     "text": [
      "Predicted sales is: [-1.32758292  1.49512887  0.09245528 -0.98029097 -0.7622688  -0.84909179\n",
      "  1.2674597  -0.69859861  0.00756169 -0.55775243 -0.48250584  1.17677792\n",
      "  0.79668617  0.52657021 -0.28377767  1.18642491  0.25452485  0.76388638\n",
      "  1.74016263  1.52021107 -1.32951232  1.60124585  1.08030793 -0.68316341\n",
      "  0.76774518  0.22751326  0.50727621  1.15941332  2.21672436  0.5998874\n",
      "  1.41602348 -0.67737521 -0.44391785 -1.05167876 -0.55968183  0.32591264\n",
      "  0.11174927 -0.94556177 -0.7641982  -0.18730768]\n",
      "Actual sales is: 190   -1.559111\n",
      "109    1.508635\n",
      "101    0.138761\n",
      "125   -0.999585\n",
      "48    -0.825939\n",
      "194   -0.825939\n",
      "29     1.431459\n",
      "188   -0.613705\n",
      "158    0.080879\n",
      "142   -0.497941\n",
      "72    -0.575117\n",
      "91     1.045579\n",
      "14     0.968403\n",
      "25     0.196643\n",
      "144   -0.150649\n",
      "102    1.296401\n",
      "26     0.370289\n",
      "69     0.833345\n",
      "54     1.875221\n",
      "0      1.566517\n",
      "170   -1.231113\n",
      "83     1.489341\n",
      "19     0.775463\n",
      "184   -0.710175\n",
      "161    0.775463\n",
      "84     0.235231\n",
      "182    0.698287\n",
      "122    1.103461\n",
      "181    2.357571\n",
      "11     0.659699\n",
      "137    1.296401\n",
      "155   -0.748763\n",
      "78    -0.575117\n",
      "71    -0.999585\n",
      "81    -0.517235\n",
      "152    0.312407\n",
      "160    0.177349\n",
      "168   -1.076761\n",
      "64    -0.903115\n",
      "114   -0.343589\n",
      "Name: sales, dtype: float64\n"
     ]
    }
   ],
   "source": [
    "pred=RFR.predict(x_test)\n",
    "print('Predicted sales is:',pred)\n",
    "print('Actual sales is:',y_test)"
   ]
  },
  {
   "cell_type": "code",
   "execution_count": 47,
   "metadata": {},
   "outputs": [],
   "source": [
    "sales_output=pd.DataFrame({'Actual sales':y_test,'Predicted sales':pred})"
   ]
  },
  {
   "cell_type": "code",
   "execution_count": 48,
   "metadata": {},
   "outputs": [
    {
     "data": {
      "text/html": [
       "<div>\n",
       "<style scoped>\n",
       "    .dataframe tbody tr th:only-of-type {\n",
       "        vertical-align: middle;\n",
       "    }\n",
       "\n",
       "    .dataframe tbody tr th {\n",
       "        vertical-align: top;\n",
       "    }\n",
       "\n",
       "    .dataframe thead th {\n",
       "        text-align: right;\n",
       "    }\n",
       "</style>\n",
       "<table border=\"1\" class=\"dataframe\">\n",
       "  <thead>\n",
       "    <tr style=\"text-align: right;\">\n",
       "      <th></th>\n",
       "      <th>Actual sales</th>\n",
       "      <th>Predicted sales</th>\n",
       "    </tr>\n",
       "  </thead>\n",
       "  <tbody>\n",
       "    <tr>\n",
       "      <th>190</th>\n",
       "      <td>-1.559111</td>\n",
       "      <td>-1.327583</td>\n",
       "    </tr>\n",
       "    <tr>\n",
       "      <th>109</th>\n",
       "      <td>1.508635</td>\n",
       "      <td>1.495129</td>\n",
       "    </tr>\n",
       "    <tr>\n",
       "      <th>101</th>\n",
       "      <td>0.138761</td>\n",
       "      <td>0.092455</td>\n",
       "    </tr>\n",
       "    <tr>\n",
       "      <th>125</th>\n",
       "      <td>-0.999585</td>\n",
       "      <td>-0.980291</td>\n",
       "    </tr>\n",
       "    <tr>\n",
       "      <th>48</th>\n",
       "      <td>-0.825939</td>\n",
       "      <td>-0.762269</td>\n",
       "    </tr>\n",
       "    <tr>\n",
       "      <th>194</th>\n",
       "      <td>-0.825939</td>\n",
       "      <td>-0.849092</td>\n",
       "    </tr>\n",
       "    <tr>\n",
       "      <th>29</th>\n",
       "      <td>1.431459</td>\n",
       "      <td>1.267460</td>\n",
       "    </tr>\n",
       "    <tr>\n",
       "      <th>188</th>\n",
       "      <td>-0.613705</td>\n",
       "      <td>-0.698599</td>\n",
       "    </tr>\n",
       "    <tr>\n",
       "      <th>158</th>\n",
       "      <td>0.080879</td>\n",
       "      <td>0.007562</td>\n",
       "    </tr>\n",
       "    <tr>\n",
       "      <th>142</th>\n",
       "      <td>-0.497941</td>\n",
       "      <td>-0.557752</td>\n",
       "    </tr>\n",
       "    <tr>\n",
       "      <th>72</th>\n",
       "      <td>-0.575117</td>\n",
       "      <td>-0.482506</td>\n",
       "    </tr>\n",
       "    <tr>\n",
       "      <th>91</th>\n",
       "      <td>1.045579</td>\n",
       "      <td>1.176778</td>\n",
       "    </tr>\n",
       "    <tr>\n",
       "      <th>14</th>\n",
       "      <td>0.968403</td>\n",
       "      <td>0.796686</td>\n",
       "    </tr>\n",
       "    <tr>\n",
       "      <th>25</th>\n",
       "      <td>0.196643</td>\n",
       "      <td>0.526570</td>\n",
       "    </tr>\n",
       "    <tr>\n",
       "      <th>144</th>\n",
       "      <td>-0.150649</td>\n",
       "      <td>-0.283778</td>\n",
       "    </tr>\n",
       "    <tr>\n",
       "      <th>102</th>\n",
       "      <td>1.296401</td>\n",
       "      <td>1.186425</td>\n",
       "    </tr>\n",
       "    <tr>\n",
       "      <th>26</th>\n",
       "      <td>0.370289</td>\n",
       "      <td>0.254525</td>\n",
       "    </tr>\n",
       "    <tr>\n",
       "      <th>69</th>\n",
       "      <td>0.833345</td>\n",
       "      <td>0.763886</td>\n",
       "    </tr>\n",
       "    <tr>\n",
       "      <th>54</th>\n",
       "      <td>1.875221</td>\n",
       "      <td>1.740163</td>\n",
       "    </tr>\n",
       "    <tr>\n",
       "      <th>0</th>\n",
       "      <td>1.566517</td>\n",
       "      <td>1.520211</td>\n",
       "    </tr>\n",
       "    <tr>\n",
       "      <th>170</th>\n",
       "      <td>-1.231113</td>\n",
       "      <td>-1.329512</td>\n",
       "    </tr>\n",
       "    <tr>\n",
       "      <th>83</th>\n",
       "      <td>1.489341</td>\n",
       "      <td>1.601246</td>\n",
       "    </tr>\n",
       "    <tr>\n",
       "      <th>19</th>\n",
       "      <td>0.775463</td>\n",
       "      <td>1.080308</td>\n",
       "    </tr>\n",
       "    <tr>\n",
       "      <th>184</th>\n",
       "      <td>-0.710175</td>\n",
       "      <td>-0.683163</td>\n",
       "    </tr>\n",
       "    <tr>\n",
       "      <th>161</th>\n",
       "      <td>0.775463</td>\n",
       "      <td>0.767745</td>\n",
       "    </tr>\n",
       "    <tr>\n",
       "      <th>84</th>\n",
       "      <td>0.235231</td>\n",
       "      <td>0.227513</td>\n",
       "    </tr>\n",
       "    <tr>\n",
       "      <th>182</th>\n",
       "      <td>0.698287</td>\n",
       "      <td>0.507276</td>\n",
       "    </tr>\n",
       "    <tr>\n",
       "      <th>122</th>\n",
       "      <td>1.103461</td>\n",
       "      <td>1.159413</td>\n",
       "    </tr>\n",
       "    <tr>\n",
       "      <th>181</th>\n",
       "      <td>2.357571</td>\n",
       "      <td>2.216724</td>\n",
       "    </tr>\n",
       "    <tr>\n",
       "      <th>11</th>\n",
       "      <td>0.659699</td>\n",
       "      <td>0.599887</td>\n",
       "    </tr>\n",
       "    <tr>\n",
       "      <th>137</th>\n",
       "      <td>1.296401</td>\n",
       "      <td>1.416023</td>\n",
       "    </tr>\n",
       "    <tr>\n",
       "      <th>155</th>\n",
       "      <td>-0.748763</td>\n",
       "      <td>-0.677375</td>\n",
       "    </tr>\n",
       "    <tr>\n",
       "      <th>78</th>\n",
       "      <td>-0.575117</td>\n",
       "      <td>-0.443918</td>\n",
       "    </tr>\n",
       "    <tr>\n",
       "      <th>71</th>\n",
       "      <td>-0.999585</td>\n",
       "      <td>-1.051679</td>\n",
       "    </tr>\n",
       "    <tr>\n",
       "      <th>81</th>\n",
       "      <td>-0.517235</td>\n",
       "      <td>-0.559682</td>\n",
       "    </tr>\n",
       "    <tr>\n",
       "      <th>152</th>\n",
       "      <td>0.312407</td>\n",
       "      <td>0.325913</td>\n",
       "    </tr>\n",
       "    <tr>\n",
       "      <th>160</th>\n",
       "      <td>0.177349</td>\n",
       "      <td>0.111749</td>\n",
       "    </tr>\n",
       "    <tr>\n",
       "      <th>168</th>\n",
       "      <td>-1.076761</td>\n",
       "      <td>-0.945562</td>\n",
       "    </tr>\n",
       "    <tr>\n",
       "      <th>64</th>\n",
       "      <td>-0.903115</td>\n",
       "      <td>-0.764198</td>\n",
       "    </tr>\n",
       "    <tr>\n",
       "      <th>114</th>\n",
       "      <td>-0.343589</td>\n",
       "      <td>-0.187308</td>\n",
       "    </tr>\n",
       "  </tbody>\n",
       "</table>\n",
       "</div>"
      ],
      "text/plain": [
       "     Actual sales  Predicted sales\n",
       "190     -1.559111        -1.327583\n",
       "109      1.508635         1.495129\n",
       "101      0.138761         0.092455\n",
       "125     -0.999585        -0.980291\n",
       "48      -0.825939        -0.762269\n",
       "194     -0.825939        -0.849092\n",
       "29       1.431459         1.267460\n",
       "188     -0.613705        -0.698599\n",
       "158      0.080879         0.007562\n",
       "142     -0.497941        -0.557752\n",
       "72      -0.575117        -0.482506\n",
       "91       1.045579         1.176778\n",
       "14       0.968403         0.796686\n",
       "25       0.196643         0.526570\n",
       "144     -0.150649        -0.283778\n",
       "102      1.296401         1.186425\n",
       "26       0.370289         0.254525\n",
       "69       0.833345         0.763886\n",
       "54       1.875221         1.740163\n",
       "0        1.566517         1.520211\n",
       "170     -1.231113        -1.329512\n",
       "83       1.489341         1.601246\n",
       "19       0.775463         1.080308\n",
       "184     -0.710175        -0.683163\n",
       "161      0.775463         0.767745\n",
       "84       0.235231         0.227513\n",
       "182      0.698287         0.507276\n",
       "122      1.103461         1.159413\n",
       "181      2.357571         2.216724\n",
       "11       0.659699         0.599887\n",
       "137      1.296401         1.416023\n",
       "155     -0.748763        -0.677375\n",
       "78      -0.575117        -0.443918\n",
       "71      -0.999585        -1.051679\n",
       "81      -0.517235        -0.559682\n",
       "152      0.312407         0.325913\n",
       "160      0.177349         0.111749\n",
       "168     -1.076761        -0.945562\n",
       "64      -0.903115        -0.764198\n",
       "114     -0.343589        -0.187308"
      ]
     },
     "execution_count": 48,
     "metadata": {},
     "output_type": "execute_result"
    }
   ],
   "source": [
    "sales_output"
   ]
  },
  {
   "cell_type": "code",
   "execution_count": 49,
   "metadata": {},
   "outputs": [],
   "source": [
    "sales_output.to_csv('sales_output.csv')"
   ]
  },
  {
   "cell_type": "code",
   "execution_count": 50,
   "metadata": {},
   "outputs": [
    {
     "name": "stderr",
     "output_type": "stream",
     "text": [
      "C:\\ProgramData\\Anaconda3\\lib\\site-packages\\sklearn\\externals\\joblib\\__init__.py:15: DeprecationWarning: sklearn.externals.joblib is deprecated in 0.21 and will be removed in 0.23. Please import this functionality directly from joblib, which can be installed with: pip install joblib. If this warning is raised when loading pickled models, you may need to re-serialize those models with scikit-learn 0.21+.\n",
      "  warnings.warn(msg, category=DeprecationWarning)\n"
     ]
    }
   ],
   "source": [
    "from sklearn.externals import joblib"
   ]
  },
  {
   "cell_type": "code",
   "execution_count": 60,
   "metadata": {},
   "outputs": [
    {
     "data": {
      "text/plain": [
       "['Random_forest_regressor.pkl']"
      ]
     },
     "execution_count": 60,
     "metadata": {},
     "output_type": "execute_result"
    }
   ],
   "source": [
    "joblib.dump(RFR,'Random_forest_regressor.pkl')"
   ]
  },
  {
   "cell_type": "raw",
   "metadata": {},
   "source": [
    "# Random forest regressor gives high r2 score for both training and testing data for sales output data also less errors are present so chosen as best model for this data."
   ]
  },
  {
   "cell_type": "code",
   "execution_count": null,
   "metadata": {},
   "outputs": [],
   "source": []
  }
 ],
 "metadata": {
  "kernelspec": {
   "display_name": "Python 3",
   "language": "python",
   "name": "python3"
  },
  "language_info": {
   "codemirror_mode": {
    "name": "ipython",
    "version": 3
   },
   "file_extension": ".py",
   "mimetype": "text/x-python",
   "name": "python",
   "nbconvert_exporter": "python",
   "pygments_lexer": "ipython3",
   "version": "3.7.3"
  }
 },
 "nbformat": 4,
 "nbformat_minor": 2
}
