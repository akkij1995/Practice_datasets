{
 "cells": [
  {
   "cell_type": "code",
   "execution_count": 3,
   "metadata": {},
   "outputs": [],
   "source": [
    "import pandas as pd\n",
    "import numpy as np\n",
    "import matplotlib.pyplot as plt\n",
    "%matplotlib inline\n",
    "import seaborn as sns\n",
    "import warnings\n",
    "warnings.filterwarnings('ignore')"
   ]
  },
  {
   "cell_type": "code",
   "execution_count": 4,
   "metadata": {},
   "outputs": [
    {
     "data": {
      "text/html": [
       "<div>\n",
       "<style scoped>\n",
       "    .dataframe tbody tr th:only-of-type {\n",
       "        vertical-align: middle;\n",
       "    }\n",
       "\n",
       "    .dataframe tbody tr th {\n",
       "        vertical-align: top;\n",
       "    }\n",
       "\n",
       "    .dataframe thead th {\n",
       "        text-align: right;\n",
       "    }\n",
       "</style>\n",
       "<table border=\"1\" class=\"dataframe\">\n",
       "  <thead>\n",
       "    <tr style=\"text-align: right;\">\n",
       "      <th></th>\n",
       "      <th>age</th>\n",
       "      <th>sex</th>\n",
       "      <th>cp</th>\n",
       "      <th>trestbps</th>\n",
       "      <th>chol</th>\n",
       "      <th>fbs</th>\n",
       "      <th>restecg</th>\n",
       "      <th>thalach</th>\n",
       "      <th>exang</th>\n",
       "      <th>oldpeak</th>\n",
       "      <th>slope</th>\n",
       "      <th>ca</th>\n",
       "      <th>thal</th>\n",
       "      <th>target</th>\n",
       "    </tr>\n",
       "  </thead>\n",
       "  <tbody>\n",
       "    <tr>\n",
       "      <th>0</th>\n",
       "      <td>63</td>\n",
       "      <td>1</td>\n",
       "      <td>3</td>\n",
       "      <td>145</td>\n",
       "      <td>233</td>\n",
       "      <td>1</td>\n",
       "      <td>0</td>\n",
       "      <td>150</td>\n",
       "      <td>0</td>\n",
       "      <td>2.3</td>\n",
       "      <td>0</td>\n",
       "      <td>0</td>\n",
       "      <td>1</td>\n",
       "      <td>1</td>\n",
       "    </tr>\n",
       "    <tr>\n",
       "      <th>1</th>\n",
       "      <td>37</td>\n",
       "      <td>1</td>\n",
       "      <td>2</td>\n",
       "      <td>130</td>\n",
       "      <td>250</td>\n",
       "      <td>0</td>\n",
       "      <td>1</td>\n",
       "      <td>187</td>\n",
       "      <td>0</td>\n",
       "      <td>3.5</td>\n",
       "      <td>0</td>\n",
       "      <td>0</td>\n",
       "      <td>2</td>\n",
       "      <td>1</td>\n",
       "    </tr>\n",
       "    <tr>\n",
       "      <th>2</th>\n",
       "      <td>41</td>\n",
       "      <td>0</td>\n",
       "      <td>1</td>\n",
       "      <td>130</td>\n",
       "      <td>204</td>\n",
       "      <td>0</td>\n",
       "      <td>0</td>\n",
       "      <td>172</td>\n",
       "      <td>0</td>\n",
       "      <td>1.4</td>\n",
       "      <td>2</td>\n",
       "      <td>0</td>\n",
       "      <td>2</td>\n",
       "      <td>1</td>\n",
       "    </tr>\n",
       "    <tr>\n",
       "      <th>3</th>\n",
       "      <td>56</td>\n",
       "      <td>1</td>\n",
       "      <td>1</td>\n",
       "      <td>120</td>\n",
       "      <td>236</td>\n",
       "      <td>0</td>\n",
       "      <td>1</td>\n",
       "      <td>178</td>\n",
       "      <td>0</td>\n",
       "      <td>0.8</td>\n",
       "      <td>2</td>\n",
       "      <td>0</td>\n",
       "      <td>2</td>\n",
       "      <td>1</td>\n",
       "    </tr>\n",
       "    <tr>\n",
       "      <th>4</th>\n",
       "      <td>57</td>\n",
       "      <td>0</td>\n",
       "      <td>0</td>\n",
       "      <td>120</td>\n",
       "      <td>354</td>\n",
       "      <td>0</td>\n",
       "      <td>1</td>\n",
       "      <td>163</td>\n",
       "      <td>1</td>\n",
       "      <td>0.6</td>\n",
       "      <td>2</td>\n",
       "      <td>0</td>\n",
       "      <td>2</td>\n",
       "      <td>1</td>\n",
       "    </tr>\n",
       "  </tbody>\n",
       "</table>\n",
       "</div>"
      ],
      "text/plain": [
       "   age  sex  cp  trestbps  chol  fbs  restecg  thalach  exang  oldpeak  slope  \\\n",
       "0   63    1   3       145   233    1        0      150      0      2.3      0   \n",
       "1   37    1   2       130   250    0        1      187      0      3.5      0   \n",
       "2   41    0   1       130   204    0        0      172      0      1.4      2   \n",
       "3   56    1   1       120   236    0        1      178      0      0.8      2   \n",
       "4   57    0   0       120   354    0        1      163      1      0.6      2   \n",
       "\n",
       "   ca  thal  target  \n",
       "0   0     1       1  \n",
       "1   0     2       1  \n",
       "2   0     2       1  \n",
       "3   0     2       1  \n",
       "4   0     2       1  "
      ]
     },
     "execution_count": 4,
     "metadata": {},
     "output_type": "execute_result"
    }
   ],
   "source": [
    "data=pd.read_csv('Heartdisease.csv')\n",
    "data.head()"
   ]
  },
  {
   "cell_type": "code",
   "execution_count": 5,
   "metadata": {},
   "outputs": [
    {
     "data": {
      "text/plain": [
       "(303, 14)"
      ]
     },
     "execution_count": 5,
     "metadata": {},
     "output_type": "execute_result"
    }
   ],
   "source": [
    "data.shape"
   ]
  },
  {
   "cell_type": "code",
   "execution_count": 6,
   "metadata": {},
   "outputs": [
    {
     "data": {
      "text/plain": [
       "age           int64\n",
       "sex           int64\n",
       "cp            int64\n",
       "trestbps      int64\n",
       "chol          int64\n",
       "fbs           int64\n",
       "restecg       int64\n",
       "thalach       int64\n",
       "exang         int64\n",
       "oldpeak     float64\n",
       "slope         int64\n",
       "ca            int64\n",
       "thal          int64\n",
       "target        int64\n",
       "dtype: object"
      ]
     },
     "execution_count": 6,
     "metadata": {},
     "output_type": "execute_result"
    }
   ],
   "source": [
    "data.dtypes"
   ]
  },
  {
   "cell_type": "code",
   "execution_count": 7,
   "metadata": {},
   "outputs": [
    {
     "data": {
      "text/plain": [
       "age         0\n",
       "sex         0\n",
       "cp          0\n",
       "trestbps    0\n",
       "chol        0\n",
       "fbs         0\n",
       "restecg     0\n",
       "thalach     0\n",
       "exang       0\n",
       "oldpeak     0\n",
       "slope       0\n",
       "ca          0\n",
       "thal        0\n",
       "target      0\n",
       "dtype: int64"
      ]
     },
     "execution_count": 7,
     "metadata": {},
     "output_type": "execute_result"
    }
   ],
   "source": [
    "data.isnull().sum()"
   ]
  },
  {
   "cell_type": "code",
   "execution_count": 8,
   "metadata": {},
   "outputs": [
    {
     "data": {
      "text/plain": [
       "age        -0.202463\n",
       "sex        -0.791335\n",
       "cp          0.484732\n",
       "trestbps    0.713768\n",
       "chol        1.143401\n",
       "fbs         1.986652\n",
       "restecg     0.162522\n",
       "thalach    -0.537410\n",
       "exang       0.742532\n",
       "oldpeak     1.269720\n",
       "slope      -0.508316\n",
       "ca          1.310422\n",
       "thal       -0.476722\n",
       "target     -0.179821\n",
       "dtype: float64"
      ]
     },
     "execution_count": 8,
     "metadata": {},
     "output_type": "execute_result"
    }
   ],
   "source": [
    "data.skew()"
   ]
  },
  {
   "cell_type": "code",
   "execution_count": 9,
   "metadata": {},
   "outputs": [],
   "source": [
    "data1=data"
   ]
  },
  {
   "cell_type": "code",
   "execution_count": 10,
   "metadata": {},
   "outputs": [],
   "source": [
    "for col in data1.columns:\n",
    "    if data1.skew().loc[col]>0.55:\n",
    "        data1[col]=np.log1p(data1[col])\n",
    "    elif data1.skew().loc[col]<-0.55:\n",
    "        data1[col]=np.power(data1[col],3)"
   ]
  },
  {
   "cell_type": "code",
   "execution_count": 11,
   "metadata": {},
   "outputs": [
    {
     "data": {
      "text/plain": [
       "age        -0.202463\n",
       "sex        -0.791335\n",
       "cp          0.484732\n",
       "trestbps    0.284837\n",
       "chol        0.090242\n",
       "fbs         1.986652\n",
       "restecg     0.162522\n",
       "thalach    -0.537410\n",
       "exang       0.742532\n",
       "oldpeak     0.396825\n",
       "slope      -0.508316\n",
       "ca          0.757752\n",
       "thal       -0.476722\n",
       "target     -0.179821\n",
       "dtype: float64"
      ]
     },
     "execution_count": 11,
     "metadata": {},
     "output_type": "execute_result"
    }
   ],
   "source": [
    "data1.skew()"
   ]
  },
  {
   "cell_type": "code",
   "execution_count": 12,
   "metadata": {},
   "outputs": [],
   "source": [
    "for col in data1.columns:\n",
    "    if data1.skew().loc[col]>0.55:\n",
    "        data1[col]=np.log1p(data1[col])\n",
    "    elif data1.skew().loc[col]<-0.55:\n",
    "        data1[col]=np.power(data1[col],3)"
   ]
  },
  {
   "cell_type": "code",
   "execution_count": 13,
   "metadata": {},
   "outputs": [
    {
     "data": {
      "text/plain": [
       "age        -0.202463\n",
       "sex        -0.791335\n",
       "cp          0.484732\n",
       "trestbps    0.284837\n",
       "chol        0.090242\n",
       "fbs         1.986652\n",
       "restecg     0.162522\n",
       "thalach    -0.537410\n",
       "exang       0.742532\n",
       "oldpeak     0.396825\n",
       "slope      -0.508316\n",
       "ca          0.558701\n",
       "thal       -0.476722\n",
       "target     -0.179821\n",
       "dtype: float64"
      ]
     },
     "execution_count": 13,
     "metadata": {},
     "output_type": "execute_result"
    }
   ],
   "source": [
    "data1.skew()"
   ]
  },
  {
   "cell_type": "code",
   "execution_count": 14,
   "metadata": {},
   "outputs": [
    {
     "data": {
      "text/plain": [
       "<matplotlib.axes._subplots.AxesSubplot at 0x2859a5f77f0>"
      ]
     },
     "execution_count": 14,
     "metadata": {},
     "output_type": "execute_result"
    },
    {
     "data": {
      "image/png": "[encoded data removed]",
      "text/plain": [
       "<Figure size 432x288 with 1 Axes>"
      ]
     },
     "metadata": {
      "needs_background": "light"
     },
     "output_type": "display_data"
    }
   ],
   "source": [
    "sns.violinplot(x=data1.age)"
   ]
  },
  {
   "cell_type": "code",
   "execution_count": 15,
   "metadata": {},
   "outputs": [
    {
     "data": {
      "text/plain": [
       "<matplotlib.axes._subplots.AxesSubplot at 0x2859a8fdd30>"
      ]
     },
     "execution_count": 15,
     "metadata": {},
     "output_type": "execute_result"
    },
    {
     "data": {
      "image/png": "[encoded data removed]",
      "text/plain": [
       "<Figure size 432x288 with 1 Axes>"
      ]
     },
     "metadata": {
      "needs_background": "light"
     },
     "output_type": "display_data"
    }
   ],
   "source": [
    "sns.distplot(data1.age,bins=10)"
   ]
  },
  {
   "cell_type": "code",
   "execution_count": 16,
   "metadata": {},
   "outputs": [
    {
     "data": {
      "text/plain": [
       "<matplotlib.axes._subplots.AxesSubplot at 0x2859a93efd0>"
      ]
     },
     "execution_count": 16,
     "metadata": {},
     "output_type": "execute_result"
    },
    {
     "data": {
      "image/png": "[encoded data removed]",
      "text/plain": [
       "<Figure size 432x288 with 1 Axes>"
      ]
     },
     "metadata": {
      "needs_background": "light"
     },
     "output_type": "display_data"
    }
   ],
   "source": [
    "sns.countplot(data1.sex)"
   ]
  },
  {
   "cell_type": "code",
   "execution_count": 17,
   "metadata": {},
   "outputs": [
    {
     "data": {
      "text/plain": [
       "<matplotlib.axes._subplots.AxesSubplot at 0x2859a9f1e48>"
      ]
     },
     "execution_count": 17,
     "metadata": {},
     "output_type": "execute_result"
    },
    {
     "data": {
      "image/png": "[encoded data removed]",
      "text/plain": [
       "<Figure size 432x288 with 1 Axes>"
      ]
     },
     "metadata": {
      "needs_background": "light"
     },
     "output_type": "display_data"
    }
   ],
   "source": [
    "sns.countplot(data1.cp)"
   ]
  },
  {
   "cell_type": "code",
   "execution_count": 18,
   "metadata": {},
   "outputs": [
    {
     "data": {
      "text/plain": [
       "<matplotlib.axes._subplots.AxesSubplot at 0x2859aa46cc0>"
      ]
     },
     "execution_count": 18,
     "metadata": {},
     "output_type": "execute_result"
    },
    {
     "data": {
      "image/png": "[encoded data removed]",
      "text/plain": [
       "<Figure size 432x288 with 1 Axes>"
      ]
     },
     "metadata": {
      "needs_background": "light"
     },
     "output_type": "display_data"
    }
   ],
   "source": [
    "sns.violinplot(data1.trestbps)"
   ]
  },
  {
   "cell_type": "code",
   "execution_count": 19,
   "metadata": {},
   "outputs": [
    {
     "data": {
      "text/plain": [
       "<matplotlib.axes._subplots.AxesSubplot at 0x2859a9a8c50>"
      ]
     },
     "execution_count": 19,
     "metadata": {},
     "output_type": "execute_result"
    },
    {
     "data": {
      "image/png": "[encoded data removed]",
      "text/plain": [
       "<Figure size 432x288 with 1 Axes>"
      ]
     },
     "metadata": {
      "needs_background": "light"
     },
     "output_type": "display_data"
    }
   ],
   "source": [
    "sns.violinplot(data1.chol)"
   ]
  },
  {
   "cell_type": "code",
   "execution_count": 20,
   "metadata": {},
   "outputs": [
    {
     "data": {
      "text/plain": [
       "<matplotlib.axes._subplots.AxesSubplot at 0x2859ab2b518>"
      ]
     },
     "execution_count": 20,
     "metadata": {},
     "output_type": "execute_result"
    },
    {
     "data": {
      "image/png": "[encoded data removed]",
      "text/plain": [
       "<Figure size 432x288 with 1 Axes>"
      ]
     },
     "metadata": {
      "needs_background": "light"
     },
     "output_type": "display_data"
    }
   ],
   "source": [
    "sns.countplot(data1.fbs)"
   ]
  },
  {
   "cell_type": "code",
   "execution_count": 21,
   "metadata": {},
   "outputs": [
    {
     "data": {
      "text/plain": [
       "<matplotlib.axes._subplots.AxesSubplot at 0x2859ab79f28>"
      ]
     },
     "execution_count": 21,
     "metadata": {},
     "output_type": "execute_result"
    },
    {
     "data": {
      "image/png": "[encoded data removed]",
      "text/plain": [
       "<Figure size 432x288 with 1 Axes>"
      ]
     },
     "metadata": {
      "needs_background": "light"
     },
     "output_type": "display_data"
    }
   ],
   "source": [
    "sns.countplot(data1.restecg)"
   ]
  },
  {
   "cell_type": "code",
   "execution_count": 22,
   "metadata": {},
   "outputs": [
    {
     "data": {
      "text/plain": [
       "<matplotlib.axes._subplots.AxesSubplot at 0x2859abe0160>"
      ]
     },
     "execution_count": 22,
     "metadata": {},
     "output_type": "execute_result"
    },
    {
     "data": {
      "image/png": "[encoded data removed]",
      "text/plain": [
       "<Figure size 432x288 with 1 Axes>"
      ]
     },
     "metadata": {
      "needs_background": "light"
     },
     "output_type": "display_data"
    }
   ],
   "source": [
    "sns.violinplot(data1.thalach)"
   ]
  },
  {
   "cell_type": "code",
   "execution_count": 23,
   "metadata": {},
   "outputs": [
    {
     "data": {
      "text/plain": [
       "<matplotlib.axes._subplots.AxesSubplot at 0x2859ac2ea20>"
      ]
     },
     "execution_count": 23,
     "metadata": {},
     "output_type": "execute_result"
    },
    {
     "data": {
      "image/png": "[encoded data removed]",
      "text/plain": [
       "<Figure size 432x288 with 1 Axes>"
      ]
     },
     "metadata": {
      "needs_background": "light"
     },
     "output_type": "display_data"
    }
   ],
   "source": [
    "sns.countplot(data1.exang)"
   ]
  },
  {
   "cell_type": "code",
   "execution_count": 24,
   "metadata": {},
   "outputs": [
    {
     "data": {
      "text/plain": [
       "<matplotlib.axes._subplots.AxesSubplot at 0x2859ac97470>"
      ]
     },
     "execution_count": 24,
     "metadata": {},
     "output_type": "execute_result"
    },
    {
     "data": {
      "image/png": "[encoded data removed]",
      "text/plain": [
       "<Figure size 432x288 with 1 Axes>"
      ]
     },
     "metadata": {
      "needs_background": "light"
     },
     "output_type": "display_data"
    }
   ],
   "source": [
    "sns.violinplot(data1.oldpeak)"
   ]
  },
  {
   "cell_type": "code",
   "execution_count": 25,
   "metadata": {},
   "outputs": [
    {
     "data": {
      "text/plain": [
       "<matplotlib.axes._subplots.AxesSubplot at 0x2859acde4a8>"
      ]
     },
     "execution_count": 25,
     "metadata": {},
     "output_type": "execute_result"
    },
    {
     "data": {
      "image/png": "[encoded data removed]",
      "text/plain": [
       "<Figure size 432x288 with 1 Axes>"
      ]
     },
     "metadata": {
      "needs_background": "light"
     },
     "output_type": "display_data"
    }
   ],
   "source": [
    "sns.countplot(data1.slope)"
   ]
  },
  {
   "cell_type": "code",
   "execution_count": 26,
   "metadata": {},
   "outputs": [
    {
     "data": {
      "text/plain": [
       "<matplotlib.axes._subplots.AxesSubplot at 0x2859ac8e470>"
      ]
     },
     "execution_count": 26,
     "metadata": {},
     "output_type": "execute_result"
    },
    {
     "data": {
      "image/png": "[encoded data removed]",
      "text/plain": [
       "<Figure size 864x360 with 1 Axes>"
      ]
     },
     "metadata": {
      "needs_background": "light"
     },
     "output_type": "display_data"
    }
   ],
   "source": [
    "plt.figure(figsize=(12,5))\n",
    "sns.countplot(data1.ca)"
   ]
  },
  {
   "cell_type": "code",
   "execution_count": 27,
   "metadata": {},
   "outputs": [
    {
     "data": {
      "text/plain": [
       "<matplotlib.axes._subplots.AxesSubplot at 0x2859adae3c8>"
      ]
     },
     "execution_count": 27,
     "metadata": {},
     "output_type": "execute_result"
    },
    {
     "data": {
      "image/png": "[encoded data removed]",
      "text/plain": [
       "<Figure size 432x288 with 1 Axes>"
      ]
     },
     "metadata": {
      "needs_background": "light"
     },
     "output_type": "display_data"
    }
   ],
   "source": [
    "sns.countplot(data1.thal)"
   ]
  },
  {
   "cell_type": "code",
   "execution_count": 28,
   "metadata": {},
   "outputs": [
    {
     "data": {
      "text/plain": [
       "<matplotlib.axes._subplots.AxesSubplot at 0x2859ae02710>"
      ]
     },
     "execution_count": 28,
     "metadata": {},
     "output_type": "execute_result"
    },
    {
     "data": {
      "image/png": "[encoded data removed]",
      "text/plain": [
       "<Figure size 432x288 with 1 Axes>"
      ]
     },
     "metadata": {
      "needs_background": "light"
     },
     "output_type": "display_data"
    }
   ],
   "source": [
    "sns.countplot(data1.target)"
   ]
  },
  {
   "cell_type": "code",
   "execution_count": 29,
   "metadata": {},
   "outputs": [
    {
     "data": {
      "text/plain": [
       "<matplotlib.axes._subplots.AxesSubplot at 0x2859ae81208>"
      ]
     },
     "execution_count": 29,
     "metadata": {},
     "output_type": "execute_result"
    },
    {
     "data": {
      "image/png": "[encoded data removed]",
      "text/plain": [
       "<Figure size 432x288 with 1 Axes>"
      ]
     },
     "metadata": {
      "needs_background": "light"
     },
     "output_type": "display_data"
    }
   ],
   "source": [
    "sns.boxplot(data1.age)"
   ]
  },
  {
   "cell_type": "code",
   "execution_count": 30,
   "metadata": {},
   "outputs": [
    {
     "data": {
      "text/plain": [
       "<matplotlib.axes._subplots.AxesSubplot at 0x2859beb07b8>"
      ]
     },
     "execution_count": 30,
     "metadata": {},
     "output_type": "execute_result"
    },
    {
     "data": {
      "image/png": "[encoded data removed]",
      "text/plain": [
       "<Figure size 432x288 with 1 Axes>"
      ]
     },
     "metadata": {
      "needs_background": "light"
     },
     "output_type": "display_data"
    }
   ],
   "source": [
    "sns.boxplot(data['sex'])"
   ]
  },
  {
   "cell_type": "code",
   "execution_count": 31,
   "metadata": {},
   "outputs": [
    {
     "data": {
      "text/plain": [
       "<matplotlib.axes._subplots.AxesSubplot at 0x2859bf13438>"
      ]
     },
     "execution_count": 31,
     "metadata": {},
     "output_type": "execute_result"
    },
    {
     "data": {
      "image/png": "[encoded data removed]",
      "text/plain": [
       "<Figure size 432x288 with 1 Axes>"
      ]
     },
     "metadata": {
      "needs_background": "light"
     },
     "output_type": "display_data"
    }
   ],
   "source": [
    "sns.boxplot(data1.cp)"
   ]
  },
  {
   "cell_type": "code",
   "execution_count": 32,
   "metadata": {},
   "outputs": [
    {
     "data": {
      "text/plain": [
       "<matplotlib.axes._subplots.AxesSubplot at 0x2859bf76cf8>"
      ]
     },
     "execution_count": 32,
     "metadata": {},
     "output_type": "execute_result"
    },
    {
     "data": {
      "image/png": "[encoded data removed]",
      "text/plain": [
       "<Figure size 432x288 with 1 Axes>"
      ]
     },
     "metadata": {
      "needs_background": "light"
     },
     "output_type": "display_data"
    }
   ],
   "source": [
    "sns.boxplot(data1.trestbps)"
   ]
  },
  {
   "cell_type": "code",
   "execution_count": 33,
   "metadata": {},
   "outputs": [],
   "source": [
    "data1=data1[(data1['trestbps']>4.57) & (data1['trestbps']<5.15)]"
   ]
  },
  {
   "cell_type": "code",
   "execution_count": 34,
   "metadata": {},
   "outputs": [
    {
     "data": {
      "text/plain": [
       "<matplotlib.axes._subplots.AxesSubplot at 0x2859bfc6be0>"
      ]
     },
     "execution_count": 34,
     "metadata": {},
     "output_type": "execute_result"
    },
    {
     "data": {
      "image/png": "[encoded data removed]",
      "text/plain": [
       "<Figure size 432x288 with 1 Axes>"
      ]
     },
     "metadata": {
      "needs_background": "light"
     },
     "output_type": "display_data"
    }
   ],
   "source": [
    "sns.boxplot(data1.trestbps)"
   ]
  },
  {
   "cell_type": "code",
   "execution_count": 35,
   "metadata": {},
   "outputs": [
    {
     "data": {
      "text/plain": [
       "<matplotlib.axes._subplots.AxesSubplot at 0x2859c034128>"
      ]
     },
     "execution_count": 35,
     "metadata": {},
     "output_type": "execute_result"
    },
    {
     "data": {
      "image/png": "[encoded data removed]",
      "text/plain": [
       "<Figure size 432x288 with 1 Axes>"
      ]
     },
     "metadata": {
      "needs_background": "light"
     },
     "output_type": "display_data"
    }
   ],
   "source": [
    "sns.boxplot(data1.chol)"
   ]
  },
  {
   "cell_type": "code",
   "execution_count": 36,
   "metadata": {},
   "outputs": [],
   "source": [
    "data1=data1[(data1['chol']>5) & (data1['chol']<6)]"
   ]
  },
  {
   "cell_type": "code",
   "execution_count": 37,
   "metadata": {},
   "outputs": [
    {
     "data": {
      "text/plain": [
       "<matplotlib.axes._subplots.AxesSubplot at 0x2859c0a8668>"
      ]
     },
     "execution_count": 37,
     "metadata": {},
     "output_type": "execute_result"
    },
    {
     "data": {
      "image/png": "[encoded data removed]",
      "text/plain": [
       "<Figure size 432x288 with 1 Axes>"
      ]
     },
     "metadata": {
      "needs_background": "light"
     },
     "output_type": "display_data"
    }
   ],
   "source": [
    "sns.boxplot(data1.chol)"
   ]
  },
  {
   "cell_type": "code",
   "execution_count": 38,
   "metadata": {},
   "outputs": [
    {
     "data": {
      "text/plain": [
       "<matplotlib.axes._subplots.AxesSubplot at 0x2859c10aac8>"
      ]
     },
     "execution_count": 38,
     "metadata": {},
     "output_type": "execute_result"
    },
    {
     "data": {
      "image/png": "[encoded data removed]",
      "text/plain": [
       "<Figure size 432x288 with 1 Axes>"
      ]
     },
     "metadata": {
      "needs_background": "light"
     },
     "output_type": "display_data"
    }
   ],
   "source": [
    "sns.boxplot(data1.thalach)"
   ]
  },
  {
   "cell_type": "code",
   "execution_count": 39,
   "metadata": {},
   "outputs": [],
   "source": [
    "data1=data1[data1.thalach>80]"
   ]
  },
  {
   "cell_type": "code",
   "execution_count": 40,
   "metadata": {},
   "outputs": [
    {
     "data": {
      "text/plain": [
       "<matplotlib.axes._subplots.AxesSubplot at 0x2859c168b38>"
      ]
     },
     "execution_count": 40,
     "metadata": {},
     "output_type": "execute_result"
    },
    {
     "data": {
      "image/png": "[encoded data removed]",
      "text/plain": [
       "<Figure size 432x288 with 1 Axes>"
      ]
     },
     "metadata": {
      "needs_background": "light"
     },
     "output_type": "display_data"
    }
   ],
   "source": [
    "sns.boxplot(data1.thalach)"
   ]
  },
  {
   "cell_type": "code",
   "execution_count": 41,
   "metadata": {},
   "outputs": [
    {
     "data": {
      "text/plain": [
       "<matplotlib.axes._subplots.AxesSubplot at 0x2859c1ce2b0>"
      ]
     },
     "execution_count": 41,
     "metadata": {},
     "output_type": "execute_result"
    },
    {
     "data": {
      "image/png": "[encoded data removed]",
      "text/plain": [
       "<Figure size 432x288 with 1 Axes>"
      ]
     },
     "metadata": {
      "needs_background": "light"
     },
     "output_type": "display_data"
    }
   ],
   "source": [
    "sns.boxplot(data1.oldpeak)"
   ]
  },
  {
   "cell_type": "code",
   "execution_count": 42,
   "metadata": {},
   "outputs": [
    {
     "data": {
      "text/plain": [
       "(284, 14)"
      ]
     },
     "execution_count": 42,
     "metadata": {},
     "output_type": "execute_result"
    }
   ],
   "source": [
    "data1.shape"
   ]
  },
  {
   "cell_type": "code",
   "execution_count": 43,
   "metadata": {},
   "outputs": [],
   "source": [
    "from sklearn.naive_bayes import BernoulliNB as BNB\n",
    "from sklearn.naive_bayes import GaussianNB as GNB\n",
    "from sklearn.neighbors import KNeighborsClassifier as KNN\n",
    "from sklearn.tree import DecisionTreeClassifier as DTC\n",
    "from sklearn.svm import SVC"
   ]
  },
  {
   "cell_type": "code",
   "execution_count": 44,
   "metadata": {},
   "outputs": [],
   "source": [
    "from sklearn.linear_model import LogisticRegression as LR"
   ]
  },
  {
   "cell_type": "code",
   "execution_count": 45,
   "metadata": {},
   "outputs": [],
   "source": [
    "BNB=BNB()\n",
    "GNB=GNB()\n",
    "KNN=KNN(n_neighbors=6)\n",
    "DTC=DTC()\n",
    "SV=SVC()\n",
    "LR=LR()"
   ]
  },
  {
   "cell_type": "code",
   "execution_count": 46,
   "metadata": {},
   "outputs": [
    {
     "data": {
      "text/plain": [
       "[('BernoulliNB',\n",
       "  BernoulliNB(alpha=1.0, binarize=0.0, class_prior=None, fit_prior=True)),\n",
       " ('GaussianNB', GaussianNB(priors=None, var_smoothing=1e-09)),\n",
       " ('KNeighborsClassifier',\n",
       "  KNeighborsClassifier(algorithm='auto', leaf_size=30, metric='minkowski',\n",
       "                       metric_params=None, n_jobs=None, n_neighbors=6, p=2,\n",
       "                       weights='uniform')),\n",
       " ('DecisionTreeClassifier',\n",
       "  DecisionTreeClassifier(class_weight=None, criterion='gini', max_depth=None,\n",
       "                         max_features=None, max_leaf_nodes=None,\n",
       "                         min_impurity_decrease=0.0, min_impurity_split=None,\n",
       "                         min_samples_leaf=1, min_samples_split=2,\n",
       "                         min_weight_fraction_leaf=0.0, presort=False,\n",
       "                         random_state=None, splitter='best')),\n",
       " ('SVC', SVC(C=1.0, cache_size=200, class_weight=None, coef0=0.0,\n",
       "      decision_function_shape='ovr', degree=3, gamma='auto_deprecated',\n",
       "      kernel='rbf', max_iter=-1, probability=False, random_state=None,\n",
       "      shrinking=True, tol=0.001, verbose=False)),\n",
       " ('LogisticRegression',\n",
       "  LogisticRegression(C=1.0, class_weight=None, dual=False, fit_intercept=True,\n",
       "                     intercept_scaling=1, l1_ratio=None, max_iter=100,\n",
       "                     multi_class='warn', n_jobs=None, penalty='l2',\n",
       "                     random_state=None, solver='warn', tol=0.0001, verbose=0,\n",
       "                     warm_start=False))]"
      ]
     },
     "execution_count": 46,
     "metadata": {},
     "output_type": "execute_result"
    }
   ],
   "source": [
    "models=[]\n",
    "models.append(('BernoulliNB',BNB))\n",
    "models.append(('GaussianNB',GNB))\n",
    "models.append(('KNeighborsClassifier',KNN))\n",
    "models.append(('DecisionTreeClassifier',DTC))\n",
    "models.append(('SVC',SV))\n",
    "models.append(('LogisticRegression',LR))\n",
    "models"
   ]
  },
  {
   "cell_type": "code",
   "execution_count": 47,
   "metadata": {},
   "outputs": [],
   "source": [
    "from sklearn.metrics import classification_report,confusion_matrix,accuracy_score\n",
    "from sklearn.model_selection import cross_val_score \n",
    "from sklearn.metrics import roc_auc_score"
   ]
  },
  {
   "cell_type": "code",
   "execution_count": 48,
   "metadata": {},
   "outputs": [],
   "source": [
    "data_in=data1.drop('target',axis=1)\n",
    "data_op=data1.target"
   ]
  },
  {
   "cell_type": "code",
   "execution_count": 49,
   "metadata": {},
   "outputs": [],
   "source": [
    "from sklearn.model_selection import train_test_split as tts\n",
    "x_train,x_test,y_train,y_test=tts(data_in,data_op,stratify=data_op,test_size=0.33)"
   ]
  },
  {
   "cell_type": "code",
   "execution_count": 50,
   "metadata": {},
   "outputs": [
    {
     "name": "stdout",
     "output_type": "stream",
     "text": [
      "****************** BernoulliNB ********************\n",
      "\n",
      "\n",
      "BernoulliNB(alpha=1.0, binarize=0.0, class_prior=None, fit_prior=True)\n",
      "\n",
      "\n",
      "Accuracy score= 0.8297872340425532\n",
      "\n",
      "\n",
      "cross_value score= 0.8267286991424923\n",
      "\n",
      "\n",
      "Roc_score= 0.8301282051282051\n",
      "****************** GaussianNB ********************\n",
      "\n",
      "\n",
      "GaussianNB(priors=None, var_smoothing=1e-09)\n",
      "\n",
      "\n",
      "Accuracy score= 0.8404255319148937\n",
      "\n",
      "\n",
      "cross_value score= 0.8203430031016238\n",
      "\n",
      "\n",
      "Roc_score= 0.8443223443223442\n",
      "****************** KNeighborsClassifier ********************\n",
      "\n",
      "\n",
      "KNeighborsClassifier(algorithm='auto', leaf_size=30, metric='minkowski',\n",
      "                     metric_params=None, n_jobs=None, n_neighbors=6, p=2,\n",
      "                     weights='uniform')\n",
      "\n",
      "\n",
      "Accuracy score= 0.6914893617021277\n",
      "\n",
      "\n",
      "cross_value score= 0.7072158365261813\n",
      "\n",
      "\n",
      "Roc_score= 0.7074175824175825\n",
      "****************** DecisionTreeClassifier ********************\n",
      "\n",
      "\n",
      "DecisionTreeClassifier(class_weight=None, criterion='gini', max_depth=None,\n",
      "                       max_features=None, max_leaf_nodes=None,\n",
      "                       min_impurity_decrease=0.0, min_impurity_split=None,\n",
      "                       min_samples_leaf=1, min_samples_split=2,\n",
      "                       min_weight_fraction_leaf=0.0, presort=False,\n",
      "                       random_state=None, splitter='best')\n",
      "\n",
      "\n",
      "Accuracy score= 0.7446808510638298\n",
      "\n",
      "\n",
      "cross_value score= 0.7424648786717754\n",
      "\n",
      "\n",
      "Roc_score= 0.7394688644688644\n",
      "****************** SVC ********************\n",
      "\n",
      "\n",
      "SVC(C=1.0, cache_size=200, class_weight=None, coef0=0.0,\n",
      "    decision_function_shape='ovr', degree=3, gamma='auto_deprecated',\n",
      "    kernel='rbf', max_iter=-1, probability=False, random_state=None,\n",
      "    shrinking=True, tol=0.001, verbose=False)\n",
      "\n",
      "\n",
      "Accuracy score= 0.6702127659574468\n",
      "\n",
      "\n",
      "cross_value score= 0.6575488049625982\n",
      "\n",
      "\n",
      "Roc_score= 0.6607142857142857\n",
      "****************** LogisticRegression ********************\n",
      "\n",
      "\n",
      "LogisticRegression(C=1.0, class_weight=None, dual=False, fit_intercept=True,\n",
      "                   intercept_scaling=1, l1_ratio=None, max_iter=100,\n",
      "                   multi_class='warn', n_jobs=None, penalty='l2',\n",
      "                   random_state=None, solver='warn', tol=0.0001, verbose=0,\n",
      "                   warm_start=False)\n",
      "\n",
      "\n",
      "Accuracy score= 0.8404255319148937\n",
      "\n",
      "\n",
      "cross_value score= 0.8402572523262177\n",
      "\n",
      "\n",
      "Roc_score= 0.8397435897435898\n"
     ]
    }
   ],
   "source": [
    "Model=[]\n",
    "score=[]\n",
    "cvs=[]\n",
    "rocscore=[]\n",
    "for name,model in models:\n",
    "    print('******************',name,'********************')\n",
    "    print('\\n')\n",
    "    Model.append(name)\n",
    "    model.fit(x_train,y_train)\n",
    "    print(model)\n",
    "    y_pred=model.predict(x_test)\n",
    "    print('\\n')\n",
    "    accuracy=accuracy_score(y_test,y_pred)\n",
    "    print('Accuracy score=',accuracy)\n",
    "    score.append(accuracy)\n",
    "    print('\\n')\n",
    "    sc=cross_val_score(model,data_in,data_op,cv=10,scoring='accuracy').mean()\n",
    "    print('cross_value score=',sc)\n",
    "    cvs.append(sc)\n",
    "    print('\\n')\n",
    "    rocscor=roc_auc_score(y_test,y_pred)\n",
    "    print('Roc_score=',rocscor)\n",
    "    rocscore.append(rocscor)\n",
    "    "
   ]
  },
  {
   "cell_type": "code",
   "execution_count": 51,
   "metadata": {},
   "outputs": [
    {
     "name": "stdout",
     "output_type": "stream",
     "text": [
      "accuracy score at 0 is 0.8404255319148937\n",
      "accuracy score at 1 is 0.8617021276595744\n",
      "accuracy score at 2 is 0.8617021276595744\n",
      "accuracy score at 3 is 0.851063829787234\n",
      "accuracy score at 4 is 0.7872340425531915\n",
      "accuracy score at 5 is 0.8829787234042553\n",
      "accuracy score at 6 is 0.8723404255319149\n",
      "accuracy score at 7 is 0.851063829787234\n",
      "accuracy score at 8 is 0.7978723404255319\n",
      "accuracy score at 9 is 0.8404255319148937\n",
      "accuracy score at 10 is 0.851063829787234\n",
      "accuracy score at 11 is 0.851063829787234\n",
      "accuracy score at 12 is 0.8617021276595744\n",
      "accuracy score at 13 is 0.851063829787234\n",
      "accuracy score at 14 is 0.7553191489361702\n",
      "accuracy score at 15 is 0.851063829787234\n",
      "accuracy score at 16 is 0.8617021276595744\n",
      "accuracy score at 17 is 0.8297872340425532\n",
      "accuracy score at 18 is 0.8085106382978723\n",
      "accuracy score at 19 is 0.8617021276595744\n",
      "accuracy score at 20 is 0.8617021276595744\n",
      "accuracy score at 21 is 0.8085106382978723\n",
      "accuracy score at 22 is 0.8404255319148937\n",
      "accuracy score at 23 is 0.851063829787234\n",
      "accuracy score at 24 is 0.851063829787234\n",
      "accuracy score at 25 is 0.7978723404255319\n",
      "accuracy score at 26 is 0.7659574468085106\n",
      "accuracy score at 27 is 0.8404255319148937\n",
      "accuracy score at 28 is 0.8297872340425532\n",
      "accuracy score at 29 is 0.851063829787234\n",
      "accuracy score at 30 is 0.8191489361702128\n",
      "accuracy score at 31 is 0.7978723404255319\n",
      "accuracy score at 32 is 0.8297872340425532\n",
      "accuracy score at 33 is 0.7872340425531915\n",
      "accuracy score at 34 is 0.8085106382978723\n",
      "accuracy score at 35 is 0.8617021276595744\n",
      "accuracy score at 36 is 0.8617021276595744\n",
      "accuracy score at 37 is 0.7872340425531915\n",
      "accuracy score at 38 is 0.8297872340425532\n",
      "accuracy score at 39 is 0.851063829787234\n",
      "accuracy score at 40 is 0.8936170212765957\n",
      "accuracy score at 41 is 0.7872340425531915\n",
      "accuracy score at 42 is 0.8297872340425532\n",
      "accuracy score at 43 is 0.8404255319148937\n",
      "accuracy score at 44 is 0.776595744680851\n",
      "accuracy score at 45 is 0.7872340425531915\n",
      "accuracy score at 46 is 0.7872340425531915\n",
      "accuracy score at 47 is 0.8191489361702128\n",
      "accuracy score at 48 is 0.8297872340425532\n",
      "accuracy score at 49 is 0.8404255319148937\n",
      "accuracy score at 50 is 0.8829787234042553\n",
      "accuracy score at 51 is 0.8404255319148937\n",
      "accuracy score at 52 is 0.8191489361702128\n",
      "accuracy score at 53 is 0.8191489361702128\n",
      "accuracy score at 54 is 0.8404255319148937\n",
      "accuracy score at 55 is 0.7553191489361702\n",
      "accuracy score at 56 is 0.8191489361702128\n",
      "accuracy score at 57 is 0.8617021276595744\n",
      "accuracy score at 58 is 0.8617021276595744\n",
      "accuracy score at 59 is 0.9042553191489362\n",
      "accuracy score at 60 is 0.8404255319148937\n",
      "accuracy score at 61 is 0.8723404255319149\n",
      "accuracy score at 62 is 0.7978723404255319\n",
      "accuracy score at 63 is 0.8404255319148937\n",
      "accuracy score at 64 is 0.8723404255319149\n",
      "accuracy score at 65 is 0.8191489361702128\n",
      "accuracy score at 66 is 0.851063829787234\n",
      "accuracy score at 67 is 0.8085106382978723\n",
      "accuracy score at 68 is 0.8617021276595744\n",
      "accuracy score at 69 is 0.851063829787234\n",
      "accuracy score at 70 is 0.8404255319148937\n",
      "accuracy score at 71 is 0.9042553191489362\n",
      "accuracy score at 72 is 0.8404255319148937\n",
      "accuracy score at 73 is 0.8829787234042553\n",
      "accuracy score at 74 is 0.8617021276595744\n",
      "accuracy score at 75 is 0.8723404255319149\n",
      "accuracy score at 76 is 0.8297872340425532\n",
      "accuracy score at 77 is 0.8404255319148937\n",
      "accuracy score at 78 is 0.8404255319148937\n",
      "accuracy score at 79 is 0.8829787234042553\n",
      "accuracy score at 80 is 0.851063829787234\n",
      "accuracy score at 81 is 0.8617021276595744\n",
      "accuracy score at 82 is 0.8297872340425532\n",
      "accuracy score at 83 is 0.8404255319148937\n",
      "accuracy score at 84 is 0.8297872340425532\n",
      "accuracy score at 85 is 0.8723404255319149\n",
      "accuracy score at 86 is 0.8404255319148937\n",
      "accuracy score at 87 is 0.8085106382978723\n",
      "accuracy score at 88 is 0.7872340425531915\n",
      "accuracy score at 89 is 0.8829787234042553\n",
      "accuracy score at 90 is 0.7978723404255319\n",
      "accuracy score at 91 is 0.851063829787234\n",
      "accuracy score at 92 is 0.8617021276595744\n",
      "accuracy score at 93 is 0.851063829787234\n",
      "accuracy score at 94 is 0.851063829787234\n",
      "accuracy score at 95 is 0.776595744680851\n",
      "accuracy score at 96 is 0.8191489361702128\n",
      "accuracy score at 97 is 0.8297872340425532\n",
      "accuracy score at 98 is 0.851063829787234\n",
      "accuracy score at 99 is 0.851063829787234\n",
      "max accuracy is  0.9042553191489362 at 59\n"
     ]
    }
   ],
   "source": [
    "from sklearn.linear_model import LogisticRegression\n",
    "from sklearn.metrics import accuracy_score\n",
    "lr=LogisticRegression()\n",
    "max_score=0\n",
    "for i in range(0,100):\n",
    "    x_train,x_test,y_train,y_test=tts(data_in,data_op,random_state=i,test_size=0.33,stratify=data_op)\n",
    "    lr.fit(x_train,y_train)\n",
    "    y_pred=lr.predict(x_test)\n",
    "    accuracy=accuracy_score(y_test,y_pred)\n",
    "    print('accuracy score at',i,'is',accuracy)\n",
    "    if accuracy>max_score:\n",
    "        max_score=accuracy\n",
    "        final_state=i\n",
    "print('max accuracy is ',max_score,'at',final_state)"
   ]
  },
  {
   "cell_type": "code",
   "execution_count": 52,
   "metadata": {},
   "outputs": [
    {
     "data": {
      "text/plain": [
       "(0.9042553191489362, 0.8421052631578947)"
      ]
     },
     "execution_count": 52,
     "metadata": {},
     "output_type": "execute_result"
    }
   ],
   "source": [
    "x_train,x_test,y_train,y_test=tts(data_in,data_op,random_state=59,test_size=0.33,stratify=data_op)\n",
    "lr.fit(x_train,y_train)\n",
    "y_pred=lr.predict(x_test)\n",
    "train_pred=lr.predict(x_train)\n",
    "accuracy=accuracy_score(y_test,y_pred)\n",
    "accuracy1=accuracy_score(y_train,train_pred)\n",
    "accuracy,accuracy1"
   ]
  },
  {
   "cell_type": "code",
   "execution_count": 53,
   "metadata": {},
   "outputs": [
    {
     "data": {
      "text/plain": [
       "array([[37,  5],\n",
       "       [ 4, 48]], dtype=int64)"
      ]
     },
     "execution_count": 53,
     "metadata": {},
     "output_type": "execute_result"
    }
   ],
   "source": [
    "c=confusion_matrix(y_test,y_pred)\n",
    "c"
   ]
  },
  {
   "cell_type": "code",
   "execution_count": 54,
   "metadata": {},
   "outputs": [],
   "source": [
    "from sklearn.metrics import roc_auc_score\n",
    "from sklearn.metrics import roc_curve"
   ]
  },
  {
   "cell_type": "code",
   "execution_count": 55,
   "metadata": {},
   "outputs": [],
   "source": [
    "lr_test_auc=roc_auc_score(y_test,y_pred)\n",
    "lr_train_auc=roc_auc_score(y_train,train_pred)"
   ]
  },
  {
   "cell_type": "code",
   "execution_count": 56,
   "metadata": {},
   "outputs": [
    {
     "data": {
      "text/plain": [
       "(0.902014652014652, 0.8336314847942755)"
      ]
     },
     "execution_count": 56,
     "metadata": {},
     "output_type": "execute_result"
    }
   ],
   "source": [
    "lr_test_auc,lr_train_auc"
   ]
  },
  {
   "cell_type": "code",
   "execution_count": 57,
   "metadata": {},
   "outputs": [],
   "source": [
    "lr_test_probs=lr.predict_proba(x_test)\n",
    "lr_train_probs=lr.predict_proba(x_train)\n",
    "lr_test_probs=lr_test_probs[:,1]\n",
    "lr_train_probs=lr_train_probs[:,1]"
   ]
  },
  {
   "cell_type": "code",
   "execution_count": 58,
   "metadata": {},
   "outputs": [],
   "source": [
    "lr_test_fpr,lr_test_tpr,test_threshold=roc_curve(y_test,lr_test_probs)\n",
    "lr_train_fpr,lr_train_tpr,train_threshold=roc_curve(y_train,lr_train_probs)"
   ]
  },
  {
   "cell_type": "code",
   "execution_count": 59,
   "metadata": {},
   "outputs": [
    {
     "data": {
      "image/png": "[encoded data removed]",
      "text/plain": [
       "<Figure size 432x288 with 1 Axes>"
      ]
     },
     "metadata": {
      "needs_background": "light"
     },
     "output_type": "display_data"
    }
   ],
   "source": [
    "plt.plot(lr_test_fpr,lr_test_tpr,marker='.',label='Test')\n",
    "plt.plot(lr_train_fpr,lr_train_tpr,label='Training')\n",
    "plt.xlabel('False Positive Rate')\n",
    "plt.ylabel('True Positive Rate')\n",
    "plt.legend()\n",
    "plt.show()"
   ]
  },
  {
   "cell_type": "code",
   "execution_count": 60,
   "metadata": {},
   "outputs": [],
   "source": [
    "from sklearn.naive_bayes import BernoulliNB as BNB\n",
    "BNB=BNB()"
   ]
  },
  {
   "cell_type": "code",
   "execution_count": 89,
   "metadata": {},
   "outputs": [
    {
     "data": {
      "text/plain": [
       "(0.8829787234042553, 0.8052631578947368)"
      ]
     },
     "execution_count": 89,
     "metadata": {},
     "output_type": "execute_result"
    }
   ],
   "source": [
    "BNB.fit(x_train,y_train)\n",
    "y_pred=BNB.predict(x_test)\n",
    "train_pred=BNB.predict(x_train)\n",
    "accuracy=accuracy_score(y_test,y_pred)\n",
    "accuracy1=accuracy_score(y_train,train_pred)\n",
    "accuracy,accuracy1"
   ]
  },
  {
   "cell_type": "code",
   "execution_count": 90,
   "metadata": {},
   "outputs": [
    {
     "data": {
      "text/plain": [
       "array([[39,  3],\n",
       "       [ 8, 44]], dtype=int64)"
      ]
     },
     "execution_count": 90,
     "metadata": {},
     "output_type": "execute_result"
    }
   ],
   "source": [
    "c=confusion_matrix(y_test,y_pred)\n",
    "c"
   ]
  },
  {
   "cell_type": "code",
   "execution_count": 62,
   "metadata": {},
   "outputs": [],
   "source": [
    "BNB_test_auc=roc_auc_score(y_test,y_pred)\n",
    "BNB_train_auc=roc_auc_score(y_train,train_pred)"
   ]
  },
  {
   "cell_type": "code",
   "execution_count": 63,
   "metadata": {},
   "outputs": [
    {
     "data": {
      "text/plain": [
       "(0.8873626373626374, 0.8029964221824687)"
      ]
     },
     "execution_count": 63,
     "metadata": {},
     "output_type": "execute_result"
    }
   ],
   "source": [
    "BNB_test_auc,BNB_train_auc"
   ]
  },
  {
   "cell_type": "code",
   "execution_count": 64,
   "metadata": {},
   "outputs": [],
   "source": [
    "from sklearn.naive_bayes import GaussianNB as GNB\n",
    "GNB=GNB()"
   ]
  },
  {
   "cell_type": "code",
   "execution_count": 65,
   "metadata": {},
   "outputs": [
    {
     "data": {
      "text/plain": [
       "(0.8829787234042553, 0.8315789473684211)"
      ]
     },
     "execution_count": 65,
     "metadata": {},
     "output_type": "execute_result"
    }
   ],
   "source": [
    "GNB.fit(x_train,y_train)\n",
    "y_pred=GNB.predict(x_test)\n",
    "train_pred=GNB.predict(x_train)\n",
    "accuracy=accuracy_score(y_test,y_pred)\n",
    "accuracy1=accuracy_score(y_train,train_pred)\n",
    "accuracy,accuracy1"
   ]
  },
  {
   "cell_type": "code",
   "execution_count": 66,
   "metadata": {},
   "outputs": [
    {
     "data": {
      "text/plain": [
       "array([[37,  5],\n",
       "       [ 6, 46]], dtype=int64)"
      ]
     },
     "execution_count": 66,
     "metadata": {},
     "output_type": "execute_result"
    }
   ],
   "source": [
    "c=confusion_matrix(y_test,y_pred)\n",
    "c"
   ]
  },
  {
   "cell_type": "code",
   "execution_count": 67,
   "metadata": {},
   "outputs": [
    {
     "data": {
      "text/plain": [
       "(0.8827838827838828, 0.8280411449016101)"
      ]
     },
     "execution_count": 67,
     "metadata": {},
     "output_type": "execute_result"
    }
   ],
   "source": [
    "GNB_test_auc=roc_auc_score(y_test,y_pred)\n",
    "GNB_train_auc=roc_auc_score(y_train,train_pred)\n",
    "GNB_test_auc,GNB_train_auc"
   ]
  },
  {
   "cell_type": "code",
   "execution_count": 68,
   "metadata": {},
   "outputs": [
    {
     "name": "stdout",
     "output_type": "stream",
     "text": [
      "at random state  0 test accuracy: 0.8297872340425532 train accuracy: 1.0\n",
      "at random state  1 test accuracy: 0.8404255319148937 train accuracy: 0.9736842105263158\n",
      "at random state  2 test accuracy: 0.851063829787234 train accuracy: 0.9947368421052631\n",
      "at random state  3 test accuracy: 0.8085106382978723 train accuracy: 0.9947368421052631\n",
      "at random state  4 test accuracy: 0.8191489361702128 train accuracy: 0.9894736842105263\n",
      "at random state  5 test accuracy: 0.8085106382978723 train accuracy: 1.0\n",
      "at random state  6 test accuracy: 0.8723404255319149 train accuracy: 1.0\n",
      "at random state  7 test accuracy: 0.8404255319148937 train accuracy: 1.0\n",
      "at random state  8 test accuracy: 0.8191489361702128 train accuracy: 0.9894736842105263\n",
      "at random state  9 test accuracy: 0.8617021276595744 train accuracy: 0.9789473684210527\n",
      "at random state  10 test accuracy: 0.851063829787234 train accuracy: 0.9947368421052631\n",
      "at random state  11 test accuracy: 0.8829787234042553 train accuracy: 0.9842105263157894\n",
      "at random state  12 test accuracy: 0.8085106382978723 train accuracy: 1.0\n",
      "at random state  13 test accuracy: 0.8404255319148937 train accuracy: 0.9894736842105263\n",
      "at random state  14 test accuracy: 0.8404255319148937 train accuracy: 0.9947368421052631\n",
      "at random state  15 test accuracy: 0.7978723404255319 train accuracy: 0.9894736842105263\n",
      "at random state  16 test accuracy: 0.8617021276595744 train accuracy: 0.9947368421052631\n",
      "at random state  17 test accuracy: 0.8829787234042553 train accuracy: 1.0\n",
      "at random state  18 test accuracy: 0.8297872340425532 train accuracy: 0.9894736842105263\n",
      "at random state  19 test accuracy: 0.8617021276595744 train accuracy: 0.9894736842105263\n",
      "at random state  20 test accuracy: 0.8297872340425532 train accuracy: 0.9842105263157894\n",
      "at random state  21 test accuracy: 0.8617021276595744 train accuracy: 0.9842105263157894\n",
      "at random state  22 test accuracy: 0.8191489361702128 train accuracy: 0.9894736842105263\n",
      "at random state  23 test accuracy: 0.8936170212765957 train accuracy: 0.9842105263157894\n",
      "at random state  24 test accuracy: 0.8617021276595744 train accuracy: 0.9789473684210527\n",
      "at random state  25 test accuracy: 0.8617021276595744 train accuracy: 0.9894736842105263\n",
      "at random state  26 test accuracy: 0.8297872340425532 train accuracy: 1.0\n",
      "at random state  27 test accuracy: 0.8617021276595744 train accuracy: 0.9842105263157894\n",
      "at random state  28 test accuracy: 0.8936170212765957 train accuracy: 0.9947368421052631\n",
      "at random state  29 test accuracy: 0.8936170212765957 train accuracy: 1.0\n",
      "at random state  30 test accuracy: 0.8617021276595744 train accuracy: 0.9947368421052631\n",
      "at random state  31 test accuracy: 0.8191489361702128 train accuracy: 0.9947368421052631\n",
      "at random state  32 test accuracy: 0.8404255319148937 train accuracy: 0.9894736842105263\n",
      "at random state  33 test accuracy: 0.851063829787234 train accuracy: 0.9947368421052631\n",
      "at random state  34 test accuracy: 0.8829787234042553 train accuracy: 0.9842105263157894\n",
      "at random state  35 test accuracy: 0.851063829787234 train accuracy: 0.9842105263157894\n",
      "at random state  36 test accuracy: 0.8723404255319149 train accuracy: 0.9894736842105263\n",
      "at random state  37 test accuracy: 0.8617021276595744 train accuracy: 0.9947368421052631\n",
      "at random state  38 test accuracy: 0.8829787234042553 train accuracy: 0.9947368421052631\n",
      "at random state  39 test accuracy: 0.8085106382978723 train accuracy: 0.9842105263157894\n",
      "at random state  40 test accuracy: 0.8404255319148937 train accuracy: 0.9842105263157894\n",
      "at random state  41 test accuracy: 0.8404255319148937 train accuracy: 0.9894736842105263\n",
      "at random state  42 test accuracy: 0.8723404255319149 train accuracy: 0.9894736842105263\n",
      "at random state  43 test accuracy: 0.8297872340425532 train accuracy: 0.9842105263157894\n",
      "at random state  44 test accuracy: 0.8936170212765957 train accuracy: 0.9894736842105263\n",
      "at random state  45 test accuracy: 0.8617021276595744 train accuracy: 0.9842105263157894\n",
      "at random state  46 test accuracy: 0.8404255319148937 train accuracy: 0.9842105263157894\n",
      "at random state  47 test accuracy: 0.8404255319148937 train accuracy: 0.9894736842105263\n",
      "at random state  48 test accuracy: 0.8617021276595744 train accuracy: 0.9947368421052631\n",
      "at random state  49 test accuracy: 0.851063829787234 train accuracy: 0.9947368421052631\n",
      "at random state  50 test accuracy: 0.776595744680851 train accuracy: 1.0\n",
      "at random state  51 test accuracy: 0.851063829787234 train accuracy: 0.9789473684210527\n",
      "at random state  52 test accuracy: 0.8297872340425532 train accuracy: 0.9894736842105263\n",
      "at random state  53 test accuracy: 0.8936170212765957 train accuracy: 0.9894736842105263\n",
      "at random state  54 test accuracy: 0.8829787234042553 train accuracy: 0.9842105263157894\n",
      "at random state  55 test accuracy: 0.851063829787234 train accuracy: 0.9894736842105263\n",
      "at random state  56 test accuracy: 0.851063829787234 train accuracy: 0.9894736842105263\n",
      "at random state  57 test accuracy: 0.8404255319148937 train accuracy: 1.0\n",
      "at random state  58 test accuracy: 0.8404255319148937 train accuracy: 0.9789473684210527\n",
      "at random state  59 test accuracy: 0.8085106382978723 train accuracy: 1.0\n",
      "at random state  60 test accuracy: 0.8191489361702128 train accuracy: 1.0\n",
      "at random state  61 test accuracy: 0.8297872340425532 train accuracy: 0.9842105263157894\n",
      "at random state  62 test accuracy: 0.8297872340425532 train accuracy: 0.9842105263157894\n",
      "at random state  63 test accuracy: 0.8191489361702128 train accuracy: 0.9789473684210527\n",
      "at random state  64 test accuracy: 0.8936170212765957 train accuracy: 0.9947368421052631\n",
      "at random state  65 test accuracy: 0.8085106382978723 train accuracy: 0.9947368421052631\n",
      "at random state  66 test accuracy: 0.8829787234042553 train accuracy: 0.9789473684210527\n",
      "at random state  67 test accuracy: 0.776595744680851 train accuracy: 0.9894736842105263\n",
      "at random state  68 test accuracy: 0.8085106382978723 train accuracy: 0.9947368421052631\n",
      "at random state  69 test accuracy: 0.851063829787234 train accuracy: 0.9947368421052631\n",
      "at random state  70 test accuracy: 0.851063829787234 train accuracy: 0.9789473684210527\n",
      "at random state  71 test accuracy: 0.8723404255319149 train accuracy: 1.0\n",
      "at random state  72 test accuracy: 0.8297872340425532 train accuracy: 1.0\n",
      "at random state  73 test accuracy: 0.8617021276595744 train accuracy: 0.9894736842105263\n",
      "at random state  74 test accuracy: 0.8297872340425532 train accuracy: 0.9947368421052631\n",
      "at random state  75 test accuracy: 0.851063829787234 train accuracy: 0.9842105263157894\n",
      "at random state  76 test accuracy: 0.851063829787234 train accuracy: 0.9947368421052631\n",
      "at random state  77 test accuracy: 0.851063829787234 train accuracy: 0.9894736842105263\n",
      "at random state  78 test accuracy: 0.8404255319148937 train accuracy: 0.9894736842105263\n",
      "at random state  79 test accuracy: 0.8191489361702128 train accuracy: 1.0\n",
      "at random state  80 test accuracy: 0.8829787234042553 train accuracy: 0.9947368421052631\n",
      "at random state  81 test accuracy: 0.851063829787234 train accuracy: 0.9947368421052631\n",
      "at random state  82 test accuracy: 0.8404255319148937 train accuracy: 0.9947368421052631\n",
      "at random state  83 test accuracy: 0.851063829787234 train accuracy: 0.9736842105263158\n",
      "at random state  84 test accuracy: 0.7978723404255319 train accuracy: 0.9894736842105263\n",
      "at random state  85 test accuracy: 0.8723404255319149 train accuracy: 0.9894736842105263\n",
      "at random state  86 test accuracy: 0.8297872340425532 train accuracy: 0.9789473684210527\n",
      "at random state  87 test accuracy: 0.8829787234042553 train accuracy: 0.9842105263157894\n",
      "at random state  88 test accuracy: 0.776595744680851 train accuracy: 0.9894736842105263\n",
      "at random state  89 test accuracy: 0.8191489361702128 train accuracy: 0.9842105263157894\n",
      "at random state  90 test accuracy: 0.8085106382978723 train accuracy: 0.9947368421052631\n",
      "at random state  91 test accuracy: 0.851063829787234 train accuracy: 0.9842105263157894\n",
      "at random state  92 test accuracy: 0.8617021276595744 train accuracy: 0.9894736842105263\n",
      "at random state  93 test accuracy: 0.8404255319148937 train accuracy: 1.0\n",
      "at random state  94 test accuracy: 0.8191489361702128 train accuracy: 0.9947368421052631\n",
      "at random state  95 test accuracy: 0.8404255319148937 train accuracy: 0.9894736842105263\n",
      "at random state  96 test accuracy: 0.8404255319148937 train accuracy: 0.9842105263157894\n",
      "at random state  97 test accuracy: 0.8723404255319149 train accuracy: 0.9894736842105263\n",
      "at random state  98 test accuracy: 0.8085106382978723 train accuracy: 0.9894736842105263\n",
      "at random state  99 test accuracy: 0.8404255319148937 train accuracy: 0.9842105263157894\n"
     ]
    }
   ],
   "source": [
    "for i in range(0,100):\n",
    "    from sklearn.ensemble import RandomForestClassifier as RFC\n",
    "    RFC=RFC(random_state=i,criterion='entropy')\n",
    "    RFC.fit(x_train,y_train)\n",
    "    y_pred=RFC.predict(x_test)\n",
    "    train_pred=RFC.predict(x_train)\n",
    "    accuracy=accuracy_score(y_test,y_pred)\n",
    "    accuracy1=accuracy_score(y_train,train_pred)\n",
    "    print('at random state ',i,'test accuracy:',accuracy,'train accuracy:',accuracy1)"
   ]
  },
  {
   "cell_type": "code",
   "execution_count": 69,
   "metadata": {},
   "outputs": [
    {
     "name": "stdout",
     "output_type": "stream",
     "text": [
      "at random state  0 test accuracy: 0.8297872340425532 train accuracy: 0.9947368421052631\n",
      "at random state  1 test accuracy: 0.8404255319148937 train accuracy: 0.9789473684210527\n",
      "at random state  2 test accuracy: 0.8191489361702128 train accuracy: 0.9947368421052631\n",
      "at random state  3 test accuracy: 0.8617021276595744 train accuracy: 0.9894736842105263\n",
      "at random state  4 test accuracy: 0.8723404255319149 train accuracy: 0.9842105263157894\n",
      "at random state  5 test accuracy: 0.8404255319148937 train accuracy: 1.0\n",
      "at random state  6 test accuracy: 0.851063829787234 train accuracy: 0.9894736842105263\n",
      "at random state  7 test accuracy: 0.8723404255319149 train accuracy: 1.0\n",
      "at random state  8 test accuracy: 0.7978723404255319 train accuracy: 1.0\n",
      "at random state  9 test accuracy: 0.8723404255319149 train accuracy: 0.9736842105263158\n",
      "at random state  10 test accuracy: 0.8191489361702128 train accuracy: 0.9894736842105263\n",
      "at random state  11 test accuracy: 0.8404255319148937 train accuracy: 0.9894736842105263\n",
      "at random state  12 test accuracy: 0.8191489361702128 train accuracy: 1.0\n",
      "at random state  13 test accuracy: 0.7978723404255319 train accuracy: 0.9842105263157894\n",
      "at random state  14 test accuracy: 0.8723404255319149 train accuracy: 0.9894736842105263\n",
      "at random state  15 test accuracy: 0.8617021276595744 train accuracy: 0.9947368421052631\n",
      "at random state  16 test accuracy: 0.8617021276595744 train accuracy: 0.9894736842105263\n",
      "at random state  17 test accuracy: 0.851063829787234 train accuracy: 1.0\n",
      "at random state  18 test accuracy: 0.8191489361702128 train accuracy: 0.9842105263157894\n",
      "at random state  19 test accuracy: 0.851063829787234 train accuracy: 0.9842105263157894\n",
      "at random state  20 test accuracy: 0.8617021276595744 train accuracy: 0.9842105263157894\n",
      "at random state  21 test accuracy: 0.8085106382978723 train accuracy: 1.0\n",
      "at random state  22 test accuracy: 0.8404255319148937 train accuracy: 0.9947368421052631\n",
      "at random state  23 test accuracy: 0.8297872340425532 train accuracy: 0.9947368421052631\n",
      "at random state  24 test accuracy: 0.8191489361702128 train accuracy: 0.9894736842105263\n",
      "at random state  25 test accuracy: 0.8297872340425532 train accuracy: 0.9842105263157894\n",
      "at random state  26 test accuracy: 0.8404255319148937 train accuracy: 0.9947368421052631\n",
      "at random state  27 test accuracy: 0.8404255319148937 train accuracy: 0.9947368421052631\n",
      "at random state  28 test accuracy: 0.8191489361702128 train accuracy: 1.0\n",
      "at random state  29 test accuracy: 0.8829787234042553 train accuracy: 1.0\n",
      "at random state  30 test accuracy: 0.8617021276595744 train accuracy: 1.0\n",
      "at random state  31 test accuracy: 0.851063829787234 train accuracy: 0.9947368421052631\n",
      "at random state  32 test accuracy: 0.8297872340425532 train accuracy: 0.9894736842105263\n",
      "at random state  33 test accuracy: 0.851063829787234 train accuracy: 0.9842105263157894\n",
      "at random state  34 test accuracy: 0.851063829787234 train accuracy: 0.9842105263157894\n",
      "at random state  35 test accuracy: 0.8191489361702128 train accuracy: 0.9947368421052631\n",
      "at random state  36 test accuracy: 0.9042553191489362 train accuracy: 0.9894736842105263\n",
      "at random state  37 test accuracy: 0.8829787234042553 train accuracy: 0.9789473684210527\n",
      "at random state  38 test accuracy: 0.8404255319148937 train accuracy: 0.9894736842105263\n",
      "at random state  39 test accuracy: 0.851063829787234 train accuracy: 0.9894736842105263\n",
      "at random state  40 test accuracy: 0.8191489361702128 train accuracy: 0.9947368421052631\n",
      "at random state  41 test accuracy: 0.8085106382978723 train accuracy: 0.9947368421052631\n",
      "at random state  42 test accuracy: 0.851063829787234 train accuracy: 0.9947368421052631\n",
      "at random state  43 test accuracy: 0.851063829787234 train accuracy: 0.9947368421052631\n",
      "at random state  44 test accuracy: 0.8829787234042553 train accuracy: 0.9947368421052631\n",
      "at random state  45 test accuracy: 0.8297872340425532 train accuracy: 0.9894736842105263\n",
      "at random state  46 test accuracy: 0.776595744680851 train accuracy: 0.9842105263157894\n",
      "at random state  47 test accuracy: 0.8617021276595744 train accuracy: 0.9947368421052631\n",
      "at random state  48 test accuracy: 0.7978723404255319 train accuracy: 0.9947368421052631\n",
      "at random state  49 test accuracy: 0.8191489361702128 train accuracy: 0.9894736842105263\n",
      "at random state  50 test accuracy: 0.8297872340425532 train accuracy: 0.9894736842105263\n",
      "at random state  51 test accuracy: 0.8404255319148937 train accuracy: 0.9842105263157894\n",
      "at random state  52 test accuracy: 0.8404255319148937 train accuracy: 0.9947368421052631\n",
      "at random state  53 test accuracy: 0.851063829787234 train accuracy: 0.9947368421052631\n",
      "at random state  54 test accuracy: 0.851063829787234 train accuracy: 0.9894736842105263\n",
      "at random state  55 test accuracy: 0.8085106382978723 train accuracy: 0.9842105263157894\n",
      "at random state  56 test accuracy: 0.8404255319148937 train accuracy: 0.9842105263157894\n",
      "at random state  57 test accuracy: 0.8085106382978723 train accuracy: 0.9947368421052631\n",
      "at random state  58 test accuracy: 0.8191489361702128 train accuracy: 0.9789473684210527\n",
      "at random state  59 test accuracy: 0.8297872340425532 train accuracy: 0.9947368421052631\n",
      "at random state  60 test accuracy: 0.7978723404255319 train accuracy: 0.9947368421052631\n",
      "at random state  61 test accuracy: 0.851063829787234 train accuracy: 0.9842105263157894\n",
      "at random state  62 test accuracy: 0.8936170212765957 train accuracy: 0.9789473684210527\n",
      "at random state  63 test accuracy: 0.8829787234042553 train accuracy: 0.9947368421052631\n",
      "at random state  64 test accuracy: 0.8191489361702128 train accuracy: 1.0\n",
      "at random state  65 test accuracy: 0.8191489361702128 train accuracy: 0.9947368421052631\n",
      "at random state  66 test accuracy: 0.8297872340425532 train accuracy: 0.9894736842105263\n",
      "at random state  67 test accuracy: 0.7553191489361702 train accuracy: 0.9894736842105263\n",
      "at random state  68 test accuracy: 0.7978723404255319 train accuracy: 0.9842105263157894\n",
      "at random state  69 test accuracy: 0.8297872340425532 train accuracy: 0.9894736842105263\n",
      "at random state  70 test accuracy: 0.8191489361702128 train accuracy: 0.9947368421052631\n",
      "at random state  71 test accuracy: 0.8404255319148937 train accuracy: 1.0\n",
      "at random state  72 test accuracy: 0.8297872340425532 train accuracy: 1.0\n",
      "at random state  73 test accuracy: 0.8723404255319149 train accuracy: 0.9894736842105263\n",
      "at random state  74 test accuracy: 0.8085106382978723 train accuracy: 0.9947368421052631\n",
      "at random state  75 test accuracy: 0.8723404255319149 train accuracy: 0.9947368421052631\n",
      "at random state  76 test accuracy: 0.8297872340425532 train accuracy: 0.9947368421052631\n",
      "at random state  77 test accuracy: 0.8617021276595744 train accuracy: 0.9947368421052631\n",
      "at random state  78 test accuracy: 0.8617021276595744 train accuracy: 0.9894736842105263\n",
      "at random state  79 test accuracy: 0.8297872340425532 train accuracy: 0.9947368421052631\n",
      "at random state  80 test accuracy: 0.8723404255319149 train accuracy: 0.9894736842105263\n",
      "at random state  81 test accuracy: 0.8085106382978723 train accuracy: 0.9947368421052631\n",
      "at random state  82 test accuracy: 0.8085106382978723 train accuracy: 0.9947368421052631\n",
      "at random state  83 test accuracy: 0.851063829787234 train accuracy: 0.9789473684210527\n",
      "at random state  84 test accuracy: 0.851063829787234 train accuracy: 0.9947368421052631\n",
      "at random state  85 test accuracy: 0.851063829787234 train accuracy: 0.9894736842105263\n",
      "at random state  86 test accuracy: 0.851063829787234 train accuracy: 0.9947368421052631\n",
      "at random state  87 test accuracy: 0.8404255319148937 train accuracy: 0.9789473684210527\n",
      "at random state  88 test accuracy: 0.7872340425531915 train accuracy: 1.0\n",
      "at random state  89 test accuracy: 0.8297872340425532 train accuracy: 1.0\n",
      "at random state  90 test accuracy: 0.851063829787234 train accuracy: 0.9894736842105263\n",
      "at random state  91 test accuracy: 0.8404255319148937 train accuracy: 0.9842105263157894\n",
      "at random state  92 test accuracy: 0.8404255319148937 train accuracy: 0.9842105263157894\n",
      "at random state  93 test accuracy: 0.8085106382978723 train accuracy: 1.0\n",
      "at random state  94 test accuracy: 0.851063829787234 train accuracy: 1.0\n",
      "at random state  95 test accuracy: 0.8617021276595744 train accuracy: 0.9894736842105263\n"
     ]
    },
    {
     "name": "stdout",
     "output_type": "stream",
     "text": [
      "at random state  96 test accuracy: 0.8404255319148937 train accuracy: 0.9947368421052631\n",
      "at random state  97 test accuracy: 0.8191489361702128 train accuracy: 0.9894736842105263\n",
      "at random state  98 test accuracy: 0.7872340425531915 train accuracy: 0.9789473684210527\n",
      "at random state  99 test accuracy: 0.851063829787234 train accuracy: 0.9789473684210527\n"
     ]
    }
   ],
   "source": [
    "for i in range(0,100):\n",
    "    from sklearn.ensemble import RandomForestClassifier as RFC\n",
    "    RFC=RFC(random_state=i,criterion='gini')\n",
    "    RFC.fit(x_train,y_train)\n",
    "    y_pred=RFC.predict(x_test)\n",
    "    train_pred=RFC.predict(x_train)\n",
    "    accuracy=accuracy_score(y_test,y_pred)\n",
    "    accuracy1=accuracy_score(y_train,train_pred)\n",
    "    print('at random state ',i,'test accuracy:',accuracy,'train accuracy:',accuracy1)"
   ]
  },
  {
   "cell_type": "code",
   "execution_count": 91,
   "metadata": {},
   "outputs": [
    {
     "data": {
      "text/plain": [
       "(0.9042553191489362, 0.9894736842105263)"
      ]
     },
     "execution_count": 91,
     "metadata": {},
     "output_type": "execute_result"
    }
   ],
   "source": [
    "from sklearn.ensemble import RandomForestClassifier as RFC\n",
    "RFC_gini=RFC(random_state=36,criterion='gini')\n",
    "RFC_gini.fit(x_train,y_train)\n",
    "y_pred=RFC_gini.predict(x_test)\n",
    "train_pred=RFC_gini.predict(x_train)\n",
    "accuracy=accuracy_score(y_test,y_pred)\n",
    "accuracy1=accuracy_score(y_train,train_pred)\n",
    "accuracy,accuracy1"
   ]
  },
  {
   "cell_type": "code",
   "execution_count": 92,
   "metadata": {},
   "outputs": [
    {
     "data": {
      "text/plain": [
       "array([[39,  3],\n",
       "       [ 6, 46]], dtype=int64)"
      ]
     },
     "execution_count": 92,
     "metadata": {},
     "output_type": "execute_result"
    }
   ],
   "source": [
    "c=confusion_matrix(y_test,y_pred)\n",
    "c"
   ]
  },
  {
   "cell_type": "code",
   "execution_count": 93,
   "metadata": {},
   "outputs": [
    {
     "data": {
      "text/plain": [
       "(0.9065934065934066, 0.9903846153846154)"
      ]
     },
     "execution_count": 93,
     "metadata": {},
     "output_type": "execute_result"
    }
   ],
   "source": [
    "RFC_test_auc=roc_auc_score(y_test,y_pred)\n",
    "RFC_train_auc=roc_auc_score(y_train,train_pred)\n",
    "RFC_test_auc,RFC_train_auc"
   ]
  },
  {
   "cell_type": "code",
   "execution_count": 97,
   "metadata": {},
   "outputs": [],
   "source": [
    "RFC_test_probs=RFC_gini.predict_proba(x_test)\n",
    "RFC_train_probs=RFC_gini.predict_proba(x_train)\n",
    "RFC_test_probs=RFC_test_probs[:,1]\n",
    "RFC_train_probs=RFC_train_probs[:,1]"
   ]
  },
  {
   "cell_type": "code",
   "execution_count": 98,
   "metadata": {},
   "outputs": [],
   "source": [
    "RFC_test_fpr,RFC_test_tpr,test_threshold=roc_curve(y_test,RFC_test_probs)\n",
    "RFC_train_fpr,RFC_train_tpr,train_threshold=roc_curve(y_train,RFC_train_probs)"
   ]
  },
  {
   "cell_type": "code",
   "execution_count": 99,
   "metadata": {},
   "outputs": [
    {
     "data": {
      "image/png": "[encoded data removed]",
      "text/plain": [
       "<Figure size 432x288 with 1 Axes>"
      ]
     },
     "metadata": {
      "needs_background": "light"
     },
     "output_type": "display_data"
    }
   ],
   "source": [
    "plt.plot(RFC_test_fpr,RFC_test_tpr,marker='.',label='Test')\n",
    "plt.plot(RFC_train_fpr,RFC_train_tpr,label='Training')\n",
    "plt.xlabel('False Positive Rate')\n",
    "plt.ylabel('True Positive Rate')\n",
    "plt.legend()\n",
    "plt.show()"
   ]
  },
  {
   "cell_type": "code",
   "execution_count": 100,
   "metadata": {},
   "outputs": [
    {
     "data": {
      "text/html": [
       "<div>\n",
       "<style scoped>\n",
       "    .dataframe tbody tr th:only-of-type {\n",
       "        vertical-align: middle;\n",
       "    }\n",
       "\n",
       "    .dataframe tbody tr th {\n",
       "        vertical-align: top;\n",
       "    }\n",
       "\n",
       "    .dataframe thead th {\n",
       "        text-align: right;\n",
       "    }\n",
       "</style>\n",
       "<table border=\"1\" class=\"dataframe\">\n",
       "  <thead>\n",
       "    <tr style=\"text-align: right;\">\n",
       "      <th></th>\n",
       "      <th>Predicted</th>\n",
       "    </tr>\n",
       "  </thead>\n",
       "  <tbody>\n",
       "    <tr>\n",
       "      <th>76</th>\n",
       "      <td>1</td>\n",
       "    </tr>\n",
       "    <tr>\n",
       "      <th>244</th>\n",
       "      <td>0</td>\n",
       "    </tr>\n",
       "    <tr>\n",
       "      <th>23</th>\n",
       "      <td>0</td>\n",
       "    </tr>\n",
       "    <tr>\n",
       "      <th>98</th>\n",
       "      <td>1</td>\n",
       "    </tr>\n",
       "    <tr>\n",
       "      <th>245</th>\n",
       "      <td>0</td>\n",
       "    </tr>\n",
       "    <tr>\n",
       "      <th>236</th>\n",
       "      <td>0</td>\n",
       "    </tr>\n",
       "    <tr>\n",
       "      <th>68</th>\n",
       "      <td>1</td>\n",
       "    </tr>\n",
       "    <tr>\n",
       "      <th>185</th>\n",
       "      <td>0</td>\n",
       "    </tr>\n",
       "    <tr>\n",
       "      <th>261</th>\n",
       "      <td>0</td>\n",
       "    </tr>\n",
       "    <tr>\n",
       "      <th>158</th>\n",
       "      <td>0</td>\n",
       "    </tr>\n",
       "    <tr>\n",
       "      <th>72</th>\n",
       "      <td>1</td>\n",
       "    </tr>\n",
       "    <tr>\n",
       "      <th>145</th>\n",
       "      <td>1</td>\n",
       "    </tr>\n",
       "    <tr>\n",
       "      <th>27</th>\n",
       "      <td>1</td>\n",
       "    </tr>\n",
       "    <tr>\n",
       "      <th>140</th>\n",
       "      <td>1</td>\n",
       "    </tr>\n",
       "    <tr>\n",
       "      <th>4</th>\n",
       "      <td>1</td>\n",
       "    </tr>\n",
       "    <tr>\n",
       "      <th>276</th>\n",
       "      <td>0</td>\n",
       "    </tr>\n",
       "    <tr>\n",
       "      <th>275</th>\n",
       "      <td>0</td>\n",
       "    </tr>\n",
       "    <tr>\n",
       "      <th>45</th>\n",
       "      <td>1</td>\n",
       "    </tr>\n",
       "    <tr>\n",
       "      <th>52</th>\n",
       "      <td>0</td>\n",
       "    </tr>\n",
       "    <tr>\n",
       "      <th>56</th>\n",
       "      <td>1</td>\n",
       "    </tr>\n",
       "    <tr>\n",
       "      <th>131</th>\n",
       "      <td>1</td>\n",
       "    </tr>\n",
       "    <tr>\n",
       "      <th>232</th>\n",
       "      <td>0</td>\n",
       "    </tr>\n",
       "    <tr>\n",
       "      <th>148</th>\n",
       "      <td>1</td>\n",
       "    </tr>\n",
       "    <tr>\n",
       "      <th>2</th>\n",
       "      <td>1</td>\n",
       "    </tr>\n",
       "    <tr>\n",
       "      <th>284</th>\n",
       "      <td>0</td>\n",
       "    </tr>\n",
       "    <tr>\n",
       "      <th>78</th>\n",
       "      <td>1</td>\n",
       "    </tr>\n",
       "    <tr>\n",
       "      <th>267</th>\n",
       "      <td>1</td>\n",
       "    </tr>\n",
       "    <tr>\n",
       "      <th>281</th>\n",
       "      <td>1</td>\n",
       "    </tr>\n",
       "    <tr>\n",
       "      <th>219</th>\n",
       "      <td>0</td>\n",
       "    </tr>\n",
       "    <tr>\n",
       "      <th>215</th>\n",
       "      <td>0</td>\n",
       "    </tr>\n",
       "    <tr>\n",
       "      <th>...</th>\n",
       "      <td>...</td>\n",
       "    </tr>\n",
       "    <tr>\n",
       "      <th>122</th>\n",
       "      <td>1</td>\n",
       "    </tr>\n",
       "    <tr>\n",
       "      <th>274</th>\n",
       "      <td>0</td>\n",
       "    </tr>\n",
       "    <tr>\n",
       "      <th>134</th>\n",
       "      <td>1</td>\n",
       "    </tr>\n",
       "    <tr>\n",
       "      <th>250</th>\n",
       "      <td>0</td>\n",
       "    </tr>\n",
       "    <tr>\n",
       "      <th>234</th>\n",
       "      <td>0</td>\n",
       "    </tr>\n",
       "    <tr>\n",
       "      <th>179</th>\n",
       "      <td>0</td>\n",
       "    </tr>\n",
       "    <tr>\n",
       "      <th>165</th>\n",
       "      <td>0</td>\n",
       "    </tr>\n",
       "    <tr>\n",
       "      <th>97</th>\n",
       "      <td>0</td>\n",
       "    </tr>\n",
       "    <tr>\n",
       "      <th>235</th>\n",
       "      <td>0</td>\n",
       "    </tr>\n",
       "    <tr>\n",
       "      <th>197</th>\n",
       "      <td>0</td>\n",
       "    </tr>\n",
       "    <tr>\n",
       "      <th>164</th>\n",
       "      <td>1</td>\n",
       "    </tr>\n",
       "    <tr>\n",
       "      <th>37</th>\n",
       "      <td>0</td>\n",
       "    </tr>\n",
       "    <tr>\n",
       "      <th>81</th>\n",
       "      <td>1</td>\n",
       "    </tr>\n",
       "    <tr>\n",
       "      <th>162</th>\n",
       "      <td>1</td>\n",
       "    </tr>\n",
       "    <tr>\n",
       "      <th>35</th>\n",
       "      <td>1</td>\n",
       "    </tr>\n",
       "    <tr>\n",
       "      <th>147</th>\n",
       "      <td>1</td>\n",
       "    </tr>\n",
       "    <tr>\n",
       "      <th>5</th>\n",
       "      <td>1</td>\n",
       "    </tr>\n",
       "    <tr>\n",
       "      <th>118</th>\n",
       "      <td>1</td>\n",
       "    </tr>\n",
       "    <tr>\n",
       "      <th>86</th>\n",
       "      <td>0</td>\n",
       "    </tr>\n",
       "    <tr>\n",
       "      <th>198</th>\n",
       "      <td>0</td>\n",
       "    </tr>\n",
       "    <tr>\n",
       "      <th>13</th>\n",
       "      <td>1</td>\n",
       "    </tr>\n",
       "    <tr>\n",
       "      <th>216</th>\n",
       "      <td>0</td>\n",
       "    </tr>\n",
       "    <tr>\n",
       "      <th>188</th>\n",
       "      <td>0</td>\n",
       "    </tr>\n",
       "    <tr>\n",
       "      <th>75</th>\n",
       "      <td>1</td>\n",
       "    </tr>\n",
       "    <tr>\n",
       "      <th>206</th>\n",
       "      <td>0</td>\n",
       "    </tr>\n",
       "    <tr>\n",
       "      <th>207</th>\n",
       "      <td>0</td>\n",
       "    </tr>\n",
       "    <tr>\n",
       "      <th>146</th>\n",
       "      <td>1</td>\n",
       "    </tr>\n",
       "    <tr>\n",
       "      <th>194</th>\n",
       "      <td>0</td>\n",
       "    </tr>\n",
       "    <tr>\n",
       "      <th>265</th>\n",
       "      <td>0</td>\n",
       "    </tr>\n",
       "    <tr>\n",
       "      <th>103</th>\n",
       "      <td>1</td>\n",
       "    </tr>\n",
       "  </tbody>\n",
       "</table>\n",
       "<p>94 rows × 1 columns</p>\n",
       "</div>"
      ],
      "text/plain": [
       "     Predicted\n",
       "76           1\n",
       "244          0\n",
       "23           0\n",
       "98           1\n",
       "245          0\n",
       "236          0\n",
       "68           1\n",
       "185          0\n",
       "261          0\n",
       "158          0\n",
       "72           1\n",
       "145          1\n",
       "27           1\n",
       "140          1\n",
       "4            1\n",
       "276          0\n",
       "275          0\n",
       "45           1\n",
       "52           0\n",
       "56           1\n",
       "131          1\n",
       "232          0\n",
       "148          1\n",
       "2            1\n",
       "284          0\n",
       "78           1\n",
       "267          1\n",
       "281          1\n",
       "219          0\n",
       "215          0\n",
       "..         ...\n",
       "122          1\n",
       "274          0\n",
       "134          1\n",
       "250          0\n",
       "234          0\n",
       "179          0\n",
       "165          0\n",
       "97           0\n",
       "235          0\n",
       "197          0\n",
       "164          1\n",
       "37           0\n",
       "81           1\n",
       "162          1\n",
       "35           1\n",
       "147          1\n",
       "5            1\n",
       "118          1\n",
       "86           0\n",
       "198          0\n",
       "13           1\n",
       "216          0\n",
       "188          0\n",
       "75           1\n",
       "206          0\n",
       "207          0\n",
       "146          1\n",
       "194          0\n",
       "265          0\n",
       "103          1\n",
       "\n",
       "[94 rows x 1 columns]"
      ]
     },
     "execution_count": 100,
     "metadata": {},
     "output_type": "execute_result"
    }
   ],
   "source": [
    "HeartDisease_pred=pd.DataFrame({'Predicted':y_pred},index=y_test.index)\n",
    "HeartDisease_pred"
   ]
  },
  {
   "cell_type": "code",
   "execution_count": 101,
   "metadata": {},
   "outputs": [
    {
     "data": {
      "text/html": [
       "<div>\n",
       "<style scoped>\n",
       "    .dataframe tbody tr th:only-of-type {\n",
       "        vertical-align: middle;\n",
       "    }\n",
       "\n",
       "    .dataframe tbody tr th {\n",
       "        vertical-align: top;\n",
       "    }\n",
       "\n",
       "    .dataframe thead th {\n",
       "        text-align: right;\n",
       "    }\n",
       "</style>\n",
       "<table border=\"1\" class=\"dataframe\">\n",
       "  <thead>\n",
       "    <tr style=\"text-align: right;\">\n",
       "      <th></th>\n",
       "      <th>target</th>\n",
       "    </tr>\n",
       "  </thead>\n",
       "  <tbody>\n",
       "    <tr>\n",
       "      <th>76</th>\n",
       "      <td>1</td>\n",
       "    </tr>\n",
       "    <tr>\n",
       "      <th>244</th>\n",
       "      <td>0</td>\n",
       "    </tr>\n",
       "    <tr>\n",
       "      <th>23</th>\n",
       "      <td>1</td>\n",
       "    </tr>\n",
       "    <tr>\n",
       "      <th>98</th>\n",
       "      <td>1</td>\n",
       "    </tr>\n",
       "    <tr>\n",
       "      <th>245</th>\n",
       "      <td>0</td>\n",
       "    </tr>\n",
       "    <tr>\n",
       "      <th>236</th>\n",
       "      <td>0</td>\n",
       "    </tr>\n",
       "    <tr>\n",
       "      <th>68</th>\n",
       "      <td>1</td>\n",
       "    </tr>\n",
       "    <tr>\n",
       "      <th>185</th>\n",
       "      <td>0</td>\n",
       "    </tr>\n",
       "    <tr>\n",
       "      <th>261</th>\n",
       "      <td>0</td>\n",
       "    </tr>\n",
       "    <tr>\n",
       "      <th>158</th>\n",
       "      <td>1</td>\n",
       "    </tr>\n",
       "    <tr>\n",
       "      <th>72</th>\n",
       "      <td>1</td>\n",
       "    </tr>\n",
       "    <tr>\n",
       "      <th>145</th>\n",
       "      <td>1</td>\n",
       "    </tr>\n",
       "    <tr>\n",
       "      <th>27</th>\n",
       "      <td>1</td>\n",
       "    </tr>\n",
       "    <tr>\n",
       "      <th>140</th>\n",
       "      <td>1</td>\n",
       "    </tr>\n",
       "    <tr>\n",
       "      <th>4</th>\n",
       "      <td>1</td>\n",
       "    </tr>\n",
       "    <tr>\n",
       "      <th>276</th>\n",
       "      <td>0</td>\n",
       "    </tr>\n",
       "    <tr>\n",
       "      <th>275</th>\n",
       "      <td>0</td>\n",
       "    </tr>\n",
       "    <tr>\n",
       "      <th>45</th>\n",
       "      <td>1</td>\n",
       "    </tr>\n",
       "    <tr>\n",
       "      <th>52</th>\n",
       "      <td>1</td>\n",
       "    </tr>\n",
       "    <tr>\n",
       "      <th>56</th>\n",
       "      <td>1</td>\n",
       "    </tr>\n",
       "    <tr>\n",
       "      <th>131</th>\n",
       "      <td>1</td>\n",
       "    </tr>\n",
       "    <tr>\n",
       "      <th>232</th>\n",
       "      <td>0</td>\n",
       "    </tr>\n",
       "    <tr>\n",
       "      <th>148</th>\n",
       "      <td>1</td>\n",
       "    </tr>\n",
       "    <tr>\n",
       "      <th>2</th>\n",
       "      <td>1</td>\n",
       "    </tr>\n",
       "    <tr>\n",
       "      <th>284</th>\n",
       "      <td>0</td>\n",
       "    </tr>\n",
       "    <tr>\n",
       "      <th>78</th>\n",
       "      <td>1</td>\n",
       "    </tr>\n",
       "    <tr>\n",
       "      <th>267</th>\n",
       "      <td>0</td>\n",
       "    </tr>\n",
       "    <tr>\n",
       "      <th>281</th>\n",
       "      <td>0</td>\n",
       "    </tr>\n",
       "    <tr>\n",
       "      <th>219</th>\n",
       "      <td>0</td>\n",
       "    </tr>\n",
       "    <tr>\n",
       "      <th>215</th>\n",
       "      <td>0</td>\n",
       "    </tr>\n",
       "    <tr>\n",
       "      <th>...</th>\n",
       "      <td>...</td>\n",
       "    </tr>\n",
       "    <tr>\n",
       "      <th>122</th>\n",
       "      <td>1</td>\n",
       "    </tr>\n",
       "    <tr>\n",
       "      <th>274</th>\n",
       "      <td>0</td>\n",
       "    </tr>\n",
       "    <tr>\n",
       "      <th>134</th>\n",
       "      <td>1</td>\n",
       "    </tr>\n",
       "    <tr>\n",
       "      <th>250</th>\n",
       "      <td>0</td>\n",
       "    </tr>\n",
       "    <tr>\n",
       "      <th>234</th>\n",
       "      <td>0</td>\n",
       "    </tr>\n",
       "    <tr>\n",
       "      <th>179</th>\n",
       "      <td>0</td>\n",
       "    </tr>\n",
       "    <tr>\n",
       "      <th>165</th>\n",
       "      <td>0</td>\n",
       "    </tr>\n",
       "    <tr>\n",
       "      <th>97</th>\n",
       "      <td>1</td>\n",
       "    </tr>\n",
       "    <tr>\n",
       "      <th>235</th>\n",
       "      <td>0</td>\n",
       "    </tr>\n",
       "    <tr>\n",
       "      <th>197</th>\n",
       "      <td>0</td>\n",
       "    </tr>\n",
       "    <tr>\n",
       "      <th>164</th>\n",
       "      <td>1</td>\n",
       "    </tr>\n",
       "    <tr>\n",
       "      <th>37</th>\n",
       "      <td>1</td>\n",
       "    </tr>\n",
       "    <tr>\n",
       "      <th>81</th>\n",
       "      <td>1</td>\n",
       "    </tr>\n",
       "    <tr>\n",
       "      <th>162</th>\n",
       "      <td>1</td>\n",
       "    </tr>\n",
       "    <tr>\n",
       "      <th>35</th>\n",
       "      <td>1</td>\n",
       "    </tr>\n",
       "    <tr>\n",
       "      <th>147</th>\n",
       "      <td>1</td>\n",
       "    </tr>\n",
       "    <tr>\n",
       "      <th>5</th>\n",
       "      <td>1</td>\n",
       "    </tr>\n",
       "    <tr>\n",
       "      <th>118</th>\n",
       "      <td>1</td>\n",
       "    </tr>\n",
       "    <tr>\n",
       "      <th>86</th>\n",
       "      <td>1</td>\n",
       "    </tr>\n",
       "    <tr>\n",
       "      <th>198</th>\n",
       "      <td>0</td>\n",
       "    </tr>\n",
       "    <tr>\n",
       "      <th>13</th>\n",
       "      <td>1</td>\n",
       "    </tr>\n",
       "    <tr>\n",
       "      <th>216</th>\n",
       "      <td>0</td>\n",
       "    </tr>\n",
       "    <tr>\n",
       "      <th>188</th>\n",
       "      <td>0</td>\n",
       "    </tr>\n",
       "    <tr>\n",
       "      <th>75</th>\n",
       "      <td>1</td>\n",
       "    </tr>\n",
       "    <tr>\n",
       "      <th>206</th>\n",
       "      <td>0</td>\n",
       "    </tr>\n",
       "    <tr>\n",
       "      <th>207</th>\n",
       "      <td>0</td>\n",
       "    </tr>\n",
       "    <tr>\n",
       "      <th>146</th>\n",
       "      <td>1</td>\n",
       "    </tr>\n",
       "    <tr>\n",
       "      <th>194</th>\n",
       "      <td>0</td>\n",
       "    </tr>\n",
       "    <tr>\n",
       "      <th>265</th>\n",
       "      <td>0</td>\n",
       "    </tr>\n",
       "    <tr>\n",
       "      <th>103</th>\n",
       "      <td>1</td>\n",
       "    </tr>\n",
       "  </tbody>\n",
       "</table>\n",
       "<p>94 rows × 1 columns</p>\n",
       "</div>"
      ],
      "text/plain": [
       "     target\n",
       "76        1\n",
       "244       0\n",
       "23        1\n",
       "98        1\n",
       "245       0\n",
       "236       0\n",
       "68        1\n",
       "185       0\n",
       "261       0\n",
       "158       1\n",
       "72        1\n",
       "145       1\n",
       "27        1\n",
       "140       1\n",
       "4         1\n",
       "276       0\n",
       "275       0\n",
       "45        1\n",
       "52        1\n",
       "56        1\n",
       "131       1\n",
       "232       0\n",
       "148       1\n",
       "2         1\n",
       "284       0\n",
       "78        1\n",
       "267       0\n",
       "281       0\n",
       "219       0\n",
       "215       0\n",
       "..      ...\n",
       "122       1\n",
       "274       0\n",
       "134       1\n",
       "250       0\n",
       "234       0\n",
       "179       0\n",
       "165       0\n",
       "97        1\n",
       "235       0\n",
       "197       0\n",
       "164       1\n",
       "37        1\n",
       "81        1\n",
       "162       1\n",
       "35        1\n",
       "147       1\n",
       "5         1\n",
       "118       1\n",
       "86        1\n",
       "198       0\n",
       "13        1\n",
       "216       0\n",
       "188       0\n",
       "75        1\n",
       "206       0\n",
       "207       0\n",
       "146       1\n",
       "194       0\n",
       "265       0\n",
       "103       1\n",
       "\n",
       "[94 rows x 1 columns]"
      ]
     },
     "execution_count": 101,
     "metadata": {},
     "output_type": "execute_result"
    }
   ],
   "source": [
    "HD_actual=pd.DataFrame(y_test,index=y_test.index)\n",
    "HD_actual"
   ]
  },
  {
   "cell_type": "code",
   "execution_count": 102,
   "metadata": {},
   "outputs": [
    {
     "data": {
      "text/html": [
       "<div>\n",
       "<style scoped>\n",
       "    .dataframe tbody tr th:only-of-type {\n",
       "        vertical-align: middle;\n",
       "    }\n",
       "\n",
       "    .dataframe tbody tr th {\n",
       "        vertical-align: top;\n",
       "    }\n",
       "\n",
       "    .dataframe thead th {\n",
       "        text-align: right;\n",
       "    }\n",
       "</style>\n",
       "<table border=\"1\" class=\"dataframe\">\n",
       "  <thead>\n",
       "    <tr style=\"text-align: right;\">\n",
       "      <th></th>\n",
       "      <th>target</th>\n",
       "      <th>Predicted</th>\n",
       "    </tr>\n",
       "  </thead>\n",
       "  <tbody>\n",
       "    <tr>\n",
       "      <th>76</th>\n",
       "      <td>1</td>\n",
       "      <td>1</td>\n",
       "    </tr>\n",
       "    <tr>\n",
       "      <th>244</th>\n",
       "      <td>0</td>\n",
       "      <td>0</td>\n",
       "    </tr>\n",
       "    <tr>\n",
       "      <th>23</th>\n",
       "      <td>1</td>\n",
       "      <td>0</td>\n",
       "    </tr>\n",
       "    <tr>\n",
       "      <th>98</th>\n",
       "      <td>1</td>\n",
       "      <td>1</td>\n",
       "    </tr>\n",
       "    <tr>\n",
       "      <th>245</th>\n",
       "      <td>0</td>\n",
       "      <td>0</td>\n",
       "    </tr>\n",
       "    <tr>\n",
       "      <th>236</th>\n",
       "      <td>0</td>\n",
       "      <td>0</td>\n",
       "    </tr>\n",
       "    <tr>\n",
       "      <th>68</th>\n",
       "      <td>1</td>\n",
       "      <td>1</td>\n",
       "    </tr>\n",
       "    <tr>\n",
       "      <th>185</th>\n",
       "      <td>0</td>\n",
       "      <td>0</td>\n",
       "    </tr>\n",
       "    <tr>\n",
       "      <th>261</th>\n",
       "      <td>0</td>\n",
       "      <td>0</td>\n",
       "    </tr>\n",
       "    <tr>\n",
       "      <th>158</th>\n",
       "      <td>1</td>\n",
       "      <td>0</td>\n",
       "    </tr>\n",
       "    <tr>\n",
       "      <th>72</th>\n",
       "      <td>1</td>\n",
       "      <td>1</td>\n",
       "    </tr>\n",
       "    <tr>\n",
       "      <th>145</th>\n",
       "      <td>1</td>\n",
       "      <td>1</td>\n",
       "    </tr>\n",
       "    <tr>\n",
       "      <th>27</th>\n",
       "      <td>1</td>\n",
       "      <td>1</td>\n",
       "    </tr>\n",
       "    <tr>\n",
       "      <th>140</th>\n",
       "      <td>1</td>\n",
       "      <td>1</td>\n",
       "    </tr>\n",
       "    <tr>\n",
       "      <th>4</th>\n",
       "      <td>1</td>\n",
       "      <td>1</td>\n",
       "    </tr>\n",
       "    <tr>\n",
       "      <th>276</th>\n",
       "      <td>0</td>\n",
       "      <td>0</td>\n",
       "    </tr>\n",
       "    <tr>\n",
       "      <th>275</th>\n",
       "      <td>0</td>\n",
       "      <td>0</td>\n",
       "    </tr>\n",
       "    <tr>\n",
       "      <th>45</th>\n",
       "      <td>1</td>\n",
       "      <td>1</td>\n",
       "    </tr>\n",
       "    <tr>\n",
       "      <th>52</th>\n",
       "      <td>1</td>\n",
       "      <td>0</td>\n",
       "    </tr>\n",
       "    <tr>\n",
       "      <th>56</th>\n",
       "      <td>1</td>\n",
       "      <td>1</td>\n",
       "    </tr>\n",
       "    <tr>\n",
       "      <th>131</th>\n",
       "      <td>1</td>\n",
       "      <td>1</td>\n",
       "    </tr>\n",
       "    <tr>\n",
       "      <th>232</th>\n",
       "      <td>0</td>\n",
       "      <td>0</td>\n",
       "    </tr>\n",
       "    <tr>\n",
       "      <th>148</th>\n",
       "      <td>1</td>\n",
       "      <td>1</td>\n",
       "    </tr>\n",
       "    <tr>\n",
       "      <th>2</th>\n",
       "      <td>1</td>\n",
       "      <td>1</td>\n",
       "    </tr>\n",
       "    <tr>\n",
       "      <th>284</th>\n",
       "      <td>0</td>\n",
       "      <td>0</td>\n",
       "    </tr>\n",
       "    <tr>\n",
       "      <th>78</th>\n",
       "      <td>1</td>\n",
       "      <td>1</td>\n",
       "    </tr>\n",
       "    <tr>\n",
       "      <th>267</th>\n",
       "      <td>0</td>\n",
       "      <td>1</td>\n",
       "    </tr>\n",
       "    <tr>\n",
       "      <th>281</th>\n",
       "      <td>0</td>\n",
       "      <td>1</td>\n",
       "    </tr>\n",
       "    <tr>\n",
       "      <th>219</th>\n",
       "      <td>0</td>\n",
       "      <td>0</td>\n",
       "    </tr>\n",
       "    <tr>\n",
       "      <th>215</th>\n",
       "      <td>0</td>\n",
       "      <td>0</td>\n",
       "    </tr>\n",
       "    <tr>\n",
       "      <th>...</th>\n",
       "      <td>...</td>\n",
       "      <td>...</td>\n",
       "    </tr>\n",
       "    <tr>\n",
       "      <th>122</th>\n",
       "      <td>1</td>\n",
       "      <td>1</td>\n",
       "    </tr>\n",
       "    <tr>\n",
       "      <th>274</th>\n",
       "      <td>0</td>\n",
       "      <td>0</td>\n",
       "    </tr>\n",
       "    <tr>\n",
       "      <th>134</th>\n",
       "      <td>1</td>\n",
       "      <td>1</td>\n",
       "    </tr>\n",
       "    <tr>\n",
       "      <th>250</th>\n",
       "      <td>0</td>\n",
       "      <td>0</td>\n",
       "    </tr>\n",
       "    <tr>\n",
       "      <th>234</th>\n",
       "      <td>0</td>\n",
       "      <td>0</td>\n",
       "    </tr>\n",
       "    <tr>\n",
       "      <th>179</th>\n",
       "      <td>0</td>\n",
       "      <td>0</td>\n",
       "    </tr>\n",
       "    <tr>\n",
       "      <th>165</th>\n",
       "      <td>0</td>\n",
       "      <td>0</td>\n",
       "    </tr>\n",
       "    <tr>\n",
       "      <th>97</th>\n",
       "      <td>1</td>\n",
       "      <td>0</td>\n",
       "    </tr>\n",
       "    <tr>\n",
       "      <th>235</th>\n",
       "      <td>0</td>\n",
       "      <td>0</td>\n",
       "    </tr>\n",
       "    <tr>\n",
       "      <th>197</th>\n",
       "      <td>0</td>\n",
       "      <td>0</td>\n",
       "    </tr>\n",
       "    <tr>\n",
       "      <th>164</th>\n",
       "      <td>1</td>\n",
       "      <td>1</td>\n",
       "    </tr>\n",
       "    <tr>\n",
       "      <th>37</th>\n",
       "      <td>1</td>\n",
       "      <td>0</td>\n",
       "    </tr>\n",
       "    <tr>\n",
       "      <th>81</th>\n",
       "      <td>1</td>\n",
       "      <td>1</td>\n",
       "    </tr>\n",
       "    <tr>\n",
       "      <th>162</th>\n",
       "      <td>1</td>\n",
       "      <td>1</td>\n",
       "    </tr>\n",
       "    <tr>\n",
       "      <th>35</th>\n",
       "      <td>1</td>\n",
       "      <td>1</td>\n",
       "    </tr>\n",
       "    <tr>\n",
       "      <th>147</th>\n",
       "      <td>1</td>\n",
       "      <td>1</td>\n",
       "    </tr>\n",
       "    <tr>\n",
       "      <th>5</th>\n",
       "      <td>1</td>\n",
       "      <td>1</td>\n",
       "    </tr>\n",
       "    <tr>\n",
       "      <th>118</th>\n",
       "      <td>1</td>\n",
       "      <td>1</td>\n",
       "    </tr>\n",
       "    <tr>\n",
       "      <th>86</th>\n",
       "      <td>1</td>\n",
       "      <td>0</td>\n",
       "    </tr>\n",
       "    <tr>\n",
       "      <th>198</th>\n",
       "      <td>0</td>\n",
       "      <td>0</td>\n",
       "    </tr>\n",
       "    <tr>\n",
       "      <th>13</th>\n",
       "      <td>1</td>\n",
       "      <td>1</td>\n",
       "    </tr>\n",
       "    <tr>\n",
       "      <th>216</th>\n",
       "      <td>0</td>\n",
       "      <td>0</td>\n",
       "    </tr>\n",
       "    <tr>\n",
       "      <th>188</th>\n",
       "      <td>0</td>\n",
       "      <td>0</td>\n",
       "    </tr>\n",
       "    <tr>\n",
       "      <th>75</th>\n",
       "      <td>1</td>\n",
       "      <td>1</td>\n",
       "    </tr>\n",
       "    <tr>\n",
       "      <th>206</th>\n",
       "      <td>0</td>\n",
       "      <td>0</td>\n",
       "    </tr>\n",
       "    <tr>\n",
       "      <th>207</th>\n",
       "      <td>0</td>\n",
       "      <td>0</td>\n",
       "    </tr>\n",
       "    <tr>\n",
       "      <th>146</th>\n",
       "      <td>1</td>\n",
       "      <td>1</td>\n",
       "    </tr>\n",
       "    <tr>\n",
       "      <th>194</th>\n",
       "      <td>0</td>\n",
       "      <td>0</td>\n",
       "    </tr>\n",
       "    <tr>\n",
       "      <th>265</th>\n",
       "      <td>0</td>\n",
       "      <td>0</td>\n",
       "    </tr>\n",
       "    <tr>\n",
       "      <th>103</th>\n",
       "      <td>1</td>\n",
       "      <td>1</td>\n",
       "    </tr>\n",
       "  </tbody>\n",
       "</table>\n",
       "<p>94 rows × 2 columns</p>\n",
       "</div>"
      ],
      "text/plain": [
       "     target  Predicted\n",
       "76        1          1\n",
       "244       0          0\n",
       "23        1          0\n",
       "98        1          1\n",
       "245       0          0\n",
       "236       0          0\n",
       "68        1          1\n",
       "185       0          0\n",
       "261       0          0\n",
       "158       1          0\n",
       "72        1          1\n",
       "145       1          1\n",
       "27        1          1\n",
       "140       1          1\n",
       "4         1          1\n",
       "276       0          0\n",
       "275       0          0\n",
       "45        1          1\n",
       "52        1          0\n",
       "56        1          1\n",
       "131       1          1\n",
       "232       0          0\n",
       "148       1          1\n",
       "2         1          1\n",
       "284       0          0\n",
       "78        1          1\n",
       "267       0          1\n",
       "281       0          1\n",
       "219       0          0\n",
       "215       0          0\n",
       "..      ...        ...\n",
       "122       1          1\n",
       "274       0          0\n",
       "134       1          1\n",
       "250       0          0\n",
       "234       0          0\n",
       "179       0          0\n",
       "165       0          0\n",
       "97        1          0\n",
       "235       0          0\n",
       "197       0          0\n",
       "164       1          1\n",
       "37        1          0\n",
       "81        1          1\n",
       "162       1          1\n",
       "35        1          1\n",
       "147       1          1\n",
       "5         1          1\n",
       "118       1          1\n",
       "86        1          0\n",
       "198       0          0\n",
       "13        1          1\n",
       "216       0          0\n",
       "188       0          0\n",
       "75        1          1\n",
       "206       0          0\n",
       "207       0          0\n",
       "146       1          1\n",
       "194       0          0\n",
       "265       0          0\n",
       "103       1          1\n",
       "\n",
       "[94 rows x 2 columns]"
      ]
     },
     "execution_count": 102,
     "metadata": {},
     "output_type": "execute_result"
    }
   ],
   "source": [
    "HD_op=pd.concat([HD_actual,HeartDisease_pred],axis=1)\n",
    "HD_op"
   ]
  },
  {
   "cell_type": "code",
   "execution_count": 103,
   "metadata": {},
   "outputs": [],
   "source": [
    "HD_op.to_csv('HeartDisease_op.csv')"
   ]
  },
  {
   "cell_type": "code",
   "execution_count": 76,
   "metadata": {},
   "outputs": [
    {
     "name": "stdout",
     "output_type": "stream",
     "text": [
      "accuracy at : 0 is: 0.8617021276595744\n",
      "accuracy at : 1 is: 0.8723404255319149\n",
      "accuracy at : 2 is: 0.8829787234042553\n",
      "accuracy at : 3 is: 0.8829787234042553\n",
      "accuracy at : 4 is: 0.8829787234042553\n",
      "accuracy at : 5 is: 0.8723404255319149\n",
      "accuracy at : 6 is: 0.8617021276595744\n",
      "accuracy at : 7 is: 0.8723404255319149\n",
      "accuracy at : 8 is: 0.8723404255319149\n",
      "accuracy at : 9 is: 0.8829787234042553\n",
      "accuracy at : 10 is: 0.8617021276595744\n",
      "accuracy at : 11 is: 0.8829787234042553\n",
      "accuracy at : 12 is: 0.8617021276595744\n",
      "accuracy at : 13 is: 0.8723404255319149\n",
      "accuracy at : 14 is: 0.8723404255319149\n",
      "accuracy at : 15 is: 0.8723404255319149\n",
      "accuracy at : 16 is: 0.8723404255319149\n",
      "accuracy at : 17 is: 0.8723404255319149\n",
      "accuracy at : 18 is: 0.851063829787234\n",
      "accuracy at : 19 is: 0.8829787234042553\n"
     ]
    }
   ],
   "source": [
    "from sklearn.ensemble import RandomForestClassifier as RFC\n",
    "RFC=RFC(n_estimators=200,max_depth=4,criterion='entropy',random_state=43)\n",
    "for i in range(0,20):\n",
    "    from sklearn.ensemble import AdaBoostClassifier as ABC\n",
    "    ABC=ABC(base_estimator=RFC,learning_rate=0.5,random_state=i)\n",
    "    ABC.fit(x_train,y_train)\n",
    "    y_pred=ABC.predict(x_test)\n",
    "    train_pred=ABC.predict(x_train)\n",
    "    accuracy=accuracy_score(y_test,y_pred)\n",
    "    print('accuracy at :',i,'is:',accuracy)"
   ]
  },
  {
   "cell_type": "code",
   "execution_count": 77,
   "metadata": {},
   "outputs": [
    {
     "data": {
      "text/plain": [
       "(0.8829787234042553, 0.968421052631579)"
      ]
     },
     "execution_count": 77,
     "metadata": {},
     "output_type": "execute_result"
    }
   ],
   "source": [
    "from sklearn.ensemble import RandomForestClassifier as RFC\n",
    "RFC=RFC(n_estimators=200,max_depth=4,criterion='entropy',random_state=36)\n",
    "from sklearn.ensemble import AdaBoostClassifier as ABC\n",
    "ABC=ABC(base_estimator=RFC,learning_rate=0.5,random_state=2)\n",
    "ABC.fit(x_train,y_train)\n",
    "y_pred=ABC.predict(x_test)\n",
    "train_pred=ABC.predict(x_train)\n",
    "accuracy=accuracy_score(y_test,y_pred)\n",
    "accuracy1=accuracy_score(y_train,train_pred)\n",
    "accuracy,accuracy1"
   ]
  },
  {
   "cell_type": "code",
   "execution_count": 78,
   "metadata": {},
   "outputs": [
    {
     "data": {
      "text/plain": [
       "(0.8782051282051282, 0.9661225402504472)"
      ]
     },
     "execution_count": 78,
     "metadata": {},
     "output_type": "execute_result"
    }
   ],
   "source": [
    "ABC_test_auc=roc_auc_score(y_test,y_pred)\n",
    "ABC_train_auc=roc_auc_score(y_train,train_pred)\n",
    "ABC_test_auc,ABC_train_auc"
   ]
  },
  {
   "cell_type": "code",
   "execution_count": 79,
   "metadata": {},
   "outputs": [
    {
     "data": {
      "text/plain": [
       "array([[35,  7],\n",
       "       [ 4, 48]], dtype=int64)"
      ]
     },
     "execution_count": 79,
     "metadata": {},
     "output_type": "execute_result"
    }
   ],
   "source": [
    "c=confusion_matrix(y_test,y_pred)\n",
    "c"
   ]
  },
  {
   "cell_type": "code",
   "execution_count": 80,
   "metadata": {},
   "outputs": [
    {
     "data": {
      "text/plain": [
       "SVC(C=1.0, cache_size=200, class_weight=None, coef0=0.0,\n",
       "    decision_function_shape='ovr', degree=3, gamma='auto_deprecated',\n",
       "    kernel='rbf', max_iter=-1, probability=False, random_state=20,\n",
       "    shrinking=True, tol=0.001, verbose=False)"
      ]
     },
     "execution_count": 80,
     "metadata": {},
     "output_type": "execute_result"
    }
   ],
   "source": [
    "from sklearn.svm import SVC\n",
    "classifier=SVC(kernel='rbf',random_state=20)\n",
    "classifier.fit(x_train,y_train)"
   ]
  },
  {
   "cell_type": "code",
   "execution_count": 81,
   "metadata": {},
   "outputs": [],
   "source": [
    "from sklearn.model_selection import GridSearchCV\n",
    "parameters=[{'C':[1,10,100,1000],'kernel':['linear']},\n",
    "            {'C':[1,10,100,1000],'kernel':['rbf'],'gamma':[0.1,0.2,0.3,0.4,0.5,0.6,0.7,0.8,0.9]}]\n",
    "grid_search=GridSearchCV(estimator=classifier,param_grid=parameters,scoring='accuracy',cv=10,n_jobs=-1)\n",
    "grid_search=grid_search.fit(x_train,y_train)"
   ]
  },
  {
   "cell_type": "code",
   "execution_count": 82,
   "metadata": {},
   "outputs": [
    {
     "data": {
      "text/plain": [
       "0.8157894736842105"
      ]
     },
     "execution_count": 82,
     "metadata": {},
     "output_type": "execute_result"
    }
   ],
   "source": [
    "accuracy=grid_search.best_score_\n",
    "accuracy"
   ]
  },
  {
   "cell_type": "code",
   "execution_count": 83,
   "metadata": {},
   "outputs": [
    {
     "data": {
      "text/plain": [
       "{'C': 1, 'kernel': 'linear'}"
      ]
     },
     "execution_count": 83,
     "metadata": {},
     "output_type": "execute_result"
    }
   ],
   "source": [
    "grid_search.best_params_"
   ]
  },
  {
   "cell_type": "code",
   "execution_count": 84,
   "metadata": {},
   "outputs": [
    {
     "name": "stdout",
     "output_type": "stream",
     "text": [
      "0.8723404255319149 0.8578947368421053\n"
     ]
    },
    {
     "data": {
      "text/plain": [
       "array([[35,  7],\n",
       "       [ 5, 47]], dtype=int64)"
      ]
     },
     "execution_count": 84,
     "metadata": {},
     "output_type": "execute_result"
    }
   ],
   "source": [
    "from sklearn.svm import SVC\n",
    "classifier=SVC(kernel='linear',random_state=25,C=10,gamma=0.8,probability=True)\n",
    "classifier.fit(x_train,y_train)\n",
    "y_pred=classifier.predict(x_test)\n",
    "train_pred=classifier.predict(x_train)\n",
    "accuracy=accuracy_score(y_test,y_pred)\n",
    "accuracy1=accuracy_score(y_train,train_pred)\n",
    "print(accuracy,accuracy1)\n",
    "c=confusion_matrix(y_test,y_pred)\n",
    "c"
   ]
  },
  {
   "cell_type": "code",
   "execution_count": 85,
   "metadata": {},
   "outputs": [
    {
     "data": {
      "text/plain": [
       "(0.8685897435897435, 0.8490608228980322)"
      ]
     },
     "execution_count": 85,
     "metadata": {},
     "output_type": "execute_result"
    }
   ],
   "source": [
    "svc_test_auc=roc_auc_score(y_test,y_pred)\n",
    "svc_train_auc=roc_auc_score(y_train,train_pred)\n",
    "svc_test_auc,svc_train_auc"
   ]
  },
  {
   "cell_type": "code",
   "execution_count": 86,
   "metadata": {},
   "outputs": [],
   "source": [
    "svc_test_probs=classifier.predict_proba(x_test)\n",
    "svc_train_probs=classifier.predict_proba(x_train)\n",
    "svc_test_probs=svc_test_probs[:,1]\n",
    "svc_train_probs=svc_train_probs[:,1]"
   ]
  },
  {
   "cell_type": "code",
   "execution_count": 87,
   "metadata": {},
   "outputs": [],
   "source": [
    "svc_test_fpr,svc_test_tpr,test_threshold=roc_curve(y_test,svc_test_probs)\n",
    "svc_train_fpr,svc_train_tpr,train_threshold=roc_curve(y_train,svc_train_probs)"
   ]
  },
  {
   "cell_type": "code",
   "execution_count": 88,
   "metadata": {},
   "outputs": [
    {
     "data": {
      "image/png": "[encoded data removed]",
      "text/plain": [
       "<Figure size 432x288 with 1 Axes>"
      ]
     },
     "metadata": {
      "needs_background": "light"
     },
     "output_type": "display_data"
    }
   ],
   "source": [
    "plt.plot(svc_test_fpr,svc_test_tpr,marker='.',label='Test')\n",
    "plt.plot(svc_train_fpr,svc_train_tpr,label='Training')\n",
    "plt.xlabel('False Positive Rate')\n",
    "plt.ylabel('True Positive Rate')\n",
    "plt.legend()\n",
    "plt.show()"
   ]
  },
  {
   "cell_type": "code",
   "execution_count": 104,
   "metadata": {},
   "outputs": [],
   "source": [
    "from sklearn.externals import joblib"
   ]
  },
  {
   "cell_type": "code",
   "execution_count": 105,
   "metadata": {},
   "outputs": [
    {
     "data": {
      "text/plain": [
       "['HeartDisease_RFC_gini.pkl']"
      ]
     },
     "execution_count": 105,
     "metadata": {},
     "output_type": "execute_result"
    }
   ],
   "source": [
    "joblib.dump(RFC_gini,'HeartDisease_RFC_gini.pkl')"
   ]
  },
  {
   "cell_type": "raw",
   "metadata": {},
   "source": [
    "# RFC classifier giving good accuracy for both training and testing data and good auc_scores also. Confusion matrix for RFC gives good results as compared to others so chosen as best model."
   ]
  }
 ],
 "metadata": {
  "kernelspec": {
   "display_name": "Python 3",
   "language": "python",
   "name": "python3"
  }
 },
 "nbformat": 4,
 "nbformat_minor": 2
}
